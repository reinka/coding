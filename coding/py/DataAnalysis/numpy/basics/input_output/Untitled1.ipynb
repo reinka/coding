{
 "metadata": {
  "name": ""
 },
 "nbformat": 3,
 "nbformat_minor": 0,
 "worksheets": [
  {
   "cells": [
    {
     "cell_type": "code",
     "collapsed": false,
     "input": [
      "import numpy as np"
     ],
     "language": "python",
     "metadata": {},
     "outputs": [],
     "prompt_number": 1
    },
    {
     "cell_type": "code",
     "collapsed": false,
     "input": [
      "arr = np.arange(50).reshape((10,5))"
     ],
     "language": "python",
     "metadata": {},
     "outputs": [],
     "prompt_number": 2
    },
    {
     "cell_type": "code",
     "collapsed": false,
     "input": [
      "arr"
     ],
     "language": "python",
     "metadata": {},
     "outputs": [
      {
       "metadata": {},
       "output_type": "pyout",
       "prompt_number": 3,
       "text": [
        "array([[ 0,  1,  2,  3,  4],\n",
        "       [ 5,  6,  7,  8,  9],\n",
        "       [10, 11, 12, 13, 14],\n",
        "       [15, 16, 17, 18, 19],\n",
        "       [20, 21, 22, 23, 24],\n",
        "       [25, 26, 27, 28, 29],\n",
        "       [30, 31, 32, 33, 34],\n",
        "       [35, 36, 37, 38, 39],\n",
        "       [40, 41, 42, 43, 44],\n",
        "       [45, 46, 47, 48, 49]])"
       ]
      }
     ],
     "prompt_number": 3
    },
    {
     "cell_type": "code",
     "collapsed": false,
     "input": [
      "arr.T"
     ],
     "language": "python",
     "metadata": {},
     "outputs": [
      {
       "metadata": {},
       "output_type": "pyout",
       "prompt_number": 4,
       "text": [
        "array([[ 0,  5, 10, 15, 20, 25, 30, 35, 40, 45],\n",
        "       [ 1,  6, 11, 16, 21, 26, 31, 36, 41, 46],\n",
        "       [ 2,  7, 12, 17, 22, 27, 32, 37, 42, 47],\n",
        "       [ 3,  8, 13, 18, 23, 28, 33, 38, 43, 48],\n",
        "       [ 4,  9, 14, 19, 24, 29, 34, 39, 44, 49]])"
       ]
      }
     ],
     "prompt_number": 4
    },
    {
     "cell_type": "code",
     "collapsed": false,
     "input": [
      "np.dot(arr.T,arr)"
     ],
     "language": "python",
     "metadata": {},
     "outputs": [
      {
       "metadata": {},
       "output_type": "pyout",
       "prompt_number": 5,
       "text": [
        "array([[7125, 7350, 7575, 7800, 8025],\n",
        "       [7350, 7585, 7820, 8055, 8290],\n",
        "       [7575, 7820, 8065, 8310, 8555],\n",
        "       [7800, 8055, 8310, 8565, 8820],\n",
        "       [8025, 8290, 8555, 8820, 9085]])"
       ]
      }
     ],
     "prompt_number": 5
    },
    {
     "cell_type": "code",
     "collapsed": false,
     "input": [
      "np.dot(arr,arr.T)"
     ],
     "language": "python",
     "metadata": {},
     "outputs": [
      {
       "metadata": {},
       "output_type": "pyout",
       "prompt_number": 6,
       "text": [
        "array([[   30,    80,   130,   180,   230,   280,   330,   380,   430,\n",
        "          480],\n",
        "       [   80,   255,   430,   605,   780,   955,  1130,  1305,  1480,\n",
        "         1655],\n",
        "       [  130,   430,   730,  1030,  1330,  1630,  1930,  2230,  2530,\n",
        "         2830],\n",
        "       [  180,   605,  1030,  1455,  1880,  2305,  2730,  3155,  3580,\n",
        "         4005],\n",
        "       [  230,   780,  1330,  1880,  2430,  2980,  3530,  4080,  4630,\n",
        "         5180],\n",
        "       [  280,   955,  1630,  2305,  2980,  3655,  4330,  5005,  5680,\n",
        "         6355],\n",
        "       [  330,  1130,  1930,  2730,  3530,  4330,  5130,  5930,  6730,\n",
        "         7530],\n",
        "       [  380,  1305,  2230,  3155,  4080,  5005,  5930,  6855,  7780,\n",
        "         8705],\n",
        "       [  430,  1480,  2530,  3580,  4630,  5680,  6730,  7780,  8830,\n",
        "         9880],\n",
        "       [  480,  1655,  2830,  4005,  5180,  6355,  7530,  8705,  9880,\n",
        "        11055]])"
       ]
      }
     ],
     "prompt_number": 6
    },
    {
     "cell_type": "code",
     "collapsed": false,
     "input": [
      "arr3d = np.arange(50).reshape((5,5,2))"
     ],
     "language": "python",
     "metadata": {},
     "outputs": [],
     "prompt_number": 7
    },
    {
     "cell_type": "code",
     "collapsed": false,
     "input": [
      "arr3d"
     ],
     "language": "python",
     "metadata": {},
     "outputs": [
      {
       "metadata": {},
       "output_type": "pyout",
       "prompt_number": 8,
       "text": [
        "array([[[ 0,  1],\n",
        "        [ 2,  3],\n",
        "        [ 4,  5],\n",
        "        [ 6,  7],\n",
        "        [ 8,  9]],\n",
        "\n",
        "       [[10, 11],\n",
        "        [12, 13],\n",
        "        [14, 15],\n",
        "        [16, 17],\n",
        "        [18, 19]],\n",
        "\n",
        "       [[20, 21],\n",
        "        [22, 23],\n",
        "        [24, 25],\n",
        "        [26, 27],\n",
        "        [28, 29]],\n",
        "\n",
        "       [[30, 31],\n",
        "        [32, 33],\n",
        "        [34, 35],\n",
        "        [36, 37],\n",
        "        [38, 39]],\n",
        "\n",
        "       [[40, 41],\n",
        "        [42, 43],\n",
        "        [44, 45],\n",
        "        [46, 47],\n",
        "        [48, 49]]])"
       ]
      }
     ],
     "prompt_number": 8
    },
    {
     "cell_type": "code",
     "collapsed": false,
     "input": [
      "arr3d.transpose((1,0,2))"
     ],
     "language": "python",
     "metadata": {},
     "outputs": [
      {
       "metadata": {},
       "output_type": "pyout",
       "prompt_number": 15,
       "text": [
        "array([[[ 0,  1],\n",
        "        [10, 11],\n",
        "        [20, 21],\n",
        "        [30, 31],\n",
        "        [40, 41]],\n",
        "\n",
        "       [[ 2,  3],\n",
        "        [12, 13],\n",
        "        [22, 23],\n",
        "        [32, 33],\n",
        "        [42, 43]],\n",
        "\n",
        "       [[ 4,  5],\n",
        "        [14, 15],\n",
        "        [24, 25],\n",
        "        [34, 35],\n",
        "        [44, 45]],\n",
        "\n",
        "       [[ 6,  7],\n",
        "        [16, 17],\n",
        "        [26, 27],\n",
        "        [36, 37],\n",
        "        [46, 47]],\n",
        "\n",
        "       [[ 8,  9],\n",
        "        [18, 19],\n",
        "        [28, 29],\n",
        "        [38, 39],\n",
        "        [48, 49]]])"
       ]
      }
     ],
     "prompt_number": 15
    },
    {
     "cell_type": "code",
     "collapsed": false,
     "input": [
      "arr = np.array([[1,2,3]])\n",
      "arr"
     ],
     "language": "python",
     "metadata": {},
     "outputs": [
      {
       "metadata": {},
       "output_type": "pyout",
       "prompt_number": 20,
       "text": [
        "array([[1, 2, 3]])"
       ]
      }
     ],
     "prompt_number": 20
    },
    {
     "cell_type": "code",
     "collapsed": false,
     "input": [
      "arr.swapaxes(0,1)"
     ],
     "language": "python",
     "metadata": {},
     "outputs": [
      {
       "metadata": {},
       "output_type": "pyout",
       "prompt_number": 21,
       "text": [
        "array([[1],\n",
        "       [2],\n",
        "       [3]])"
       ]
      }
     ],
     "prompt_number": 21
    },
    {
     "cell_type": "code",
     "collapsed": false,
     "input": [
      "arr = np.arange(11)\n",
      "arr\n"
     ],
     "language": "python",
     "metadata": {},
     "outputs": [
      {
       "metadata": {},
       "output_type": "pyout",
       "prompt_number": 22,
       "text": [
        "array([ 0,  1,  2,  3,  4,  5,  6,  7,  8,  9, 10])"
       ]
      }
     ],
     "prompt_number": 22
    },
    {
     "cell_type": "code",
     "collapsed": false,
     "input": [
      "np.sqrt(arr)"
     ],
     "language": "python",
     "metadata": {},
     "outputs": [
      {
       "metadata": {},
       "output_type": "pyout",
       "prompt_number": 23,
       "text": [
        "array([ 0.        ,  1.        ,  1.41421356,  1.73205081,  2.        ,\n",
        "        2.23606798,  2.44948974,  2.64575131,  2.82842712,  3.        ,\n",
        "        3.16227766])"
       ]
      }
     ],
     "prompt_number": 23
    },
    {
     "cell_type": "code",
     "collapsed": false,
     "input": [
      "np.exp(arr)"
     ],
     "language": "python",
     "metadata": {},
     "outputs": [
      {
       "metadata": {},
       "output_type": "pyout",
       "prompt_number": 24,
       "text": [
        "array([  1.00000000e+00,   2.71828183e+00,   7.38905610e+00,\n",
        "         2.00855369e+01,   5.45981500e+01,   1.48413159e+02,\n",
        "         4.03428793e+02,   1.09663316e+03,   2.98095799e+03,\n",
        "         8.10308393e+03,   2.20264658e+04])"
       ]
      }
     ],
     "prompt_number": 24
    },
    {
     "cell_type": "code",
     "collapsed": false,
     "input": [
      "A = np.random.randn(10)\n",
      "A"
     ],
     "language": "python",
     "metadata": {},
     "outputs": [
      {
       "metadata": {},
       "output_type": "pyout",
       "prompt_number": 25,
       "text": [
        "array([ 1.53508341,  0.94084128, -0.01124112,  1.22821719, -1.29824867,\n",
        "        0.40793604,  1.25272005, -0.73542374,  0.83085859,  0.10909925])"
       ]
      }
     ],
     "prompt_number": 25
    },
    {
     "cell_type": "code",
     "collapsed": false,
     "input": [
      "B = np.random.randn(10)\n",
      "B"
     ],
     "language": "python",
     "metadata": {},
     "outputs": [
      {
       "metadata": {},
       "output_type": "pyout",
       "prompt_number": 26,
       "text": [
        "array([ 1.22473678, -1.04288368,  0.94721701, -1.16423273, -0.14900669,\n",
        "       -0.36630597,  1.03458568, -1.11024022, -0.44537336, -0.88618039])"
       ]
      }
     ],
     "prompt_number": 26
    },
    {
     "cell_type": "code",
     "collapsed": false,
     "input": [
      "# Binary Functions\n",
      "np.add(A,B)"
     ],
     "language": "python",
     "metadata": {},
     "outputs": [
      {
       "metadata": {},
       "output_type": "pyout",
       "prompt_number": 27,
       "text": [
        "array([ 2.75982019, -0.1020424 ,  0.93597589,  0.06398445, -1.44725536,\n",
        "        0.04163007,  2.28730573, -1.84566396,  0.38548523, -0.77708113])"
       ]
      }
     ],
     "prompt_number": 27
    },
    {
     "cell_type": "code",
     "collapsed": false,
     "input": [
      "np.maximum(A,B)"
     ],
     "language": "python",
     "metadata": {},
     "outputs": [
      {
       "metadata": {},
       "output_type": "pyout",
       "prompt_number": 28,
       "text": [
        "array([ 1.53508341,  0.94084128,  0.94721701,  1.22821719, -0.14900669,\n",
        "        0.40793604,  1.25272005, -0.73542374,  0.83085859,  0.10909925])"
       ]
      }
     ],
     "prompt_number": 28
    },
    {
     "cell_type": "code",
     "collapsed": false,
     "input": [
      "np.minimum(A,B)"
     ],
     "language": "python",
     "metadata": {},
     "outputs": [
      {
       "metadata": {},
       "output_type": "pyout",
       "prompt_number": 29,
       "text": [
        "array([ 1.22473678, -1.04288368, -0.01124112, -1.16423273, -1.29824867,\n",
        "       -0.36630597,  1.03458568, -1.11024022, -0.44537336, -0.88618039])"
       ]
      }
     ],
     "prompt_number": 29
    },
    {
     "cell_type": "code",
     "collapsed": false,
     "input": [
      "website = 'http://docs.scipy.org/doc/numpy/reference/ufuncs.html#available-ufuncs'\n",
      "import webbrowser\n",
      "webbrowser.open(website)"
     ],
     "language": "python",
     "metadata": {},
     "outputs": [
      {
       "metadata": {},
       "output_type": "pyout",
       "prompt_number": 30,
       "text": [
        "True"
       ]
      }
     ],
     "prompt_number": 30
    },
    {
     "cell_type": "code",
     "collapsed": false,
     "input": [],
     "language": "python",
     "metadata": {},
     "outputs": []
    }
   ],
   "metadata": {}
  }
 ]
}