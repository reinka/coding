{
 "metadata": {
  "name": ""
 },
 "nbformat": 3,
 "nbformat_minor": 0,
 "worksheets": [
  {
   "cells": [
    {
     "cell_type": "code",
     "collapsed": false,
     "input": [
      "import numpy as np\n",
      "import pandas as pd\n",
      "from pandas import Series, DataFrame\n",
      "from numpy.random import randn"
     ],
     "language": "python",
     "metadata": {},
     "outputs": [],
     "prompt_number": 8
    },
    {
     "cell_type": "code",
     "collapsed": false,
     "input": [
      "my_ser = Series([1,2,3,4])\n",
      "\n",
      "my_ser"
     ],
     "language": "python",
     "metadata": {},
     "outputs": [
      {
       "metadata": {},
       "output_type": "pyout",
       "prompt_number": 7,
       "text": [
        "0    1\n",
        "1    2\n",
        "2    3\n",
        "3    4\n",
        "dtype: int64"
       ]
      }
     ],
     "prompt_number": 7
    },
    {
     "cell_type": "code",
     "collapsed": false,
     "input": [],
     "language": "python",
     "metadata": {},
     "outputs": []
    },
    {
     "cell_type": "code",
     "collapsed": false,
     "input": [
      "my_index = my_ser.index\n",
      "my_index"
     ],
     "language": "python",
     "metadata": {},
     "outputs": [
      {
       "metadata": {},
       "output_type": "pyout",
       "prompt_number": 3,
       "text": [
        "Index([u'A', u'B', u'C', u'D'], dtype='object')"
       ]
      }
     ],
     "prompt_number": 3
    },
    {
     "cell_type": "code",
     "collapsed": false,
     "input": [
      "my_index[2]"
     ],
     "language": "python",
     "metadata": {},
     "outputs": [
      {
       "metadata": {},
       "output_type": "pyout",
       "prompt_number": 4,
       "text": [
        "'C'"
       ]
      }
     ],
     "prompt_number": 4
    },
    {
     "cell_type": "code",
     "collapsed": false,
     "input": [
      "my_index[2:]"
     ],
     "language": "python",
     "metadata": {},
     "outputs": [
      {
       "metadata": {},
       "output_type": "pyout",
       "prompt_number": 5,
       "text": [
        "Index([u'C', u'D'], dtype='object')"
       ]
      }
     ],
     "prompt_number": 5
    },
    {
     "cell_type": "code",
     "collapsed": false,
     "input": [
      "my_index[0] = 'Z'"
     ],
     "language": "python",
     "metadata": {},
     "outputs": [
      {
       "ename": "TypeError",
       "evalue": "Index does not support mutable operations",
       "output_type": "pyerr",
       "traceback": [
        "\u001b[0;31m---------------------------------------------------------------------------\u001b[0m\n\u001b[0;31mTypeError\u001b[0m                                 Traceback (most recent call last)",
        "\u001b[0;32m<ipython-input-6-92ae0de335f8>\u001b[0m in \u001b[0;36m<module>\u001b[0;34m()\u001b[0m\n\u001b[0;32m----> 1\u001b[0;31m \u001b[0mmy_index\u001b[0m\u001b[0;34m[\u001b[0m\u001b[0;36m0\u001b[0m\u001b[0;34m]\u001b[0m \u001b[0;34m=\u001b[0m \u001b[0;34m'Z'\u001b[0m\u001b[0;34m\u001b[0m\u001b[0m\n\u001b[0m",
        "\u001b[0;32m/usr/local/lib/python2.7/dist-packages/pandas/core/index.pyc\u001b[0m in \u001b[0;36m__setitem__\u001b[0;34m(self, key, value)\u001b[0m\n\u001b[1;32m   1122\u001b[0m \u001b[0;34m\u001b[0m\u001b[0m\n\u001b[1;32m   1123\u001b[0m     \u001b[0;32mdef\u001b[0m \u001b[0m__setitem__\u001b[0m\u001b[0;34m(\u001b[0m\u001b[0mself\u001b[0m\u001b[0;34m,\u001b[0m \u001b[0mkey\u001b[0m\u001b[0;34m,\u001b[0m \u001b[0mvalue\u001b[0m\u001b[0;34m)\u001b[0m\u001b[0;34m:\u001b[0m\u001b[0;34m\u001b[0m\u001b[0m\n\u001b[0;32m-> 1124\u001b[0;31m         \u001b[0;32mraise\u001b[0m \u001b[0mTypeError\u001b[0m\u001b[0;34m(\u001b[0m\u001b[0;34m\"Index does not support mutable operations\"\u001b[0m\u001b[0;34m)\u001b[0m\u001b[0;34m\u001b[0m\u001b[0m\n\u001b[0m\u001b[1;32m   1125\u001b[0m \u001b[0;34m\u001b[0m\u001b[0m\n\u001b[1;32m   1126\u001b[0m     \u001b[0;32mdef\u001b[0m \u001b[0m__getitem__\u001b[0m\u001b[0;34m(\u001b[0m\u001b[0mself\u001b[0m\u001b[0;34m,\u001b[0m \u001b[0mkey\u001b[0m\u001b[0;34m)\u001b[0m\u001b[0;34m:\u001b[0m\u001b[0;34m\u001b[0m\u001b[0m\n",
        "\u001b[0;31mTypeError\u001b[0m: Index does not support mutable operations"
       ]
      }
     ],
     "prompt_number": 6
    },
    {
     "cell_type": "code",
     "collapsed": false,
     "input": [
      "ser1 = Series([1,2,3,4], index=['A', 'B', 'C', 'D'])\n",
      "ser1"
     ],
     "language": "python",
     "metadata": {},
     "outputs": [
      {
       "metadata": {},
       "output_type": "pyout",
       "prompt_number": 9,
       "text": [
        "A    1\n",
        "B    2\n",
        "C    3\n",
        "D    4\n",
        "dtype: int64"
       ]
      }
     ],
     "prompt_number": 9
    },
    {
     "cell_type": "code",
     "collapsed": false,
     "input": [
      "ser2 = ser1.reindex(['A', 'B', 'C', 'D', 'E', 'F'])\n",
      "ser2"
     ],
     "language": "python",
     "metadata": {},
     "outputs": [
      {
       "metadata": {},
       "output_type": "pyout",
       "prompt_number": 10,
       "text": [
        "A     1\n",
        "B     2\n",
        "C     3\n",
        "D     4\n",
        "E   NaN\n",
        "F   NaN\n",
        "dtype: float64"
       ]
      }
     ],
     "prompt_number": 10
    },
    {
     "cell_type": "code",
     "collapsed": false,
     "input": [
      "ser2.reindex(['A', 'B', 'C', 'D', 'E', 'F', 'G'], fill_value=0)"
     ],
     "language": "python",
     "metadata": {},
     "outputs": [
      {
       "metadata": {},
       "output_type": "pyout",
       "prompt_number": 12,
       "text": [
        "A     1\n",
        "B     2\n",
        "C     3\n",
        "D     4\n",
        "E   NaN\n",
        "F   NaN\n",
        "G     0\n",
        "dtype: float64"
       ]
      }
     ],
     "prompt_number": 12
    },
    {
     "cell_type": "code",
     "collapsed": false,
     "input": [
      "ser3 = Series(['USA', 'MEXICO', 'CANADA'], index=[0,5,10])\n",
      "ser3"
     ],
     "language": "python",
     "metadata": {},
     "outputs": [
      {
       "metadata": {},
       "output_type": "pyout",
       "prompt_number": 14,
       "text": [
        "0        USA\n",
        "5     MEXICO\n",
        "10    CANADA\n",
        "dtype: object"
       ]
      }
     ],
     "prompt_number": 14
    },
    {
     "cell_type": "code",
     "collapsed": false,
     "input": [
      "ser3.reindex(range(15), method='ffill')"
     ],
     "language": "python",
     "metadata": {},
     "outputs": [
      {
       "metadata": {},
       "output_type": "pyout",
       "prompt_number": 16,
       "text": [
        "0        USA\n",
        "1        USA\n",
        "2        USA\n",
        "3        USA\n",
        "4        USA\n",
        "5     MEXICO\n",
        "6     MEXICO\n",
        "7     MEXICO\n",
        "8     MEXICO\n",
        "9     MEXICO\n",
        "10    CANADA\n",
        "11    CANADA\n",
        "12    CANADA\n",
        "13    CANADA\n",
        "14    CANADA\n",
        "dtype: object"
       ]
      }
     ],
     "prompt_number": 16
    },
    {
     "cell_type": "code",
     "collapsed": false,
     "input": [
      "dframe = DataFrame(randn(25).reshape((5,5)),index=['A', 'B', 'D', 'E', 'F'],columns=['co1', 'col2', 'col3','col4','col5'])\n",
      "dframe"
     ],
     "language": "python",
     "metadata": {},
     "outputs": [
      {
       "html": [
        "<div style=\"max-width:1500px;overflow:auto;\">\n",
        "<table border=\"1\" class=\"dataframe\">\n",
        "  <thead>\n",
        "    <tr style=\"text-align: right;\">\n",
        "      <th></th>\n",
        "      <th>co1</th>\n",
        "      <th>col2</th>\n",
        "      <th>col3</th>\n",
        "      <th>col4</th>\n",
        "      <th>col5</th>\n",
        "    </tr>\n",
        "  </thead>\n",
        "  <tbody>\n",
        "    <tr>\n",
        "      <th>A</th>\n",
        "      <td>0.387371</td>\n",
        "      <td>-0.320339</td>\n",
        "      <td>0.379662</td>\n",
        "      <td>1.177053</td>\n",
        "      <td>-0.749648</td>\n",
        "    </tr>\n",
        "    <tr>\n",
        "      <th>B</th>\n",
        "      <td>-1.424794</td>\n",
        "      <td>0.901827</td>\n",
        "      <td>-0.702359</td>\n",
        "      <td>-0.467703</td>\n",
        "      <td>1.810972</td>\n",
        "    </tr>\n",
        "    <tr>\n",
        "      <th>D</th>\n",
        "      <td>0.931893</td>\n",
        "      <td>-0.816088</td>\n",
        "      <td>-0.173192</td>\n",
        "      <td>1.290738</td>\n",
        "      <td>-0.694619</td>\n",
        "    </tr>\n",
        "    <tr>\n",
        "      <th>E</th>\n",
        "      <td>1.125919</td>\n",
        "      <td>-0.160116</td>\n",
        "      <td>0.635791</td>\n",
        "      <td>-0.193100</td>\n",
        "      <td>-0.339696</td>\n",
        "    </tr>\n",
        "    <tr>\n",
        "      <th>F</th>\n",
        "      <td>1.231107</td>\n",
        "      <td>-0.225553</td>\n",
        "      <td>2.022591</td>\n",
        "      <td>-1.546740</td>\n",
        "      <td>1.174788</td>\n",
        "    </tr>\n",
        "  </tbody>\n",
        "</table>\n",
        "</div>"
       ],
       "metadata": {},
       "output_type": "pyout",
       "prompt_number": 20,
       "text": [
        "        co1      col2      col3      col4      col5\n",
        "A  0.387371 -0.320339  0.379662  1.177053 -0.749648\n",
        "B -1.424794  0.901827 -0.702359 -0.467703  1.810972\n",
        "D  0.931893 -0.816088 -0.173192  1.290738 -0.694619\n",
        "E  1.125919 -0.160116  0.635791 -0.193100 -0.339696\n",
        "F  1.231107 -0.225553  2.022591 -1.546740  1.174788"
       ]
      }
     ],
     "prompt_number": 20
    },
    {
     "cell_type": "code",
     "collapsed": false,
     "input": [
      "dframe2 = dframe.reindex(['A','B','C','D','E','F'])\n",
      "dframe2"
     ],
     "language": "python",
     "metadata": {},
     "outputs": [
      {
       "html": [
        "<div style=\"max-width:1500px;overflow:auto;\">\n",
        "<table border=\"1\" class=\"dataframe\">\n",
        "  <thead>\n",
        "    <tr style=\"text-align: right;\">\n",
        "      <th></th>\n",
        "      <th>co1</th>\n",
        "      <th>col2</th>\n",
        "      <th>col3</th>\n",
        "      <th>col4</th>\n",
        "      <th>col5</th>\n",
        "    </tr>\n",
        "  </thead>\n",
        "  <tbody>\n",
        "    <tr>\n",
        "      <th>A</th>\n",
        "      <td>0.387371</td>\n",
        "      <td>-0.320339</td>\n",
        "      <td>0.379662</td>\n",
        "      <td>1.177053</td>\n",
        "      <td>-0.749648</td>\n",
        "    </tr>\n",
        "    <tr>\n",
        "      <th>B</th>\n",
        "      <td>-1.424794</td>\n",
        "      <td>0.901827</td>\n",
        "      <td>-0.702359</td>\n",
        "      <td>-0.467703</td>\n",
        "      <td>1.810972</td>\n",
        "    </tr>\n",
        "    <tr>\n",
        "      <th>C</th>\n",
        "      <td>NaN</td>\n",
        "      <td>NaN</td>\n",
        "      <td>NaN</td>\n",
        "      <td>NaN</td>\n",
        "      <td>NaN</td>\n",
        "    </tr>\n",
        "    <tr>\n",
        "      <th>D</th>\n",
        "      <td>0.931893</td>\n",
        "      <td>-0.816088</td>\n",
        "      <td>-0.173192</td>\n",
        "      <td>1.290738</td>\n",
        "      <td>-0.694619</td>\n",
        "    </tr>\n",
        "    <tr>\n",
        "      <th>E</th>\n",
        "      <td>1.125919</td>\n",
        "      <td>-0.160116</td>\n",
        "      <td>0.635791</td>\n",
        "      <td>-0.193100</td>\n",
        "      <td>-0.339696</td>\n",
        "    </tr>\n",
        "    <tr>\n",
        "      <th>F</th>\n",
        "      <td>1.231107</td>\n",
        "      <td>-0.225553</td>\n",
        "      <td>2.022591</td>\n",
        "      <td>-1.546740</td>\n",
        "      <td>1.174788</td>\n",
        "    </tr>\n",
        "  </tbody>\n",
        "</table>\n",
        "</div>"
       ],
       "metadata": {},
       "output_type": "pyout",
       "prompt_number": 21,
       "text": [
        "        co1      col2      col3      col4      col5\n",
        "A  0.387371 -0.320339  0.379662  1.177053 -0.749648\n",
        "B -1.424794  0.901827 -0.702359 -0.467703  1.810972\n",
        "C       NaN       NaN       NaN       NaN       NaN\n",
        "D  0.931893 -0.816088 -0.173192  1.290738 -0.694619\n",
        "E  1.125919 -0.160116  0.635791 -0.193100 -0.339696\n",
        "F  1.231107 -0.225553  2.022591 -1.546740  1.174788"
       ]
      }
     ],
     "prompt_number": 21
    },
    {
     "cell_type": "code",
     "collapsed": false,
     "input": [
      "new_columns =['col1','col2','col3','col4','col5','col6']"
     ],
     "language": "python",
     "metadata": {},
     "outputs": [],
     "prompt_number": 24
    },
    {
     "cell_type": "code",
     "collapsed": false,
     "input": [
      "dframe2.reindex(columns=new_columns)"
     ],
     "language": "python",
     "metadata": {},
     "outputs": [
      {
       "html": [
        "<div style=\"max-width:1500px;overflow:auto;\">\n",
        "<table border=\"1\" class=\"dataframe\">\n",
        "  <thead>\n",
        "    <tr style=\"text-align: right;\">\n",
        "      <th></th>\n",
        "      <th>col1</th>\n",
        "      <th>col2</th>\n",
        "      <th>col3</th>\n",
        "      <th>col4</th>\n",
        "      <th>col5</th>\n",
        "      <th>col6</th>\n",
        "    </tr>\n",
        "  </thead>\n",
        "  <tbody>\n",
        "    <tr>\n",
        "      <th>A</th>\n",
        "      <td>NaN</td>\n",
        "      <td>-0.320339</td>\n",
        "      <td>0.379662</td>\n",
        "      <td>1.177053</td>\n",
        "      <td>-0.749648</td>\n",
        "      <td>NaN</td>\n",
        "    </tr>\n",
        "    <tr>\n",
        "      <th>B</th>\n",
        "      <td>NaN</td>\n",
        "      <td>0.901827</td>\n",
        "      <td>-0.702359</td>\n",
        "      <td>-0.467703</td>\n",
        "      <td>1.810972</td>\n",
        "      <td>NaN</td>\n",
        "    </tr>\n",
        "    <tr>\n",
        "      <th>C</th>\n",
        "      <td>NaN</td>\n",
        "      <td>NaN</td>\n",
        "      <td>NaN</td>\n",
        "      <td>NaN</td>\n",
        "      <td>NaN</td>\n",
        "      <td>NaN</td>\n",
        "    </tr>\n",
        "    <tr>\n",
        "      <th>D</th>\n",
        "      <td>NaN</td>\n",
        "      <td>-0.816088</td>\n",
        "      <td>-0.173192</td>\n",
        "      <td>1.290738</td>\n",
        "      <td>-0.694619</td>\n",
        "      <td>NaN</td>\n",
        "    </tr>\n",
        "    <tr>\n",
        "      <th>E</th>\n",
        "      <td>NaN</td>\n",
        "      <td>-0.160116</td>\n",
        "      <td>0.635791</td>\n",
        "      <td>-0.193100</td>\n",
        "      <td>-0.339696</td>\n",
        "      <td>NaN</td>\n",
        "    </tr>\n",
        "    <tr>\n",
        "      <th>F</th>\n",
        "      <td>NaN</td>\n",
        "      <td>-0.225553</td>\n",
        "      <td>2.022591</td>\n",
        "      <td>-1.546740</td>\n",
        "      <td>1.174788</td>\n",
        "      <td>NaN</td>\n",
        "    </tr>\n",
        "  </tbody>\n",
        "</table>\n",
        "</div>"
       ],
       "metadata": {},
       "output_type": "pyout",
       "prompt_number": 25,
       "text": [
        "   col1      col2      col3      col4      col5  col6\n",
        "A   NaN -0.320339  0.379662  1.177053 -0.749648   NaN\n",
        "B   NaN  0.901827 -0.702359 -0.467703  1.810972   NaN\n",
        "C   NaN       NaN       NaN       NaN       NaN   NaN\n",
        "D   NaN -0.816088 -0.173192  1.290738 -0.694619   NaN\n",
        "E   NaN -0.160116  0.635791 -0.193100 -0.339696   NaN\n",
        "F   NaN -0.225553  2.022591 -1.546740  1.174788   NaN"
       ]
      }
     ],
     "prompt_number": 25
    },
    {
     "cell_type": "code",
     "collapsed": false,
     "input": [
      "dframe"
     ],
     "language": "python",
     "metadata": {},
     "outputs": [
      {
       "html": [
        "<div style=\"max-width:1500px;overflow:auto;\">\n",
        "<table border=\"1\" class=\"dataframe\">\n",
        "  <thead>\n",
        "    <tr style=\"text-align: right;\">\n",
        "      <th></th>\n",
        "      <th>co1</th>\n",
        "      <th>col2</th>\n",
        "      <th>col3</th>\n",
        "      <th>col4</th>\n",
        "      <th>col5</th>\n",
        "    </tr>\n",
        "  </thead>\n",
        "  <tbody>\n",
        "    <tr>\n",
        "      <th>A</th>\n",
        "      <td>0.387371</td>\n",
        "      <td>-0.320339</td>\n",
        "      <td>0.379662</td>\n",
        "      <td>1.177053</td>\n",
        "      <td>-0.749648</td>\n",
        "    </tr>\n",
        "    <tr>\n",
        "      <th>B</th>\n",
        "      <td>-1.424794</td>\n",
        "      <td>0.901827</td>\n",
        "      <td>-0.702359</td>\n",
        "      <td>-0.467703</td>\n",
        "      <td>1.810972</td>\n",
        "    </tr>\n",
        "    <tr>\n",
        "      <th>D</th>\n",
        "      <td>0.931893</td>\n",
        "      <td>-0.816088</td>\n",
        "      <td>-0.173192</td>\n",
        "      <td>1.290738</td>\n",
        "      <td>-0.694619</td>\n",
        "    </tr>\n",
        "    <tr>\n",
        "      <th>E</th>\n",
        "      <td>1.125919</td>\n",
        "      <td>-0.160116</td>\n",
        "      <td>0.635791</td>\n",
        "      <td>-0.193100</td>\n",
        "      <td>-0.339696</td>\n",
        "    </tr>\n",
        "    <tr>\n",
        "      <th>F</th>\n",
        "      <td>1.231107</td>\n",
        "      <td>-0.225553</td>\n",
        "      <td>2.022591</td>\n",
        "      <td>-1.546740</td>\n",
        "      <td>1.174788</td>\n",
        "    </tr>\n",
        "  </tbody>\n",
        "</table>\n",
        "</div>"
       ],
       "metadata": {},
       "output_type": "pyout",
       "prompt_number": 27,
       "text": [
        "        co1      col2      col3      col4      col5\n",
        "A  0.387371 -0.320339  0.379662  1.177053 -0.749648\n",
        "B -1.424794  0.901827 -0.702359 -0.467703  1.810972\n",
        "D  0.931893 -0.816088 -0.173192  1.290738 -0.694619\n",
        "E  1.125919 -0.160116  0.635791 -0.193100 -0.339696\n",
        "F  1.231107 -0.225553  2.022591 -1.546740  1.174788"
       ]
      }
     ],
     "prompt_number": 27
    },
    {
     "cell_type": "code",
     "collapsed": false,
     "input": [
      "\n",
      "dframe.ix[['A','B','C','D','E','F'],new_columns]"
     ],
     "language": "python",
     "metadata": {},
     "outputs": [
      {
       "html": [
        "<div style=\"max-width:1500px;overflow:auto;\">\n",
        "<table border=\"1\" class=\"dataframe\">\n",
        "  <thead>\n",
        "    <tr style=\"text-align: right;\">\n",
        "      <th></th>\n",
        "      <th>col1</th>\n",
        "      <th>col2</th>\n",
        "      <th>col3</th>\n",
        "      <th>col4</th>\n",
        "      <th>col5</th>\n",
        "      <th>col6</th>\n",
        "    </tr>\n",
        "  </thead>\n",
        "  <tbody>\n",
        "    <tr>\n",
        "      <th>A</th>\n",
        "      <td>NaN</td>\n",
        "      <td>-0.320339</td>\n",
        "      <td>0.379662</td>\n",
        "      <td>1.177053</td>\n",
        "      <td>-0.749648</td>\n",
        "      <td>NaN</td>\n",
        "    </tr>\n",
        "    <tr>\n",
        "      <th>B</th>\n",
        "      <td>NaN</td>\n",
        "      <td>0.901827</td>\n",
        "      <td>-0.702359</td>\n",
        "      <td>-0.467703</td>\n",
        "      <td>1.810972</td>\n",
        "      <td>NaN</td>\n",
        "    </tr>\n",
        "    <tr>\n",
        "      <th>C</th>\n",
        "      <td>NaN</td>\n",
        "      <td>NaN</td>\n",
        "      <td>NaN</td>\n",
        "      <td>NaN</td>\n",
        "      <td>NaN</td>\n",
        "      <td>NaN</td>\n",
        "    </tr>\n",
        "    <tr>\n",
        "      <th>D</th>\n",
        "      <td>NaN</td>\n",
        "      <td>-0.816088</td>\n",
        "      <td>-0.173192</td>\n",
        "      <td>1.290738</td>\n",
        "      <td>-0.694619</td>\n",
        "      <td>NaN</td>\n",
        "    </tr>\n",
        "    <tr>\n",
        "      <th>E</th>\n",
        "      <td>NaN</td>\n",
        "      <td>-0.160116</td>\n",
        "      <td>0.635791</td>\n",
        "      <td>-0.193100</td>\n",
        "      <td>-0.339696</td>\n",
        "      <td>NaN</td>\n",
        "    </tr>\n",
        "    <tr>\n",
        "      <th>F</th>\n",
        "      <td>NaN</td>\n",
        "      <td>-0.225553</td>\n",
        "      <td>2.022591</td>\n",
        "      <td>-1.546740</td>\n",
        "      <td>1.174788</td>\n",
        "      <td>NaN</td>\n",
        "    </tr>\n",
        "  </tbody>\n",
        "</table>\n",
        "</div>"
       ],
       "metadata": {},
       "output_type": "pyout",
       "prompt_number": 28,
       "text": [
        "   col1      col2      col3      col4      col5  col6\n",
        "A   NaN -0.320339  0.379662  1.177053 -0.749648   NaN\n",
        "B   NaN  0.901827 -0.702359 -0.467703  1.810972   NaN\n",
        "C   NaN       NaN       NaN       NaN       NaN   NaN\n",
        "D   NaN -0.816088 -0.173192  1.290738 -0.694619   NaN\n",
        "E   NaN -0.160116  0.635791 -0.193100 -0.339696   NaN\n",
        "F   NaN -0.225553  2.022591 -1.546740  1.174788   NaN"
       ]
      }
     ],
     "prompt_number": 28
    },
    {
     "cell_type": "code",
     "collapsed": false,
     "input": [],
     "language": "python",
     "metadata": {},
     "outputs": []
    }
   ],
   "metadata": {}
  }
 ]
}