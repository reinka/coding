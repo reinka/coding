{
 "cells": [
  {
   "cell_type": "code",
   "execution_count": 2,
   "metadata": {
    "collapsed": false
   },
   "outputs": [],
   "source": [
    "def sum_nested_list(l):\n",
    "    tot = 0\n",
    "    for x in l:\n",
    "        if not isinstance(x, l):\n",
    "            tot += x\n",
    "        else:\n",
    "            tot += sum_nested_list(x)\n",
    "    return tot"
   ]
  },
  {
   "cell_type": "markdown",
   "metadata": {},
   "source": [
    "#### using list to schedule when to visit items in subject instead of recursive call "
   ]
  },
  {
   "cell_type": "code",
   "execution_count": 19,
   "metadata": {
    "collapsed": false
   },
   "outputs": [],
   "source": [
    "def sumtree(L): \n",
    "    tot = 0\n",
    "    items = list(L) \n",
    "    while items:\n",
    "        front = items.pop(0)\n",
    "        print (front,tot)\n",
    "        if not isinstance(front, list):\n",
    "            tot += front \n",
    "        else:\n",
    "            items.extend(front)  #alternatively prepend all in list: items[:0] = front\n",
    "    return tot"
   ]
  },
  {
   "cell_type": "code",
   "execution_count": null,
   "metadata": {
    "collapsed": true
   },
   "outputs": [],
   "source": []
  }
 ],
 "metadata": {
  "kernelspec": {
   "display_name": "Python 3",
   "language": "python",
   "name": "python3"
  },
  "language_info": {
   "codemirror_mode": {
    "name": "ipython",
    "version": 3
   },
   "file_extension": ".py",
   "mimetype": "text/x-python",
   "name": "python",
   "nbconvert_exporter": "python",
   "pygments_lexer": "ipython3",
   "version": "3.5.1"
  }
 },
 "nbformat": 4,
 "nbformat_minor": 0
}
