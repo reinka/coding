{
 "cells": [
  {
   "cell_type": "markdown",
   "metadata": {},
   "source": [
    "#### Imported Data from Java output"
   ]
  },
  {
   "cell_type": "code",
   "execution_count": 20,
   "metadata": {
    "collapsed": true
   },
   "outputs": [],
   "source": [
    "sorting = [\n",
    "[98, 72, 78, 16, 71, 23, 60, 15, 4],\n",
    "[78, 72, 60, 16, 71, 23, 4, 15, 98],\n",
    "[72, 71, 60, 16, 15, 23, 4, 78, 98],\n",
    "[71, 16, 60, 4, 15, 23, 72, 78, 98],\n",
    "[60, 16, 23, 4, 15, 71, 72, 78, 98],\n",
    "[23, 16, 15, 4, 60, 71, 72, 78, 98],\n",
    "[16, 4, 15, 23, 60, 71, 72, 78, 98],\n",
    "[15, 4, 16, 23, 60, 71, 72, 78, 98],\n",
    "[4, 15, 16, 23, 60, 71, 72, 78, 98]\n",
    "]"
   ]
  },
  {
   "cell_type": "markdown",
   "metadata": {},
   "source": [
    "#### Get heap images via graphviz"
   ]
  },
  {
   "cell_type": "code",
   "execution_count": 21,
   "metadata": {
    "collapsed": false
   },
   "outputs": [],
   "source": [
    "from graphviz import Digraph\n",
    "\n",
    "counter = 0\n",
    "for arr in sorting:\n",
    "    u = Digraph('unix', filename='../data/update'+str(counter)+'.gv')\n",
    "    u.node_attr.update(color='lightblue2', style='filled')\n",
    "    u.body.append('size=\"6.6\"')\n",
    "\n",
    "    n = len(arr)//2\n",
    "    i = 1\n",
    "    for num in range(n):\n",
    "       \n",
    "        u.edge(str(arr[num]), str(arr[num+i]))\n",
    "        u.edge(str(arr[num]), str(arr[num+i+1]))\n",
    "        i+=1\n",
    "        counter+=1\n",
    "    u.view()"
   ]
  },
  {
   "cell_type": "markdown",
   "metadata": {},
   "source": [
    "#### http://gifmaker.cc/PlayGIFAnimation.php?folder=2016051005ln4Ot46Svzvm1L3rSMUT2X&file=output_zt52uN.gif"
   ]
  },
  {
   "cell_type": "code",
   "execution_count": null,
   "metadata": {
    "collapsed": true
   },
   "outputs": [],
   "source": []
  }
 ],
 "metadata": {
  "kernelspec": {
   "display_name": "Python 3",
   "language": "python",
   "name": "python3"
  },
  "language_info": {
   "codemirror_mode": {
    "name": "ipython",
    "version": 3
   },
   "file_extension": ".py",
   "mimetype": "text/x-python",
   "name": "python",
   "nbconvert_exporter": "python",
   "pygments_lexer": "ipython3",
   "version": "3.5.1"
  }
 },
 "nbformat": 4,
 "nbformat_minor": 0
}
