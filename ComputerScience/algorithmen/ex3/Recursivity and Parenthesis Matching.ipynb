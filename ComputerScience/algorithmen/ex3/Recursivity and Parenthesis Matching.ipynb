{
 "cells": [
  {
   "cell_type": "markdown",
   "metadata": {},
   "source": [
    "# 3. Recursivity\n",
    "    pros: \n",
    "            - good for tree traversal, performs better in such tasks \n",
    "            - reduces time complexity\n",
    "            - more elegant code\n",
    "    cons:\n",
    "            - stack unfriendly -> uses more memory\n",
    "            - usually slower due to overhead of mainting stack "
   ]
  },
  {
   "cell_type": "code",
   "execution_count": 44,
   "metadata": {
    "collapsed": false
   },
   "outputs": [],
   "source": [
    "def even(x):\n",
    "    eeven = True\n",
    "    while(x is not 0):\n",
    "        eeven, x = not eeven, x-1\n",
    "    return eeven"
   ]
  },
  {
   "cell_type": "code",
   "execution_count": 45,
   "metadata": {
    "collapsed": false
   },
   "outputs": [
    {
     "data": {
      "text/plain": [
       "[True, False, True, False, True, False, True, False, True, False]"
      ]
     },
     "execution_count": 45,
     "metadata": {},
     "output_type": "execute_result"
    }
   ],
   "source": [
    "[even(i) for i in range(0,10)]"
   ]
  },
  {
   "cell_type": "markdown",
   "metadata": {},
   "source": [
    "# 5. Parenthesis Matching"
   ]
  },
  {
   "cell_type": "markdown",
   "metadata": {},
   "source": [
    "### Pseudo Code"
   ]
  },
  {
   "cell_type": "raw",
   "metadata": {},
   "source": [
    "def parenthesisMatch(string, len):\n",
    "    - create dict_open that contains opening parenthesis [dicts in python are indexed by keys -> maps hashable values']\n",
    "    - create another dict_close that contains closing ones\n",
    "    - create stack\n",
    "    - iterate through string, while looking for parenthesis only: \n",
    "        - if parenthesis: check if its an opening one by comparing it with dict_open items\n",
    "            - if no: check whether stack is empty:\n",
    "                    - if yes: return false\n",
    "                    - if no: check whether it fits to the current one by comparing key of current item in \n",
    "                            dict_closed with dict_open\n",
    "            - if yes: stack it.\n",
    "    - return true if string is completly iterated through.\n"
   ]
  },
  {
   "cell_type": "code",
   "execution_count": 2,
   "metadata": {
    "collapsed": true
   },
   "outputs": [],
   "source": [
    "def parenthesisMatch(string):\n",
    "    '''Creating 2 keys, open and closed parenthesis are used as keys \n",
    "        each key has a value between 0-2. Fitting parenthesis of each\n",
    "        dict share the same value e.g. '(' and ')' both have the value 0.\n",
    "        This property will be used later, to check whether a popped item \n",
    "        from the stack matches to the enqueuing one.'''\n",
    "    \n",
    "    open_par = dict(zip(('(', '[', '{'),range(3)))\n",
    "    closed_par = dict(zip((')', ']', '}'),range(3)))\n",
    "    stack = []\n",
    "    for parenthesis in string:\n",
    "            if parenthesis in open_par: #1. case: opening parenthesis\n",
    "                stack.append(parenthesis) #stack it\n",
    "            elif parenthesis in closed_par and not stack:  #2. case: closing parenthesis, empty stack\n",
    "                return False\n",
    "            elif parenthesis in closed_par and stack: #3. case: clsing parenthesis, stack is not empty\n",
    "                #need to use '!=' instead of 'is not' in case of longer strings!\n",
    "                if open_par[stack.pop()] is not closed_par[parenthesis]: \n",
    "                    return False\n",
    "    else:\n",
    "        return True and not stack    #explaining negation: bool(x) = False, if x = {0, '', (), [], {}, None}; \n",
    "    \n",
    "#Complexity: O(n) since it has to iterate through the whole string."
   ]
  },
  {
   "cell_type": "code",
   "execution_count": 10,
   "metadata": {
    "collapsed": false
   },
   "outputs": [
    {
     "data": {
      "text/plain": [
       "True"
      ]
     },
     "execution_count": 10,
     "metadata": {},
     "output_type": "execute_result"
    }
   ],
   "source": [
    "parenthesisMatch('(TALK), (PYTHON()), (()T)O()((M(E)))')\n"
   ]
  },
  {
   "cell_type": "code",
   "execution_count": 7,
   "metadata": {
    "collapsed": false
   },
   "outputs": [
    {
     "data": {
      "text/plain": [
       "(True, False)"
      ]
     },
     "execution_count": 7,
     "metadata": {},
     "output_type": "execute_result"
    }
   ],
   "source": [
    "parenthesisMatch('(a([c{(d)}]))'), parenthesisMatch('{([(]))}')"
   ]
  },
  {
   "cell_type": "code",
   "execution_count": 8,
   "metadata": {
    "collapsed": false
   },
   "outputs": [
    {
     "data": {
      "text/plain": [
       "False"
      ]
     },
     "execution_count": 8,
     "metadata": {},
     "output_type": "execute_result"
    }
   ],
   "source": [
    "parenthesisMatch('(wr(o(ng)ma)tching(')"
   ]
  },
  {
   "cell_type": "code",
   "execution_count": 9,
   "metadata": {
    "collapsed": false
   },
   "outputs": [
    {
     "data": {
      "text/plain": [
       "(False, False, False, False)"
      ]
     },
     "execution_count": 9,
     "metadata": {},
     "output_type": "execute_result"
    }
   ],
   "source": [
    "parenthesisMatch(')'), parenthesisMatch('('), parenthesisMatch('(()'), parenthesisMatch('[{')"
   ]
  }
 ],
 "metadata": {
  "kernelspec": {
   "display_name": "Python 2",
   "language": "python",
   "name": "python2"
  },
  "language_info": {
   "codemirror_mode": {
    "name": "ipython",
    "version": 2
   },
   "file_extension": ".py",
   "mimetype": "text/x-python",
   "name": "python",
   "nbconvert_exporter": "python",
   "pygments_lexer": "ipython2",
   "version": "2.7.11"
  }
 },
 "nbformat": 4,
 "nbformat_minor": 0
}
