{
 "cells": [
  {
   "cell_type": "markdown",
   "metadata": {},
   "source": [
    "# Implementation of Naive Bayes\n",
    "    using the car dataset from the UCI Machine Learning Repository. \n",
    "   (source: https://archive.ics.uci.edu/ml/datasets/Car+Evaluation)\n"
   ]
  },
  {
   "cell_type": "markdown",
   "metadata": {},
   "source": [
    "### Load modules"
   ]
  },
  {
   "cell_type": "code",
   "execution_count": 1,
   "metadata": {
    "collapsed": true
   },
   "outputs": [],
   "source": [
    "import numpy as np\n",
    "import pandas as pd\n",
    "from sklearn.preprocessing import LabelEncoder"
   ]
  },
  {
   "cell_type": "markdown",
   "metadata": {},
   "source": [
    "## Naive Bayes Implementation"
   ]
  },
  {
   "cell_type": "code",
   "execution_count": 2,
   "metadata": {
    "collapsed": false
   },
   "outputs": [],
   "source": [
    "class NaiveBayes(object):\n",
    "  def __init__(self, data, class_attr, attributes = None):\n",
    "    self.data = data\n",
    "    self.class_attr = class_attr\n",
    "    self.class_data = self.data[class_attr].values \n",
    "    self.attributes = data.dtypes.index[:-1] if not attributes else attributes\n",
    "    self.class_counts = {}\n",
    "    self.priors = {}\n",
    "    self.conditional_prob = {}\n",
    "    self.hypothesis = None\n",
    "    self.prediction = list()\n",
    "  \n",
    "    \n",
    "  def calculatePriors(self):\n",
    "    '''\n",
    "    Computes the relative frequency of each class.\n",
    "  \n",
    "    probability(class) =  How many  times it appears in cloumn\n",
    "                          ____________________________________\n",
    "                             total number of items/rows\n",
    "  \n",
    "    '''\n",
    "    # count frequency of each class\n",
    "    klasse, counts = np.unique(self.class_data, return_counts=True)\n",
    "    \n",
    "    # calculate prior of each class\n",
    "    priors = counts.astype('float')/self.data.shape[0]\n",
    "    \n",
    "    # save class counts for conditional prob calculation\n",
    "    for key,val in zip(klasse, counts):\n",
    "      self.class_counts[key] = val\n",
    "    \n",
    "    # save priors\n",
    "    for key,val in zip(klasse,priors):\n",
    "      self.priors[key] = val\n",
    "      \n",
    "    \n",
    "  def getClassFreq(self):\n",
    "    '''Prints out the class frequency'''\n",
    "    \n",
    "    for klasse, freq in self.class_counts.items():\n",
    "      print(\"Frequency of class '%s': %d\" % (klasse, freq))\n",
    "      \n",
    "      \n",
    "  def getPriors(self):\n",
    "    '''Prints out the priors'''\n",
    "    \n",
    "    for klasse, prior in self.priors.items():\n",
    "      print(\"P('%s') = %.2f%%\"% (klasse,prior*100))\n",
    "      \n",
    "      \n",
    "  def getDataAttributes(self):\n",
    "    '''Prints out the attributes of the train set'''\n",
    "    print('Attribute labels: ', [attr for attr in self.attributes])\n",
    "\n",
    "    \n",
    "  def get_cp(self, attr, attr_type, class_value):\n",
    "    '''\n",
    "        Calculate individual conditional probabilites \n",
    "        P(outcome|evidence) =   P(evidence|outcome) x P(outcome)\n",
    "                               __________________________________\n",
    "                                        P(evidence)\n",
    "    '''\n",
    "    \n",
    "    # frequency of `attr_type` in `attr` column with given `class_value`\n",
    "    # See cell below `Illustration of boolean indexing into multiple columns`\n",
    "    freq = self.data[(self.data[attr] == attr_type) & \n",
    "              (self.data[self.class_attr] == class_value)].shape[0]\n",
    "    \n",
    "    # conditional probability P(`attr` == `attr_type` | `class_value`)\n",
    "    cond_prob = float(freq)/self.class_counts[class_value]\n",
    "\n",
    "    return cond_prob\n",
    "  \n",
    "      \n",
    "  def calculateConditionalProbabilities(self, hypothesis, verbose = False):\n",
    "    \n",
    "    for klasse in self.priors:\n",
    "      self.conditional_prob[klasse] = {}\n",
    "      for attr in hypothesis:\n",
    "        self.conditional_prob[klasse].update(\n",
    "          {hypothesis[attr]: self.get_cp(attr, \n",
    "                                         hypothesis[attr], \n",
    "                                         klasse)})\n",
    "    if verbose:\n",
    "      import pprint \n",
    "      print(\"\\nCalculated Conditional Probabilities: \\n\")\n",
    "      pprint.pprint(self.conditional_prob[klasse])      \n",
    "      \n",
    "\n",
    "  def classify(self, test_set, verbose=False, samples=False):\n",
    "    '''\n",
    "        Calculates Likelihood of Evidence by multiplying \n",
    "        all individual probabilities with priors.\n",
    "        (Outcome|Multiple Evidence) = P(Evidence1|Outcome) \n",
    "                                      x P(Evidence2|outcome) \n",
    "                                      x ... \n",
    "                                      x P(EvidenceN|outcome) \n",
    "                                      x P(Outcome)\n",
    "        scaled by P(Multiple Evidence)\n",
    "    '''\n",
    "    from functools import reduce\n",
    "    \n",
    "    if not self.priors:\n",
    "      self.calculatePriors()\n",
    "    \n",
    "    if not samples:\n",
    "      print('Classifying...')\n",
    "    \n",
    "    for row in test_set:\n",
    "      self.calculateConditionalProbabilities(\n",
    "        dict(zip(self.attributes, row)), verbose=verbose)\n",
    "    \n",
    "      if verbose:\n",
    "        print(\"Result for input %s: \" % row)\n",
    "\n",
    "      result = dict()\n",
    "      \n",
    "      # Product over all individual probabilites\n",
    "      # using functional programming (reduce)\n",
    "      for i in self.conditional_prob:\n",
    "        result[i] = reduce(lambda x, y: x*y, self.conditional_prob[i].values())*self.priors[i]\n",
    "        if verbose:\n",
    "          print(\"P('%s') = %.6f\" % (i,result[i]))\n",
    "          \n",
    "      # get key of dict which contains max value\n",
    "      # basically `argmax`\n",
    "      label = max(result, key=result.get)\n",
    "      \n",
    "      if verbose:\n",
    "        print('Classification: ', label)\n",
    "        \n",
    "      self.prediction.append(label)\n",
    "    \n",
    "    if not samples:\n",
    "      print('Done.')\n",
    "    \n",
    "  def accuracy(self, labels):\n",
    "    '''Computes prediction accuracy'''\n",
    "  \n",
    "    prediction = np.array(self.prediction)\n",
    "    \n",
    "    return (100.0 * np.sum(prediction == labels) \n",
    "                / prediction.shape[0])"
   ]
  },
  {
   "cell_type": "markdown",
   "metadata": {},
   "source": [
    "## Test Naive Bayes on Tennis data set"
   ]
  },
  {
   "cell_type": "code",
   "execution_count": 3,
   "metadata": {
    "collapsed": false
   },
   "outputs": [
    {
     "data": {
      "text/html": [
       "<div>\n",
       "<table border=\"1\" class=\"dataframe\">\n",
       "  <thead>\n",
       "    <tr style=\"text-align: right;\">\n",
       "      <th></th>\n",
       "      <th>outlook</th>\n",
       "      <th>temperature</th>\n",
       "      <th>humidity</th>\n",
       "      <th>wind</th>\n",
       "      <th>playtennis</th>\n",
       "    </tr>\n",
       "  </thead>\n",
       "  <tbody>\n",
       "    <tr>\n",
       "      <th>0</th>\n",
       "      <td>sunny</td>\n",
       "      <td>hot</td>\n",
       "      <td>high</td>\n",
       "      <td>weak</td>\n",
       "      <td>no</td>\n",
       "    </tr>\n",
       "    <tr>\n",
       "      <th>1</th>\n",
       "      <td>sunny</td>\n",
       "      <td>hot</td>\n",
       "      <td>high</td>\n",
       "      <td>strong</td>\n",
       "      <td>no</td>\n",
       "    </tr>\n",
       "    <tr>\n",
       "      <th>2</th>\n",
       "      <td>overcast</td>\n",
       "      <td>hot</td>\n",
       "      <td>high</td>\n",
       "      <td>weak</td>\n",
       "      <td>yes</td>\n",
       "    </tr>\n",
       "    <tr>\n",
       "      <th>3</th>\n",
       "      <td>rain</td>\n",
       "      <td>mild</td>\n",
       "      <td>high</td>\n",
       "      <td>weak</td>\n",
       "      <td>yes</td>\n",
       "    </tr>\n",
       "    <tr>\n",
       "      <th>4</th>\n",
       "      <td>rain</td>\n",
       "      <td>cool</td>\n",
       "      <td>normal</td>\n",
       "      <td>weak</td>\n",
       "      <td>yes</td>\n",
       "    </tr>\n",
       "    <tr>\n",
       "      <th>5</th>\n",
       "      <td>rain</td>\n",
       "      <td>cool</td>\n",
       "      <td>normal</td>\n",
       "      <td>strong</td>\n",
       "      <td>no</td>\n",
       "    </tr>\n",
       "    <tr>\n",
       "      <th>6</th>\n",
       "      <td>overcast</td>\n",
       "      <td>cool</td>\n",
       "      <td>normal</td>\n",
       "      <td>strong</td>\n",
       "      <td>yes</td>\n",
       "    </tr>\n",
       "    <tr>\n",
       "      <th>7</th>\n",
       "      <td>sunny</td>\n",
       "      <td>mild</td>\n",
       "      <td>high</td>\n",
       "      <td>weak</td>\n",
       "      <td>no</td>\n",
       "    </tr>\n",
       "    <tr>\n",
       "      <th>8</th>\n",
       "      <td>sunny</td>\n",
       "      <td>cool</td>\n",
       "      <td>normal</td>\n",
       "      <td>weak</td>\n",
       "      <td>yes</td>\n",
       "    </tr>\n",
       "    <tr>\n",
       "      <th>9</th>\n",
       "      <td>rain</td>\n",
       "      <td>mild</td>\n",
       "      <td>normal</td>\n",
       "      <td>weak</td>\n",
       "      <td>yes</td>\n",
       "    </tr>\n",
       "    <tr>\n",
       "      <th>10</th>\n",
       "      <td>sunny</td>\n",
       "      <td>mild</td>\n",
       "      <td>normal</td>\n",
       "      <td>strong</td>\n",
       "      <td>yes</td>\n",
       "    </tr>\n",
       "    <tr>\n",
       "      <th>11</th>\n",
       "      <td>overcast</td>\n",
       "      <td>mild</td>\n",
       "      <td>high</td>\n",
       "      <td>strong</td>\n",
       "      <td>yes</td>\n",
       "    </tr>\n",
       "    <tr>\n",
       "      <th>12</th>\n",
       "      <td>overcast</td>\n",
       "      <td>hot</td>\n",
       "      <td>normal</td>\n",
       "      <td>weak</td>\n",
       "      <td>yes</td>\n",
       "    </tr>\n",
       "    <tr>\n",
       "      <th>13</th>\n",
       "      <td>rain</td>\n",
       "      <td>mild</td>\n",
       "      <td>high</td>\n",
       "      <td>strong</td>\n",
       "      <td>no</td>\n",
       "    </tr>\n",
       "  </tbody>\n",
       "</table>\n",
       "</div>"
      ],
      "text/plain": [
       "     outlook temperature humidity    wind playtennis\n",
       "0      sunny         hot     high    weak         no\n",
       "1      sunny         hot     high  strong         no\n",
       "2   overcast         hot     high    weak        yes\n",
       "3       rain        mild     high    weak        yes\n",
       "4       rain        cool   normal    weak        yes\n",
       "5       rain        cool   normal  strong         no\n",
       "6   overcast        cool   normal  strong        yes\n",
       "7      sunny        mild     high    weak         no\n",
       "8      sunny        cool   normal    weak        yes\n",
       "9       rain        mild   normal    weak        yes\n",
       "10     sunny        mild   normal  strong        yes\n",
       "11  overcast        mild     high  strong        yes\n",
       "12  overcast         hot   normal    weak        yes\n",
       "13      rain        mild     high  strong         no"
      ]
     },
     "execution_count": 3,
     "metadata": {},
     "output_type": "execute_result"
    }
   ],
   "source": [
    "tennis = pd.read_table('../ID3/tennis.txt')\n",
    "tennis"
   ]
  },
  {
   "cell_type": "code",
   "execution_count": 4,
   "metadata": {
    "collapsed": false
   },
   "outputs": [
    {
     "name": "stdout",
     "output_type": "stream",
     "text": [
      "P('yes') = 64.29%\n",
      "P('no') = 35.71%\n",
      "Frequency of class 'yes': 9\n",
      "Frequency of class 'no': 5\n",
      "Attribute labels:  ['outlook', 'temperature', 'humidity', 'wind']\n",
      "Classifying...\n",
      "\n",
      "Calculated Conditional Probabilities: \n",
      "\n",
      "{'cool': 0.20000000000000001,\n",
      " 'high': 0.80000000000000004,\n",
      " 'strong': 0.59999999999999998,\n",
      " 'sunny': 0.59999999999999998}\n",
      "Result for input ['sunny', 'cool', 'high', 'strong']: \n",
      "P('yes') = 0.005291\n",
      "P('no') = 0.020571\n",
      "Classification:  no\n",
      "Done.\n"
     ]
    }
   ],
   "source": [
    "class_attr = 'playtennis'\n",
    "clf = NaiveBayes(data=tennis, class_attr=class_attr)\n",
    "\n",
    "clf.calculatePriors()\n",
    "clf.getPriors()\n",
    "clf.getClassFreq()\n",
    "clf.getDataAttributes()\n",
    "\n",
    "# test.hypothesis = X_test.values\n",
    "new_data = ['sunny', 'cool', 'high', 'strong']\n",
    "clf.classify([new_data], verbose=True)\n"
   ]
  },
  {
   "cell_type": "markdown",
   "metadata": {},
   "source": [
    "# Run Naive Bayes with Car Data Set"
   ]
  },
  {
   "cell_type": "markdown",
   "metadata": {},
   "source": [
    "## Split Car Dataset into train and test set\n",
    "    Used scikit-learn's built-in function for this since it's not relevant for understanding Naive Bayes\n",
    "http://scikit-learn.org/stable/modules/generated/sklearn.model_selection.train_test_split.html"
   ]
  },
  {
   "cell_type": "code",
   "execution_count": 5,
   "metadata": {
    "collapsed": false
   },
   "outputs": [],
   "source": [
    "from sklearn.model_selection import train_test_split\n",
    "\n",
    "data = pd.read_csv('cardata.csv')\n",
    "\n",
    "# .values converts pandas df to numpy array\n",
    "# the required object type for `train_test_split`\n",
    "X_train, X_test, y_train, y_test = train_test_split(\n",
    "  data.values[:,:-1], data['class'].values, \n",
    "  test_size=1/3, \n",
    "  random_state=0) # set seed\n",
    "\n",
    "# convert back to pandas DataFrame\n",
    "labels = data.dtypes.index[:-1]\n",
    "X_train = pd.DataFrame(X_train, columns=labels) \n",
    "X_test = pd.DataFrame(X_test, columns=labels)\n",
    "X_train['class'] = y_train\n",
    "\n",
    "# X_test['class'] = y_test"
   ]
  },
  {
   "cell_type": "code",
   "execution_count": 6,
   "metadata": {
    "collapsed": false
   },
   "outputs": [
    {
     "name": "stdout",
     "output_type": "stream",
     "text": [
      "P('good') = 3.65%\n",
      "P('vgood') = 3.91%\n",
      "P('acc') = 22.22%\n",
      "P('unacc') = 70.23%\n",
      "Frequency of class 'good': 42\n",
      "Frequency of class 'vgood': 45\n",
      "Frequency of class 'acc': 256\n",
      "Frequency of class 'unacc': 809\n",
      "Attribute labels:  ['buying', 'maint', 'doors', 'persons', 'lug_boot', 'safety']\n",
      "Classifying...\n",
      "Done.\n",
      "Elapsed time: 22.22 seconds.\n",
      "Accuracy: 79.17%\n"
     ]
    }
   ],
   "source": [
    "# Name of col that contains the outcome vals\n",
    "class_attr = 'class'\n",
    "\n",
    "# Instantiate new NB class\n",
    "clf = NaiveBayes(data=X_train, class_attr=class_attr)\n",
    "\n",
    "# Some output\n",
    "clf.calculatePriors()\n",
    "clf.getPriors()\n",
    "clf.getClassFreq()\n",
    "clf.getDataAttributes()\n",
    "\n",
    "# Stop time for classification\n",
    "import timeit\n",
    "\n",
    "start_time = timeit.default_timer()\n",
    "clf.classify(X_test.values)\n",
    "print('Elapsed time: %.2f seconds.'% float(timeit.default_timer() - start_time))\n",
    "\n",
    "# Compute accuracy\n",
    "print('Accuracy: %.2f%%'% clf.accuracy(y_test))"
   ]
  },
  {
   "cell_type": "markdown",
   "metadata": {},
   "source": [
    "### Determine the mean error rate over 100 different random samples of training data. "
   ]
  },
  {
   "cell_type": "code",
   "execution_count": 7,
   "metadata": {
    "collapsed": false
   },
   "outputs": [
    {
     "name": "stdout",
     "output_type": "stream",
     "text": [
      "Iteration #0\n",
      "Iteration #25\n",
      "Iteration #50\n",
      "Iteration #75\n"
     ]
    }
   ],
   "source": [
    "accuracies = []\n",
    "k = 100\n",
    "for n in range(k):\n",
    "  if(n%25 == 0):\n",
    "    print('Iteration #{0}'.format(n))\n",
    "    \n",
    "  # pick new random sample\n",
    "  X_train, X_test, y_train, y_test = train_test_split(\n",
    "    data.values[:,:-1], data['class'].values, \n",
    "    test_size=1/3, \n",
    "    random_state=n) # change seed with each iteration\n",
    "\n",
    "  # convert back to pandas DataFrame\n",
    "  labels = data.dtypes.index[:-1]\n",
    "  X_train = pd.DataFrame(X_train, columns=labels) \n",
    "  X_test = pd.DataFrame(X_test, columns=labels)\n",
    "  X_train['class'] = y_train\n",
    "\n",
    "  # Instantiate new NB class\n",
    "  clf = NaiveBayes(data=X_train, class_attr=class_attr)\n",
    "\n",
    "  # classify\n",
    "  clf.classify(X_test.values, samples=True)\n",
    "\n",
    "  # save accuracy\n",
    "  accuracies.append(clf.accuracy(y_test))"
   ]
  },
  {
   "cell_type": "markdown",
   "metadata": {},
   "source": [
    "### Mean error rate"
   ]
  },
  {
   "cell_type": "code",
   "execution_count": 8,
   "metadata": {
    "collapsed": false
   },
   "outputs": [
    {
     "name": "stdout",
     "output_type": "stream",
     "text": [
      "Mean error rate over 100 random samples: 0.188108\n"
     ]
    }
   ],
   "source": [
    "print('Mean error rate over %d random samples: %.6f' % (k,\n",
    "    np.mean(np.ones(len(accuracies)) - np.array(accuracies)/100)))"
   ]
  },
  {
   "cell_type": "code",
   "execution_count": 17,
   "metadata": {
    "collapsed": false
   },
   "outputs": [
    {
     "data": {
      "image/png": "[encoded data removed]",
      "text/plain": [
       "<matplotlib.figure.Figure at 0x11209f828>"
      ]
     },
     "metadata": {},
     "output_type": "display_data"
    }
   ],
   "source": [
    "plt.hist(accuracies, bins=15)\n",
    "plt.title('HIstogram of accuracy')\n",
    "plt.ylabel('Frequency')\n",
    "plt.xlabel('Accuracy rate (%)')\n",
    "plt.show()"
   ]
  },
  {
   "cell_type": "markdown",
   "metadata": {},
   "source": [
    "### Furthermore, plot a confusion matrix for one sample. \n",
    "    Here I picked the last sample from the 100 samples."
   ]
  },
  {
   "cell_type": "code",
   "execution_count": 9,
   "metadata": {
    "collapsed": false
   },
   "outputs": [
    {
     "name": "stdout",
     "output_type": "stream",
     "text": [
      "Confusion matrix, without normalization\n",
      "[[ 69  13  13  11]\n",
      " [  0   0   0   0]\n",
      " [ 62   4 393   0]\n",
      " [  2   0   0   9]]\n"
     ]
    },
    {
     "data": {
      "image/png": "[encoded data removed]",
      "text/plain": [
       "<matplotlib.figure.Figure at 0x10f307438>"
      ]
     },
     "metadata": {},
     "output_type": "display_data"
    }
   ],
   "source": [
    "from sklearn.metrics import confusion_matrix\n",
    "import matplotlib.pyplot as plt\n",
    "import itertools\n",
    "\n",
    "%matplotlib inline\n",
    "\n",
    "def plot_confusion_matrix(cm, classes,\n",
    "                          normalize=False,\n",
    "                          title='Confusion matrix',\n",
    "                          cmap=plt.cm.Blues):\n",
    "    \"\"\"\n",
    "    This function prints and plots the confusion matrix.\n",
    "    Normalization can be applied by setting `normalize=True`.\n",
    "    \"\"\"\n",
    "    plt.imshow(cm, interpolation='nearest', cmap=cmap)\n",
    "    plt.title(title)\n",
    "    plt.colorbar()\n",
    "    tick_marks = np.arange(len(classes))\n",
    "    plt.xticks(tick_marks, classes, rotation=45)\n",
    "    plt.yticks(tick_marks, classes)\n",
    "\n",
    "    if normalize:\n",
    "        cm = cm.astype('float') / cm.sum(axis=1)[:, np.newaxis]\n",
    "        print(\"Normalized confusion matrix\")\n",
    "    else:\n",
    "        print('Confusion matrix, without normalization')\n",
    "\n",
    "    print(cm)\n",
    "\n",
    "    thresh = cm.max() / 2.\n",
    "    for i, j in itertools.product(range(cm.shape[0]), range(cm.shape[1])):\n",
    "        plt.text(j, i, cm[i, j],\n",
    "                 horizontalalignment=\"center\",\n",
    "                 color=\"white\" if cm[i, j] > thresh else \"black\")\n",
    "\n",
    "    plt.tight_layout()\n",
    "    plt.ylabel('True label')\n",
    "    plt.xlabel('Predicted label')\n",
    "\n",
    "# compute confusion matrix\n",
    "cnf_matrix = confusion_matrix(clf.prediction, y_test)\n",
    "\n",
    "# plot parameters\n",
    "np.set_printoptions(precision=2)\n",
    "class_names = np.unique(X_train['class'])\n",
    "\n",
    "# Plot normalized confusion matrix\n",
    "plt.figure()\n",
    "plot_confusion_matrix(cnf_matrix, classes=class_names, normalize=False,\n",
    "                      title='Normalized confusion matrix')\n",
    "\n",
    "plt.show()"
   ]
  },
  {
   "cell_type": "markdown",
   "metadata": {},
   "source": [
    "## Code explanation"
   ]
  },
  {
   "cell_type": "markdown",
   "metadata": {},
   "source": [
    "### Illustration of boolean indexing into multiple columns"
   ]
  },
  {
   "cell_type": "code",
   "execution_count": 10,
   "metadata": {
    "collapsed": false
   },
   "outputs": [
    {
     "data": {
      "text/html": [
       "<div>\n",
       "<table border=\"1\" class=\"dataframe\">\n",
       "  <thead>\n",
       "    <tr style=\"text-align: right;\">\n",
       "      <th></th>\n",
       "      <th>buying</th>\n",
       "      <th>maint</th>\n",
       "      <th>doors</th>\n",
       "      <th>persons</th>\n",
       "      <th>lug_boot</th>\n",
       "      <th>safety</th>\n",
       "      <th>class</th>\n",
       "    </tr>\n",
       "  </thead>\n",
       "  <tbody>\n",
       "    <tr>\n",
       "      <th>1307</th>\n",
       "      <td>low</td>\n",
       "      <td>vhigh</td>\n",
       "      <td>2.0</td>\n",
       "      <td>4.0</td>\n",
       "      <td>small</td>\n",
       "      <td>high</td>\n",
       "      <td>acc</td>\n",
       "    </tr>\n",
       "    <tr>\n",
       "      <th>1310</th>\n",
       "      <td>low</td>\n",
       "      <td>vhigh</td>\n",
       "      <td>2.0</td>\n",
       "      <td>4.0</td>\n",
       "      <td>med</td>\n",
       "      <td>high</td>\n",
       "      <td>acc</td>\n",
       "    </tr>\n",
       "    <tr>\n",
       "      <th>1312</th>\n",
       "      <td>low</td>\n",
       "      <td>vhigh</td>\n",
       "      <td>2.0</td>\n",
       "      <td>4.0</td>\n",
       "      <td>big</td>\n",
       "      <td>med</td>\n",
       "      <td>acc</td>\n",
       "    </tr>\n",
       "    <tr>\n",
       "      <th>1313</th>\n",
       "      <td>low</td>\n",
       "      <td>vhigh</td>\n",
       "      <td>2.0</td>\n",
       "      <td>4.0</td>\n",
       "      <td>big</td>\n",
       "      <td>high</td>\n",
       "      <td>acc</td>\n",
       "    </tr>\n",
       "    <tr>\n",
       "      <th>1319</th>\n",
       "      <td>low</td>\n",
       "      <td>vhigh</td>\n",
       "      <td>2.0</td>\n",
       "      <td>more</td>\n",
       "      <td>med</td>\n",
       "      <td>high</td>\n",
       "      <td>acc</td>\n",
       "    </tr>\n",
       "    <tr>\n",
       "      <th>1321</th>\n",
       "      <td>low</td>\n",
       "      <td>vhigh</td>\n",
       "      <td>2.0</td>\n",
       "      <td>more</td>\n",
       "      <td>big</td>\n",
       "      <td>med</td>\n",
       "      <td>acc</td>\n",
       "    </tr>\n",
       "    <tr>\n",
       "      <th>1322</th>\n",
       "      <td>low</td>\n",
       "      <td>vhigh</td>\n",
       "      <td>2.0</td>\n",
       "      <td>more</td>\n",
       "      <td>big</td>\n",
       "      <td>high</td>\n",
       "      <td>acc</td>\n",
       "    </tr>\n",
       "    <tr>\n",
       "      <th>1334</th>\n",
       "      <td>low</td>\n",
       "      <td>vhigh</td>\n",
       "      <td>3.0</td>\n",
       "      <td>4.0</td>\n",
       "      <td>small</td>\n",
       "      <td>high</td>\n",
       "      <td>acc</td>\n",
       "    </tr>\n",
       "    <tr>\n",
       "      <th>1337</th>\n",
       "      <td>low</td>\n",
       "      <td>vhigh</td>\n",
       "      <td>3.0</td>\n",
       "      <td>4.0</td>\n",
       "      <td>med</td>\n",
       "      <td>high</td>\n",
       "      <td>acc</td>\n",
       "    </tr>\n",
       "    <tr>\n",
       "      <th>1339</th>\n",
       "      <td>low</td>\n",
       "      <td>vhigh</td>\n",
       "      <td>3.0</td>\n",
       "      <td>4.0</td>\n",
       "      <td>big</td>\n",
       "      <td>med</td>\n",
       "      <td>acc</td>\n",
       "    </tr>\n",
       "    <tr>\n",
       "      <th>1340</th>\n",
       "      <td>low</td>\n",
       "      <td>vhigh</td>\n",
       "      <td>3.0</td>\n",
       "      <td>4.0</td>\n",
       "      <td>big</td>\n",
       "      <td>high</td>\n",
       "      <td>acc</td>\n",
       "    </tr>\n",
       "    <tr>\n",
       "      <th>1343</th>\n",
       "      <td>low</td>\n",
       "      <td>vhigh</td>\n",
       "      <td>3.0</td>\n",
       "      <td>more</td>\n",
       "      <td>small</td>\n",
       "      <td>high</td>\n",
       "      <td>acc</td>\n",
       "    </tr>\n",
       "    <tr>\n",
       "      <th>1345</th>\n",
       "      <td>low</td>\n",
       "      <td>vhigh</td>\n",
       "      <td>3.0</td>\n",
       "      <td>more</td>\n",
       "      <td>med</td>\n",
       "      <td>med</td>\n",
       "      <td>acc</td>\n",
       "    </tr>\n",
       "    <tr>\n",
       "      <th>1346</th>\n",
       "      <td>low</td>\n",
       "      <td>vhigh</td>\n",
       "      <td>3.0</td>\n",
       "      <td>more</td>\n",
       "      <td>med</td>\n",
       "      <td>high</td>\n",
       "      <td>acc</td>\n",
       "    </tr>\n",
       "    <tr>\n",
       "      <th>1348</th>\n",
       "      <td>low</td>\n",
       "      <td>vhigh</td>\n",
       "      <td>3.0</td>\n",
       "      <td>more</td>\n",
       "      <td>big</td>\n",
       "      <td>med</td>\n",
       "      <td>acc</td>\n",
       "    </tr>\n",
       "  </tbody>\n",
       "</table>\n",
       "</div>"
      ],
      "text/plain": [
       "     buying  maint doors persons lug_boot safety class\n",
       "1307    low  vhigh   2.0     4.0    small   high   acc\n",
       "1310    low  vhigh   2.0     4.0      med   high   acc\n",
       "1312    low  vhigh   2.0     4.0      big    med   acc\n",
       "1313    low  vhigh   2.0     4.0      big   high   acc\n",
       "1319    low  vhigh   2.0    more      med   high   acc\n",
       "1321    low  vhigh   2.0    more      big    med   acc\n",
       "1322    low  vhigh   2.0    more      big   high   acc\n",
       "1334    low  vhigh   3.0     4.0    small   high   acc\n",
       "1337    low  vhigh   3.0     4.0      med   high   acc\n",
       "1339    low  vhigh   3.0     4.0      big    med   acc\n",
       "1340    low  vhigh   3.0     4.0      big   high   acc\n",
       "1343    low  vhigh   3.0    more    small   high   acc\n",
       "1345    low  vhigh   3.0    more      med    med   acc\n",
       "1346    low  vhigh   3.0    more      med   high   acc\n",
       "1348    low  vhigh   3.0    more      big    med   acc"
      ]
     },
     "execution_count": 10,
     "metadata": {},
     "output_type": "execute_result"
    }
   ],
   "source": [
    "data[(data['buying'] == 'low') & (data['class'] == 'acc')].head(15)"
   ]
  },
  {
   "cell_type": "markdown",
   "metadata": {},
   "source": [
    "#### Count occurence of each outcome class to calculate prior "
   ]
  },
  {
   "cell_type": "code",
   "execution_count": 11,
   "metadata": {
    "collapsed": false
   },
   "outputs": [
    {
     "name": "stdout",
     "output_type": "stream",
     "text": [
      "P('acc') = 22.22%\n",
      "P('good') = 3.99%\n",
      "P('unacc') = 70.02%\n",
      "P('vgood') = 3.76%\n"
     ]
    }
   ],
   "source": [
    "def classPrior(classcol):\n",
    "  '''\n",
    "  Computes the relative frequency of each class.\n",
    "  \n",
    "  probability(class) =    How many  times it appears in cloumn\n",
    "                        __________________________________________\n",
    "                            total number of items/rows\n",
    "  \n",
    "  @param    column containing outcome classes\n",
    "  @return   zip object containing a list of\n",
    "            tuples each of the kind (class, prior)\n",
    "  '''\n",
    "  val, counts = np.unique(classcol, return_counts=True)\n",
    "  #print(val, counts)\n",
    "\n",
    "  priors = counts.astype('float')/classcol.shape[0]\n",
    "\n",
    "  return zip(val, priors)\n",
    "\n",
    "df = data.values\n",
    "for klasse, prior in classPrior(df[:,-1]):\n",
    "  print(\"P('%s') = %.2f%%\"% (klasse,prior*100))"
   ]
  }
 ],
 "metadata": {
  "anaconda-cloud": {},
  "kernelspec": {
   "display_name": "Python [default]",
   "language": "python",
   "name": "python3"
  },
  "language_info": {
   "codemirror_mode": {
    "name": "ipython",
    "version": 3
   },
   "file_extension": ".py",
   "mimetype": "text/x-python",
   "name": "python",
   "nbconvert_exporter": "python",
   "pygments_lexer": "ipython3",
   "version": "3.5.2"
  }
 },
 "nbformat": 4,
 "nbformat_minor": 1
}
