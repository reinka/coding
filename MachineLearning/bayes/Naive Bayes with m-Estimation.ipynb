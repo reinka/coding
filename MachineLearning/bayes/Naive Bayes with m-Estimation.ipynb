{
 "cells": [
  {
   "cell_type": "markdown",
   "metadata": {},
   "source": [
    "# Implementation of Naive Bayes with m-Estimation\n",
    "    using the car dataset from the UCI Machine Learning Repository. \n",
    "   (source: https://archive.ics.uci.edu/ml/datasets/Car+Evaluation)\n"
   ]
  },
  {
   "cell_type": "markdown",
   "metadata": {},
   "source": [
    "### Load modules"
   ]
  },
  {
   "cell_type": "code",
   "execution_count": 1,
   "metadata": {
    "collapsed": true
   },
   "outputs": [],
   "source": [
    "import numpy as np\n",
    "import pandas as pd\n",
    "from sklearn.preprocessing import LabelEncoder"
   ]
  },
  {
   "cell_type": "markdown",
   "metadata": {},
   "source": [
    "## Naive Bayes Implementation"
   ]
  },
  {
   "cell_type": "code",
   "execution_count": 2,
   "metadata": {
    "collapsed": false
   },
   "outputs": [],
   "source": [
    "class NaiveBayes(object):\n",
    "  def __init__(self, data, class_attr, attributes = None):\n",
    "    self.data = data\n",
    "    self.class_attr = class_attr\n",
    "    self.class_data = self.data[class_attr].values \n",
    "    self.attributes = data.dtypes.index[:-1] if not attributes else attributes\n",
    "    self.class_counts = {}\n",
    "    self.priors = {}\n",
    "    self.conditional_prob = {}\n",
    "    self.hypothesis = None\n",
    "    self.prediction = list()\n",
    "  \n",
    "    \n",
    "  def calculatePriors(self):\n",
    "    '''\n",
    "    Computes the relative frequency of each class.\n",
    "  \n",
    "    probability(class) =  How many  times it appears in cloumn\n",
    "                          ____________________________________\n",
    "                             total number of items/rows\n",
    "  \n",
    "    '''\n",
    "    # count frequency of each class\n",
    "    klasse, counts = np.unique(self.class_data, return_counts=True)\n",
    "    \n",
    "    # calculate prior of each class\n",
    "    priors = counts.astype('float')/self.data.shape[0]\n",
    "    \n",
    "    # save class counts for conditional prob calculation\n",
    "    for key,val in zip(klasse, counts):\n",
    "      self.class_counts[key] = val\n",
    "    \n",
    "    # save priors\n",
    "    for key,val in zip(klasse,priors):\n",
    "      self.priors[key] = val\n",
    "      \n",
    "    \n",
    "  def getClassFreq(self):\n",
    "    '''Prints out the class frequency'''\n",
    "    \n",
    "    for klasse, freq in self.class_counts.items():\n",
    "      print(\"Frequency of class '%s': %d\" % (klasse, freq))\n",
    "      \n",
    "      \n",
    "  def getPriors(self):\n",
    "    '''Prints out the priors'''\n",
    "    \n",
    "    for klasse, prior in self.priors.items():\n",
    "      print(\"P('%s') = %.2f%%\"% (klasse,prior*100))\n",
    "      \n",
    "      \n",
    "  def getDataAttributes(self):\n",
    "    '''Prints out the attributes of the train set'''\n",
    "    print('Attribute labels: ', [attr for attr in self.attributes])\n",
    "\n",
    "    \n",
    "  def getCP(self, attr, attr_type, class_value):\n",
    "    '''\n",
    "        Calculate individual conditional probabilites \n",
    "        P(outcome|evidence) =   P(evidence|outcome) x P(outcome)\n",
    "                               __________________________________\n",
    "                                        P(evidence)\n",
    "    '''\n",
    "    \n",
    "    # number of training exmaples for which `attr` == `attr_type`\n",
    "    # and `class_attr` == `class_value`\n",
    "    # For further epxlanation see at the bottom of this notebook\n",
    "    # `Illustration of boolean indexing into multiple columns` \n",
    "    n_c = self.data[(self.data[attr] == attr_type) & \n",
    "              (self.data[self.class_attr] == class_value)].shape[0]\n",
    "    \n",
    "    # prior estimate assuming uniform distribution\n",
    "    # of attribute values\n",
    "    p = 1.0/len(np.unique(self.data[attr]))\n",
    "    \n",
    "    \n",
    "    n = self.class_counts[class_value]\n",
    "    # Laplace smoothing\n",
    "    m = 1\n",
    "    \n",
    "    # m-estimate of probability \n",
    "    cond_prob = (n_c + m*p)/ (n + m)\n",
    "    \n",
    "      \n",
    "    return cond_prob\n",
    "  \n",
    "      \n",
    "  def calculateConditionalProbabilities(self, hypothesis, verbose = False):\n",
    "    \n",
    "    for klasse in self.priors:\n",
    "      self.conditional_prob[klasse] = {}\n",
    "      for attr in hypothesis:\n",
    "        self.conditional_prob[klasse].update(\n",
    "          {hypothesis[attr]: self.getCP(attr, \n",
    "                                         hypothesis[attr], \n",
    "                                         klasse)})\n",
    "    if verbose:\n",
    "      import pprint \n",
    "      print(\"\\nCalculated Conditional Probabilities: \\n\")\n",
    "      pprint.pprint(self.conditional_prob[klasse])      \n",
    "      \n",
    "\n",
    "  def classify(self, test_set, verbose=False, samples=False):\n",
    "    '''\n",
    "        Calculates Likelihood of Evidence by multiplying \n",
    "        all individual probabilities with priors.\n",
    "        (Outcome|Multiple Evidence) = P(Evidence1|Outcome) \n",
    "                                      x P(Evidence2|outcome) \n",
    "                                      x ... \n",
    "                                      x P(EvidenceN|outcome) \n",
    "                                      x P(Outcome)\n",
    "    '''\n",
    "    from functools import reduce\n",
    "    \n",
    "    if not self.priors:\n",
    "      self.calculatePriors()\n",
    "    \n",
    "    if not samples:\n",
    "      print('Classifying...')\n",
    "    \n",
    "    for row in test_set:\n",
    "      self.calculateConditionalProbabilities(\n",
    "        dict(zip(self.attributes, row)), verbose=verbose)\n",
    "    \n",
    "      if verbose:\n",
    "        print(\"Result for input %s: \" % row)\n",
    "\n",
    "      result = dict()\n",
    "      \n",
    "      # Product over all individual probabilites\n",
    "      # using functional programming (reduce)\n",
    "      for i in self.conditional_prob:\n",
    "        result[i] = reduce(lambda x, y: x*y, self.conditional_prob[i].values())*self.priors[i]\n",
    "        if verbose:\n",
    "          print(\"P('%s') = %.6f\" % (i,result[i]))\n",
    "          \n",
    "      # get key of dict which contains max value\n",
    "      # basically `argmax`\n",
    "      label = max(result, key=result.get)\n",
    "      \n",
    "      if verbose:\n",
    "        print('Classification: ', label)\n",
    "        \n",
    "      self.prediction.append(label)\n",
    "    \n",
    "    if not samples:\n",
    "      print('Done.')\n",
    "    \n",
    "  def accuracy(self, labels):\n",
    "    '''Computes prediction accuracy'''\n",
    "  \n",
    "    prediction = np.array(self.prediction)\n",
    "    \n",
    "    return (100.0 * np.sum(prediction == labels) \n",
    "                / prediction.shape[0])"
   ]
  },
  {
   "cell_type": "markdown",
   "metadata": {},
   "source": [
    "## Test Naive Bayes on Tennis data set"
   ]
  },
  {
   "cell_type": "code",
   "execution_count": 3,
   "metadata": {
    "collapsed": false
   },
   "outputs": [
    {
     "data": {
      "text/html": [
       "<div>\n",
       "<table border=\"1\" class=\"dataframe\">\n",
       "  <thead>\n",
       "    <tr style=\"text-align: right;\">\n",
       "      <th></th>\n",
       "      <th>outlook</th>\n",
       "      <th>temperature</th>\n",
       "      <th>humidity</th>\n",
       "      <th>wind</th>\n",
       "      <th>playtennis</th>\n",
       "    </tr>\n",
       "  </thead>\n",
       "  <tbody>\n",
       "    <tr>\n",
       "      <th>0</th>\n",
       "      <td>sunny</td>\n",
       "      <td>hot</td>\n",
       "      <td>high</td>\n",
       "      <td>weak</td>\n",
       "      <td>no</td>\n",
       "    </tr>\n",
       "    <tr>\n",
       "      <th>1</th>\n",
       "      <td>sunny</td>\n",
       "      <td>hot</td>\n",
       "      <td>high</td>\n",
       "      <td>strong</td>\n",
       "      <td>no</td>\n",
       "    </tr>\n",
       "    <tr>\n",
       "      <th>2</th>\n",
       "      <td>overcast</td>\n",
       "      <td>hot</td>\n",
       "      <td>high</td>\n",
       "      <td>weak</td>\n",
       "      <td>yes</td>\n",
       "    </tr>\n",
       "    <tr>\n",
       "      <th>3</th>\n",
       "      <td>rain</td>\n",
       "      <td>mild</td>\n",
       "      <td>high</td>\n",
       "      <td>weak</td>\n",
       "      <td>yes</td>\n",
       "    </tr>\n",
       "    <tr>\n",
       "      <th>4</th>\n",
       "      <td>rain</td>\n",
       "      <td>cool</td>\n",
       "      <td>normal</td>\n",
       "      <td>weak</td>\n",
       "      <td>yes</td>\n",
       "    </tr>\n",
       "    <tr>\n",
       "      <th>5</th>\n",
       "      <td>rain</td>\n",
       "      <td>cool</td>\n",
       "      <td>normal</td>\n",
       "      <td>strong</td>\n",
       "      <td>no</td>\n",
       "    </tr>\n",
       "    <tr>\n",
       "      <th>6</th>\n",
       "      <td>overcast</td>\n",
       "      <td>cool</td>\n",
       "      <td>normal</td>\n",
       "      <td>strong</td>\n",
       "      <td>yes</td>\n",
       "    </tr>\n",
       "    <tr>\n",
       "      <th>7</th>\n",
       "      <td>sunny</td>\n",
       "      <td>mild</td>\n",
       "      <td>high</td>\n",
       "      <td>weak</td>\n",
       "      <td>no</td>\n",
       "    </tr>\n",
       "    <tr>\n",
       "      <th>8</th>\n",
       "      <td>sunny</td>\n",
       "      <td>cool</td>\n",
       "      <td>normal</td>\n",
       "      <td>weak</td>\n",
       "      <td>yes</td>\n",
       "    </tr>\n",
       "    <tr>\n",
       "      <th>9</th>\n",
       "      <td>rain</td>\n",
       "      <td>mild</td>\n",
       "      <td>normal</td>\n",
       "      <td>weak</td>\n",
       "      <td>yes</td>\n",
       "    </tr>\n",
       "    <tr>\n",
       "      <th>10</th>\n",
       "      <td>sunny</td>\n",
       "      <td>mild</td>\n",
       "      <td>normal</td>\n",
       "      <td>strong</td>\n",
       "      <td>yes</td>\n",
       "    </tr>\n",
       "    <tr>\n",
       "      <th>11</th>\n",
       "      <td>overcast</td>\n",
       "      <td>mild</td>\n",
       "      <td>high</td>\n",
       "      <td>strong</td>\n",
       "      <td>yes</td>\n",
       "    </tr>\n",
       "    <tr>\n",
       "      <th>12</th>\n",
       "      <td>overcast</td>\n",
       "      <td>hot</td>\n",
       "      <td>normal</td>\n",
       "      <td>weak</td>\n",
       "      <td>yes</td>\n",
       "    </tr>\n",
       "    <tr>\n",
       "      <th>13</th>\n",
       "      <td>rain</td>\n",
       "      <td>mild</td>\n",
       "      <td>high</td>\n",
       "      <td>strong</td>\n",
       "      <td>no</td>\n",
       "    </tr>\n",
       "  </tbody>\n",
       "</table>\n",
       "</div>"
      ],
      "text/plain": [
       "     outlook temperature humidity    wind playtennis\n",
       "0      sunny         hot     high    weak         no\n",
       "1      sunny         hot     high  strong         no\n",
       "2   overcast         hot     high    weak        yes\n",
       "3       rain        mild     high    weak        yes\n",
       "4       rain        cool   normal    weak        yes\n",
       "5       rain        cool   normal  strong         no\n",
       "6   overcast        cool   normal  strong        yes\n",
       "7      sunny        mild     high    weak         no\n",
       "8      sunny        cool   normal    weak        yes\n",
       "9       rain        mild   normal    weak        yes\n",
       "10     sunny        mild   normal  strong        yes\n",
       "11  overcast        mild     high  strong        yes\n",
       "12  overcast         hot   normal    weak        yes\n",
       "13      rain        mild     high  strong         no"
      ]
     },
     "execution_count": 3,
     "metadata": {},
     "output_type": "execute_result"
    }
   ],
   "source": [
    "tennis = pd.read_table('../ID3/tennis.txt')\n",
    "tennis"
   ]
  },
  {
   "cell_type": "code",
   "execution_count": 4,
   "metadata": {
    "collapsed": false
   },
   "outputs": [
    {
     "name": "stdout",
     "output_type": "stream",
     "text": [
      "P('no') = 35.71%\n",
      "P('yes') = 64.29%\n",
      "Frequency of class 'no': 5\n",
      "Frequency of class 'yes': 9\n",
      "Attribute labels:  ['outlook', 'temperature', 'humidity', 'wind']\n",
      "Classifying...\n",
      "\n",
      "Calculated Conditional Probabilities: \n",
      "\n",
      "{'cool': 0.33333333333333337,\n",
      " 'high': 0.34999999999999998,\n",
      " 'strong': 0.34999999999999998,\n",
      " 'sunny': 0.23333333333333334}\n",
      "Result for input ['sunny', 'cool', 'high', 'strong']: \n",
      "P('no') = 0.019290\n",
      "P('yes') = 0.006125\n",
      "Classification:  no\n",
      "Done.\n"
     ]
    }
   ],
   "source": [
    "class_attr = 'playtennis'\n",
    "clf = NaiveBayes(data=tennis, class_attr=class_attr)\n",
    "\n",
    "clf.calculatePriors()\n",
    "clf.getPriors()\n",
    "clf.getClassFreq()\n",
    "clf.getDataAttributes()\n",
    "\n",
    "# Classify new data\n",
    "new_data = ['sunny', 'cool', 'high', 'strong']\n",
    "clf.classify([new_data], verbose=True)"
   ]
  },
  {
   "cell_type": "markdown",
   "metadata": {},
   "source": [
    "**Without m-estimate the resulted probabilities are:**\n",
    "\n",
    "P('yes') = 0.0053 **and** \n",
    "P('no') = 0.0206\n",
    "\n",
    "**Here I chose *Laplace smoothing* with** $m=1$ **for **\n",
    "\n",
    "   # $$\\hat{P}(a_i|v_j) = \\frac{n_c + m\\cdot p}{n + m}$$\n",
    "   \n",
    "**differen weight $m$ would have lead to a different '*distortion*' of the probabilites**"
   ]
  },
  {
   "cell_type": "markdown",
   "metadata": {},
   "source": [
    "### Classification with new attribute type"
   ]
  },
  {
   "cell_type": "code",
   "execution_count": 5,
   "metadata": {
    "collapsed": false
   },
   "outputs": [
    {
     "name": "stdout",
     "output_type": "stream",
     "text": [
      "Classifying...\n",
      "\n",
      "Calculated Conditional Probabilities: \n",
      "\n",
      "{'cool': 0.33333333333333337,\n",
      " 'high': 0.34999999999999998,\n",
      " 'storm': 0.033333333333333333,\n",
      " 'strong': 0.34999999999999998}\n",
      "Result for input ['storm', 'cool', 'high', 'strong']: \n",
      "P('no') = 0.001929\n",
      "P('yes') = 0.000875\n",
      "Classification:  no\n",
      "Done.\n"
     ]
    }
   ],
   "source": [
    "# Classify new data with unseen attr type `storm`\n",
    "new_data = ['storm', 'cool', 'high', 'strong']\n",
    "clf.classify([new_data], verbose=True)\n"
   ]
  },
  {
   "cell_type": "markdown",
   "metadata": {},
   "source": [
    "# Run Naive Bayes with Car Data Set"
   ]
  },
  {
   "cell_type": "markdown",
   "metadata": {},
   "source": [
    "## Split Car Dataset into train and test set\n",
    "    Used scikit-learn's built-in function for this since it's not relevant for understanding Naive Bayes\n",
    "http://scikit-learn.org/stable/modules/generated/sklearn.model_selection.train_test_split.html"
   ]
  },
  {
   "cell_type": "code",
   "execution_count": 3,
   "metadata": {
    "collapsed": false
   },
   "outputs": [],
   "source": [
    "from sklearn.model_selection import train_test_split\n",
    "\n",
    "data = pd.read_csv('cardata.csv')\n",
    "\n",
    "# .values converts pandas df to numpy array\n",
    "# the required object type for `train_test_split`\n",
    "X_train, X_test, y_train, y_test = train_test_split(\n",
    "  data.values[:,:-1], data['class'].values, \n",
    "  test_size=1/3, \n",
    "  random_state=0) # set seed\n",
    "\n",
    "# convert back to pandas DataFrame\n",
    "labels = data.dtypes.index[:-1]\n",
    "X_train = pd.DataFrame(X_train, columns=labels) \n",
    "X_test = pd.DataFrame(X_test, columns=labels)\n",
    "X_train['class'] = y_train\n",
    "\n",
    "# X_test['class'] = y_test"
   ]
  },
  {
   "cell_type": "code",
   "execution_count": 4,
   "metadata": {
    "collapsed": false
   },
   "outputs": [
    {
     "name": "stdout",
     "output_type": "stream",
     "text": [
      "P('acc') = 22.22%\n",
      "P('unacc') = 70.23%\n",
      "P('good') = 3.65%\n",
      "P('vgood') = 3.91%\n",
      "Frequency of class 'acc': 256\n",
      "Frequency of class 'unacc': 809\n",
      "Frequency of class 'good': 42\n",
      "Frequency of class 'vgood': 45\n",
      "Attribute labels:  ['buying', 'maint', 'doors', 'persons', 'lug_boot', 'safety']\n",
      "Classifying...\n",
      "Done.\n",
      "Elapsed time: 32.89 seconds.\n",
      "Accuracy: 74.31%\n"
     ]
    }
   ],
   "source": [
    "# Name of col that contains the outcome vals\n",
    "class_attr = 'class'\n",
    "\n",
    "# Instantiate new NB class\n",
    "clf = NaiveBayes(data=X_train, class_attr=class_attr)\n",
    "\n",
    "# Some output\n",
    "clf.calculatePriors()\n",
    "clf.getPriors()\n",
    "clf.getClassFreq()\n",
    "clf.getDataAttributes()\n",
    "\n",
    "# Stop time for classification\n",
    "import timeit\n",
    "\n",
    "start_time = timeit.default_timer()\n",
    "clf.classify(X_test.values)\n",
    "print('Elapsed time: %.2f seconds.'% float(timeit.default_timer() - start_time))\n",
    "\n",
    "# Compute accuracy\n",
    "print('Accuracy: %.2f%%'% clf.accuracy(y_test))"
   ]
  },
  {
   "cell_type": "markdown",
   "metadata": {},
   "source": [
    "### Determine the mean error rate over 100 different random samples of training data. "
   ]
  },
  {
   "cell_type": "code",
   "execution_count": 8,
   "metadata": {
    "collapsed": false
   },
   "outputs": [
    {
     "name": "stdout",
     "output_type": "stream",
     "text": [
      "Iteration #0\n",
      "Iteration #25\n",
      "Iteration #50\n",
      "Iteration #75\n"
     ]
    }
   ],
   "source": [
    "accuracies = []\n",
    "k = 100\n",
    "for n in range(k):\n",
    "  if(n%25 == 0):\n",
    "    print('Iteration #{0}'.format(n))\n",
    "    \n",
    "  # pick new random sample\n",
    "  X_train, X_test, y_train, y_test = train_test_split(\n",
    "    data.values[:,:-1], data['class'].values, \n",
    "    test_size=1/3, \n",
    "    random_state=n) # change seed with each iteration\n",
    "\n",
    "  # convert back to pandas DataFrame\n",
    "  labels = data.dtypes.index[:-1]\n",
    "  X_train = pd.DataFrame(X_train, columns=labels) \n",
    "  X_test = pd.DataFrame(X_test, columns=labels)\n",
    "  X_train['class'] = y_train\n",
    "\n",
    "  # Instantiate new NB class\n",
    "  clf = NaiveBayes(data=X_train, class_attr=class_attr)\n",
    "\n",
    "  # classify\n",
    "  clf.classify(X_test.values, samples=True)\n",
    "\n",
    "  # save accuracy\n",
    "  accuracies.append(clf.accuracy(y_test))"
   ]
  },
  {
   "cell_type": "markdown",
   "metadata": {},
   "source": [
    "### Mean error rate"
   ]
  },
  {
   "cell_type": "code",
   "execution_count": 9,
   "metadata": {
    "collapsed": false
   },
   "outputs": [
    {
     "name": "stdout",
     "output_type": "stream",
     "text": [
      "Mean error rate over 100 random samples: 0.255365\n"
     ]
    }
   ],
   "source": [
    "print('Mean error rate over %d random samples: %.6f' % (k,\n",
    "    np.mean(np.ones(len(accuracies)) - np.array(accuracies)/100)))"
   ]
  },
  {
   "cell_type": "code",
   "execution_count": 11,
   "metadata": {
    "collapsed": false
   },
   "outputs": [
    {
     "data": {
      "image/png": "[encoded data removed]",
      "text/plain": [
       "<matplotlib.figure.Figure at 0x10ec0a5f8>"
      ]
     },
     "metadata": {},
     "output_type": "display_data"
    }
   ],
   "source": [
    "import matplotlib.pyplot as plt\n",
    "%matplotlib inline\n",
    "\n",
    "plt.hist(accuracies, bins=15)\n",
    "plt.title('HIstogram of accuracy')\n",
    "plt.ylabel('Frequency')\n",
    "plt.xlabel('Accuracy rate (%)')\n",
    "plt.show()"
   ]
  },
  {
   "cell_type": "markdown",
   "metadata": {},
   "source": [
    "Compared to the K-means classification which classified all items belonging to one class and thus resulted to 70.02 accuracy, Naive Bayes does better. It yields a mean accuracy rate of ~74.5% in this case. This result could be improved though, by choosing a different weight **m** for the m-estimate -- as one can see in my implementation without the m-estimate (which would be the same as setting $m = 0$), where the average error rate over 100 random samples was 18.81% (or an average accuracy of 81.18%) https://github.com/reinka/coding/blob/master/MachineLearning/bayes/Naive%20Bayes.ipynb. So my guess is choosing a smaller $m$-value would result in less bias and thus higher accuracy. Technically, one could replace the hard coded $m$-value by one specified by the user during runtime, but since my implementation takes quite some time to compute the classification for the test set (~35 sec. So 100x35sec = 3500sec, so almost 1h for 100 random samples) I skipped this part."
   ]
  },
  {
   "cell_type": "markdown",
   "metadata": {},
   "source": [
    "### Furthermore, plot a confusion matrix for one sample. \n",
    "    Here I picked the last sample from the 100 samples."
   ]
  },
  {
   "cell_type": "code",
   "execution_count": 6,
   "metadata": {
    "collapsed": false
   },
   "outputs": [
    {
     "name": "stdout",
     "output_type": "stream",
     "text": [
      "Confusion matrix, without normalization\n",
      "[[ 32  15  13   5]\n",
      " [  0   0   0   0]\n",
      " [ 96   9 387   6]\n",
      " [  0   3   1   9]]\n"
     ]
    },
    {
     "data": {
      "image/png": "[encoded data removed]",
      "text/plain": [
       "<matplotlib.figure.Figure at 0x10e490c50>"
      ]
     },
     "metadata": {},
     "output_type": "display_data"
    }
   ],
   "source": [
    "from sklearn.metrics import confusion_matrix\n",
    "\n",
    "import itertools\n",
    "\n",
    "\n",
    "def plot_confusion_matrix(cm, classes,\n",
    "                          normalize=False,\n",
    "                          title='Confusion matrix',\n",
    "                          cmap=plt.cm.Blues):\n",
    "    \"\"\"\n",
    "    This function prints and plots the confusion matrix.\n",
    "    Normalization can be applied by setting `normalize=True`.\n",
    "    \"\"\"\n",
    "    plt.imshow(cm, interpolation='nearest', cmap=cmap)\n",
    "    plt.title(title)\n",
    "    plt.colorbar()\n",
    "    tick_marks = np.arange(len(classes))\n",
    "    plt.xticks(tick_marks, classes, rotation=45)\n",
    "    plt.yticks(tick_marks, classes)\n",
    "\n",
    "    if normalize:\n",
    "        cm = cm.astype('float') / cm.sum(axis=1)[:, np.newaxis]\n",
    "        print(\"Normalized confusion matrix\")\n",
    "    else:\n",
    "        print('Confusion matrix, without normalization')\n",
    "\n",
    "    print(cm)\n",
    "\n",
    "    thresh = cm.max() / 2.\n",
    "    for i, j in itertools.product(range(cm.shape[0]), range(cm.shape[1])):\n",
    "        plt.text(j, i, cm[i, j],\n",
    "                 horizontalalignment=\"center\",\n",
    "                 color=\"white\" if cm[i, j] > thresh else \"black\")\n",
    "\n",
    "    plt.tight_layout()\n",
    "    plt.ylabel('True label')\n",
    "    plt.xlabel('Predicted label')\n",
    "\n",
    "# compute confusion matrix\n",
    "cnf_matrix = confusion_matrix(clf.prediction, y_test)\n",
    "\n",
    "# plot parameters\n",
    "np.set_printoptions(precision=2)\n",
    "class_names = np.unique(X_train['class'])\n",
    "\n",
    "# Plot normalized confusion matrix\n",
    "plt.figure()\n",
    "plot_confusion_matrix(cnf_matrix, classes=class_names, normalize=False,\n",
    "                      title='Confusion matrix, without normalization')\n",
    "\n",
    "plt.show()"
   ]
  },
  {
   "cell_type": "markdown",
   "metadata": {},
   "source": [
    "## Code explanation"
   ]
  },
  {
   "cell_type": "markdown",
   "metadata": {},
   "source": [
    "### Illustration of boolean indexing into multiple columns"
   ]
  },
  {
   "cell_type": "code",
   "execution_count": null,
   "metadata": {
    "collapsed": false
   },
   "outputs": [],
   "source": [
    "data[(data['buying'] == 'low') & (data['class'] == 'acc')].head(15)"
   ]
  },
  {
   "cell_type": "markdown",
   "metadata": {},
   "source": [
    "#### Count occurence of each outcome class to calculate prior "
   ]
  },
  {
   "cell_type": "code",
   "execution_count": null,
   "metadata": {
    "collapsed": false
   },
   "outputs": [],
   "source": [
    "def classPrior(classcol):\n",
    "  '''\n",
    "  Computes the relative frequency of each class.\n",
    "  \n",
    "  probability(class) =    How many  times it appears in cloumn\n",
    "                        __________________________________________\n",
    "                            total number of items/rows\n",
    "  \n",
    "  @param    column containing outcome classes\n",
    "  @return   zip object containing a list of\n",
    "            tuples each of the kind (class, prior)\n",
    "  '''\n",
    "  val, counts = np.unique(classcol, return_counts=True)\n",
    "  #print(val, counts)\n",
    "\n",
    "  priors = counts.astype('float')/classcol.shape[0]\n",
    "\n",
    "  return zip(val, priors)\n",
    "\n",
    "df = data.values\n",
    "for klasse, prior in classPrior(df[:,-1]):\n",
    "  print(\"P('%s') = %.2f%%\"% (klasse,prior*100))"
   ]
  }
 ],
 "metadata": {
  "anaconda-cloud": {},
  "kernelspec": {
   "display_name": "Python [default]",
   "language": "python",
   "name": "python3"
  },
  "language_info": {
   "codemirror_mode": {
    "name": "ipython",
    "version": 3
   },
   "file_extension": ".py",
   "mimetype": "text/x-python",
   "name": "python",
   "nbconvert_exporter": "python",
   "pygments_lexer": "ipython3",
   "version": "3.5.2"
  }
 },
 "nbformat": 4,
 "nbformat_minor": 1
}
