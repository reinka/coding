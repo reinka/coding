{
 "cells": [
  {
   "cell_type": "markdown",
   "metadata": {},
   "source": [
    "## TODO:\n",
    "    LANCE-WILLIAMS-ALGORITHM"
   ]
  },
  {
   "cell_type": "code",
   "execution_count": 33,
   "metadata": {
    "collapsed": true
   },
   "outputs": [],
   "source": [
    "import numpy as np\n",
    "import matplotlib.pyplot as plt\n",
    "import seaborn as sns\n",
    "%matplotlib inline"
   ]
  },
  {
   "cell_type": "code",
   "execution_count": 136,
   "metadata": {
    "collapsed": false
   },
   "outputs": [
    {
     "data": {
      "image/png": "[encoded data removed]",
      "text/plain": [
       "<matplotlib.figure.Figure at 0x1129e3940>"
      ]
     },
     "metadata": {},
     "output_type": "display_data"
    }
   ],
   "source": [
    "x = np.array([8,9,14,2.5,6,7])\n",
    "y = np.array([9,8,9,6,4,5])\n",
    "\n",
    "def plot_data():\n",
    "    plt.plot(x,y, 'o')\n",
    "    plt.ylim(min(y)-1, max(y)+1)\n",
    "    plt.xlim(min(x)-1, max(x)+1)\n",
    "    plt.xlabel('x')\n",
    "    plt.ylabel('y')\n",
    "    plt.title('Scatterplot')\n",
    "    plt.show()\n",
    "    \n",
    "plot_data()"
   ]
  },
  {
   "cell_type": "code",
   "execution_count": 125,
   "metadata": {
    "collapsed": false
   },
   "outputs": [
    {
     "data": {
      "text/plain": [
       "array([[  8. ,   9. ,  14. ,   2.5,   6. ,   7. ],\n",
       "       [  9. ,   8. ,   9. ,   6. ,   4. ,   5. ]])"
      ]
     },
     "execution_count": 125,
     "metadata": {},
     "output_type": "execute_result"
    }
   ],
   "source": [
    "X = np.vstack((x,y))\n",
    "X"
   ]
  },
  {
   "cell_type": "code",
   "execution_count": 127,
   "metadata": {
    "collapsed": false
   },
   "outputs": [
    {
     "data": {
      "text/plain": [
       "[array([ 2.5,  6. ]),\n",
       " array([ 6.,  4.]),\n",
       " array([ 7.,  5.]),\n",
       " array([ 8.,  9.]),\n",
       " array([ 9.,  8.]),\n",
       " array([ 14.,   9.])]"
      ]
     },
     "execution_count": 127,
     "metadata": {},
     "output_type": "execute_result"
    }
   ],
   "source": [
    "x_1, x_2, x_3, x_4, x_5, x_6 = X[:,3], X[:,4], X[:,5], X[:,0], X[:,1], X[:,2]\n",
    "x_list = [x_1, x_2, x_3, x_4, x_5, x_6]\n",
    "x_list"
   ]
  },
  {
   "cell_type": "markdown",
   "metadata": {},
   "source": [
    "### Single Linkage"
   ]
  },
  {
   "cell_type": "markdown",
   "metadata": {},
   "source": [
    "####    Distance measure for clusters $(C_k, C_l)$:"
   ]
  },
  {
   "cell_type": "markdown",
   "metadata": {},
   "source": [
    "## $$d(C_k, C_l) = \\min_{i\\in C_k, j\\in C_j} d(x_i, x_j) $$"
   ]
  },
  {
   "cell_type": "markdown",
   "metadata": {},
   "source": [
    "    - Starting with each data point representing one cluster, \n",
    "    search for the two most nearest clusters and connect them.\n",
    "    - Repeat until one cluster is left."
   ]
  },
  {
   "cell_type": "markdown",
   "metadata": {},
   "source": [
    "    Obviously first two merges consist of merging [6,4] with [7,5] \n",
    "    and [8,9] with [9,8]"
   ]
  },
  {
   "cell_type": "markdown",
   "metadata": {},
   "source": [
    "    After this we have to compute the nearest distance to the \n",
    "    other data points"
   ]
  },
  {
   "cell_type": "markdown",
   "metadata": {},
   "source": [
    "    With this dataset it's faster to do it manually by looking at\n",
    "    the data points. For illustration the calculations though:"
   ]
  },
  {
   "cell_type": "code",
   "execution_count": 145,
   "metadata": {
    "collapsed": false
   },
   "outputs": [
    {
     "name": "stdout",
     "output_type": "stream",
     "text": [
      "Distance between [6,4] and [7,5]\n",
      "1.41421356237\n",
      "Distance between [7,5] and [9,8]\n",
      "3.60555127546\n",
      "Distance between [2.5, 6] and [9,8]\n",
      "6.80073525437\n",
      "Distance between [9,8] and [14,9]\n",
      "5.09901951359\n",
      "Distance between [2.5, 6] and [7,5]\n",
      "4.60977222865\n",
      "Distance between [2.5, 6] and [6,4]\n",
      "4.03112887415\n",
      "Distance between [2.5, 6] and [8,9]\n",
      "6.26498204307\n",
      "Distance between [6,4] and [8,9]\n",
      "5.38516480713\n"
     ]
    },
    {
     "data": {
      "image/png": "[encoded data removed]",
      "text/plain": [
       "<matplotlib.figure.Figure at 0x1129d37b8>"
      ]
     },
     "metadata": {},
     "output_type": "display_data"
    }
   ],
   "source": [
    "print('Distance between [6,4] and [7,5]')\n",
    "print(np.linalg.norm(x_2-x_3)) \n",
    "\n",
    "print('Distance between [7,5] and [9,8]')\n",
    "print(np.linalg.norm(x_3-x_5)) \n",
    "\n",
    "print('Distance between [2.5, 6] and [9,8]')\n",
    "print(np.linalg.norm(x_1 - x_5))\n",
    "\n",
    "print('Distance between [9,8] and [14,9]')\n",
    "print(np.linalg.norm(x_5 - x_6))\n",
    "\n",
    "print('Distance between [2.5, 6] and [7,5]')\n",
    "print(np.linalg.norm(x_1-x_3))\n",
    "\n",
    "print('Distance between [2.5, 6] and [6,4]')\n",
    "print(np.linalg.norm(x_1-x_2))\n",
    "\n",
    "print('Distance between [2.5, 6] and [8,9]')\n",
    "print(np.linalg.norm(x_1-x_4))\n",
    "\n",
    "print('Distance between [6,4] and [8,9]')\n",
    "print(np.linalg.norm(x_2 - x_4))\n",
    "\n",
    "plot_data()"
   ]
  },
  {
   "cell_type": "code",
   "execution_count": 144,
   "metadata": {
    "collapsed": false
   },
   "outputs": [
    {
     "data": {
      "text/plain": [
       "(array([ 6.,  4.]), array([ 8.,  9.]))"
      ]
     },
     "execution_count": 144,
     "metadata": {},
     "output_type": "execute_result"
    }
   ],
   "source": [
    "x_2, x_4"
   ]
  },
  {
   "cell_type": "markdown",
   "metadata": {},
   "source": [
    "### Complete linkage"
   ]
  },
  {
   "cell_type": "markdown",
   "metadata": {},
   "source": [
    "## $$ d(C_k, C_l) = \\max_{i\\in C_k, j\\in C_l} d(x_i, x_j)$$   "
   ]
  },
  {
   "cell_type": "markdown",
   "metadata": {},
   "source": [
    "    Again start with C1 = (x_2, x_3) and C2 = (x_4,x_5) \n",
    "    We've done all the calculations already above, \n",
    "    so the next cluster should be formed by merging C1 and x_1 (=C3). \n",
    "    The 4th cluster by merging C3 and C2. And lastly merging C4 and x_6."
   ]
  },
  {
   "cell_type": "code",
   "execution_count": 147,
   "metadata": {
    "collapsed": false
   },
   "outputs": [
    {
     "data": {
      "image/png": "[encoded data removed]",
      "text/plain": [
       "<matplotlib.figure.Figure at 0x112ffe9b0>"
      ]
     },
     "metadata": {},
     "output_type": "display_data"
    }
   ],
   "source": [
    "plot_data()"
   ]
  },
  {
   "cell_type": "markdown",
   "metadata": {},
   "source": [
    "### Centroid linkage"
   ]
  },
  {
   "cell_type": "markdown",
   "metadata": {},
   "source": [
    "## $$d(C_k, C_l) = d( \\bar{x}_k, \\bar{x}_l)$$\n",
    "    with\n",
    "    \n",
    "## $$\\bar{x}_p = \\frac{1}{|C_p|}\\sum_{i\\in C_p}x_i$$\n",
    "   "
   ]
  },
  {
   "cell_type": "markdown",
   "metadata": {},
   "source": [
    "### Creating C1 and C2"
   ]
  },
  {
   "cell_type": "code",
   "execution_count": 161,
   "metadata": {
    "collapsed": false
   },
   "outputs": [
    {
     "name": "stdout",
     "output_type": "stream",
     "text": [
      "Resulting clusters C1 and C2:  [ 6.5  4.5] [ 8.5  8.5]\n"
     ]
    },
    {
     "data": {
      "image/png": "[encoded data removed]",
      "text/plain": [
       "<matplotlib.figure.Figure at 0x11251a8d0>"
      ]
     },
     "metadata": {},
     "output_type": "display_data"
    }
   ],
   "source": [
    "c1 = np.mean([x_2, x_3], axis=0)\n",
    "c2 = np.mean([x_4, x_5], axis=0)\n",
    "print(\"Resulting clusters C1 and C2: \", c1, c2)\n",
    "\n",
    "plt.plot(x,y, 'o')\n",
    "plt.plot(c1[0], c1[1], '*', markersize=7, label=\"C1\")\n",
    "plt.plot(c2[0], c2[1], '*', markersize=7, label = 'C2')\n",
    "plt.ylim(min(y)-1, max(y)+3)\n",
    "plt.xlim(min(x)-1, max(x)+1)\n",
    "plt.xlabel('x')\n",
    "plt.ylabel('y')\n",
    "plt.title('Scatterplot')\n",
    "plt.legend()\n",
    "plt.show()"
   ]
  },
  {
   "cell_type": "code",
   "execution_count": 151,
   "metadata": {
    "collapsed": false
   },
   "outputs": [
    {
     "name": "stdout",
     "output_type": "stream",
     "text": [
      "Distance C1 and C2:  4.472135955\n",
      "Distance C1 and x1:  4.27200187266\n",
      "Distance C2 and x6:  5.52268050859\n"
     ]
    }
   ],
   "source": [
    "print(\"Distance C1 and C2: \", np.linalg.norm(c1-c2))\n",
    "print(\"Distance C1 and x1: \", np.linalg.norm(c1 - x_1))\n",
    "print(\"Distance C2 and x6: \", np.linalg.norm(c2 - x_6))"
   ]
  },
  {
   "cell_type": "markdown",
   "metadata": {},
   "source": [
    "    Next merge: C1 and x1"
   ]
  },
  {
   "cell_type": "markdown",
   "metadata": {},
   "source": [
    "### Clustering C1 and x1\n",
    "\n"
   ]
  },
  {
   "cell_type": "code",
   "execution_count": 156,
   "metadata": {
    "collapsed": false
   },
   "outputs": [
    {
     "name": "stdout",
     "output_type": "stream",
     "text": [
      "Resulting centroid C3:  [ 4.5   5.25]\n"
     ]
    },
    {
     "data": {
      "image/png": "[encoded data removed]",
      "text/plain": [
       "<matplotlib.figure.Figure at 0x10d425c18>"
      ]
     },
     "metadata": {},
     "output_type": "display_data"
    }
   ],
   "source": [
    "c3 = np.mean([c1, x_1], axis=0)\n",
    "print('Resulting centroid C3: ', c3)\n",
    "\n",
    "plt.plot(x,y, 'o')\n",
    "\n",
    "plt.plot(c1[0], c1[1], '*', markersize=7, label=\"C1\")\n",
    "plt.plot(c2[0], c2[1], '*', markersize=7, label = 'C2')\n",
    "plt.plot(c3[0], c3[1], '*', markersize=7, label = 'C3')\n",
    "plt.ylim(min(y)-1, max(y)+3)\n",
    "plt.xlim(min(x)-1, max(x)+1)\n",
    "plt.xlabel('x')\n",
    "plt.ylabel('y')\n",
    "plt.title('Scatterplot')\n",
    "plt.legend()\n",
    "plt.show()"
   ]
  },
  {
   "cell_type": "code",
   "execution_count": 158,
   "metadata": {
    "collapsed": false
   },
   "outputs": [
    {
     "name": "stdout",
     "output_type": "stream",
     "text": [
      "Distance C2 and C3:  5.15388203202\n",
      "Distance C3 and x6:  5.52268050859\n"
     ]
    }
   ],
   "source": [
    "print(\"Distance C2 and C3: \", np.linalg.norm(c3-c2))\n",
    "print(\"Distance C3 and x6: \", np.linalg.norm(c2 - x_6))"
   ]
  },
  {
   "cell_type": "code",
   "execution_count": 159,
   "metadata": {
    "collapsed": false
   },
   "outputs": [
    {
     "name": "stdout",
     "output_type": "stream",
     "text": [
      "Resulting centroid C4:  [ 6.5    6.875]\n"
     ]
    },
    {
     "data": {
      "image/png": "[encoded data removed]",
      "text/plain": [
       "<matplotlib.figure.Figure at 0x112150d68>"
      ]
     },
     "metadata": {},
     "output_type": "display_data"
    }
   ],
   "source": [
    "c4 = np.mean([c3, c2], axis=0)\n",
    "print('Resulting centroid C4: ', c4)\n",
    "\n",
    "plt.plot(x,y, 'o')\n",
    "\n",
    "plt.plot(c1[0], c1[1], '*', markersize=7, label=\"C1\")\n",
    "plt.plot(c2[0], c2[1], '*', markersize=7, label = 'C2')\n",
    "plt.plot(c3[0], c3[1], '*', markersize=9, label = 'C3')\n",
    "plt.plot(c4[0], c4[1], '*', markersize=12, label = 'C4')\n",
    "plt.ylim(min(y)-1, max(y)+3)\n",
    "plt.xlim(min(x)-1, max(x)+1)\n",
    "plt.xlabel('x')\n",
    "plt.ylabel('y')\n",
    "plt.title('Scatterplot')\n",
    "plt.legend()\n",
    "plt.show()"
   ]
  },
  {
   "cell_type": "markdown",
   "metadata": {},
   "source": [
    "### Clustering all data points"
   ]
  },
  {
   "cell_type": "code",
   "execution_count": 160,
   "metadata": {
    "collapsed": false
   },
   "outputs": [
    {
     "name": "stdout",
     "output_type": "stream",
     "text": [
      "Resulting centroid:  [ 7.75        6.83333333]\n"
     ]
    },
    {
     "data": {
      "image/png": "[encoded data removed]",
      "text/plain": [
       "<matplotlib.figure.Figure at 0x1129a15f8>"
      ]
     },
     "metadata": {},
     "output_type": "display_data"
    }
   ],
   "source": [
    "cluster = np.mean([X[:,i] for i in range(len(x))], axis=0)\n",
    "print('Resulting centroid: ', cluster)\n",
    "\n",
    "plt.plot(x,y, 'o')\n",
    "plt.plot(cluster[0], cluster[1], '*', markersize=15, label = 'C5')\n",
    "plt.ylim(min(y)-1, max(y)+3)\n",
    "plt.xlim(min(x)-1, max(x)+1)\n",
    "plt.xlabel('x')\n",
    "plt.ylabel('y')\n",
    "plt.title('Scatterplot')\n",
    "plt.legend()\n",
    "plt.show()"
   ]
  },
  {
   "cell_type": "code",
   "execution_count": null,
   "metadata": {
    "collapsed": true
   },
   "outputs": [],
   "source": []
  }
 ],
 "metadata": {
  "anaconda-cloud": {},
  "kernelspec": {
   "display_name": "Python [conda root]",
   "language": "python",
   "name": "conda-root-py"
  },
  "language_info": {
   "codemirror_mode": {
    "name": "ipython",
    "version": 3
   },
   "file_extension": ".py",
   "mimetype": "text/x-python",
   "name": "python",
   "nbconvert_exporter": "python",
   "pygments_lexer": "ipython3",
   "version": "3.5.2"
  }
 },
 "nbformat": 4,
 "nbformat_minor": 1
}
