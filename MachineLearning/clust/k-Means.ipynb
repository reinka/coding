{
 "cells": [
  {
   "cell_type": "code",
   "execution_count": 1,
   "metadata": {
    "collapsed": true
   },
   "outputs": [],
   "source": [
    "import numpy as np\n",
    "import matplotlib.pyplot as plt\n",
    "import seaborn as sns\n",
    "%matplotlib inline"
   ]
  },
  {
   "cell_type": "code",
   "execution_count": 378,
   "metadata": {
    "collapsed": false
   },
   "outputs": [
    {
     "data": {
      "image/png": "[encoded data removed]",
      "text/plain": [
       "<matplotlib.figure.Figure at 0x113540da0>"
      ]
     },
     "metadata": {},
     "output_type": "display_data"
    }
   ],
   "source": [
    "x = [1,3,5,1,5]\n",
    "y = [2,2,2,1,1]\n",
    "\n",
    "plt.plot(x,y, 'o', markersize=6)\n",
    "plt.ylim(0,2.5)\n",
    "plt.xlim(0, 6)\n",
    "plt.xlabel('x')\n",
    "plt.ylabel('y')\n",
    "plt.title('Scatterplot of Dataset')\n",
    "plt.show()"
   ]
  },
  {
   "cell_type": "markdown",
   "metadata": {},
   "source": [
    "### K-Means"
   ]
  },
  {
   "cell_type": "code",
   "execution_count": 446,
   "metadata": {
    "collapsed": false
   },
   "outputs": [],
   "source": [
    "class k_means:\n",
    "    def __init__(self, x, y, k, initialization=None):\n",
    "        self.x = x\n",
    "        self.y = y\n",
    "        self.data = np.array(list(zip(x,y)))\n",
    "        self.k = k\n",
    "        self.start = np.vstack(initialization) if initialization else None\n",
    "        self.centroids_history = list()\n",
    "        \n",
    "    def initialize(self):\n",
    "        '''\n",
    "        In case no starting clusters are specified by the user, \n",
    "        k distinct points from the dataset are choosen \n",
    "        randomly as cluster centroids.\n",
    "        '''\n",
    "        \n",
    "        if type(self.start) is type(None):\n",
    "            from random import randint\n",
    "            rand = []\n",
    "            length = len(self.x)\n",
    "            for n in range(self.k):\n",
    "                index = randint(0, length - 1)\n",
    "                \n",
    "                # make sure we haven't already\n",
    "                # picked this point\n",
    "                if index in rand:\n",
    "                    while(index in rand):\n",
    "                        index = randint(0,length-1)\n",
    "                \n",
    "                rand.append(index)\n",
    "                \n",
    "            self.start = np.vstack([self.data[k] for k in rand])\n",
    "\n",
    "        self.centroids_history.append(self.start)\n",
    "            \n",
    "    \n",
    "    def kmeans(self, verbose = False):\n",
    "        if self.k > len(self.x):\n",
    "            return \"Error: k > #(data points). Goodbye.\"\n",
    "        # initialize first\n",
    "        self.initialize()\n",
    "        \n",
    "        # remember previous centroid of each iteration\n",
    "        # will be needed to terminate the algorithm \n",
    "        old_centroids = self.start\n",
    "        new_centroids = self.mapping(old_centroids, verbose)\n",
    "        if verbose:\n",
    "            print(\"After first mapping, new centroids:\")\n",
    "            print(new_centroids)\n",
    "        if(not np.array_equal(new_centroids, old_centroids)):\n",
    "            equal = False\n",
    "            count = 0\n",
    "            while not equal and count < 250:\n",
    "#                print('New centroid within loop')\n",
    "#                print(new_centroids)\n",
    "                old_centroids = new_centroids.copy()\n",
    "                new_centroids = self.mapping(old_centroids,verbose)\n",
    "#                print(\"New calculated centriods within loop:\")\n",
    "#                print(new_centroids)\n",
    "                \n",
    "                # stop when there is no more change\n",
    "                equal = np.array_equal(old_centroids,new_centroids)\n",
    "#                print(equal)\n",
    "                count += 1\n",
    "        \n",
    "        # pop last result cuz it's been added twice\n",
    "        # (during the last two iterations of while loop)\n",
    "        self.centroids_history.pop(-1)\n",
    "\n",
    "            \n",
    "        \n",
    "        \n",
    "    def mapping(self, old_centroids,verbose):\n",
    "        # create hash-map to store \n",
    "        # data points which were \n",
    "        # assigned to a specific centroid\n",
    "        assignment = [list() for n in range(self.k)]\n",
    "        \n",
    "        # create var to store\n",
    "        # new centroids later \n",
    "        new_centroids = old_centroids.copy()\n",
    "#        print(\"Before calculation\")\n",
    "#        print(new_centroids)\n",
    "        for data_point in self.data:\n",
    "            dist = []\n",
    "#            print(\"distance between\")\n",
    "            for centroid in new_centroids:\n",
    "#                print(data_point, centroid)\n",
    "                dist.append(np.linalg.norm(centroid - data_point))\n",
    "#            print(\"dist: \", dist)\n",
    "            assignment[np.argmin(dist)].append(data_point)\n",
    "            \n",
    "#        print(\"Assignment looks like: \", assignment)\n",
    "        if verbose:\n",
    "            print(\"Computing new centroids:\")\n",
    "        result=[]\n",
    "        for n in range(self.k):\n",
    "#            print(assignment[n])\n",
    "#            print(np.mean(assignment[n], axis=0))\n",
    "            result.append(np.mean(assignment[n], axis=0))\n",
    "        \n",
    "        if verbose:\n",
    "            print(\"Retruning newly computed centroids:\")\n",
    "            print(result)\n",
    "        \n",
    "        # save result for plotting \n",
    "        self.centroids_history.append(np.vstack(result))\n",
    "        return result\n",
    "    \n",
    "    def visualize(self):\n",
    "        x, y = self.x, self.y\n",
    "        min_x = np.amin(a.start,axis=0)[0]\n",
    "        max_x = np.amax(a.start, axis=0)[0]\n",
    "\n",
    "        min_y = np.amin(a.start, axis=0)[1]\n",
    "        max_y = np.amax(a.start, axis=0)[1]\n",
    "        \n",
    "        min_x = min(min_x, min(x))\n",
    "        max_x = max(max_x, max(x))\n",
    "        \n",
    "        \n",
    "        min_y = min(min_y, min(y))\n",
    "        max_y = max(max_y, max(y))\n",
    "        \n",
    "        colors = ['b','g','r','c','m','y','k','w']\n",
    "        plt.plot(x,y, 'o', markersize=6)\n",
    "        plt.ylim(min_y-1,max_y+1)\n",
    "        plt.xlim(min_x-1, max_x+1)\n",
    "        \n",
    "        size = 7\n",
    "        for centroids in self.centroids_history:\n",
    "            size += size*0.25\n",
    "            for i in range(self.k):\n",
    "                plt.plot(centroids[i][0], centroids[i][1], '*', \n",
    "                         markersize=size, color=\"{}\".format(colors[i]))\n",
    "        \n",
    "        plt.xlabel('x')\n",
    "        plt.ylabel('y')\n",
    "        plt.title('Scatterplot of Dataset')\n",
    "\n",
    "        plt.show()\n",
    "            "
   ]
  },
  {
   "cell_type": "markdown",
   "metadata": {},
   "source": [
    "x = [1,3,1]\n",
    "y = [1,2,2]"
   ]
  },
  {
   "cell_type": "code",
   "execution_count": 438,
   "metadata": {
    "collapsed": false
   },
   "outputs": [
    {
     "name": "stdout",
     "output_type": "stream",
     "text": [
      "None [[1 2]\n",
      " [3 2]]\n"
     ]
    },
    {
     "data": {
      "text/plain": [
       "[array([ 1. ,  1.5]), array([ 4.33333333,  1.66666667])]"
      ]
     },
     "execution_count": 438,
     "metadata": {},
     "output_type": "execute_result"
    }
   ],
   "source": [
    "tst = k_means(x, y, 2)\n",
    "print(tst.initialize(), tst.start)\n",
    "tst.kmeans()"
   ]
  },
  {
   "cell_type": "code",
   "execution_count": 439,
   "metadata": {
    "collapsed": false
   },
   "outputs": [
    {
     "data": {
      "text/plain": [
       "[array([[1, 2],\n",
       "        [3, 2]]), array([[1, 2],\n",
       "        [3, 2]]), array([[ 1.        ,  1.5       ],\n",
       "        [ 4.33333333,  1.66666667]])]"
      ]
     },
     "execution_count": 439,
     "metadata": {},
     "output_type": "execute_result"
    }
   ],
   "source": [
    "tst.centroids_history"
   ]
  },
  {
   "cell_type": "code",
   "execution_count": 441,
   "metadata": {
    "collapsed": false
   },
   "outputs": [
    {
     "data": {
      "image/png": "[encoded data removed]",
      "text/plain": [
       "<matplotlib.figure.Figure at 0x113413e48>"
      ]
     },
     "metadata": {},
     "output_type": "display_data"
    }
   ],
   "source": [
    "tst.visualize()"
   ]
  },
  {
   "cell_type": "markdown",
   "metadata": {},
   "source": [
    "### Assignment 5.2\n",
    "### a) Initialization of k-Means Algorithm = $C_1(1,0)$ and $C_2(5,6)$"
   ]
  },
  {
   "cell_type": "code",
   "execution_count": 447,
   "metadata": {
    "collapsed": false
   },
   "outputs": [],
   "source": [
    "x = [1,3,5,1,5]\n",
    "y = [2,2,2,1,1]\n",
    "\n",
    "a = k_means(x,y,k=2, initialization=[[1,0], [5,6]])"
   ]
  },
  {
   "cell_type": "code",
   "execution_count": 448,
   "metadata": {
    "collapsed": false
   },
   "outputs": [],
   "source": [
    "a.kmeans()"
   ]
  },
  {
   "cell_type": "code",
   "execution_count": 449,
   "metadata": {
    "collapsed": false
   },
   "outputs": [
    {
     "data": {
      "text/plain": [
       "[array([[1, 0],\n",
       "        [5, 6]]), array([[ 2.5,  1.5],\n",
       "        [ 5. ,  2. ]]), array([[ 1.66666667,  1.66666667],\n",
       "        [ 5.        ,  1.5       ]])]"
      ]
     },
     "execution_count": 449,
     "metadata": {},
     "output_type": "execute_result"
    }
   ],
   "source": [
    "a.centroids_history"
   ]
  },
  {
   "cell_type": "code",
   "execution_count": 450,
   "metadata": {
    "collapsed": false
   },
   "outputs": [
    {
     "data": {
      "image/png": "[encoded data removed]",
      "text/plain": [
       "<matplotlib.figure.Figure at 0x1138061d0>"
      ]
     },
     "metadata": {},
     "output_type": "display_data"
    }
   ],
   "source": [
    "a.visualize()"
   ]
  },
  {
   "cell_type": "markdown",
   "metadata": {},
   "source": [
    "### b) Initialization of k-Means Algorithm = $C_1(2.75,3)$ and $C_2(3.25,0)$"
   ]
  },
  {
   "cell_type": "code",
   "execution_count": 453,
   "metadata": {
    "collapsed": false
   },
   "outputs": [
    {
     "data": {
      "text/plain": [
       "[array([[ 2.75,  3.  ],\n",
       "        [ 3.25,  0.  ]]), array([[ 3.,  2.],\n",
       "        [ 3.,  1.]])]"
      ]
     },
     "execution_count": 453,
     "metadata": {},
     "output_type": "execute_result"
    }
   ],
   "source": [
    "b = k_means(x, y, k=2, initialization=[[2.75, 3], [3.25,0]])\n",
    "b.kmeans()\n",
    "b.centroids_history"
   ]
  },
  {
   "cell_type": "code",
   "execution_count": 452,
   "metadata": {
    "collapsed": false
   },
   "outputs": [
    {
     "data": {
      "image/png": "[encoded data removed]",
      "text/plain": [
       "<matplotlib.figure.Figure at 0x11381d860>"
      ]
     },
     "metadata": {},
     "output_type": "display_data"
    }
   ],
   "source": [
    "b.visualize()"
   ]
  },
  {
   "cell_type": "markdown",
   "metadata": {},
   "source": [
    "#### Further tests, just out of curiousness"
   ]
  },
  {
   "cell_type": "markdown",
   "metadata": {},
   "source": [
    "#### k = 5"
   ]
  },
  {
   "cell_type": "code",
   "execution_count": 454,
   "metadata": {
    "collapsed": false
   },
   "outputs": [
    {
     "data": {
      "image/png": "[encoded data removed]",
      "text/plain": [
       "<matplotlib.figure.Figure at 0x1138101d0>"
      ]
     },
     "metadata": {},
     "output_type": "display_data"
    }
   ],
   "source": [
    "fun = k_means(x, y, k=5)\n",
    "fun.kmeans()\n",
    "fun.visualize()"
   ]
  },
  {
   "cell_type": "markdown",
   "metadata": {},
   "source": [
    "    each data point ends up as a cluster"
   ]
  },
  {
   "cell_type": "markdown",
   "metadata": {},
   "source": [
    "#### k = 6"
   ]
  },
  {
   "cell_type": "code",
   "execution_count": 455,
   "metadata": {
    "collapsed": false
   },
   "outputs": [
    {
     "data": {
      "text/plain": [
       "'Error: k > #(data points). Goodbye.'"
      ]
     },
     "execution_count": 455,
     "metadata": {},
     "output_type": "execute_result"
    }
   ],
   "source": [
    "fun = k_means(x,y,k=6)\n",
    "fun.kmeans()"
   ]
  },
  {
   "cell_type": "markdown",
   "metadata": {},
   "source": [
    "#### k = 3"
   ]
  },
  {
   "cell_type": "code",
   "execution_count": 456,
   "metadata": {
    "collapsed": false
   },
   "outputs": [
    {
     "name": "stdout",
     "output_type": "stream",
     "text": [
      "Computing new centroids:\n",
      "Retruning newly computed centroids:\n",
      "[array([ 1. ,  1.5]), array([ 3.,  2.]), array([ 5. ,  1.5])]\n",
      "After first mapping, new centroids:\n",
      "[array([ 1. ,  1.5]), array([ 3.,  2.]), array([ 5. ,  1.5])]\n",
      "Computing new centroids:\n",
      "Retruning newly computed centroids:\n",
      "[array([ 1. ,  1.5]), array([ 3.,  2.]), array([ 5. ,  1.5])]\n"
     ]
    },
    {
     "data": {
      "image/png": "[encoded data removed]",
      "text/plain": [
       "<matplotlib.figure.Figure at 0x112c780b8>"
      ]
     },
     "metadata": {},
     "output_type": "display_data"
    }
   ],
   "source": [
    "fun = k_means(x,y,k=3)\n",
    "fun.kmeans(verbose=True)\n",
    "fun.visualize()"
   ]
  },
  {
   "cell_type": "markdown",
   "metadata": {},
   "source": [
    "#### k = 4"
   ]
  },
  {
   "cell_type": "code",
   "execution_count": 437,
   "metadata": {
    "collapsed": false
   },
   "outputs": [
    {
     "data": {
      "image/png": "[encoded data removed]",
      "text/plain": [
       "<matplotlib.figure.Figure at 0x1128f78d0>"
      ]
     },
     "metadata": {},
     "output_type": "display_data"
    }
   ],
   "source": [
    "fun = k_means(x,y, k=4)\n",
    "fun.kmeans()\n",
    "fun.visualize()"
   ]
  },
  {
   "cell_type": "markdown",
   "metadata": {},
   "source": [
    "## Compare to outcome of scikit-learn k-Means"
   ]
  },
  {
   "cell_type": "code",
   "execution_count": 443,
   "metadata": {
    "collapsed": false
   },
   "outputs": [
    {
     "name": "stdout",
     "output_type": "stream",
     "text": [
      "Labels: \n",
      "[0 0 1 0 1]\n"
     ]
    },
    {
     "data": {
      "image/png": "[encoded data removed]",
      "text/plain": [
       "<matplotlib.figure.Figure at 0x113041278>"
      ]
     },
     "metadata": {},
     "output_type": "display_data"
    }
   ],
   "source": [
    "from sklearn.cluster import KMeans\n",
    "\n",
    "X = np.array(list(zip(x,y)))\n",
    "kmeans = KMeans(n_clusters=2, random_state=0).fit(X)\n",
    "print(\"Labels: \")\n",
    "print(kmeans.labels_)\n",
    "\n",
    "c1 = kmeans.cluster_centers_[0]\n",
    "c2 = kmeans.cluster_centers_[1]\n",
    "\n",
    "plt.plot(x,y, 'o', markersize=6)\n",
    "plt.plot(c1[0], c1[1], '*', markersize=15)\n",
    "plt.plot(c2[0], c2[1], '*', markersize=15)\n",
    "plt.ylim(0,2.5)\n",
    "plt.xlim(0, 6)\n",
    "plt.xlabel('x')\n",
    "plt.ylabel('y')\n",
    "plt.show()"
   ]
  },
  {
   "cell_type": "code",
   "execution_count": null,
   "metadata": {
    "collapsed": true
   },
   "outputs": [],
   "source": []
  }
 ],
 "metadata": {
  "anaconda-cloud": {},
  "kernelspec": {
   "display_name": "Python [default]",
   "language": "python",
   "name": "python3"
  },
  "language_info": {
   "codemirror_mode": {
    "name": "ipython",
    "version": 3
   },
   "file_extension": ".py",
   "mimetype": "text/x-python",
   "name": "python",
   "nbconvert_exporter": "python",
   "pygments_lexer": "ipython3",
   "version": "3.5.2"
  }
 },
 "nbformat": 4,
 "nbformat_minor": 1
}
