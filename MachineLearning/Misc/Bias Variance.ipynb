{
 "cells": [
  {
   "cell_type": "markdown",
   "metadata": {},
   "source": [
    "# Simple Linear Regression"
   ]
  },
  {
   "cell_type": "code",
   "execution_count": 30,
   "metadata": {
    "collapsed": true
   },
   "outputs": [],
   "source": [
    "import numpy as np\n",
    "import scipy.io as sio"
   ]
  },
  {
   "cell_type": "code",
   "execution_count": 31,
   "metadata": {
    "collapsed": true
   },
   "outputs": [],
   "source": [
    "data = sio.loadmat(\"../coursera/machine-learning-ex5/ex5/ex5data1.mat\")"
   ]
  },
  {
   "cell_type": "code",
   "execution_count": 32,
   "metadata": {
    "collapsed": false
   },
   "outputs": [
    {
     "name": "stdout",
     "output_type": "stream",
     "text": [
      "y\n",
      "Xval\n",
      "yval\n",
      "Xtest\n",
      "ytest\n",
      "X\n"
     ]
    }
   ],
   "source": [
    "_ = [print(val) for val in data.keys() if not val.startswith('__')]"
   ]
  },
  {
   "cell_type": "code",
   "execution_count": 33,
   "metadata": {
    "collapsed": false
   },
   "outputs": [],
   "source": [
    "X, X_test, X_val = data[\"X\"], data[\"Xtest\"], data[\"Xval\"]\n",
    "y, y_test, y_val = data['y'], data['ytest'], data['yval']"
   ]
  },
  {
   "cell_type": "markdown",
   "metadata": {},
   "source": [
    "### Plot training data"
   ]
  },
  {
   "cell_type": "code",
   "execution_count": 5,
   "metadata": {
    "collapsed": false
   },
   "outputs": [
    {
     "name": "stdout",
     "output_type": "stream",
     "text": [
      "Object `sns.lmplot` not found.\n"
     ]
    }
   ],
   "source": [
    "sns.lmplot?"
   ]
  },
  {
   "cell_type": "code",
   "execution_count": 6,
   "metadata": {
    "collapsed": false
   },
   "outputs": [
    {
     "data": {
      "image/png": "[encoded data removed]",
      "text/plain": [
       "<matplotlib.figure.Figure at 0x10ac8ac18>"
      ]
     },
     "metadata": {},
     "output_type": "display_data"
    }
   ],
   "source": [
    "import matplotlib as mpl\n",
    "import matplotlib.pyplot as plt\n",
    "import seaborn as sns\n",
    "%matplotlib inline\n",
    "mpl.rcParams[\"figure.figsize\"] = (12,6)\n",
    "\n",
    "sns.set(color_codes=True)\n",
    "sns.regplot(X,y, fit_reg=False, marker='x', color='r')\n",
    "plt.ylim(0, 40)\n",
    "plt.xlim(-50,40)\n",
    "plt.xlabel('Change in water level (x)')\n",
    "plt.ylabel('Water flowing out of the dam (y)')\n",
    "plt.title('Training Data')\n",
    "plt.show()"
   ]
  },
  {
   "cell_type": "markdown",
   "metadata": {},
   "source": [
    "    Plot reveals non-linear relationship"
   ]
  },
  {
   "cell_type": "markdown",
   "metadata": {},
   "source": [
    "### Recall regularized linear regression cost function:"
   ]
  },
  {
   "cell_type": "markdown",
   "metadata": {},
   "source": [
    "$$ J(\\theta) = \\frac{1}{2m}\\left(\\sum_{i=1}^m(h_{\\theta}(x^{(i)}) - y^{(i)})^2\\right) + \\frac{\\lambda}{2m}\\left(\\sum_{j=1}^n\\theta^2\\right) $$"
   ]
  },
  {
   "cell_type": "markdown",
   "metadata": {},
   "source": [
    "### Regularized linear regression gradient:"
   ]
  },
  {
   "cell_type": "markdown",
   "metadata": {},
   "source": [
    "for $j = 0$\n",
    "$$ \n",
    "\\frac{\\partial J(\\theta)}{\\partial \\theta_0} = \\frac{1}{m} \\sum_{i=1}^m (h_{\\theta}(x^{(i)}) - y^{(i)})x_j^{(i)} \n",
    "$$ \n",
    "\n",
    "for $j \\geq 1$\n",
    "\n",
    "$$\n",
    "\\frac{\\partial J(\\theta)}{\\partial \\theta_j} = \\frac{1}{m} \\sum_{i=1}^m (h_{\\theta}(x^{(i)}) - y^{(i)})x_j^{(i)} + \\frac{\\lambda}{m}\\theta_j\n",
    "$$"
   ]
  },
  {
   "cell_type": "code",
   "execution_count": 50,
   "metadata": {
    "collapsed": false
   },
   "outputs": [],
   "source": [
    "class LinearModel(object):\n",
    "    '''\n",
    "    Initializes a LinearModel object that takes as input the \n",
    "    data matrix `X`, the outcome vector `y` and optionally \n",
    "    the parameter vector `theta`.\n",
    "    '''\n",
    "    def __init__(self):\n",
    "        self.X = None\n",
    "        self.J = [] # list for storing computed costs\n",
    "        self.optimized_theta = None \n",
    "        self.mu = None\n",
    "        self.sd = None\n",
    "        self.p = None\n",
    "    \n",
    "    def hypothesis(self, theta, X, y, add_bias = False):\n",
    "        \"\"\"\n",
    "        Computes the hypothesis function for given parameter `theta`.\n",
    "        \"\"\"\n",
    "        if add_bias:\n",
    "            X = np.insert(X, 0, 1, axis=1) # Add add_bias/intercept \n",
    "        if type(theta) == list:\n",
    "            theta = np.array(theta).reshape(len(theta),1) \n",
    "        else:\n",
    "            theta = theta.reshape(X.shape[1],1)\n",
    "        m = len(y)\n",
    "\n",
    "        h = np.dot(X, theta) - y \n",
    "\n",
    "        return X, y, theta, h, m \n",
    "    \n",
    "    def cost(self, theta, X, y, regularization=0, add_bias = False):\n",
    "        '''\n",
    "        Computes the cost for regularized linear regression \n",
    "        given parameter `theta`.\n",
    "        \n",
    "        returns: cost `J`\n",
    "        '''\n",
    "        X, y, theta, h, m = self.hypothesis(theta, X, y, add_bias)\n",
    "        \n",
    "        # compute cost\n",
    "        J = 1/(2*m) * np.sum(np.square(h))\n",
    "        \n",
    "        # Regularization \n",
    "        theta_no_bias = theta[1:]         # exclude Bias term\n",
    "\n",
    "        J += regularization/(2*m) * np.sum(np.square(theta_no_bias))\n",
    "\n",
    "        return J\n",
    "    \n",
    "    def gradient(self, theta, X, y, regularization = 0, add_bias = False):\n",
    "        \"\"\"\n",
    "        Computes Gradient for given parameter `theta`\n",
    "        \"\"\"\n",
    "        X, y, theta, h, m = self.hypothesis(theta, X, y, add_bias)\n",
    "        grad = 1/m * np.dot(X.transpose(), h)\n",
    "        \n",
    "        # Regularization without intercept term\n",
    "        grad[1:] += regularization/m * theta[1:]\n",
    "\n",
    "        return grad.flatten()\n",
    "    \n",
    "    def train(self, X, y, regularization=0, add_bias=False, \n",
    "              plot = True, p=1, disp=1):\n",
    "        \"\"\"\n",
    "        Trains linear regression given regularization parameter lambda.\n",
    "        \n",
    "        Returns Coefficients and plots linear fit\n",
    "        \"\"\"\n",
    "        from scipy.optimize import fmin_cg\n",
    "        self.X = X\n",
    "        if p > 1:\n",
    "            self.p = p\n",
    "            X = self.polyFeatures(X, p)\n",
    "        if add_bias:\n",
    "            X = np.insert(X, 0, 1, axis=1) # Add bias/intercept \n",
    "            \n",
    "        x0 = np.zeros((X.shape[1],1))\n",
    "        self.optimized_theta = fmin_cg(self.cost, x0, args = (X, y, regularization), disp=disp, fprime = self.gradient, maxiter = 200)\n",
    "        \n",
    "        if plot:\n",
    "            self.plot_fit(X, y)\n",
    "        \n",
    "        return self.optimized_theta\n",
    "    \n",
    "    def learningCurve(self, X, y, Xval, yval, regularization, add_bias=False, nb=True):\n",
    "        \"\"\"\n",
    "        Generates the train and cross validation set errors needed \n",
    "        to plot a learning curve.\n",
    "        \n",
    "        returns the train and\n",
    "        cross validation set errors for a learning curve. In particular, \n",
    "        it returns two vectors of the same length - error_train and \n",
    "        error_val. Then, error_train(i) contains the training error for\n",
    "        i examples (and similarly for error_val(i)).\n",
    "        \"\"\"\n",
    "        if add_bias:\n",
    "            X = np.insert(X, 0, 1, axis=1)\n",
    "            Xval = np.insert(Xval, 0, 1, axis=1)\n",
    "        m = X.shape[0]\n",
    "        error_train = np.zeros((m, 1))\n",
    "        error_val = np.zeros((m, 1))\n",
    "        \n",
    "        for i in range(m):\n",
    "            X_train = X[:i+1, :]\n",
    "            y_train = y[:i+1]\n",
    "            theta = self.train(X_train, y_train, regularization, disp=0, plot=False)\n",
    "            error_train[i] = self.cost(theta,X_train, \n",
    "                                                     y_train)\n",
    "\n",
    "            error_val[i] = self.cost(theta, Xval, yval)\n",
    "            print(\"Train Error: %.4f\\tCross Val Error: %.4f\" % (error_train[i],\n",
    "                                                                 error_val[i]))\n",
    "            \n",
    "        import matplotlib as mpl\n",
    "        import matplotlib.pyplot as plt\n",
    "        import seaborn as sns\n",
    "        \n",
    "        sns.set(color_codes=True)\n",
    "        if nb:\n",
    "            %matplotlib inline\n",
    "        \n",
    "        \n",
    "        plt.plot(range(1,m+1), error_train, label='Train')\n",
    "        plt.plot(range(1,m+1), error_val, color='r', label='Cross Validation')\n",
    "        plt.legend()\n",
    "        plt.title('Learning curve for linear regression')\n",
    "        plt.xlabel('Number of training examples')\n",
    "        plt.ylabel('Error')\n",
    "        \n",
    "        plt.show()\n",
    "        \n",
    "    def polyFeatures(self, X, p, scaled=True):\n",
    "        '''\n",
    "        Takes a data matrix X (size m x 1) and\n",
    "        maps each example into its polynomial features where\n",
    "        X_poly(i, :) = [X(i) X(i).^2 X(i).^3 ...  X(i).^p];\n",
    "    \n",
    "        Returns scaled data matrix with polynomial features and its column\n",
    "        wise means and standard deviations.\n",
    "        '''\n",
    "\n",
    "        X_poly = X \n",
    "\n",
    "        for i in range(2, p+1):\n",
    "            X_poly = np.concatenate((X_poly, np.power(X,i)),\n",
    "                                axis=1)\n",
    "    \n",
    "        self.mu = np.mean(X_poly, axis=0)\n",
    "        self.sigma = np.std(X_poly,axis=0)\n",
    "        \n",
    "        if scaled:\n",
    "            return (X_poly - self.mu)/self.sigma\n",
    "    \n",
    "        return X_poly\n",
    "    \n",
    "    def plot_fit(self, X, y, add_bias = False, \n",
    "                 title=\"Best Linear Fit\", nb = True):\n",
    "        import matplotlib as mpl\n",
    "        import matplotlib.pyplot as plt\n",
    "        import seaborn as sns\n",
    "        \n",
    "        sns.set(color_codes=True)\n",
    "        if nb:\n",
    "            %matplotlib inline\n",
    "        \n",
    "        if not add_bias:\n",
    "            X_no_intercept = X[:,1:]\n",
    "        else:\n",
    "            # confusing I know\n",
    "            X_no_intercept = X \n",
    "            X = np.insert(X, 0, 1, axis=1) \n",
    "            \n",
    "        theta = self.optimized_theta\n",
    "        \n",
    "        if X.shape[1] > 2:\n",
    "            self.poly_plot(y, np.min(self.X), np.max(self.X), self.p)\n",
    "            \n",
    "            \n",
    "        else: \n",
    "            sns.regplot(X_no_intercept, y, fit_reg=False, marker='x', color='r')\n",
    "            plt.plot(X_no_intercept, np.dot(X,theta))\n",
    "            plt.title(\"Best Linear Fit\")\n",
    "            plt.ylim(min(y) - 5, max(y) + 2)\n",
    "            plt.xlim(min(X_no_intercept) - 2,max(X_no_intercept) + 2)\n",
    "            plt.xlabel(\"Change in water level (x)\")\n",
    "            plt.ylabel('Water flowing out of the dam (y)')\n",
    "\n",
    "            plt.show()\n",
    "            \n",
    "    def poly_plot(self, y, xmin, xmax, p):\n",
    "        \n",
    "        import matplotlib.pyplot as plt\n",
    "        import seaborn as sns\n",
    "    \n",
    "        x = np.linspace(xmin - 15,\\\n",
    "                            xmax + 25,\\\n",
    "                            num=2500).transpose().reshape(2500,1)\n",
    "\n",
    "        x_poly = self.polyFeatures(x, p, scaled=False)\n",
    "        x_poly = (x_poly - self.mu) / self.sigma\n",
    "        x_poly = np.insert(x_poly, 0, 1, axis=1)\n",
    "    \n",
    "        sns.set(color_codes=True)\n",
    "        sns.regplot(self.X,y, fit_reg=False, marker='x', color='r')\n",
    "        plt.plot(x, np.dot(x_poly,self.optimized_theta), '--')\n",
    "        plt.xlabel('Change in water level (x)')\n",
    "        plt.ylabel('Water flowing out of the dam (y)')\n",
    "        plt.title('Polynomial Regression Fit')\n",
    "        plt.show()\n",
    "        \n",
    "    def plot_data(self, X, y, title=\"Training Data\", nb = True):\n",
    "        import matplotlib as mpl\n",
    "        import matplotlib.pyplot as plt\n",
    "        import seaborn as sns\n",
    "        if nb:\n",
    "            %matplotlib inline\n",
    "        mpl.rcParams[\"figure.figsize\"] = (12,6)\n",
    "\n",
    "        sns.set(color_codes=True)\n",
    "        sns.regplot(X,y, fit_reg=False, marker='x', color='r')\n",
    "        plt.ylim(min(y) - 2, max(y) + 2)\n",
    "        plt.xlim(min(X) - 2,max(X) + 2)\n",
    "        plt.xlabel('Change in water level (x)')\n",
    "        plt.ylabel('Water flowing out of the dam (y)')\n",
    "        plt.title(title)\n",
    "        \n",
    "        plt.show()"
   ]
  },
  {
   "cell_type": "markdown",
   "metadata": {},
   "source": [
    "#### Initialize Model"
   ]
  },
  {
   "cell_type": "code",
   "execution_count": 51,
   "metadata": {
    "collapsed": false
   },
   "outputs": [],
   "source": [
    "lin_mod = LinearModel()"
   ]
  },
  {
   "cell_type": "markdown",
   "metadata": {},
   "source": [
    "#### COmpute Cost for given parameters"
   ]
  },
  {
   "cell_type": "code",
   "execution_count": 7,
   "metadata": {
    "collapsed": false
   },
   "outputs": [
    {
     "data": {
      "text/plain": [
       "303.99319222026429"
      ]
     },
     "execution_count": 7,
     "metadata": {},
     "output_type": "execute_result"
    }
   ],
   "source": [
    "lin_mod.cost([1,1], X, y, regularization=1, add_bias=True)"
   ]
  },
  {
   "cell_type": "markdown",
   "metadata": {},
   "source": [
    "#### Compute Gradient for given parameters"
   ]
  },
  {
   "cell_type": "code",
   "execution_count": 8,
   "metadata": {
    "collapsed": false
   },
   "outputs": [
    {
     "data": {
      "text/plain": [
       "array([ -15.30301567,  598.25074417])"
      ]
     },
     "execution_count": 8,
     "metadata": {},
     "output_type": "execute_result"
    }
   ],
   "source": [
    "lin_mod.gradient([1,1], X, y, regularization=1, add_bias=True)"
   ]
  },
  {
   "cell_type": "markdown",
   "metadata": {},
   "source": [
    "#### Train Model for given regularization parameter (here lambda = 0)"
   ]
  },
  {
   "cell_type": "code",
   "execution_count": 9,
   "metadata": {
    "collapsed": false,
    "scrolled": true
   },
   "outputs": [
    {
     "name": "stdout",
     "output_type": "stream",
     "text": [
      "Optimization terminated successfully.\n",
      "         Current function value: 22.373906\n",
      "         Iterations: 2\n",
      "         Function evaluations: 5\n",
      "         Gradient evaluations: 5\n"
     ]
    },
    {
     "data": {
      "image/png": "[encoded data removed]",
      "text/plain": [
       "<matplotlib.figure.Figure at 0x10aca4828>"
      ]
     },
     "metadata": {},
     "output_type": "display_data"
    },
    {
     "data": {
      "text/plain": [
       "array([ 13.08790351,   0.36777923])"
      ]
     },
     "execution_count": 9,
     "metadata": {},
     "output_type": "execute_result"
    }
   ],
   "source": [
    "coeff = lin_mod.train(X, y, add_bias=True)\n",
    "coeff"
   ]
  },
  {
   "cell_type": "markdown",
   "metadata": {},
   "source": [
    "#### Plot Data Method"
   ]
  },
  {
   "cell_type": "code",
   "execution_count": 10,
   "metadata": {
    "collapsed": false
   },
   "outputs": [
    {
     "data": {
      "image/png": "[encoded data removed]",
      "text/plain": [
       "<matplotlib.figure.Figure at 0x10aca4e80>"
      ]
     },
     "metadata": {},
     "output_type": "display_data"
    }
   ],
   "source": [
    "lin_mod.plot_data(X,y, title='Testing Method')"
   ]
  },
  {
   "cell_type": "markdown",
   "metadata": {},
   "source": [
    "#### Plot fit method"
   ]
  },
  {
   "cell_type": "code",
   "execution_count": 11,
   "metadata": {
    "collapsed": false
   },
   "outputs": [
    {
     "data": {
      "image/png": "[encoded data removed]",
      "text/plain": [
       "<matplotlib.figure.Figure at 0x1190b61d0>"
      ]
     },
     "metadata": {},
     "output_type": "display_data"
    }
   ],
   "source": [
    "lin_mod.plot_fit(X, y, add_bias=True)"
   ]
  },
  {
   "cell_type": "markdown",
   "metadata": {},
   "source": [
    "# Bias-variance"
   ]
  },
  {
   "cell_type": "markdown",
   "metadata": {
    "collapsed": true
   },
   "source": [
    "## Learning Curves"
   ]
  },
  {
   "cell_type": "code",
   "execution_count": 12,
   "metadata": {
    "collapsed": false
   },
   "outputs": [
    {
     "name": "stdout",
     "output_type": "stream",
     "text": [
      "Train Error: 0.0000\tCross Val Error: 205.1211\n",
      "Train Error: 0.0000\tCross Val Error: 110.3004\n",
      "Train Error: 3.2866\tCross Val Error: 45.0102\n",
      "Train Error: 2.8427\tCross Val Error: 48.3689\n",
      "Train Error: 13.1540\tCross Val Error: 35.8651\n",
      "Train Error: 19.4440\tCross Val Error: 33.8300\n",
      "Train Error: 20.0985\tCross Val Error: 31.9710\n",
      "Train Error: 18.1729\tCross Val Error: 30.8624\n",
      "Train Error: 22.6094\tCross Val Error: 31.1360\n",
      "Train Error: 23.2615\tCross Val Error: 28.9362\n",
      "Train Error: 24.3172\tCross Val Error: 29.5514\n",
      "Train Error: 22.3739\tCross Val Error: 29.4338\n"
     ]
    },
    {
     "data": {
      "image/png": "[encoded data removed]",
      "text/plain": [
       "<matplotlib.figure.Figure at 0x119705c50>"
      ]
     },
     "metadata": {},
     "output_type": "display_data"
    }
   ],
   "source": [
    "lin_mod.learningCurve(X, y, X_val, y_val, regularization=0, add_bias=True)"
   ]
  },
  {
   "cell_type": "markdown",
   "metadata": {
    "collapsed": true
   },
   "source": [
    "    [...] [One] can observe that both the train error and cross validation error are high when the number of training examples is increased. This reflects a high bias problem in the model – the linear regression model is too simple and is unable to fit our dataset well. In the next section, you will implement polynomial regression to fit a better model for this dataset."
   ]
  },
  {
   "cell_type": "markdown",
   "metadata": {},
   "source": [
    "## Polynomial Regression"
   ]
  },
  {
   "cell_type": "code",
   "execution_count": 373,
   "metadata": {
    "collapsed": false
   },
   "outputs": [],
   "source": [
    "def polyFeatures(X, p, scaled=True):\n",
    "    '''\n",
    "    Takes a data matrix X (size m x 1) and\n",
    "    maps each example into its polynomial features where\n",
    "    X_poly(i, :) = [X(i) X(i).^2 X(i).^3 ...  X(i).^p];\n",
    "    \n",
    "    Returns scaled data matrix with polynomial features and its column\n",
    "    wise means and standard deviations.\n",
    "    '''\n",
    "    from sklearn.preprocessing import scale\n",
    "    X_poly = np.zeros((len(X), p))\n",
    "    X_poly = X \n",
    "\n",
    "    for i in range(2, p+1):\n",
    "        X_poly = np.concatenate((X_poly, np.power(X,i)),\n",
    "                                axis=1)\n",
    "    \n",
    "    mu, sigma = np.mean(X_poly, axis=0), np.std(X_poly, axis=0)\n",
    "    \n",
    "    if scaled:\n",
    "        return (X_poly - mu)/np.std(X_poly,axis=0), mu, sigma \n",
    "    \n",
    "    return X_poly"
   ]
  },
  {
   "cell_type": "code",
   "execution_count": 374,
   "metadata": {
    "collapsed": false
   },
   "outputs": [
    {
     "ename": "SyntaxError",
     "evalue": "non-default argument follows default argument (<ipython-input-374-03438825fe81>, line 1)",
     "output_type": "error",
     "traceback": [
      "\u001b[0;36m  File \u001b[0;32m\"<ipython-input-374-03438825fe81>\"\u001b[0;36m, line \u001b[0;32m1\u001b[0m\n\u001b[0;31m    def poly_plot(X, y, xmin, xmax, mu=0, sigma=1, theta, p):\u001b[0m\n\u001b[0m                 ^\u001b[0m\n\u001b[0;31mSyntaxError\u001b[0m\u001b[0;31m:\u001b[0m non-default argument follows default argument\n"
     ]
    }
   ],
   "source": [
    "def poly_plot(X, y, xmin, xmax, mu=0, sigma=1, theta, p):\n",
    "    x = np.linspace(xmin - 15,\\\n",
    "                            xmax + 25,\\\n",
    "                            num=2500).transpose().reshape(2500,1)\n",
    "\n",
    "    x_poly = polyFeatures(x, p, scaled=False)\n",
    "    x_poly = (x_poly - mu) / sigma\n",
    "    x_poly = np.insert(x_poly, 0, 1, axis=1)\n",
    "    \n",
    "    \n",
    "    #return np.dot(x_poly,theta)\n",
    "    import matplotlib.pyplot as plt\n",
    "    import seaborn as sns\n",
    "    \n",
    "    sns.set(color_codes=True)\n",
    "    sns.regplot(X,y, fit_reg=False, marker='x', color='r')\n",
    "    plt.plot(x, np.dot(x_poly,theta), '--')\n",
    "    plt.xlabel('Change in water level (x)')\n",
    "    plt.ylabel('Water flowing out of the dam (y)')\n",
    "    plt.title('Polynomial Regression Fit')\n",
    "    plt.show()\n",
    "    "
   ]
  },
  {
   "cell_type": "code",
   "execution_count": 375,
   "metadata": {
    "collapsed": false
   },
   "outputs": [],
   "source": [
    "X_poly, mu, sd = polyFeatures(X,8, scaled=True)"
   ]
  },
  {
   "cell_type": "code",
   "execution_count": 52,
   "metadata": {
    "collapsed": false
   },
   "outputs": [
    {
     "name": "stdout",
     "output_type": "stream",
     "text": [
      "Warning: Maximum number of iterations has been exceeded.\n",
      "         Current function value: 0.120516\n",
      "         Iterations: 200\n",
      "         Function evaluations: 368\n",
      "         Gradient evaluations: 368\n"
     ]
    }
   ],
   "source": [
    "theta = lin_mod.train(X, y, add_bias=True, plot=False, p = 8)"
   ]
  },
  {
   "cell_type": "markdown",
   "metadata": {},
   "source": [
    "## TODO: Fix this plot"
   ]
  },
  {
   "cell_type": "code",
   "execution_count": 53,
   "metadata": {
    "collapsed": false
   },
   "outputs": [
    {
     "data": {
      "image/png": "[encoded data removed]",
      "text/plain": [
       "<matplotlib.figure.Figure at 0x11a3e3c88>"
      ]
     },
     "metadata": {},
     "output_type": "display_data"
    }
   ],
   "source": [
    "lin_mod.poly_plot(y, np.min(X), np.max(X), 8)"
   ]
  },
  {
   "cell_type": "code",
   "execution_count": null,
   "metadata": {
    "collapsed": true
   },
   "outputs": [],
   "source": []
  }
 ],
 "metadata": {
  "kernelspec": {
   "display_name": "Python 3",
   "language": "python",
   "name": "python3"
  },
  "language_info": {
   "codemirror_mode": {
    "name": "ipython",
    "version": 3
   },
   "file_extension": ".py",
   "mimetype": "text/x-python",
   "name": "python",
   "nbconvert_exporter": "python",
   "pygments_lexer": "ipython3",
   "version": "3.5.2"
  }
 },
 "nbformat": 4,
 "nbformat_minor": 0
}
