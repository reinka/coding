{
 "cells": [
  {
   "cell_type": "markdown",
   "metadata": {},
   "source": [
    "# Simple Linear Regression"
   ]
  },
  {
   "cell_type": "code",
   "execution_count": 3,
   "metadata": {
    "collapsed": true
   },
   "outputs": [],
   "source": [
    "import numpy as np\n",
    "import scipy.io as sio"
   ]
  },
  {
   "cell_type": "code",
   "execution_count": 4,
   "metadata": {
    "collapsed": true
   },
   "outputs": [],
   "source": [
    "data = sio.loadmat(\"../coursera/machine-learning-ex5/ex5/ex5data1.mat\")"
   ]
  },
  {
   "cell_type": "code",
   "execution_count": 6,
   "metadata": {
    "collapsed": false
   },
   "outputs": [
    {
     "name": "stdout",
     "output_type": "stream",
     "text": [
      "Xtest\n",
      "yval\n",
      "X\n",
      "ytest\n",
      "y\n",
      "Xval\n"
     ]
    }
   ],
   "source": [
    "_ = [print(val) for val in data.keys() if not val.startswith('__')]"
   ]
  },
  {
   "cell_type": "code",
   "execution_count": 7,
   "metadata": {
    "collapsed": false
   },
   "outputs": [],
   "source": [
    "X, X_test, X_val = data[\"X\"], data[\"Xtest\"], data[\"Xval\"]\n",
    "y, y_test, y_val = data['y'], data['ytest'], data['yval']"
   ]
  },
  {
   "cell_type": "markdown",
   "metadata": {},
   "source": [
    "### Plot training data"
   ]
  },
  {
   "cell_type": "code",
   "execution_count": 15,
   "metadata": {
    "collapsed": false
   },
   "outputs": [],
   "source": [
    "sns.lmplot?"
   ]
  },
  {
   "cell_type": "code",
   "execution_count": 46,
   "metadata": {
    "collapsed": false
   },
   "outputs": [
    {
     "data": {
      "image/png": "[encoded data removed]",
      "text/plain": [
       "<matplotlib.figure.Figure at 0x10cf8ee48>"
      ]
     },
     "metadata": {},
     "output_type": "display_data"
    }
   ],
   "source": [
    "import matplotlib as mpl\n",
    "import matplotlib.pyplot as plt\n",
    "import seaborn as sns\n",
    "%matplotlib inline\n",
    "mpl.rcParams[\"figure.figsize\"] = (12,6)\n",
    "\n",
    "sns.set(color_codes=True)\n",
    "sns.regplot(X,y, fit_reg=False, marker='x', color='r')\n",
    "plt.ylim(0, 40)\n",
    "plt.xlim(-50,40)\n",
    "plt.xlabel('Change in water level (x)')\n",
    "plt.ylabel('Water flowing out of the dam (y)')\n",
    "plt.title('Training Data')\n",
    "plt.show()"
   ]
  },
  {
   "cell_type": "markdown",
   "metadata": {},
   "source": [
    "    Plot reveals non-linear relationship"
   ]
  },
  {
   "cell_type": "markdown",
   "metadata": {},
   "source": [
    "### Recall regularized linear regression cost function:"
   ]
  },
  {
   "cell_type": "markdown",
   "metadata": {},
   "source": [
    "$$ J(\\theta) = \\frac{1}{2m}\\left(\\sum_{i=1}^m(h_{\\theta}(x^{(i)}) - y^{(i)})^2\\right) + \\frac{\\lambda}{2m}\\left(\\sum_{j=1}^n\\theta^2\\right) $$"
   ]
  },
  {
   "cell_type": "markdown",
   "metadata": {},
   "source": [
    "### Regularized linear regression gradient:"
   ]
  },
  {
   "cell_type": "markdown",
   "metadata": {},
   "source": [
    "for $j = 0$\n",
    "$$ \n",
    "\\frac{\\partial J(\\theta)}{\\partial \\theta_0} = \\frac{1}{m} \\sum_{i=1}^m (h_{\\theta}(x^{(i)}) - y^{(i)})x_j^{(i)} \n",
    "$$ \n",
    "\n",
    "for $j \\geq 1$\n",
    "\n",
    "$$\n",
    "\\frac{\\partial J(\\theta)}{\\partial \\theta_j} = \\frac{1}{m} \\sum_{i=1}^m (h_{\\theta}(x^{(i)}) - y^{(i)})x_j^{(i)} + \\frac{\\lambda}{m}\\theta_j\n",
    "$$"
   ]
  },
  {
   "cell_type": "code",
   "execution_count": 11,
   "metadata": {
    "collapsed": false
   },
   "outputs": [],
   "source": [
    "class LinearModel(object):\n",
    "    '''\n",
    "    Initializes a LinearModel object that takes as input the \n",
    "    data matrix `X`, the outcome vector `y` and optionally \n",
    "    the parameter vector `theta`.\n",
    "    '''\n",
    "    def __init__(self, X, y, theta=False, reg=False):\n",
    "        self.x = np.insert(X, 0, 1, axis=1) # Add bias/intercept \n",
    "        self.y = y\n",
    "        self.m = len(y)\n",
    "        self.regularization = reg\n",
    "        self.theta = np.array(theta).reshape(len(theta),1) if theta \\\n",
    "        else np.ones((X.shape[1]+1, 1))\n",
    "        self.J = [] # list for storing computed costs\n",
    "        self.optimized_theta = None \n",
    "    \n",
    "    def hypothesis(self,theta):\n",
    "        \"\"\"\n",
    "        Computes the hypothesis function for given parameter `theta`.\n",
    "        \"\"\"\n",
    "        if type(theta) == list:\n",
    "            theta = np.asarray(theta)\n",
    "        theta = theta.reshape(self.x.shape[1],1)\n",
    "        h = np.dot(self.x, theta)-self.y\n",
    "        return h\n",
    "    \n",
    "    def cost(self, theta, reg=False):\n",
    "        '''\n",
    "        Computes the cost for regularized linear regression \n",
    "        given parameter `theta`.\n",
    "        \n",
    "        returns: cost `J`\n",
    "        '''\n",
    "        x = self.x\n",
    "        \n",
    "        if type(theta) == list:\n",
    "            theta = np.asarray(theta)\n",
    "        if not reg:\n",
    "            regularization = self.regularization\n",
    "        \n",
    "        theta = theta.reshape(self.x.shape[1],1)\n",
    "        h = self.hypothesis(theta)\n",
    "        \n",
    "        # compute cost\n",
    "        J = 1/(2*self.m) * np.sum(np.square(h))\n",
    "        \n",
    "        # Regularization \n",
    "        theta_no_bias = theta[1:]         # exclude Bias term\n",
    "\n",
    "        J += regularization/(2*self.m) * np.sum(np.square(theta_no_bias))\n",
    "\n",
    "        return J\n",
    "    \n",
    "    def gradient(self, theta):\n",
    "        \"\"\"\n",
    "        Computes Gradient for given parameter `theta`\n",
    "        \"\"\"\n",
    "        if type(theta) == list:\n",
    "            theta = np.asarray(theta)\n",
    "        \n",
    "        theta = theta.reshape(self.x.shape[1],1)\n",
    "        h = self.hypothesis(theta)\n",
    "        \n",
    "        grad = 1/self.m * np.dot(self.x.transpose(), h)\n",
    "        \n",
    "        # Regularization without intercept term\n",
    "        grad[1:] += self.regularization/self.m * theta[1:]\n",
    "\n",
    "        return grad.flatten()\n",
    "    \n",
    "    def train(self, regularization):\n",
    "        \"\"\"\n",
    "        Trains linear regression given regularization parameter lambda.\n",
    "        \n",
    "        Returns Coefficients and plots linear fit\n",
    "        \"\"\"\n",
    "        from scipy.optimize import fmin_cg\n",
    "            \n",
    "        x0 = np.zeros((self.x.shape[1],1))\n",
    "        \n",
    "        self.optimized_theta = fmin_cg(self.cost, x0, fprime = self.gradient, maxiter = 200)\n",
    "        \n",
    "        self.plot_fit()\n",
    "        \n",
    "        return self.optimized_theta\n",
    "    \n",
    "    def learningCurve(self, X, y, Xval, yval, reg):\n",
    "        \"\"\"\n",
    "        Generates the train and cross validation set errors needed \n",
    "        to plot a learning curve.\n",
    "        \n",
    "        returns the train and\n",
    "        cross validation set errors for a learning curve. In particular, \n",
    "        it returns two vectors of the same length - error_train and \n",
    "        error_val. Then, error_train(i) contains the training error for\n",
    "        i examples (and similarly for error_val(i)).\n",
    "        \"\"\"\n",
    "        \n",
    "        error_train = np.zeros((self.m, 1))\n",
    "        error_val = np.zeros((self.m, 1))\n",
    "        \n",
    "    \n",
    "    def plot_fit(self, nb = True):\n",
    "        import matplotlib as mpl\n",
    "        import matplotlib.pyplot as plt\n",
    "        import seaborn as sns\n",
    "        if nb:\n",
    "            %matplotlib inline\n",
    "        \n",
    "        sns.set(color_codes=True)\n",
    "        X = self.x[:,1:]\n",
    "        y = self.y\n",
    "        theta = self.optimized_theta\n",
    "        \n",
    "        sns.regplot(X, y, fit_reg=False, marker='x', color='r')\n",
    "        plt.plot(X, np.dot(self.x,theta))\n",
    "        plt.title(\"Best Linear Fit\")\n",
    "        plt.ylim(min(y) - 5, max(y) + 2)\n",
    "        plt.xlim(min(X) - 2,max(X) + 2)\n",
    "        plt.xlabel(\"Change in water level (x)\")\n",
    "        plt.ylabel('Water flowing out of the dam (y)')\n",
    "\n",
    "        plt.show()\n",
    "        \n",
    "    def plot_data(self, X, y, nb = True):\n",
    "        import matplotlib as mpl\n",
    "        import matplotlib.pyplot as plt\n",
    "        import seaborn as sns\n",
    "        if nb:\n",
    "            %matplotlib inline\n",
    "        mpl.rcParams[\"figure.figsize\"] = (12,6)\n",
    "\n",
    "        sns.set(color_codes=True)\n",
    "        sns.regplot(X,y, fit_reg=False, marker='x', color='r')\n",
    "        plt.ylim(min(y) - 2, max(y) + 2)\n",
    "        plt.xlim(min(X) - 2,max(X) + 2)\n",
    "        plt.xlabel('Change in water level (x)')\n",
    "        plt.ylabel('Water flowing out of the dam (y)')\n",
    "        plt.title('Training Data')\n",
    "        \n",
    "        plt.show()"
   ]
  },
  {
   "cell_type": "markdown",
   "metadata": {},
   "source": [
    "#### Initialize Model"
   ]
  },
  {
   "cell_type": "code",
   "execution_count": 12,
   "metadata": {
    "collapsed": false
   },
   "outputs": [],
   "source": [
    "lin_mod = LinearModel(X, y)"
   ]
  },
  {
   "cell_type": "markdown",
   "metadata": {},
   "source": [
    "#### COmpute Cost for given parameters"
   ]
  },
  {
   "cell_type": "code",
   "execution_count": 13,
   "metadata": {
    "collapsed": false
   },
   "outputs": [
    {
     "data": {
      "text/plain": [
       "303.95152555359761"
      ]
     },
     "execution_count": 13,
     "metadata": {},
     "output_type": "execute_result"
    }
   ],
   "source": [
    "lin_mod.cost([1,1])"
   ]
  },
  {
   "cell_type": "markdown",
   "metadata": {},
   "source": [
    "#### Compute Gradient for given parameters"
   ]
  },
  {
   "cell_type": "code",
   "execution_count": 14,
   "metadata": {
    "collapsed": false
   },
   "outputs": [
    {
     "data": {
      "text/plain": [
       "array([ -15.30301567,  598.16741084])"
      ]
     },
     "execution_count": 14,
     "metadata": {},
     "output_type": "execute_result"
    }
   ],
   "source": [
    "lin_mod.gradient([1,1])"
   ]
  },
  {
   "cell_type": "markdown",
   "metadata": {},
   "source": [
    "#### Train Model for given regularization parameter (here lambda = 0)"
   ]
  },
  {
   "cell_type": "code",
   "execution_count": 15,
   "metadata": {
    "collapsed": false
   },
   "outputs": [
    {
     "name": "stdout",
     "output_type": "stream",
     "text": [
      "Optimization terminated successfully.\n",
      "         Current function value: 22.373906\n",
      "         Iterations: 2\n",
      "         Function evaluations: 5\n",
      "         Gradient evaluations: 5\n"
     ]
    },
    {
     "data": {
      "image/png": "[encoded data removed]",
      "text/plain": [
       "<matplotlib.figure.Figure at 0x10aca7da0>"
      ]
     },
     "metadata": {},
     "output_type": "display_data"
    },
    {
     "data": {
      "text/plain": [
       "array([ 13.08790351,   0.36777923])"
      ]
     },
     "execution_count": 15,
     "metadata": {},
     "output_type": "execute_result"
    }
   ],
   "source": [
    "coeff = lin_mod.train(0)\n",
    "coeff"
   ]
  },
  {
   "cell_type": "markdown",
   "metadata": {},
   "source": [
    "#### Plot Data Method"
   ]
  },
  {
   "cell_type": "code",
   "execution_count": 16,
   "metadata": {
    "collapsed": false
   },
   "outputs": [
    {
     "data": {
      "image/png": "[encoded data removed]",
      "text/plain": [
       "<matplotlib.figure.Figure at 0x10aca7c50>"
      ]
     },
     "metadata": {},
     "output_type": "display_data"
    }
   ],
   "source": [
    "lin_mod.plot_data(X,y)"
   ]
  },
  {
   "cell_type": "markdown",
   "metadata": {},
   "source": [
    "#### Plot fit method"
   ]
  },
  {
   "cell_type": "code",
   "execution_count": 17,
   "metadata": {
    "collapsed": false
   },
   "outputs": [
    {
     "data": {
      "image/png": "[encoded data removed]",
      "text/plain": [
       "<matplotlib.figure.Figure at 0x1196cb9e8>"
      ]
     },
     "metadata": {},
     "output_type": "display_data"
    }
   ],
   "source": [
    "lin_mod.plot_fit()"
   ]
  },
  {
   "cell_type": "markdown",
   "metadata": {},
   "source": [
    "# Bias-variance"
   ]
  },
  {
   "cell_type": "markdown",
   "metadata": {
    "collapsed": true
   },
   "source": [
    "## Learning Curves"
   ]
  },
  {
   "cell_type": "code",
   "execution_count": null,
   "metadata": {
    "collapsed": true
   },
   "outputs": [],
   "source": []
  }
 ],
 "metadata": {
  "kernelspec": {
   "display_name": "Python 3",
   "language": "python",
   "name": "python3"
  },
  "language_info": {
   "codemirror_mode": {
    "name": "ipython",
    "version": 3
   },
   "file_extension": ".py",
   "mimetype": "text/x-python",
   "name": "python",
   "nbconvert_exporter": "python",
   "pygments_lexer": "ipython3",
   "version": "3.5.2"
  }
 },
 "nbformat": 4,
 "nbformat_minor": 0
}
