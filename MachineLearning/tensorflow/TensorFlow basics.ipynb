{
 "cells": [
  {
   "cell_type": "markdown",
   "metadata": {
    "collapsed": true
   },
   "source": [
    "#### https://github.com/chetannaik/learning_tensorflow/blob/master/tensorflow_basics.md#tensor-flow"
   ]
  },
  {
   "cell_type": "code",
   "execution_count": null,
   "metadata": {
    "collapsed": true
   },
   "outputs": [],
   "source": [
    "import tensorflow as tf"
   ]
  },
  {
   "cell_type": "markdown",
   "metadata": {},
   "source": [
    "### Basic flow:\n",
    "\n",
    "   - **Build a graph**\n",
    "    \n",
    "   - **Initialize a session**\n",
    "   - **Fetch and feed data with Session.run**"
   ]
  },
  {
   "cell_type": "code",
   "execution_count": 4,
   "metadata": {
    "collapsed": false
   },
   "outputs": [
    {
     "name": "stdout",
     "output_type": "stream",
     "text": [
      "b'Hello, tensorflow'\n"
     ]
    }
   ],
   "source": [
    "hello = tf.constant('Hello, tensorflow')\n",
    "\n",
    "# launch default graph \n",
    "sess = tf.Session()\n",
    "print(sess.run(hello))\n",
    "# close the session when done\n",
    "sess.close()"
   ]
  },
  {
   "cell_type": "markdown",
   "metadata": {},
   "source": [
    "#### Basic operations I\n",
    "\n",
    "*with constants*"
   ]
  },
  {
   "cell_type": "code",
   "execution_count": 6,
   "metadata": {
    "collapsed": false
   },
   "outputs": [
    {
     "name": "stdout",
     "output_type": "stream",
     "text": [
      "a=2, b=3\n",
      "Addition: 5\n",
      "Multiplication: 6\n"
     ]
    }
   ],
   "source": [
    "a = tf.constant(2)\n",
    "b = tf.constant(3)\n",
    "\n",
    "with tf.Session() as sess:\n",
    "    print(\"a=2, b=3\")\n",
    "    print(\"Addition: {0}\".format(sess.run(a+b)))\n",
    "    print(\"Multiplication: {0}\".format(sess.run(a*b)))"
   ]
  },
  {
   "cell_type": "markdown",
   "metadata": {},
   "source": [
    "*with variables*"
   ]
  },
  {
   "cell_type": "code",
   "execution_count": 13,
   "metadata": {
    "collapsed": false
   },
   "outputs": [
    {
     "name": "stdout",
     "output_type": "stream",
     "text": [
      "Addition with variables: 5\n",
      "Multiplication with variables: 6\n",
      "Alternatively using Tensor.eval(): 6\n"
     ]
    }
   ],
   "source": [
    "a = tf.placeholder(tf.int16)\n",
    "b = tf.placeholder(tf.int16)\n",
    "\n",
    "add = tf.add(a,b)\n",
    "mul = tf.mul(a,b)\n",
    "\n",
    "with tf.Session() as sess:\n",
    "    print(\"Addition with variables: {0}\".format(sess.run(add, feed_dict={a:2, b:3})))\n",
    "    print(\"Multiplication with variables: {0}\".format(sess.run(mul, feed_dict={a:2, b:3})))\n",
    "\n",
    "with tf.Session():\n",
    "    print(\"Alternatively using Tensor.eval(): {0}\".format(mul.eval(feed_dict={a:2,b:3})))"
   ]
  },
  {
   "cell_type": "code",
   "execution_count": null,
   "metadata": {
    "collapsed": true
   },
   "outputs": [],
   "source": []
  }
 ],
 "metadata": {
  "anaconda-cloud": {},
  "kernelspec": {
   "display_name": "Python [default]",
   "language": "python",
   "name": "python3"
  },
  "language_info": {
   "codemirror_mode": {
    "name": "ipython",
    "version": 3
   },
   "file_extension": ".py",
   "mimetype": "text/x-python",
   "name": "python",
   "nbconvert_exporter": "python",
   "pygments_lexer": "ipython3",
   "version": "3.5.2"
  }
 },
 "nbformat": 4,
 "nbformat_minor": 1
}
