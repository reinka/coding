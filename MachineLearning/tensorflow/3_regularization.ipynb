{
 "cells": [
  {
   "cell_type": "markdown",
   "metadata": {
    "colab_type": "text",
    "id": "kR-4eNdK6lYS"
   },
   "source": [
    "Deep Learning\n",
    "=============\n",
    "\n",
    "Assignment 3\n",
    "------------\n",
    "\n",
    "Previously in `2_fullyconnected.ipynb`, you trained a logistic regression and a neural network model.\n",
    "\n",
    "The goal of this assignment is to explore regularization techniques."
   ]
  },
  {
   "cell_type": "code",
   "execution_count": 1,
   "metadata": {
    "cellView": "both",
    "colab": {
     "autoexec": {
      "startup": false,
      "wait_interval": 0
     }
    },
    "colab_type": "code",
    "collapsed": true,
    "id": "JLpLa8Jt7Vu4"
   },
   "outputs": [],
   "source": [
    "# These are all the modules we'll be using later. Make sure you can import them\n",
    "# before proceeding further.\n",
    "# from __future__ import print_function\n",
    "import numpy as np\n",
    "import tensorflow as tf\n",
    "from six.moves import cPickle as pickle"
   ]
  },
  {
   "cell_type": "markdown",
   "metadata": {
    "colab_type": "text",
    "id": "1HrCK6e17WzV"
   },
   "source": [
    "First reload the data we generated in _notmist.ipynb_."
   ]
  },
  {
   "cell_type": "code",
   "execution_count": 2,
   "metadata": {
    "cellView": "both",
    "colab": {
     "autoexec": {
      "startup": false,
      "wait_interval": 0
     },
     "output_extras": [
      {
       "item_id": 1
      }
     ]
    },
    "colab_type": "code",
    "collapsed": false,
    "executionInfo": {
     "elapsed": 11777,
     "status": "ok",
     "timestamp": 1449849322348,
     "user": {
      "color": "",
      "displayName": "",
      "isAnonymous": false,
      "isMe": true,
      "permissionId": "",
      "photoUrl": "",
      "sessionId": "0",
      "userId": ""
     },
     "user_tz": 480
    },
    "id": "y3-cj1bpmuxc",
    "outputId": "e03576f1-ebbe-4838-c388-f1777bcc9873"
   },
   "outputs": [
    {
     "name": "stdout",
     "output_type": "stream",
     "text": [
      "Training set (200000, 28, 28) (200000,)\n",
      "Validation set (10000, 28, 28) (10000,)\n",
      "Test set (10000, 28, 28) (10000,)\n"
     ]
    }
   ],
   "source": [
    "pickle_file = 'notMNIST.pickle'\n",
    "\n",
    "with open(pickle_file, 'rb') as f:\n",
    "  save = pickle.load(f)\n",
    "  train_dataset = save['train_dataset']\n",
    "  train_labels = save['train_labels']\n",
    "  valid_dataset = save['valid_dataset']\n",
    "  valid_labels = save['valid_labels']\n",
    "  test_dataset = save['test_dataset']\n",
    "  test_labels = save['test_labels']\n",
    "  del save  # hint to help gc free up memory\n",
    "  print('Training set', train_dataset.shape, train_labels.shape)\n",
    "  print('Validation set', valid_dataset.shape, valid_labels.shape)\n",
    "  print('Test set', test_dataset.shape, test_labels.shape)"
   ]
  },
  {
   "cell_type": "markdown",
   "metadata": {
    "colab_type": "text",
    "id": "L7aHrm6nGDMB"
   },
   "source": [
    "Reformat into a shape that's more adapted to the models we're going to train:\n",
    "- data as a flat matrix,\n",
    "- labels as float 1-hot encodings."
   ]
  },
  {
   "cell_type": "code",
   "execution_count": 3,
   "metadata": {
    "cellView": "both",
    "colab": {
     "autoexec": {
      "startup": false,
      "wait_interval": 0
     },
     "output_extras": [
      {
       "item_id": 1
      }
     ]
    },
    "colab_type": "code",
    "collapsed": false,
    "executionInfo": {
     "elapsed": 11728,
     "status": "ok",
     "timestamp": 1449849322356,
     "user": {
      "color": "",
      "displayName": "",
      "isAnonymous": false,
      "isMe": true,
      "permissionId": "",
      "photoUrl": "",
      "sessionId": "0",
      "userId": ""
     },
     "user_tz": 480
    },
    "id": "IRSyYiIIGIzS",
    "outputId": "3f8996ee-3574-4f44-c953-5c8a04636582"
   },
   "outputs": [
    {
     "name": "stdout",
     "output_type": "stream",
     "text": [
      "Training set (200000, 784) (200000, 10)\n",
      "Validation set (10000, 784) (10000, 10)\n",
      "Test set (10000, 784) (10000, 10)\n"
     ]
    }
   ],
   "source": [
    "image_size = 28\n",
    "num_labels = 10\n",
    "\n",
    "def reformat(dataset, labels):\n",
    "  dataset = dataset.reshape((-1, image_size * image_size)).astype(np.float32)\n",
    "  # Map 1 to [0.0, 1.0, 0.0 ...], 2 to [0.0, 0.0, 1.0 ...]\n",
    "  labels = (np.arange(num_labels) == labels[:,None]).astype(np.float32)\n",
    "  return dataset, labels\n",
    "train_dataset, train_labels = reformat(train_dataset, train_labels)\n",
    "valid_dataset, valid_labels = reformat(valid_dataset, valid_labels)\n",
    "test_dataset, test_labels = reformat(test_dataset, test_labels)\n",
    "print('Training set', train_dataset.shape, train_labels.shape)\n",
    "print('Validation set', valid_dataset.shape, valid_labels.shape)\n",
    "print('Test set', test_dataset.shape, test_labels.shape)"
   ]
  },
  {
   "cell_type": "code",
   "execution_count": 4,
   "metadata": {
    "cellView": "both",
    "colab": {
     "autoexec": {
      "startup": false,
      "wait_interval": 0
     }
    },
    "colab_type": "code",
    "collapsed": true,
    "id": "RajPLaL_ZW6w"
   },
   "outputs": [],
   "source": [
    "def accuracy(predictions, labels):\n",
    "  return (100.0 * np.sum(np.argmax(predictions, 1) == np.argmax(labels, 1))\n",
    "          / predictions.shape[0])"
   ]
  },
  {
   "cell_type": "markdown",
   "metadata": {
    "colab_type": "text",
    "id": "sgLbUAQ1CW-1"
   },
   "source": [
    "---\n",
    "Problem 1\n",
    "---------\n",
    "\n",
    "Introduce and tune L2 regularization for both logistic and neural network models. Remember that L2 amounts to adding a penalty on the norm of the weights to the loss. In TensorFlow, you can compute the L2 loss for a tensor `t` using `nn.l2_loss(t)`. The right amount of regularization should improve your validation / test accuracy.\n",
    "\n",
    "---"
   ]
  },
  {
   "cell_type": "code",
   "execution_count": 5,
   "metadata": {
    "collapsed": false
   },
   "outputs": [],
   "source": [
    "batch_size = 128\n",
    "regularization = 0.01\n",
    "\n",
    "graph = tf.Graph()\n",
    "\n",
    "with graph.as_default():\n",
    "  # Data\n",
    "  X_train = tf.placeholder(dtype=tf.float32, shape=[batch_size, image_size*image_size])\n",
    "  y_train = tf.placeholder(dtype=tf.float32, shape=[batch_size, num_labels])\n",
    "  X_val = tf.constant(valid_dataset)\n",
    "  X_test = tf.constant(test_dataset)\n",
    "  beta = tf.placeholder(dtype=tf.float32)\n",
    "\n",
    "  # Parameters\n",
    "  weights = tf.Variable(\n",
    "    tf.truncated_normal(shape=[image_size*image_size, num_labels]))\n",
    "  bias = tf.Variable(tf.zeros(shape=[num_labels]))\n",
    "  \n",
    "  # Logits and Loss\n",
    "  logits = tf.matmul(X_train, weights) + bias \n",
    "  loss = tf.nn.softmax_cross_entropy_with_logits(logits, y_train)\n",
    "  \n",
    "  # Reguularization\n",
    "  loss += beta * tf.nn.l2_loss(weights)\n",
    "  loss = tf.reduce_mean(loss)\n",
    "  \n",
    "  # Optimizer\n",
    "  optimizer = tf.train.GradientDescentOptimizer(0.5).minimize(loss)\n",
    "  \n",
    "  train_pred = tf.nn.softmax(logits)\n",
    "  val_pred = tf.nn.softmax(tf.matmul(X_val, weights) + bias)\n",
    "  test_pred = tf.nn.softmax(tf.matmul(X_test, weights) + bias)"
   ]
  },
  {
   "cell_type": "code",
   "execution_count": 6,
   "metadata": {
    "collapsed": false
   },
   "outputs": [
    {
     "name": "stdout",
     "output_type": "stream",
     "text": [
      "Initialized\n",
      "Minibatch loss at step 0: 47.936279\n",
      "Minibatch accuracy: 6.2%\n",
      "Validation accuracy: 13.1%\n",
      "Minibatch loss at step 500: 0.866828\n",
      "Minibatch accuracy: 83.6%\n",
      "Validation accuracy: 81.7%\n",
      "Minibatch loss at step 1000: 0.685021\n",
      "Minibatch accuracy: 85.2%\n",
      "Validation accuracy: 81.3%\n",
      "Minibatch loss at step 1500: 0.794337\n",
      "Minibatch accuracy: 78.9%\n",
      "Validation accuracy: 81.0%\n",
      "Minibatch loss at step 2000: 0.811118\n",
      "Minibatch accuracy: 80.5%\n",
      "Validation accuracy: 81.8%\n",
      "Minibatch loss at step 2500: 0.930531\n",
      "Minibatch accuracy: 78.1%\n",
      "Validation accuracy: 81.9%\n",
      "Minibatch loss at step 3000: 0.945361\n",
      "Minibatch accuracy: 76.6%\n",
      "Validation accuracy: 81.7%\n",
      "Test accuracy: 88.8%\n"
     ]
    }
   ],
   "source": [
    "num_steps = 3001\n",
    "\n",
    "with tf.Session(graph=graph) as session:\n",
    "  tf.initialize_all_variables().run()\n",
    "  print(\"Initialized\")\n",
    "  for step in range(num_steps):\n",
    "    # Pick an offset within the training data, which has been randomized.\n",
    "    # Note: we could use better randomization across epochs.\n",
    "    offset = (step * batch_size) % (train_labels.shape[0] - batch_size)\n",
    "    # Generate a minibatch.\n",
    "    batch_data = train_dataset[offset:(offset + batch_size), :]\n",
    "    batch_labels = train_labels[offset:(offset + batch_size), :]\n",
    "    # Prepare a dictionary telling the session where to feed the minibatch.\n",
    "    # The key of the dictionary is the placeholder node of the graph to be fed,\n",
    "    # and the value is the numpy array to feed to it.\n",
    "    feed_dict = {X_train : batch_data, y_train : batch_labels, beta:regularization}\n",
    "    _, l, predictions = session.run(\n",
    "      [optimizer, loss, train_pred], feed_dict=feed_dict)\n",
    "    if (step % 500 == 0):\n",
    "      print(\"Minibatch loss at step %d: %f\" % (step, l))\n",
    "      print(\"Minibatch accuracy: %.1f%%\" % accuracy(predictions, batch_labels))\n",
    "      print(\"Validation accuracy: %.1f%%\" % accuracy(\n",
    "        val_pred.eval(), valid_labels))\n",
    "  print(\"Test accuracy: %.1f%%\" % accuracy(test_pred.eval(), test_labels))"
   ]
  },
  {
   "cell_type": "markdown",
   "metadata": {},
   "source": [
    "#### Plot Test Accuracy by L2 Regularization"
   ]
  },
  {
   "cell_type": "code",
   "execution_count": 116,
   "metadata": {
    "collapsed": false
   },
   "outputs": [
    {
     "name": "stdout",
     "output_type": "stream",
     "text": [
      "Initialized\n",
      "Initialized\n",
      "Initialized\n",
      "Initialized\n",
      "Initialized\n",
      "Initialized\n",
      "Initialized\n",
      "Initialized\n",
      "Initialized\n",
      "Initialized\n",
      "Initialized\n",
      "Initialized\n",
      "Initialized\n",
      "Initialized\n",
      "Initialized\n",
      "Initialized\n",
      "Initialized\n",
      "Initialized\n",
      "Initialized\n",
      "Initialized\n",
      "Initialized\n",
      "Initialized\n",
      "Initialized\n",
      "Initialized\n",
      "Initialized\n",
      "Initialized\n",
      "Initialized\n",
      "Initialized\n",
      "Initialized\n",
      "Initialized\n"
     ]
    }
   ],
   "source": [
    "reg = [pow(10, i) for i in np.arange(-4, -1, 0.1)]\n",
    "accuracies = list()\n",
    "\n",
    "for regularization in reg:\n",
    "  with tf.Session(graph=graph) as session:\n",
    "    tf.initialize_all_variables().run()\n",
    "    print(\"Initialized\")\n",
    "    for step in range(num_steps):\n",
    "      # Pick an offset within the training data, which has been randomized.\n",
    "      # Note: we could use better randomization across epochs.\n",
    "      offset = (step * batch_size) % (train_labels.shape[0] - batch_size)\n",
    "      # Generate a minibatch.\n",
    "      batch_data = train_dataset[offset:(offset + batch_size), :]\n",
    "      batch_labels = train_labels[offset:(offset + batch_size), :]\n",
    "      # Prepare a dictionary telling the session where to feed the minibatch.\n",
    "      # The key of the dictionary is the placeholder node of the graph to be fed,\n",
    "      # and the value is the numpy array to feed to it.\n",
    "      feed_dict = {X_train : batch_data, y_train : batch_labels, beta: regularization}\n",
    "      _, l, predictions = session.run(\n",
    "        [optimizer, loss, train_pred], feed_dict=feed_dict)\n",
    "    \n",
    "    accuracies.append(accuracy(val_pred.eval(), valid_labels))"
   ]
  },
  {
   "cell_type": "code",
   "execution_count": 131,
   "metadata": {
    "collapsed": false
   },
   "outputs": [
    {
     "data": {
      "image/png": "[encoded data removed]",
      "text/plain": [
       "<matplotlib.figure.Figure at 0x112a832b0>"
      ]
     },
     "metadata": {},
     "output_type": "display_data"
    }
   ],
   "source": [
    "import matplotlib.pyplot as plt\n",
    "%matplotlib inline\n",
    "\n",
    "plt.semilogx(reg, accuracies)\n",
    "plt.grid(True)\n",
    "plt.title('Test accuracy by regularization (1-layer net)')\n",
    "plt.show()"
   ]
  },
  {
   "cell_type": "code",
   "execution_count": 33,
   "metadata": {
    "collapsed": false
   },
   "outputs": [],
   "source": [
    "num_hidden = 1024\n",
    "beta = 1e-3\n",
    "\n",
    "graph = tf.Graph()\n",
    "\n",
    "with graph.as_default():\n",
    "  \n",
    "  # Input data\n",
    "  X_train = tf.placeholder(dtype=tf.float32, \n",
    "                           shape=[batch_size, image_size*image_size])\n",
    "  y_train = tf.placeholder(dtype=tf.float32, \n",
    "                           shape=[batch_size, num_labels])\n",
    "  X_val = tf.constant(valid_dataset)\n",
    "  X_test = tf.constant(test_dataset)\n",
    "  beta = tf.placeholder(tf.float32)\n",
    "  \n",
    "  \n",
    "  # parameters \n",
    "  weights_input = tf.Variable(\n",
    "    tf.truncated_normal(shape=[image_size*image_size, num_hidden]))\n",
    "  bias = tf.Variable(tf.zeros(shape=[num_hidden]))\n",
    "  weights_hidden = tf.Variable(tf.truncated_normal(shape=[num_hidden, num_labels]))\n",
    "  bias2 = tf.Variable(tf.zeros(shape=[num_labels]))\n",
    "  \n",
    "  # Logits, ReLU and Loss\n",
    "  logits_input = tf.matmul(X_train, weights_input) + bias\n",
    "  relu_input = tf.nn.relu(logits_input)\n",
    "  logits_hidden = tf.matmul(relu_input, weights_hidden) + bias2\n",
    "  loss = tf.reduce_mean(tf.nn.softmax_cross_entropy_with_logits(logits_hidden, y_train))\n",
    "  \n",
    "  # Add regularization\n",
    "  loss += beta * (tf.nn.l2_loss(weights_input) + tf.nn.l2_loss(weights_hidden))\n",
    "  #loss = tf.reduce_mean(loss)\n",
    "  \n",
    "  optimizer = tf.train.GradientDescentOptimizer(0.5).minimize(loss)\n",
    "  \n",
    "  # Predict\n",
    "  train_pred = tf.nn.softmax(logits_hidden)\n",
    "  val_layer1 = tf.nn.relu(tf.matmul(X_val, weights_input) + bias)\n",
    "  val_pred = tf.nn.softmax(tf.matmul(val_layer1, weights_hidden) + bias2)\n",
    "  test_layer1 = tf.nn.relu(tf.matmul(X_test, weights_input) + bias)\n",
    "  test_pred = tf.nn.softmax(tf.matmul(test_layer1, weights_hidden) + bias2)"
   ]
  },
  {
   "cell_type": "code",
   "execution_count": 34,
   "metadata": {
    "collapsed": false
   },
   "outputs": [
    {
     "name": "stdout",
     "output_type": "stream",
     "text": [
      "Initialized\n",
      "Minibatch loss at step 0: 638.656250\n",
      "Minibatch accuracy: 7.8%\n",
      "Validation accuracy: 33.0%\n",
      "Minibatch loss at step 500: 194.389755\n",
      "Minibatch accuracy: 82.8%\n",
      "Validation accuracy: 81.2%\n",
      "Minibatch loss at step 1000: 113.787880\n",
      "Minibatch accuracy: 82.0%\n",
      "Validation accuracy: 81.6%\n",
      "Minibatch loss at step 1500: 68.882332\n",
      "Minibatch accuracy: 85.9%\n",
      "Validation accuracy: 81.8%\n",
      "Minibatch loss at step 2000: 41.441406\n",
      "Minibatch accuracy: 85.9%\n",
      "Validation accuracy: 85.1%\n",
      "Minibatch loss at step 2500: 25.332434\n",
      "Minibatch accuracy: 82.0%\n",
      "Validation accuracy: 85.9%\n",
      "Minibatch loss at step 3000: 15.577061\n",
      "Minibatch accuracy: 85.2%\n",
      "Validation accuracy: 86.7%\n",
      "Test accuracy: 93.1%\n"
     ]
    }
   ],
   "source": [
    "num_steps = 3001\n",
    "\n",
    "with tf.Session(graph=graph) as session:\n",
    "  tf.initialize_all_variables().run()\n",
    "  print(\"Initialized\")\n",
    "  for step in range(num_steps):\n",
    "    # Pick an offset within the training data, which has been randomized.\n",
    "    # Note: we could use better randomization across epochs.\n",
    "    offset = (step * batch_size) % (train_labels.shape[0] - batch_size)\n",
    "    # Generate a minibatch.\n",
    "    batch_data = train_dataset[offset:(offset + batch_size), :]\n",
    "    batch_labels = train_labels[offset:(offset + batch_size), :]\n",
    "    # Prepare a dictionary telling the session where to feed the minibatch.\n",
    "    # The key of the dictionary is the placeholder node of the graph to be fed,\n",
    "    # and the value is the numpy array to feed to it.\n",
    "    feed_dict = {X_train : batch_data, y_train : batch_labels, beta : 1e-3}\n",
    "    _, l, predictions = session.run(\n",
    "      [optimizer, loss, train_pred], feed_dict=feed_dict)\n",
    "    if (step % 500 == 0):\n",
    "      print(\"Minibatch loss at step %d: %f\" % (step, l))\n",
    "      print(\"Minibatch accuracy: %.1f%%\" % accuracy(predictions, batch_labels))\n",
    "      print(\"Validation accuracy: %.1f%%\" % accuracy(\n",
    "        val_pred.eval(), valid_labels))\n",
    "  print(\"Test accuracy: %.1f%%\" % accuracy(test_pred.eval(), test_labels))"
   ]
  },
  {
   "cell_type": "markdown",
   "metadata": {
    "colab_type": "text",
    "id": "na8xX2yHZzNF"
   },
   "source": [
    "---\n",
    "Problem 2\n",
    "---------\n",
    "Let's demonstrate an extreme case of overfitting. Restrict your training data to just a few batches. What happens?\n",
    "\n",
    "---"
   ]
  },
  {
   "cell_type": "code",
   "execution_count": 9,
   "metadata": {
    "collapsed": false
   },
   "outputs": [
    {
     "name": "stdout",
     "output_type": "stream",
     "text": [
      "Initialized\n",
      "Minibatch loss at step 0: 662.872803\n",
      "Minibatch accuracy: 12.5%\n",
      "Validation accuracy: 33.5%\n",
      "Minibatch loss at step 5: 354.853088\n",
      "Minibatch accuracy: 89.8%\n",
      "Validation accuracy: 64.6%\n",
      "Minibatch loss at step 10: 311.934479\n",
      "Minibatch accuracy: 100.0%\n",
      "Validation accuracy: 65.2%\n",
      "Minibatch loss at step 15: 310.378815\n",
      "Minibatch accuracy: 100.0%\n",
      "Validation accuracy: 65.2%\n",
      "Minibatch loss at step 20: 308.828796\n",
      "Minibatch accuracy: 100.0%\n",
      "Validation accuracy: 65.2%\n",
      "Minibatch loss at step 25: 307.287506\n",
      "Minibatch accuracy: 100.0%\n",
      "Validation accuracy: 65.2%\n",
      "Minibatch loss at step 30: 305.756470\n",
      "Minibatch accuracy: 100.0%\n",
      "Validation accuracy: 65.2%\n",
      "Minibatch loss at step 35: 304.228821\n",
      "Minibatch accuracy: 100.0%\n",
      "Validation accuracy: 65.2%\n",
      "Minibatch loss at step 40: 302.712494\n",
      "Minibatch accuracy: 100.0%\n",
      "Validation accuracy: 65.2%\n",
      "Minibatch loss at step 45: 301.202484\n",
      "Minibatch accuracy: 100.0%\n",
      "Validation accuracy: 65.2%\n",
      "Test accuracy: 71.8%\n"
     ]
    }
   ],
   "source": [
    "batch_size = 128\n",
    "num_batches = 3\n",
    "num_steps = 50\n",
    "\n",
    "with tf.Session(graph=graph) as session:\n",
    "  tf.initialize_all_variables().run()\n",
    "  print(\"Initialized\")\n",
    "  for step in range(num_steps):\n",
    "    # Pick an offset within the training data, which has been randomized.\n",
    "    # Note: we could use better randomization across epochs.\n",
    "    #offset = (step * batch_size) % (train_labels.shape[0] - batch_size)\n",
    "    offset = step % num_batches\n",
    "    # Generate a minibatch.\n",
    "    batch_data = train_dataset[offset:(offset + batch_size), :]\n",
    "    batch_labels = train_labels[offset:(offset + batch_size), :]\n",
    "    # Prepare a dictionary telling the session where to feed the minibatch.\n",
    "    # The key of the dictionary is the placeholder node of the graph to be fed,\n",
    "    # and the value is the numpy array to feed to it.\n",
    "    feed_dict = {X_train : batch_data, y_train : batch_labels, beta : 1e-3}\n",
    "    _, l, predictions = session.run(\n",
    "      [optimizer, loss, train_pred], feed_dict=feed_dict)\n",
    "    if (step % 5 == 0):\n",
    "      print(\"Minibatch loss at step %d: %f\" % (step, l))\n",
    "      print(\"Minibatch accuracy: %.1f%%\" % accuracy(predictions, batch_labels))\n",
    "      print(\"Validation accuracy: %.1f%%\" % accuracy(\n",
    "        val_pred.eval(), valid_labels))\n",
    "  print(\"Test accuracy: %.1f%%\" % accuracy(test_pred.eval(), test_labels))"
   ]
  },
  {
   "cell_type": "markdown",
   "metadata": {
    "colab_type": "text",
    "id": "ww3SCBUdlkRc"
   },
   "source": [
    "---\n",
    "Problem 3\n",
    "---------\n",
    "Introduce Dropout on the hidden layer of the neural network. Remember: Dropout should only be introduced during training, not evaluation, otherwise your evaluation results would be stochastic as well. TensorFlow provides `nn.dropout()` for that, but you have to make sure it's only inserted during training.\n",
    "\n",
    "What happens to our extreme overfitting case?\n",
    "\n",
    "---"
   ]
  },
  {
   "cell_type": "code",
   "execution_count": 29,
   "metadata": {
    "collapsed": false
   },
   "outputs": [
    {
     "name": "stdout",
     "output_type": "stream",
     "text": [
      "Initialized\n",
      "Minibatch loss at step 0: 774.546875\n",
      "Minibatch accuracy: 11.7%\n",
      "Validation accuracy: 26.3%\n",
      "Minibatch loss at step 5: 374.047516\n",
      "Minibatch accuracy: 79.7%\n",
      "Validation accuracy: 61.9%\n",
      "Minibatch loss at step 10: 316.102295\n",
      "Minibatch accuracy: 96.1%\n",
      "Validation accuracy: 67.1%\n",
      "Minibatch loss at step 15: 311.028229\n",
      "Minibatch accuracy: 99.2%\n",
      "Validation accuracy: 68.3%\n",
      "Minibatch loss at step 20: 309.446747\n",
      "Minibatch accuracy: 100.0%\n",
      "Validation accuracy: 68.9%\n",
      "Minibatch loss at step 25: 308.921173\n",
      "Minibatch accuracy: 98.4%\n",
      "Validation accuracy: 68.6%\n",
      "Minibatch loss at step 30: 307.397125\n",
      "Minibatch accuracy: 98.4%\n",
      "Validation accuracy: 68.2%\n",
      "Minibatch loss at step 35: 305.901306\n",
      "Minibatch accuracy: 99.2%\n",
      "Validation accuracy: 68.7%\n",
      "Minibatch loss at step 40: 303.539581\n",
      "Minibatch accuracy: 99.2%\n",
      "Validation accuracy: 68.5%\n",
      "Minibatch loss at step 45: 301.870453\n",
      "Minibatch accuracy: 100.0%\n",
      "Validation accuracy: 68.5%\n",
      "Test accuracy: 74.5%\n"
     ]
    }
   ],
   "source": [
    "num_hidden = 1024\n",
    "\n",
    "\n",
    "graph = tf.Graph()\n",
    "\n",
    "with graph.as_default():\n",
    "  \n",
    "  # Input data\n",
    "  X_train = tf.placeholder(dtype=tf.float32, \n",
    "                           shape=[batch_size, image_size*image_size])\n",
    "  y_train = tf.placeholder(dtype=tf.float32, \n",
    "                           shape=[batch_size, num_labels])\n",
    "  X_val = tf.constant(valid_dataset)\n",
    "  X_test = tf.constant(test_dataset)\n",
    "  beta = tf.placeholder(tf.float32)\n",
    "  \n",
    "  \n",
    "  # parameters \n",
    "  weights_input = tf.Variable(\n",
    "    tf.truncated_normal(shape=[image_size*image_size, num_hidden]))\n",
    "  bias = tf.Variable(tf.zeros(shape=[num_hidden]))\n",
    "  weights_hidden = tf.Variable(tf.truncated_normal(shape=[num_hidden, num_labels]))\n",
    "  bias2 = tf.Variable(tf.zeros(shape=[num_labels]))\n",
    "  \n",
    "  # Logits, ReLU and Loss\n",
    "  logits_input = tf.matmul(X_train, weights_input) + bias\n",
    "  relu_input = tf.nn.relu(logits_input)\n",
    "  relu_input = tf.nn.dropout(relu_input, 0.5)\n",
    "  logits_hidden = tf.matmul(relu_input, weights_hidden) + bias2\n",
    "  loss = tf.reduce_mean(tf.nn.softmax_cross_entropy_with_logits(logits_hidden, y_train))\n",
    "  \n",
    "  # Add regularization\n",
    "  loss += beta * (tf.nn.l2_loss(weights_input) + tf.nn.l2_loss(weights_hidden))\n",
    "#  loss = tf.reduce_mean(loss)\n",
    "  \n",
    "  optimizer = tf.train.GradientDescentOptimizer(0.5).minimize(loss)\n",
    "  \n",
    "  # Predict\n",
    "  train_pred = tf.nn.softmax(logits_hidden)\n",
    "  val_layer1 = tf.nn.relu(tf.matmul(X_val, weights_input) + bias)\n",
    "  val_pred = tf.nn.softmax(tf.matmul(val_layer1, weights_hidden) + bias2)\n",
    "  test_layer1 = tf.nn.relu(tf.matmul(X_test, weights_input) + bias)\n",
    "  test_pred = tf.nn.softmax(tf.matmul(test_layer1, weights_hidden) + bias2)\n",
    "  \n",
    "batch_size = 128\n",
    "num_batches = 3\n",
    "num_steps = 50\n",
    "\n",
    "with tf.Session(graph=graph) as session:\n",
    "  tf.initialize_all_variables().run()\n",
    "  print(\"Initialized\")\n",
    "  for step in range(num_steps):\n",
    "    # Pick an offset within the training data, which has been randomized.\n",
    "    # Note: we could use better randomization across epochs.\n",
    "    #offset = (step * batch_size) % (train_labels.shape[0] - batch_size)\n",
    "    offset = step % num_batches\n",
    "    # Generate a minibatch.\n",
    "    batch_data = train_dataset[offset:(offset + batch_size), :]\n",
    "    batch_labels = train_labels[offset:(offset + batch_size), :]\n",
    "    # Prepare a dictionary telling the session where to feed the minibatch.\n",
    "    # The key of the dictionary is the placeholder node of the graph to be fed,\n",
    "    # and the value is the numpy array to feed to it.\n",
    "    feed_dict = {X_train : batch_data, y_train : batch_labels, beta : 1e-3}\n",
    "    _, l, predictions = session.run(\n",
    "      [optimizer, loss, train_pred], feed_dict=feed_dict)\n",
    "    if (step % 5 == 0):\n",
    "      print(\"Minibatch loss at step %d: %f\" % (step, l))\n",
    "      print(\"Minibatch accuracy: %.1f%%\" % accuracy(predictions, batch_labels))\n",
    "      print(\"Validation accuracy: %.1f%%\" % accuracy(\n",
    "        val_pred.eval(), valid_labels))\n",
    "  print(\"Test accuracy: %.1f%%\" % accuracy(test_pred.eval(), test_labels))"
   ]
  },
  {
   "cell_type": "markdown",
   "metadata": {
    "colab_type": "text",
    "id": "-b1hTz3VWZjw"
   },
   "source": [
    "---\n",
    "Problem 4\n",
    "---------\n",
    "\n",
    "Try to get the best performance you can using a multi-layer model! The best reported test accuracy using a deep network is [97.1%](http://yaroslavvb.blogspot.com/2011/09/notmnist-dataset.html?showComment=1391023266211#c8758720086795711595).\n",
    "\n",
    "One avenue you can explore is to add multiple layers.\n",
    "\n",
    "Another one is to use learning rate decay:\n",
    "\n",
    "    global_step = tf.Variable(0)  # count the number of steps taken.\n",
    "    learning_rate = tf.train.exponential_decay(0.5, global_step, ...)\n",
    "    optimizer = tf.train.GradientDescentOptimizer(learning_rate).minimize(loss, global_step=global_step)\n",
    " \n",
    " ---\n"
   ]
  },
  {
   "cell_type": "code",
   "execution_count": 23,
   "metadata": {
    "collapsed": false
   },
   "outputs": [],
   "source": [
    "num_hidden1 = 1024\n",
    "batch_size = 128\n",
    "image_size = 28\n",
    "num_labels = 10\n",
    "\n",
    "graph = tf.Graph()\n",
    "\n",
    "with graph.as_default():\n",
    "  X_train = tf.placeholder(dtype=tf.float32, \n",
    "                           shape=[batch_size, image_size**2])\n",
    "  y_train = tf.placeholder(dtype=tf.float32, \n",
    "                          shape=[batch_size, num_labels])\n",
    "  X_val = tf.constant(valid_dataset)\n",
    "  X_test = tf.constant(test_dataset)\n",
    "  beta = tf.placeholder(dtype=tf.float32)\n",
    "  \n",
    "  \n",
    "  # Parameters\n",
    "  # Input layer\n",
    "  weights_input = tf.Variable(\n",
    "    tf.truncated_normal(shape=[image_size**2, num_hidden1]))\n",
    "  bias_to_hidden1 = tf.Variable(tf.zeros(shape=[num_hidden1]))\n",
    "  \n",
    "  # 1st hidden layer\n",
    "  weights_hidden1 = tf.Variable(\n",
    "    tf.truncated_normal([num_hidden1, num_labels]))\n",
    "  bias_to_output = tf.Variable(tf.zeros([num_labels]))\n",
    "  \n",
    "  # Compute Logits, ReLU, Dropout\n",
    "  logits_input = tf.nn.relu(tf.matmul(X_train, weights_input) + bias_to_hidden1)\n",
    "  # Dropout\n",
    "  logits_input = tf.nn.dropout(logits_input, 0.5)\n",
    "  \n",
    "  final_logits = tf.matmul(logits_input, weights_hidden1) + bias_to_output\n",
    "  \n",
    "  # Comput Cross entropy\n",
    "  loss = tf.reduce_mean(tf.nn.softmax_cross_entropy_with_logits(final_logits, y_train))\n",
    "  \n",
    "  # Add Regularization\n",
    "  loss += beta * ( tf.nn.l2_loss(weights_input) + \n",
    "                  tf.nn.l2_loss(weights_hidden1))\n",
    "  \n",
    "  # Optimizer\n",
    "  optimizer = tf.train.GradientDescentOptimizer(0.25).minimize(loss)\n",
    "  \n",
    "  # Predict\n",
    "  train_pred = tf.nn.softmax(final_logits)\n",
    "  val_layer1 = tf.nn.relu(tf.matmul(X_val, weights_input) + bias_to_hidden1)\n",
    "  val_pred = tf.nn.softmax(tf.matmul(val_layer1, weights_hidden1) + bias_to_output)\n",
    "  test_layer1 = tf.nn.relu(tf.matmul(X_test, weights_input) + bias_to_hidden1)\n",
    "  test_pred = tf.nn.softmax(tf.matmul(test_layer1, weights_hidden1) + bias_to_output)"
   ]
  },
  {
   "cell_type": "code",
   "execution_count": 25,
   "metadata": {
    "collapsed": false
   },
   "outputs": [
    {
     "name": "stdout",
     "output_type": "stream",
     "text": [
      "Initialized\n",
      "Minibatch loss at step 0: 767.271484\n",
      "Minibatch accuracy: 13.3%\n",
      "Validation accuracy: 32.6%\n",
      "Minibatch loss at step 500: 260.529236\n",
      "Minibatch accuracy: 71.9%\n",
      "Validation accuracy: 82.5%\n",
      "Minibatch loss at step 1000: 197.350357\n",
      "Minibatch accuracy: 77.3%\n",
      "Validation accuracy: 82.3%\n",
      "Minibatch loss at step 1500: 147.661438\n",
      "Minibatch accuracy: 75.8%\n",
      "Validation accuracy: 82.8%\n",
      "Minibatch loss at step 2000: 118.017479\n",
      "Minibatch accuracy: 75.8%\n",
      "Validation accuracy: 82.7%\n",
      "Minibatch loss at step 2500: 90.051178\n",
      "Minibatch accuracy: 82.8%\n",
      "Validation accuracy: 83.2%\n",
      "Minibatch loss at step 3000: 68.809753\n",
      "Minibatch accuracy: 79.7%\n",
      "Validation accuracy: 83.9%\n",
      "Test accuracy: 90.1%\n"
     ]
    }
   ],
   "source": [
    "num_steps = 3001\n",
    "\n",
    "with tf.Session(graph=graph) as session:\n",
    "  tf.initialize_all_variables().run()\n",
    "  print(\"Initialized\")\n",
    "  for step in range(num_steps):\n",
    "    # Pick offset \n",
    "    items = np.random.randint(0, train_dataset.shape[0], batch_size)\n",
    "    # Generate minibatch\n",
    "    batch_data = train_dataset[items,:]\n",
    "    batch_labels = train_labels[items,:]\n",
    "    # Prepare dict telling the session where to feed the minibatch.\n",
    "    # Key of dict is the placeholder node of the graph to be fed,\n",
    "    # and the value is the numpy array to feed it\n",
    "    feed_dict = {X_train : batch_data, y_train : batch_labels, beta: 1e-3}\n",
    "    _, l, predictions = session.run(\n",
    "      [optimizer, loss, train_pred], feed_dict=feed_dict)\n",
    "    if (step % 500 == 0):\n",
    "      print('Minibatch loss at step %d: %f'% (step, l))\n",
    "      print(\"Minibatch accuracy: %.1f%%\" % accuracy(predictions, batch_labels))\n",
    "      print(\"Validation accuracy: %.1f%%\" % accuracy(\n",
    "        val_pred.eval(), valid_labels))\n",
    "  print(\"Test accuracy: %.1f%%\" % accuracy(test_pred.eval(), test_labels))\n",
    "    "
   ]
  },
  {
   "cell_type": "code",
   "execution_count": 36,
   "metadata": {
    "collapsed": false
   },
   "outputs": [
    {
     "name": "stdout",
     "output_type": "stream",
     "text": [
      "Initialized\n",
      "Minibatch loss at step 0: 4.296863\n",
      "Minibatch accuracy: 10.9%\n",
      "Validation accuracy: 25.9%\n",
      "Minibatch loss at step 500: 1.607152\n",
      "Minibatch accuracy: 85.2%\n",
      "Validation accuracy: 85.2%\n",
      "Minibatch loss at step 1000: 1.180095\n",
      "Minibatch accuracy: 84.4%\n",
      "Validation accuracy: 85.5%\n",
      "Minibatch loss at step 1500: 0.999677\n",
      "Minibatch accuracy: 86.7%\n",
      "Validation accuracy: 87.0%\n",
      "Minibatch loss at step 2000: 0.868450\n",
      "Minibatch accuracy: 85.2%\n",
      "Validation accuracy: 87.8%\n",
      "Minibatch loss at step 2500: 0.889679\n",
      "Minibatch accuracy: 85.9%\n",
      "Validation accuracy: 87.9%\n",
      "Test accuracy: 94.0%\n"
     ]
    }
   ],
   "source": [
    "num_hidden1 = 1024\n",
    "num_hidden2 = 1024\n",
    "batch_size = 128\n",
    "\n",
    "graph = tf.Graph()\n",
    "\n",
    "with graph.as_default():\n",
    "  X_train = tf.placeholder(dtype=tf.float32, \n",
    "                           shape=[batch_size, image_size**2])\n",
    "  y_train = tf.placeholder(dtype=tf.float32, \n",
    "                          shape=[batch_size, num_labels])\n",
    "  X_val = tf.constant(valid_dataset)\n",
    "  X_test = tf.constant(test_dataset)\n",
    "  beta = tf.placeholder(dtype=tf.float32)\n",
    "  global_step = tf.Variable(0) # count the number of steps taken.\n",
    "  \n",
    "  \n",
    "  # Parameters\n",
    "  # Input layer\n",
    "  weights1 = tf.Variable(\n",
    "    tf.truncated_normal(shape=[image_size*image_size, num_hidden1],stddev=np.sqrt(2.0 / (image_size*image_size))))\n",
    "  bias1 = tf.Variable(tf.zeros(shape=[num_hidden1]))\n",
    "  \n",
    "  # 1st hidden layer\n",
    "  weights2 = tf.Variable(\n",
    "    tf.truncated_normal([num_hidden1, num_hidden2], stddev=np.sqrt(2.0 / num_hidden1)))\n",
    "  bias2 = tf.Variable(tf.zeros([num_hidden2]))\n",
    "  \n",
    "  # 2nd hidden layer\n",
    "  weights3 = tf.Variable(\n",
    "    tf.truncated_normal([num_hidden2, num_labels],stddev=np.sqrt(2.0 / num_hidden2)))\n",
    "  bias3 = tf.Variable(tf.zeros([num_labels]))\n",
    "  \n",
    "  # Compute Logits, ReLU, Dropout\n",
    "  lay1 = tf.nn.relu(tf.matmul(X_train, weights1) + bias1)\n",
    "  # Dropout\n",
    "  lay1 = tf.nn.dropout(lay1, 0.5)\n",
    "  \n",
    "  lay2 = tf.nn.relu(tf.matmul(lay1, weights2) + bias2)\n",
    "  # Dropout\n",
    "  lay2 = tf.nn.dropout(lay2, 0.5)\n",
    "  \n",
    "  logits = tf.matmul(lay2, weights3) + bias3\n",
    "  \n",
    "  # Comput Cross entropy\n",
    "  loss = tf.reduce_mean(\n",
    "    tf.nn.softmax_cross_entropy_with_logits(logits, y_train)) + beta * (tf.nn.l2_loss(weights1) + \n",
    "                  tf.nn.l2_loss(weights2) + \n",
    "                  tf.nn.l2_loss(weights3))\n",
    "  \n",
    "  # Optimizer\n",
    "  learning_rate = tf.train.exponential_decay(0.5, global_step, 1000, 0.65, staircase=True)\n",
    "  optimizer = tf.train.GradientDescentOptimizer(learning_rate).minimize(loss, global_step=global_step)\n",
    "  \n",
    "  # Predict\n",
    "  train_pred = tf.nn.softmax(logits)\n",
    "  \n",
    "  val_layer1 = tf.nn.relu(tf.matmul(X_val, weights1) + bias1)\n",
    "  val_layer2 = tf.nn.relu(tf.matmul(val_layer1, weights2) + bias2)\n",
    "  val_pred = tf.nn.softmax(tf.matmul(val_layer2, weights3) + bias3)\n",
    "  \n",
    "  test_layer1 = tf.nn.relu(tf.matmul(X_test, weights1) + bias1)\n",
    "  test_layer2 = tf.nn.relu(tf.matmul(test_layer1, weights2) + bias2)\n",
    "  test_pred = tf.nn.softmax(tf.matmul(test_layer2, weights3) + bias3)\n",
    "  \n",
    "num_steps = 3000\n",
    "\n",
    "with tf.Session(graph=graph) as session:\n",
    "  tf.initialize_all_variables().run()\n",
    "  print(\"Initialized\")\n",
    "  for step in range(num_steps):\n",
    "    # Pick offset \n",
    "    #items = np.random.randint(0, train_dataset.shape[0], batch_size)\n",
    "    # Generate minibatch\n",
    "    #batch_data = train_dataset[items,:]\n",
    "    #batch_labels = train_labels[items,:]\n",
    "    \n",
    "    offset = (step * batch_size) % (train_labels.shape[0] - batch_size)\n",
    "    # Generate a minibatch.\n",
    "    batch_data = train_dataset[offset:(offset + batch_size), :]\n",
    "    batch_labels = train_labels[offset:(offset + batch_size), :]\n",
    "    # Prepare dict telling the session where to feed the minibatch.\n",
    "    # Key of dict is the placeholder node of the graph to be fed,\n",
    "    # and the value is the numpy array to feed it\n",
    "    feed_dict = {X_train : batch_data, y_train : batch_labels, beta: 1e-3}\n",
    "    _, l, predictions = session.run(\n",
    "      [optimizer, loss, train_pred], feed_dict=feed_dict)\n",
    "    if (step % 500 == 0):\n",
    "      #print(items)\n",
    "      print('Minibatch loss at step %d: %f'% (step, l))\n",
    "      print(\"Minibatch accuracy: %.1f%%\" % accuracy(predictions, batch_labels))\n",
    "      print(\"Validation accuracy: %.1f%%\" % accuracy(\n",
    "        val_pred.eval(), valid_labels))\n",
    "  print(\"Test accuracy: %.1f%%\" % accuracy(test_pred.eval(), test_labels))\n",
    "    "
   ]
  },
  {
   "cell_type": "markdown",
   "metadata": {},
   "source": [
    "### TODO:\n",
    "    Research whether it makes sense to combine dropout with L2"
   ]
  },
  {
   "cell_type": "code",
   "execution_count": 41,
   "metadata": {
    "collapsed": false
   },
   "outputs": [
    {
     "name": "stdout",
     "output_type": "stream",
     "text": [
      "Initialized\n",
      "Minibatch loss at step 0: 3.859939\n",
      "Minibatch accuracy: 12.5%\n",
      "Validation accuracy: 17.9%\n",
      "Minibatch loss at step 500: 1.422711\n",
      "Minibatch accuracy: 80.5%\n",
      "Validation accuracy: 84.7%\n",
      "Minibatch loss at step 1000: 1.157841\n",
      "Minibatch accuracy: 83.6%\n",
      "Validation accuracy: 86.0%\n",
      "Minibatch loss at step 1500: 0.796755\n",
      "Minibatch accuracy: 87.5%\n",
      "Validation accuracy: 86.8%\n",
      "Minibatch loss at step 2000: 0.813236\n",
      "Minibatch accuracy: 85.2%\n",
      "Validation accuracy: 87.2%\n",
      "Minibatch loss at step 2500: 0.843390\n",
      "Minibatch accuracy: 82.0%\n",
      "Validation accuracy: 87.6%\n",
      "Test accuracy: 93.7%\n"
     ]
    }
   ],
   "source": [
    "num_hidden1 = 1024\n",
    "num_hidden2 = 512\n",
    "batch_size = 128\n",
    "starter_learning_rate = 0.5\n",
    "\n",
    "graph = tf.Graph()\n",
    "\n",
    "with graph.as_default():\n",
    "  X_train = tf.placeholder(dtype=tf.float32, \n",
    "                           shape=[batch_size, image_size**2])\n",
    "  y_train = tf.placeholder(dtype=tf.float32, \n",
    "                          shape=[batch_size, num_labels])\n",
    "  X_val = tf.constant(valid_dataset)\n",
    "  X_test = tf.constant(test_dataset)\n",
    "  beta = tf.placeholder(dtype=tf.float32)\n",
    "  global_step = tf.Variable(0) # count the number of steps taken.\n",
    "  \n",
    "  \n",
    "  # Parameters\n",
    "  # Input layer\n",
    "  weights1 = tf.Variable(\n",
    "    tf.truncated_normal(shape=[image_size*image_size, num_hidden1],stddev=np.sqrt(2.0 / (image_size*image_size))))\n",
    "  bias1 = tf.Variable(tf.zeros(shape=[num_hidden1]))\n",
    "  \n",
    "  # 1st hidden layer\n",
    "  weights2 = tf.Variable(\n",
    "    tf.truncated_normal([num_hidden1, num_hidden2], stddev=np.sqrt(2.0 / num_hidden1)))\n",
    "  bias2 = tf.Variable(tf.zeros([num_hidden2]))\n",
    "  \n",
    "  # 2nd hidden layer\n",
    "  weights3 = tf.Variable(\n",
    "    tf.truncated_normal([num_hidden2, num_labels],stddev=np.sqrt(2.0 / num_hidden2)))\n",
    "  bias3 = tf.Variable(tf.zeros([num_labels]))\n",
    "  \n",
    "  # Compute Logits, ReLU, Dropout\n",
    "  lay1 = tf.nn.relu(tf.matmul(X_train, weights1) + bias1)\n",
    "  # Dropout\n",
    "  lay1 = tf.nn.dropout(lay1, 0.5)\n",
    "  \n",
    "  lay2 = tf.nn.relu(tf.matmul(lay1, weights2) + bias2)\n",
    "  # Dropout\n",
    "  lay2 = tf.nn.dropout(lay2, 0.5)\n",
    "  \n",
    "  logits = tf.matmul(lay2, weights3) + bias3\n",
    "  \n",
    "  # Comput Cross entropy\n",
    "  loss = tf.reduce_mean(\n",
    "    tf.nn.softmax_cross_entropy_with_logits(logits, y_train)) + beta * (tf.nn.l2_loss(weights1) + \n",
    "                  tf.nn.l2_loss(weights2) + \n",
    "                  tf.nn.l2_loss(weights3))\n",
    "  \n",
    "  # Optimizer\n",
    "  learning_rate = tf.train.exponential_decay(starter_learning_rate, global_step, 1000, 0.65, staircase=True)\n",
    "  optimizer = tf.train.GradientDescentOptimizer(learning_rate).minimize(loss, global_step=global_step)\n",
    "  \n",
    "  # Predict\n",
    "  train_pred = tf.nn.softmax(logits)\n",
    "  \n",
    "  val_layer1 = tf.nn.relu(tf.matmul(X_val, weights1) + bias1)\n",
    "  val_layer2 = tf.nn.relu(tf.matmul(val_layer1, weights2) + bias2)\n",
    "  val_pred = tf.nn.softmax(tf.matmul(val_layer2, weights3) + bias3)\n",
    "  \n",
    "  test_layer1 = tf.nn.relu(tf.matmul(X_test, weights1) + bias1)\n",
    "  test_layer2 = tf.nn.relu(tf.matmul(test_layer1, weights2) + bias2)\n",
    "  test_pred = tf.nn.softmax(tf.matmul(test_layer2, weights3) + bias3)\n",
    "  \n",
    "num_steps = 3000\n",
    "\n",
    "with tf.Session(graph=graph) as session:\n",
    "  tf.initialize_all_variables().run()\n",
    "  print(\"Initialized\")\n",
    "  for step in range(num_steps):\n",
    "    # Pick offset \n",
    "    items = np.random.randint(0, train_dataset.shape[0], batch_size)\n",
    "    # Generate minibatch\n",
    "    batch_data = train_dataset[items,:]\n",
    "    batch_labels = train_labels[items,:]\n",
    "    \n",
    "    #offset = (step * batch_size) % (train_labels.shape[0] - batch_size)\n",
    "    # Generate a minibatch.\n",
    "    #batch_data = train_dataset[offset:(offset + batch_size), :]\n",
    "    #batch_labels = train_labels[offset:(offset + batch_size), :]\n",
    "    # Prepare dict telling the session where to feed the minibatch.\n",
    "    # Key of dict is the placeholder node of the graph to be fed,\n",
    "    # and the value is the numpy array to feed it\n",
    "    feed_dict = {X_train : batch_data, y_train : batch_labels, beta: 1e-3}\n",
    "    _, l, predictions = session.run(\n",
    "      [optimizer, loss, train_pred], feed_dict=feed_dict)\n",
    "    if (step % 500 == 0):\n",
    "      #print(items)\n",
    "      print('Minibatch loss at step %d: %f'% (step, l))\n",
    "      print(\"Minibatch accuracy: %.1f%%\" % accuracy(predictions, batch_labels))\n",
    "      print(\"Validation accuracy: %.1f%%\" % accuracy(\n",
    "        val_pred.eval(), valid_labels))\n",
    "  print(\"Test accuracy: %.1f%%\" % accuracy(test_pred.eval(), test_labels))\n",
    "    "
   ]
  },
  {
   "cell_type": "code",
   "execution_count": null,
   "metadata": {
    "collapsed": true
   },
   "outputs": [],
   "source": []
  }
 ],
 "metadata": {
  "anaconda-cloud": {},
  "colab": {
   "default_view": {},
   "name": "3_regularization.ipynb",
   "provenance": [],
   "version": "0.3.2",
   "views": {}
  },
  "kernelspec": {
   "display_name": "Python [default]",
   "language": "python",
   "name": "python3"
  },
  "language_info": {
   "codemirror_mode": {
    "name": "ipython",
    "version": 3
   },
   "file_extension": ".py",
   "mimetype": "text/x-python",
   "name": "python",
   "nbconvert_exporter": "python",
   "pygments_lexer": "ipython3",
   "version": "3.5.2"
  }
 },
 "nbformat": 4,
 "nbformat_minor": 0
}
