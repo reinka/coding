{
 "cells": [
  {
   "cell_type": "markdown",
   "metadata": {},
   "source": [
    "# Implementation and Visualisation of ID3 Decision Tree\n",
    "\n",
    "    I first implemented the ID3 algorithm on the tennis data set since \n",
    "    we've been working with it in our lectures and it contains only 14\n",
    "    items, so it's easy to debug the results. \n",
    "\n",
    "    At the bottom of this implementation I finally use my resulting ID3 \n",
    "    decision tree to classify the actual dataset, which is the car dataset\n",
    "    from the UCI Machine Learning Repository. \n",
    "    (source: https://archive.ics.uci.edu/ml/datasets/Car+Evaluation)\n",
    "\n",
    "    For a Jupyter notebook of this implementation check out my github account:\n",
    "    www.github.com/reinka/coding/MachineLearning/ID3"
   ]
  },
  {
   "cell_type": "markdown",
   "metadata": {},
   "source": [
    "### Load modules"
   ]
  },
  {
   "cell_type": "code",
   "execution_count": 4,
   "metadata": {
    "collapsed": true
   },
   "outputs": [],
   "source": [
    "import numpy as np \n",
    "import pandas as pd\n",
    "import requests"
   ]
  },
  {
   "cell_type": "markdown",
   "metadata": {},
   "source": [
    "### Get tennis dataset"
   ]
  },
  {
   "cell_type": "code",
   "execution_count": 5,
   "metadata": {
    "collapsed": false
   },
   "outputs": [],
   "source": [
    "url = 'http://cs.carleton.edu/faculty/dmusican/cs321s12/tennis.txt'\n",
    "headers = {'User-Agent': 'Mozilla/5.0'}\n",
    "\n",
    "page = requests.get(url, headers)\n",
    "page.raise_for_status()"
   ]
  },
  {
   "cell_type": "code",
   "execution_count": 6,
   "metadata": {
    "collapsed": false
   },
   "outputs": [
    {
     "data": {
      "text/plain": [
       "(15, 5)"
      ]
     },
     "execution_count": 6,
     "metadata": {},
     "output_type": "execute_result"
    }
   ],
   "source": [
    "with open('tennis.txt', 'wb') as f:\n",
    "    f.write(page.content)\n",
    "\n",
    "\n",
    "data = np.genfromtxt('tennis.txt', dtype='str', delimiter='\\t')\n",
    "\n",
    "data.shape"
   ]
  },
  {
   "cell_type": "markdown",
   "metadata": {},
   "source": [
    "### Check out data frame"
   ]
  },
  {
   "cell_type": "code",
   "execution_count": 7,
   "metadata": {
    "collapsed": false
   },
   "outputs": [
    {
     "data": {
      "text/html": [
       "<div>\n",
       "<table border=\"1\" class=\"dataframe\">\n",
       "  <thead>\n",
       "    <tr style=\"text-align: right;\">\n",
       "      <th></th>\n",
       "      <th>outlook</th>\n",
       "      <th>temperature</th>\n",
       "      <th>humidity</th>\n",
       "      <th>wind</th>\n",
       "      <th>playtennis</th>\n",
       "    </tr>\n",
       "  </thead>\n",
       "  <tbody>\n",
       "    <tr>\n",
       "      <th>0</th>\n",
       "      <td>sunny</td>\n",
       "      <td>hot</td>\n",
       "      <td>high</td>\n",
       "      <td>weak</td>\n",
       "      <td>no</td>\n",
       "    </tr>\n",
       "    <tr>\n",
       "      <th>1</th>\n",
       "      <td>sunny</td>\n",
       "      <td>hot</td>\n",
       "      <td>high</td>\n",
       "      <td>strong</td>\n",
       "      <td>no</td>\n",
       "    </tr>\n",
       "    <tr>\n",
       "      <th>2</th>\n",
       "      <td>overcast</td>\n",
       "      <td>hot</td>\n",
       "      <td>high</td>\n",
       "      <td>weak</td>\n",
       "      <td>yes</td>\n",
       "    </tr>\n",
       "    <tr>\n",
       "      <th>3</th>\n",
       "      <td>rain</td>\n",
       "      <td>mild</td>\n",
       "      <td>high</td>\n",
       "      <td>weak</td>\n",
       "      <td>yes</td>\n",
       "    </tr>\n",
       "    <tr>\n",
       "      <th>4</th>\n",
       "      <td>rain</td>\n",
       "      <td>cool</td>\n",
       "      <td>normal</td>\n",
       "      <td>weak</td>\n",
       "      <td>yes</td>\n",
       "    </tr>\n",
       "    <tr>\n",
       "      <th>5</th>\n",
       "      <td>rain</td>\n",
       "      <td>cool</td>\n",
       "      <td>normal</td>\n",
       "      <td>strong</td>\n",
       "      <td>no</td>\n",
       "    </tr>\n",
       "    <tr>\n",
       "      <th>6</th>\n",
       "      <td>overcast</td>\n",
       "      <td>cool</td>\n",
       "      <td>normal</td>\n",
       "      <td>strong</td>\n",
       "      <td>yes</td>\n",
       "    </tr>\n",
       "    <tr>\n",
       "      <th>7</th>\n",
       "      <td>sunny</td>\n",
       "      <td>mild</td>\n",
       "      <td>high</td>\n",
       "      <td>weak</td>\n",
       "      <td>no</td>\n",
       "    </tr>\n",
       "    <tr>\n",
       "      <th>8</th>\n",
       "      <td>sunny</td>\n",
       "      <td>cool</td>\n",
       "      <td>normal</td>\n",
       "      <td>weak</td>\n",
       "      <td>yes</td>\n",
       "    </tr>\n",
       "    <tr>\n",
       "      <th>9</th>\n",
       "      <td>rain</td>\n",
       "      <td>mild</td>\n",
       "      <td>normal</td>\n",
       "      <td>weak</td>\n",
       "      <td>yes</td>\n",
       "    </tr>\n",
       "    <tr>\n",
       "      <th>10</th>\n",
       "      <td>sunny</td>\n",
       "      <td>mild</td>\n",
       "      <td>normal</td>\n",
       "      <td>strong</td>\n",
       "      <td>yes</td>\n",
       "    </tr>\n",
       "    <tr>\n",
       "      <th>11</th>\n",
       "      <td>overcast</td>\n",
       "      <td>mild</td>\n",
       "      <td>high</td>\n",
       "      <td>strong</td>\n",
       "      <td>yes</td>\n",
       "    </tr>\n",
       "    <tr>\n",
       "      <th>12</th>\n",
       "      <td>overcast</td>\n",
       "      <td>hot</td>\n",
       "      <td>normal</td>\n",
       "      <td>weak</td>\n",
       "      <td>yes</td>\n",
       "    </tr>\n",
       "    <tr>\n",
       "      <th>13</th>\n",
       "      <td>rain</td>\n",
       "      <td>mild</td>\n",
       "      <td>high</td>\n",
       "      <td>strong</td>\n",
       "      <td>no</td>\n",
       "    </tr>\n",
       "  </tbody>\n",
       "</table>\n",
       "</div>"
      ],
      "text/plain": [
       "     outlook temperature humidity    wind playtennis\n",
       "0      sunny         hot     high    weak         no\n",
       "1      sunny         hot     high  strong         no\n",
       "2   overcast         hot     high    weak        yes\n",
       "3       rain        mild     high    weak        yes\n",
       "4       rain        cool   normal    weak        yes\n",
       "5       rain        cool   normal  strong         no\n",
       "6   overcast        cool   normal  strong        yes\n",
       "7      sunny        mild     high    weak         no\n",
       "8      sunny        cool   normal    weak        yes\n",
       "9       rain        mild   normal    weak        yes\n",
       "10     sunny        mild   normal  strong        yes\n",
       "11  overcast        mild     high  strong        yes\n",
       "12  overcast         hot   normal    weak        yes\n",
       "13      rain        mild     high  strong         no"
      ]
     },
     "execution_count": 7,
     "metadata": {},
     "output_type": "execute_result"
    }
   ],
   "source": [
    "pd.DataFrame(data[1:,:], columns=data[0,:])"
   ]
  },
  {
   "cell_type": "markdown",
   "metadata": {},
   "source": [
    "### Function that splits data on given class/value of specific colum/attribute"
   ]
  },
  {
   "cell_type": "code",
   "execution_count": 8,
   "metadata": {
    "collapsed": true
   },
   "outputs": [],
   "source": [
    "def split(data,column,value):\n",
    "    # Function that tells us if a row is \n",
    "    # in the first group (true) or the second group (false)\n",
    "    split_function=lambda row:row[column]==value\n",
    "   \n",
    "    # Divide the rows into two sets and return them\n",
    "    set1=[row for row in data if split_function(row)]\n",
    "    set2=[row for row in data if not split_function(row)]\n",
    "    return (set1,set2)"
   ]
  },
  {
   "cell_type": "markdown",
   "metadata": {},
   "source": [
    "#### Test code on outcome labels (index = `-1`). Split data into `yes` and `no` group\n"
   ]
  },
  {
   "cell_type": "code",
   "execution_count": 9,
   "metadata": {
    "collapsed": false
   },
   "outputs": [
    {
     "data": {
      "text/plain": [
       "([array(['overcast', 'hot', 'high', 'weak', 'yes'], \n",
       "        dtype='<U11'), array(['rain', 'mild', 'high', 'weak', 'yes'], \n",
       "        dtype='<U11'), array(['rain', 'cool', 'normal', 'weak', 'yes'], \n",
       "        dtype='<U11'), array(['overcast', 'cool', 'normal', 'strong', 'yes'], \n",
       "        dtype='<U11'), array(['sunny', 'cool', 'normal', 'weak', 'yes'], \n",
       "        dtype='<U11'), array(['rain', 'mild', 'normal', 'weak', 'yes'], \n",
       "        dtype='<U11'), array(['sunny', 'mild', 'normal', 'strong', 'yes'], \n",
       "        dtype='<U11'), array(['overcast', 'mild', 'high', 'strong', 'yes'], \n",
       "        dtype='<U11'), array(['overcast', 'hot', 'normal', 'weak', 'yes'], \n",
       "        dtype='<U11')], [array(['sunny', 'hot', 'high', 'weak', 'no'], \n",
       "        dtype='<U11'), array(['sunny', 'hot', 'high', 'strong', 'no'], \n",
       "        dtype='<U11'), array(['rain', 'cool', 'normal', 'strong', 'no'], \n",
       "        dtype='<U11'), array(['sunny', 'mild', 'high', 'weak', 'no'], \n",
       "        dtype='<U11'), array(['rain', 'mild', 'high', 'strong', 'no'], \n",
       "        dtype='<U11')])"
      ]
     },
     "execution_count": 9,
     "metadata": {},
     "output_type": "execute_result"
    }
   ],
   "source": [
    "# First remove first row \n",
    "# since it contains the col names\n",
    "# save labels for later though\n",
    "labels = data[0]\n",
    "\n",
    "# remove first row\n",
    "data = data[1:]\n",
    "\n",
    "split(data, -1, 'yes')"
   ]
  },
  {
   "cell_type": "markdown",
   "metadata": {},
   "source": [
    "#### To calculate the entropy we need to count the occurance of each possible label value"
   ]
  },
  {
   "cell_type": "code",
   "execution_count": 10,
   "metadata": {
    "collapsed": true
   },
   "outputs": [],
   "source": [
    "def count_labels(data):\n",
    "    # initialize (key,value) dict (hash-map)\n",
    "    count = dict()\n",
    "    \n",
    "    for row in data:\n",
    "        \n",
    "        # our output labels (y) are the last column\n",
    "        label = row[-1]\n",
    "        \n",
    "        # initialize `key` of dict if \n",
    "        # label hasn't occured before\n",
    "        if label not in count:\n",
    "            count[label] = 0\n",
    "            \n",
    "        # increment by 1\n",
    "        count[label] += 1\n",
    "        \n",
    "    return count\n"
   ]
  },
  {
   "cell_type": "markdown",
   "metadata": {},
   "source": [
    "#### Count number of occurances of each output label over the whole data frame"
   ]
  },
  {
   "cell_type": "code",
   "execution_count": 11,
   "metadata": {
    "collapsed": false
   },
   "outputs": [
    {
     "data": {
      "text/plain": [
       "{'no': 5, 'yes': 9}"
      ]
     },
     "execution_count": 11,
     "metadata": {},
     "output_type": "execute_result"
    }
   ],
   "source": [
    "count_labels(data)"
   ]
  },
  {
   "cell_type": "markdown",
   "metadata": {},
   "source": [
    "### Count occurences of split data set with respect to a specific column and class\n",
    "    here with respect to `outlook` (column 0) and class `sunny`"
   ]
  },
  {
   "cell_type": "code",
   "execution_count": 12,
   "metadata": {
    "collapsed": false
   },
   "outputs": [
    {
     "data": {
      "text/plain": [
       "{'no': 3, 'yes': 2}"
      ]
     },
     "execution_count": 12,
     "metadata": {},
     "output_type": "execute_result"
    }
   ],
   "source": [
    "count_labels(split(data, 0, 'sunny')[0])"
   ]
  },
  {
   "cell_type": "markdown",
   "metadata": {},
   "source": [
    "    So splitting the data set with respect to \n",
    "    `outlook` == `sunny` yields 3 x `no` and 2 x `yes`\n",
    "     \n",
    "    Let's check the other branch:"
   ]
  },
  {
   "cell_type": "code",
   "execution_count": 13,
   "metadata": {
    "collapsed": false
   },
   "outputs": [
    {
     "data": {
      "text/plain": [
       "{'no': 2, 'yes': 7}"
      ]
     },
     "execution_count": 13,
     "metadata": {},
     "output_type": "execute_result"
    }
   ],
   "source": [
    "count_labels(split(data,0,'sunny')[1])"
   ]
  },
  {
   "cell_type": "markdown",
   "metadata": {},
   "source": [
    "### We have now the tools to get to the entropy"
   ]
  },
  {
   "cell_type": "markdown",
   "metadata": {},
   "source": [
    "$$H = \\sum_{i = 1}^c -p_i * log_c(p_i)$$"
   ]
  },
  {
   "cell_type": "code",
   "execution_count": 14,
   "metadata": {
    "collapsed": true
   },
   "outputs": [],
   "source": [
    "def entropy(s):\n",
    "    result = count_labels(s)\n",
    "    from math import log2\n",
    "    entropie = 0.0\n",
    "    \n",
    "    # for each label\n",
    "    for label in result.keys():\n",
    "        # calculate p first\n",
    "        # => relative frequency\n",
    "        p = float(result[label])/len(s)\n",
    "        # if p not 0\n",
    "        if(p):\n",
    "            # calc entropy\n",
    "            entropie -= p * log2(p)\n",
    "        \n",
    "    return entropie"
   ]
  },
  {
   "cell_type": "markdown",
   "metadata": {},
   "source": [
    "### Test code\n",
    "     Split data set by `sunny` and \n",
    "     calculate entropy for each split after that"
   ]
  },
  {
   "cell_type": "code",
   "execution_count": 15,
   "metadata": {
    "collapsed": false
   },
   "outputs": [
    {
     "name": "stdout",
     "output_type": "stream",
     "text": [
      "0.9709505944546686 0.7642045065086203\n"
     ]
    }
   ],
   "source": [
    "a, b = split(data,0,'sunny')\n",
    "\n",
    "# print(count_labels(a),count_labels(b))\n",
    "print(entropy(a), entropy(b))\n",
    "\n",
    "\n"
   ]
  },
  {
   "cell_type": "markdown",
   "metadata": {
    "collapsed": true
   },
   "source": [
    "#### Compare to entropy of whole data set\n"
   ]
  },
  {
   "cell_type": "code",
   "execution_count": 16,
   "metadata": {
    "collapsed": false
   },
   "outputs": [
    {
     "data": {
      "text/plain": [
       "0.9402859586706311"
      ]
     },
     "execution_count": 16,
     "metadata": {},
     "output_type": "execute_result"
    }
   ],
   "source": [
    "entropy(data)"
   ]
  },
  {
   "cell_type": "markdown",
   "metadata": {},
   "source": [
    "    same result as on slide 12, lecture 3"
   ]
  },
  {
   "cell_type": "markdown",
   "metadata": {},
   "source": [
    "#### Decision tree finally"
   ]
  },
  {
   "cell_type": "code",
   "execution_count": 17,
   "metadata": {
    "collapsed": true
   },
   "outputs": [],
   "source": [
    "\n",
    "class node:\n",
    "    def __init__(self, attribute = -1, entropie=None, value = None,\n",
    "                 results=None, fchild=None, tchild=None):\n",
    "        self.col = self.get_attr(attribute)\n",
    "        self.entropie = entropie\n",
    "        self.value = value\n",
    "        self.results= results\n",
    "        self.tchild = tchild\n",
    "        self.fchild = fchild\n",
    "        self.labels = labels\n",
    "        \n",
    "    def get_attr(self, attribute):\n",
    "        attr = {0:'buying', \n",
    "                1:'maint', \n",
    "                2:'doors', \n",
    "                3:'persons', \n",
    "                4:'lug_boot',\n",
    "                5:'safety'\n",
    "        }\n",
    "        # if the labels are saved \n",
    "        # in a global variable called\n",
    "        # labels\n",
    "        if type(labels) is not type(None):\n",
    "            return labels[attribute]\n",
    "        \n",
    "        # else use hardcoded\n",
    "        elif attribute in range(6):\n",
    "            return attr[attribute]\n",
    "        else:\n",
    "            return attribute\n"
   ]
  },
  {
   "cell_type": "markdown",
   "metadata": {},
   "source": [
    "### We'll also need the information gain in this part. Recall:"
   ]
  },
  {
   "cell_type": "markdown",
   "metadata": {},
   "source": [
    "$$Gain(S,A) = H(s) - \\sum_{v \\in\\ Values(A)} \\frac{|S_v|}{|S|} \\cdot H(S_v)$$"
   ]
  },
  {
   "cell_type": "markdown",
   "metadata": {},
   "source": [
    "    where H(S) denotes the Entropy of the set S (see above)"
   ]
  },
  {
   "cell_type": "code",
   "execution_count": 18,
   "metadata": {
    "collapsed": true
   },
   "outputs": [],
   "source": [
    "def ID3(s):\n",
    "    if len(s)==0: \n",
    "        return ID3()\n",
    "    \n",
    "    best_gain = 0.0\n",
    "    best_attribute = None\n",
    "    best_sets = None\n",
    "    \n",
    "    # calculate base entropy against\n",
    "    # which we will compare the \n",
    "    # subtrees' entropy\n",
    "    base_entropie = entropy(s)\n",
    "    \n",
    "    # number of attributes\n",
    "    # exclude outcome col = last col\n",
    "    col_num = len(s[0]) - 1\n",
    "    \n",
    "    # iterate over all attributes\n",
    "    for attr in range(col_num):\n",
    "        global column_vals\n",
    "        column_vals = dict()\n",
    "\n",
    "        for data_point in s:\n",
    "            column_vals[data_point[attr]] = 1\n",
    "        \n",
    "        # Now try dividing the rows up for each value in this column\n",
    "        for value in column_vals.keys(): # `values` = keys of dict\n",
    "            (set1,set2)=split(s,attr,value) # split set on given `value` \n",
    "            \n",
    "            # Calculate Mutual Information \n",
    "            # (= gain of information/decrease of entropy)\n",
    "            p = float(len(set1))/len(s) # relative frequency\n",
    "            \n",
    "            gain = base_entropie - p * entropy(set1) -             (1-p) * entropy(set2) # gain formula\n",
    "        \n",
    "            # if gain higher than old gain and sets not empty\n",
    "            if gain>best_gain and len(set1)>0 and len(set2)>0:\n",
    "                best_gain = gain\n",
    "                best_attribute = (attr, value)\n",
    "                best_sets = (set1, set2)\n",
    "            \n",
    "    # create subtrees\n",
    "    if gain > 0:\n",
    "        # recursively repeat procedure\n",
    "        trueBranch = ID3(best_sets[0])\n",
    "        falseBranch = ID3(best_sets[1])\n",
    "        return node(attribute=best_attribute[0], \n",
    "                    entropie = base_entropie, \n",
    "                    value=best_attribute[1], \n",
    "                    fchild=falseBranch, tchild=trueBranch)\n",
    "    else:\n",
    "        return node(results=count_labels(s))\n"
   ]
  },
  {
   "cell_type": "code",
   "execution_count": 19,
   "metadata": {
    "collapsed": true
   },
   "outputs": [],
   "source": [
    "tree = ID3(data)"
   ]
  },
  {
   "cell_type": "markdown",
   "metadata": {},
   "source": [
    "### Get readable output of the tree"
   ]
  },
  {
   "cell_type": "code",
   "execution_count": 20,
   "metadata": {
    "collapsed": true
   },
   "outputs": [],
   "source": [
    "def printtree(tree,indent=''):\n",
    "    # Is this a leaf node?\n",
    "    if tree.results!=None:\n",
    "        print(str(tree.results))\n",
    "    else:\n",
    "        # print attribute name being checked\n",
    "        # and its entropy\n",
    "        print(str(tree.col) + ':' + str(tree.value) + \n",
    "              '? (entropy: {0:.3f})'.format(tree.entropie))\n",
    "        # Print the branches\n",
    "        print(indent+'True->', end=\" \")\n",
    "        printtree(tree.tchild,indent+'  ')\n",
    "        print(indent+'False->', end=\" \")\n",
    "        printtree(tree.fchild,indent+'  ')\n"
   ]
  },
  {
   "cell_type": "code",
   "execution_count": 21,
   "metadata": {
    "collapsed": false
   },
   "outputs": [
    {
     "name": "stdout",
     "output_type": "stream",
     "text": [
      "outlook:overcast? (entropy: 0.940)\n",
      "True-> {'yes': 4}\n",
      "False-> humidity:normal? (entropy: 1.000)\n",
      "  True-> wind:weak? (entropy: 0.722)\n",
      "    True-> {'yes': 3}\n",
      "    False-> {'yes': 1, 'no': 1}\n",
      "  False-> outlook:sunny? (entropy: 0.722)\n",
      "    True-> {'no': 3}\n",
      "    False-> wind:weak? (entropy: 1.000)\n",
      "      True-> {'yes': 1}\n",
      "      False-> {'no': 1}\n"
     ]
    }
   ],
   "source": [
    "printtree(tree)"
   ]
  },
  {
   "cell_type": "markdown",
   "metadata": {
    "collapsed": true
   },
   "source": [
    "### Visualize decision tree"
   ]
  },
  {
   "cell_type": "code",
   "execution_count": 22,
   "metadata": {
    "collapsed": true
   },
   "outputs": [],
   "source": [
    "def getwidth(tree):\n",
    "    if tree.tchild==None and tree.fchild==None: return 1\n",
    "    return getwidth(tree.tchild)+getwidth(tree.fchild)\n",
    "\n",
    "def getdepth(tree):\n",
    "    if tree.tchild==None and tree.fchild==None: return 0\n",
    "    return max(getdepth(tree.tchild),getdepth(tree.fchild))+1\n",
    "\n",
    "\n",
    "\n",
    "\n",
    "def drawtree(tree,jpeg='tree.jpg'):\n",
    "    \n",
    "    try:\n",
    "        from PIL import Image,ImageDraw\n",
    "    except ImportError:\n",
    "        sys.exit(\"\"\"You need PIL.\n",
    "                Install it from https://pypi.python.org/pypi/PIL.\"\"\")\n",
    "\n",
    "\n",
    "    \n",
    "    w=getwidth(tree)*100\n",
    "    h=getdepth(tree)*100+120\n",
    "\n",
    "    img=Image.new('RGB',(w,h),(255,255,255))\n",
    "    draw=ImageDraw.Draw(img)\n",
    "\n",
    "    drawnode(draw,tree,w/2,20)\n",
    "    img.save(jpeg,'JPEG')\n",
    "\n",
    "    \n",
    "def drawnode(draw,tree,x,y):\n",
    "    if tree.results==None:\n",
    "        # Get the width of each branch\n",
    "        w1=getwidth(tree.fchild)*100\n",
    "        w2=getwidth(tree.tchild)*100\n",
    "\n",
    "        # Determine the total space required by this node\n",
    "        left=x-(w1+w2)/2\n",
    "        right=x+(w1+w2)/2\n",
    "\n",
    "        # Draw the condition string\n",
    "        draw.text((x-20,y-10),str(tree.col)+':'+str(tree.value) \n",
    "                  +'? (entropy: {0:.3f})'.format(tree.entropie),(0,0,0))\n",
    "\n",
    "        # Draw links to the branches\n",
    "        draw.line((x,y,left+w1/2,y+100),fill=(255,0,0))\n",
    "        draw.line((x,y,right-w2/2,y+100),fill=(255,0,0))\n",
    "    \n",
    "        # Draw the branch nodes\n",
    "        drawnode(draw,tree.fchild,left+w1/2,y+100)\n",
    "        drawnode(draw,tree.tchild,right-w2/2,y+100)\n",
    "    else:\n",
    "        txt=' \\n'.join(['%s:%d'%v for v in tree.results.items()])\n",
    "        draw.text((x-20,y),txt,(0,0,0))"
   ]
  },
  {
   "cell_type": "code",
   "execution_count": 23,
   "metadata": {
    "collapsed": true
   },
   "outputs": [],
   "source": [
    "drawtree(tree,jpeg='tennis.jpg')"
   ]
  },
  {
   "cell_type": "code",
   "execution_count": 24,
   "metadata": {
    "collapsed": false
   },
   "outputs": [
    {
     "data": {
      "image/jpeg": "[encoded data removed]",
      "text/plain": [
       "<IPython.core.display.Image object>"
      ]
     },
     "execution_count": 24,
     "metadata": {},
     "output_type": "execute_result"
    }
   ],
   "source": [
    "from IPython.display import Image\n",
    "\n",
    "Image('tennis.jpg')\n",
    "\n",
    "# Right path always taken when node `true`"
   ]
  },
  {
   "cell_type": "markdown",
   "metadata": {},
   "source": [
    "    Right path is always taken when the node turns out to be `true`"
   ]
  },
  {
   "cell_type": "markdown",
   "metadata": {},
   "source": [
    "# Running Code on the Assignment Data\n",
    "\n",
    "## Classiyfing the Car Dataset by the ID3 Decision Tree"
   ]
  },
  {
   "cell_type": "code",
   "execution_count": 25,
   "metadata": {
    "collapsed": false
   },
   "outputs": [],
   "source": [
    "# Load data\n",
    "\n",
    "path = '/Users/slackoverflow/Dropbox/DKE/Machine Learning/Decision Trees/ID3/data.csv'\n",
    "data = pd.read_csv(path)"
   ]
  },
  {
   "cell_type": "markdown",
   "metadata": {},
   "source": [
    "### Check dataset"
   ]
  },
  {
   "cell_type": "code",
   "execution_count": 26,
   "metadata": {
    "collapsed": false
   },
   "outputs": [
    {
     "data": {
      "text/html": [
       "<div>\n",
       "<table border=\"1\" class=\"dataframe\">\n",
       "  <thead>\n",
       "    <tr style=\"text-align: right;\">\n",
       "      <th></th>\n",
       "      <th>Unnamed: 0</th>\n",
       "      <th>0</th>\n",
       "      <th>1</th>\n",
       "      <th>2</th>\n",
       "      <th>3</th>\n",
       "      <th>4</th>\n",
       "      <th>5</th>\n",
       "      <th>6</th>\n",
       "      <th>7</th>\n",
       "    </tr>\n",
       "  </thead>\n",
       "  <tbody>\n",
       "    <tr>\n",
       "      <th>0</th>\n",
       "      <td>0</td>\n",
       "      <td>0.0</td>\n",
       "      <td>vhigh</td>\n",
       "      <td>vhigh</td>\n",
       "      <td>2.0</td>\n",
       "      <td>2.0</td>\n",
       "      <td>small</td>\n",
       "      <td>low</td>\n",
       "      <td>unacc</td>\n",
       "    </tr>\n",
       "    <tr>\n",
       "      <th>1</th>\n",
       "      <td>1</td>\n",
       "      <td>1.0</td>\n",
       "      <td>vhigh</td>\n",
       "      <td>vhigh</td>\n",
       "      <td>2.0</td>\n",
       "      <td>2.0</td>\n",
       "      <td>small</td>\n",
       "      <td>med</td>\n",
       "      <td>unacc</td>\n",
       "    </tr>\n",
       "    <tr>\n",
       "      <th>2</th>\n",
       "      <td>2</td>\n",
       "      <td>2.0</td>\n",
       "      <td>vhigh</td>\n",
       "      <td>vhigh</td>\n",
       "      <td>2.0</td>\n",
       "      <td>2.0</td>\n",
       "      <td>small</td>\n",
       "      <td>high</td>\n",
       "      <td>unacc</td>\n",
       "    </tr>\n",
       "    <tr>\n",
       "      <th>3</th>\n",
       "      <td>3</td>\n",
       "      <td>3.0</td>\n",
       "      <td>vhigh</td>\n",
       "      <td>vhigh</td>\n",
       "      <td>2.0</td>\n",
       "      <td>2.0</td>\n",
       "      <td>med</td>\n",
       "      <td>low</td>\n",
       "      <td>unacc</td>\n",
       "    </tr>\n",
       "    <tr>\n",
       "      <th>4</th>\n",
       "      <td>4</td>\n",
       "      <td>4.0</td>\n",
       "      <td>vhigh</td>\n",
       "      <td>vhigh</td>\n",
       "      <td>2.0</td>\n",
       "      <td>2.0</td>\n",
       "      <td>med</td>\n",
       "      <td>med</td>\n",
       "      <td>unacc</td>\n",
       "    </tr>\n",
       "  </tbody>\n",
       "</table>\n",
       "</div>"
      ],
      "text/plain": [
       "   Unnamed: 0    0      1      2    3    4      5     6      7\n",
       "0           0  0.0  vhigh  vhigh  2.0  2.0  small   low  unacc\n",
       "1           1  1.0  vhigh  vhigh  2.0  2.0  small   med  unacc\n",
       "2           2  2.0  vhigh  vhigh  2.0  2.0  small  high  unacc\n",
       "3           3  3.0  vhigh  vhigh  2.0  2.0    med   low  unacc\n",
       "4           4  4.0  vhigh  vhigh  2.0  2.0    med   med  unacc"
      ]
     },
     "execution_count": 26,
     "metadata": {},
     "output_type": "execute_result"
    }
   ],
   "source": [
    "# display first 5 rows\n",
    "data.head()"
   ]
  },
  {
   "cell_type": "markdown",
   "metadata": {},
   "source": [
    "### Check labels"
   ]
  },
  {
   "cell_type": "code",
   "execution_count": 27,
   "metadata": {
    "collapsed": false
   },
   "outputs": [
    {
     "data": {
      "text/plain": [
       "{'acc', 'good', 'unacc', 'vgood'}"
      ]
     },
     "execution_count": 27,
     "metadata": {},
     "output_type": "execute_result"
    }
   ],
   "source": [
    "set(data.values[:,-1])"
   ]
  },
  {
   "cell_type": "markdown",
   "metadata": {},
   "source": [
    "### We're dealing here with 4 classes, so we have to adjust the entropy accordingly to log base 4"
   ]
  },
  {
   "cell_type": "code",
   "execution_count": 28,
   "metadata": {
    "collapsed": true
   },
   "outputs": [],
   "source": [
    "def entropy(s):\n",
    "    result = count_labels(s)\n",
    "    from math import log2\n",
    "    entropie = 0.0\n",
    "    \n",
    "    # for each label\n",
    "    for label in result.keys():\n",
    "        # calculate p first\n",
    "        # => relative frequency\n",
    "        p = float(result[label])/len(s)\n",
    "        # if p not 0\n",
    "        if(p):\n",
    "            # calc entropy\n",
    "            entropie -= p * log2(p)/log2(4) # <-------- log base 4 now\n",
    "        \n",
    "    return entropie"
   ]
  },
  {
   "cell_type": "markdown",
   "metadata": {},
   "source": [
    "### Exclude first 2 columns -> ID vars and run ID3"
   ]
  },
  {
   "cell_type": "code",
   "execution_count": 29,
   "metadata": {
    "collapsed": false
   },
   "outputs": [],
   "source": [
    "# convert pandas DF to numpy array\n",
    "data = data.values\n",
    "\n",
    "# exclude first 2 cols\n",
    "data = data[:,2:]\n",
    "\n",
    "# erase labels from the previous tennis dataset\n",
    "labels = None"
   ]
  },
  {
   "cell_type": "markdown",
   "metadata": {},
   "source": [
    "## Run ID3 on Assignment Dataset"
   ]
  },
  {
   "cell_type": "code",
   "execution_count": 30,
   "metadata": {
    "collapsed": false
   },
   "outputs": [],
   "source": [
    "assignment = ID3(data)"
   ]
  },
  {
   "cell_type": "markdown",
   "metadata": {},
   "source": [
    "### draw the tree and save as `jpg`"
   ]
  },
  {
   "cell_type": "code",
   "execution_count": 31,
   "metadata": {
    "collapsed": true
   },
   "outputs": [],
   "source": [
    "drawtree(assignment, 'ID3_CAR_FINAL_2016-11-15.jpg')"
   ]
  },
  {
   "cell_type": "code",
   "execution_count": 32,
   "metadata": {
    "collapsed": false
   },
   "outputs": [
    {
     "data": {
      "image/jpeg": "[encoded data removed]",
      "text/plain": [
       "<IPython.core.display.Image object>"
      ]
     },
     "execution_count": 32,
     "metadata": {},
     "output_type": "execute_result"
    }
   ],
   "source": [
    "Image('ID3_CAR_FINAL_2016-11-15.jpg')"
   ]
  },
  {
   "cell_type": "markdown",
   "metadata": {},
   "source": [
    "    Right path is always taken when the node turns out to be `true`"
   ]
  },
  {
   "cell_type": "markdown",
   "metadata": {},
   "source": [
    "### Text Format"
   ]
  },
  {
   "cell_type": "code",
   "execution_count": 33,
   "metadata": {
    "collapsed": false
   },
   "outputs": [
    {
     "name": "stdout",
     "output_type": "stream",
     "text": [
      "persons:2.0? (entropy: 0.603)\n",
      "True-> {'unacc': 576}\n",
      "False-> safety:low? (entropy: 0.740)\n",
      "  True-> {'unacc': 384}\n",
      "  False-> buying:vhigh? (entropy: 0.820)\n",
      "    True-> maint:vhigh? (entropy: 0.477)\n",
      "      True-> {'unacc': 48}\n",
      "      False-> maint:high? (entropy: 0.500)\n",
      "        True-> {'unacc': 48}\n",
      "        False-> safety:med? (entropy: 0.406)\n",
      "          True-> {'acc': 26, 'unacc': 22}\n",
      "          False-> {'acc': 46, 'unacc': 2}\n",
      "    False-> buying:high? (entropy: 0.843)\n",
      "      True-> maint:vhigh? (entropy: 0.494)\n",
      "        True-> {'unacc': 48}\n",
      "        False-> safety:med? (entropy: 0.406)\n",
      "          True-> {'acc': 39, 'unacc': 33}\n",
      "          False-> {'acc': 69, 'unacc': 3}\n",
      "      False-> safety:med? (entropy: 0.865)\n",
      "        True-> {'good': 39, 'acc': 115, 'unacc': 38}\n",
      "        False-> {'vgood': 65, 'good': 30, 'acc': 89, 'unacc': 8}\n"
     ]
    }
   ],
   "source": [
    "printtree(assignment)"
   ]
  },
  {
   "cell_type": "markdown",
   "metadata": {},
   "source": [
    "#### Entropy of initial tree (debugging)"
   ]
  },
  {
   "cell_type": "code",
   "execution_count": 34,
   "metadata": {
    "collapsed": false
   },
   "outputs": [
    {
     "data": {
      "text/plain": [
       "0.6028704850060875"
      ]
     },
     "execution_count": 34,
     "metadata": {},
     "output_type": "execute_result"
    }
   ],
   "source": [
    "entropy(data)"
   ]
  }
 ],
 "metadata": {
  "anaconda-cloud": {},
  "kernelspec": {
   "display_name": "Python [default]",
   "language": "python",
   "name": "python3"
  },
  "language_info": {
   "codemirror_mode": {
    "name": "ipython",
    "version": 3
   },
   "file_extension": ".py",
   "mimetype": "text/x-python",
   "name": "python",
   "nbconvert_exporter": "python",
   "pygments_lexer": "ipython3",
   "version": "3.5.2"
  }
 },
 "nbformat": 4,
 "nbformat_minor": 1
}
