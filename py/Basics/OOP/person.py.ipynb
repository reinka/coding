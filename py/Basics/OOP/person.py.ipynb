{
 "cells": [
  {
   "cell_type": "code",
   "execution_count": 62,
   "metadata": {
    "collapsed": false
   },
   "outputs": [],
   "source": [
    "class Person:\n",
    "    def __init__(self, name, job = None, pay = 0):\n",
    "        self.name = name\n",
    "        self.job = job \n",
    "        self.pay = pay\n",
    "    def lastName(self):\n",
    "        return self.name.split()[-1]\n",
    "    def giveRaise(self, percent):\n",
    "        self.pay = int(self.pay * (1 + percent/100))\n",
    "    #add __repr__ overload method for printing objects\n",
    "    def __repr__(self):\n",
    "        return '['+ self.__class__.__name__ + ': %s, %s]' % (self.name, self.pay)"
   ]
  },
  {
   "cell_type": "code",
   "execution_count": 63,
   "metadata": {
    "collapsed": false
   },
   "outputs": [],
   "source": [
    "class Manager(Person):\n",
    "    def __init__(self, name, pay):  # redefine constructor\n",
    "        Person.__init__(self, name, 'mgr', pay)  # run original with 'mgr'\n",
    "    def giveRaise(self, Percent, bonus=10):\n",
    "        Person.giveRaise(self, Percent + bonus) #augmented original method"
   ]
  },
  {
   "cell_type": "markdown",
   "metadata": {},
   "source": [
    "#### alternatively, using *delegation*"
   ]
  },
  {
   "cell_type": "markdown",
   "metadata": {},
   "source": [
    "`\n",
    "class Manager(Person):\n",
    "    def __init__(self, name, pay):\n",
    "        self.person(name, 'mgr', pay)  #Embed a Person object\n",
    "    def giveRaise(self, percent, bonus=10):\n",
    "        self.person.giveRaise(percent+bonus) #Intercept and delegate\n",
    "    def __getattr__(self, attr):\n",
    "        return getattr(self.person, attr)\n",
    "    def __repr__(self):\n",
    "        return str(self.person)\n",
    "`"
   ]
  },
  {
   "cell_type": "code",
   "execution_count": 65,
   "metadata": {
    "collapsed": false
   },
   "outputs": [],
   "source": [
    "class Department:\n",
    "    def __init__(self, *args):\n",
    "        self.members = list(args)\n",
    "    def addMember(self, person):\n",
    "        self.members.append(person)\n",
    "    def giveRaises(self, percent):\n",
    "        for person in self.members:\n",
    "            person.giveRaise(percent)\n",
    "    def showAll(self):\n",
    "        for person in self.members:\n",
    "            print(person)"
   ]
  },
  {
   "cell_type": "markdown",
   "metadata": {},
   "source": [
    "#### Test code"
   ]
  },
  {
   "cell_type": "code",
   "execution_count": 66,
   "metadata": {
    "collapsed": false
   },
   "outputs": [
    {
     "name": "stdout",
     "output_type": "stream",
     "text": [
      "[Person: Sue Mi, 110000]\n",
      "[Person: Bob Smith, 0]\n",
      "[Manager: Jack Jones, 180000]\n"
     ]
    }
   ],
   "source": [
    "if __name__ == '__main__': #will avoid running the code, when it's imported as module\n",
    "    bob = Person('Bob Smith')\n",
    "    sue = Person ('Sue Mi', 'Hooker', 100000)\n",
    "    jack = Manager('Jack Jones', 150000)\n",
    "    \n",
    "    development = Department(sue, bob)\n",
    "    development.addMember(jack)\n",
    "    development.giveRaises(10)\n",
    "    development.showAll()\n",
    "    \n",
    "    '''\n",
    "    jack.giveRaise(10)\n",
    "    print(jack.lastName())\n",
    "    print(jack)\n",
    "    print('---All three---')\n",
    "    for obj in (bob, sue, jack):\n",
    "        obj.giveRaise(10)\n",
    "        print(obj)\n",
    "    '''"
   ]
  },
  {
   "cell_type": "markdown",
   "metadata": {},
   "source": [
    "#### Extracting class name to print it out"
   ]
  },
  {
   "cell_type": "code",
   "execution_count": 44,
   "metadata": {
    "collapsed": false
   },
   "outputs": [
    {
     "data": {
      "text/plain": [
       "('Person', 'Manager')"
      ]
     },
     "execution_count": 44,
     "metadata": {},
     "output_type": "execute_result"
    }
   ],
   "source": [
    "test = str(bob.__class__).split('.')\n",
    "test2 = str(jack.__class__).split('.')\n",
    "test[1][:-2] ,test2[1][:-2]"
   ]
  },
  {
   "cell_type": "markdown",
   "metadata": {},
   "source": [
    "#### better: use `instance.__class__`, ` __name__`, `__base__` or `__dict__` attribute\n",
    "\n"
   ]
  },
  {
   "cell_type": "code",
   "execution_count": 70,
   "metadata": {
    "collapsed": false
   },
   "outputs": [
    {
     "data": {
      "text/plain": [
       "('Person', 'Manager')"
      ]
     },
     "execution_count": 70,
     "metadata": {},
     "output_type": "execute_result"
    }
   ],
   "source": [
    "bob.__class__.__name__, jack.__class__.__name__"
   ]
  },
  {
   "cell_type": "code",
   "execution_count": 71,
   "metadata": {
    "collapsed": false
   },
   "outputs": [
    {
     "data": {
      "text/plain": [
       "['job', 'pay', 'name']"
      ]
     },
     "execution_count": 71,
     "metadata": {},
     "output_type": "execute_result"
    }
   ],
   "source": [
    "list(jack.__dict__.keys())"
   ]
  },
  {
   "cell_type": "code",
   "execution_count": 72,
   "metadata": {
    "collapsed": false
   },
   "outputs": [
    {
     "name": "stdout",
     "output_type": "stream",
     "text": [
      "job => None\n",
      "pay => 0\n",
      "name => Bob Smith\n"
     ]
    }
   ],
   "source": [
    "for key in jack.__dict__:\n",
    "    print(key, '=>', getattr(bob,key))"
   ]
  }
 ],
 "metadata": {
  "kernelspec": {
   "display_name": "Python 3",
   "language": "python",
   "name": "python3"
  },
  "language_info": {
   "codemirror_mode": {
    "name": "ipython",
    "version": 3
   },
   "file_extension": ".py",
   "mimetype": "text/x-python",
   "name": "python",
   "nbconvert_exporter": "python",
   "pygments_lexer": "ipython3",
   "version": "3.5.1"
  }
 },
 "nbformat": 4,
 "nbformat_minor": 0
}
