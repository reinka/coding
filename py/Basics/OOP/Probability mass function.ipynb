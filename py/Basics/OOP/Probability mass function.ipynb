{
 "cells": [
  {
   "cell_type": "code",
   "execution_count": 77,
   "metadata": {
    "collapsed": false
   },
   "outputs": [],
   "source": [
    "from scipy.stats import bernoulli, binom\n",
    "import matplotlib.pyplot as plt\n",
    "import seaborn as sns; sns.set()\n",
    "%matplotlib inline"
   ]
  },
  {
   "cell_type": "code",
   "execution_count": 72,
   "metadata": {
    "collapsed": false
   },
   "outputs": [
    {
     "data": {
      "text/plain": [
       "array([1, 0, 0, 1, 0, 0, 1, 0, 0, 1, 0, 1, 1, 0, 1, 1, 1, 0, 1, 1, 1, 0, 1,\n",
       "       1, 1, 1, 1, 1, 1, 1, 0, 1, 1, 1, 0, 1, 0, 1, 1, 1, 1, 0, 0, 1, 0, 1,\n",
       "       1, 1, 1, 1])"
      ]
     },
     "execution_count": 72,
     "metadata": {},
     "output_type": "execute_result"
    }
   ],
   "source": [
    "bernoulli.rvs(0.7, size=50)"
   ]
  },
  {
   "cell_type": "code",
   "execution_count": 73,
   "metadata": {
    "collapsed": false
   },
   "outputs": [],
   "source": [
    "rv_10 = binom(10,0.7)"
   ]
  },
  {
   "cell_type": "code",
   "execution_count": 106,
   "metadata": {
    "collapsed": false
   },
   "outputs": [
    {
     "data": {
      "image/png": "[encoded data removed]",
      "text/plain": [
       "<matplotlib.figure.Figure at 0x110a096a0>"
      ]
     },
     "metadata": {},
     "output_type": "display_data"
    }
   ],
   "source": [
    "fig, ax = plt.subplots(1,1)\n",
    "with sns.axes_style('darkgrid'):\n",
    "    ax.vlines(range(1,12),0,(rv_10).pmf(range(1,11)), sns.cubehelix_palette(9, start=3, rot=2, dark=0, light=.5, reverse=True), linestyles='-', lw=1,\n",
    "         label='Probability')\n",
    "\n",
    "plt.title('Probability distribution for $(n,p,k) = (10, 0.7, \\leq 10$)')\n",
    "ax.set_ylabel(\"Probability $p$\")\n",
    "ax.set_xlabel(\"No of instances\")\n",
    "ax.legend(loc=\"best\", frameon=True)\n",
    "plt.show()"
   ]
  },
  {
   "cell_type": "markdown",
   "metadata": {},
   "source": [
    "#### Probability of each instance"
   ]
  },
  {
   "cell_type": "code",
   "execution_count": 52,
   "metadata": {
    "collapsed": false
   },
   "outputs": [
    {
     "data": {
      "text/plain": [
       "array([  1.37781000e-04,   1.44670050e-03,   9.00169200e-03,\n",
       "         3.67569090e-02,   1.02919345e-01,   2.00120949e-01,\n",
       "         2.66827932e-01,   2.33474440e-01,   1.21060821e-01,\n",
       "         2.82475249e-02])"
      ]
     },
     "execution_count": 52,
     "metadata": {},
     "output_type": "execute_result"
    }
   ],
   "source": [
    "dens = rv_10.pmf(range(1,11))\n",
    "dens"
   ]
  },
  {
   "cell_type": "markdown",
   "metadata": {},
   "source": [
    "#### Cumulative sum over the interval [1, 8]"
   ]
  },
  {
   "cell_type": "code",
   "execution_count": 32,
   "metadata": {
    "collapsed": false
   },
   "outputs": [
    {
     "data": {
      "text/plain": [
       "0.85068574920000029"
      ]
     },
     "execution_count": 32,
     "metadata": {},
     "output_type": "execute_result"
    }
   ],
   "source": [
    "sum(dens[0:8])"
   ]
  },
  {
   "cell_type": "markdown",
   "metadata": {},
   "source": [
    "### SEABORN"
   ]
  },
  {
   "cell_type": "code",
   "execution_count": 15,
   "metadata": {
    "collapsed": false
   },
   "outputs": [
    {
     "data": {
      "text/plain": [
       "{'axes.axisbelow': True,\n",
       " 'axes.edgecolor': 'white',\n",
       " 'axes.facecolor': '#EAEAF2',\n",
       " 'axes.grid': True,\n",
       " 'axes.labelcolor': '.15',\n",
       " 'axes.linewidth': 0.0,\n",
       " 'figure.facecolor': (1, 1, 1, 0),\n",
       " 'font.family': ['sans-serif'],\n",
       " 'font.sans-serif': ['Arial',\n",
       "  'Liberation Sans',\n",
       "  'Bitstream Vera Sans',\n",
       "  'sans-serif'],\n",
       " 'grid.color': 'white',\n",
       " 'grid.linestyle': '-',\n",
       " 'image.cmap': 'Greys',\n",
       " 'legend.frameon': False,\n",
       " 'legend.numpoints': 1,\n",
       " 'legend.scatterpoints': 1,\n",
       " 'lines.solid_capstyle': 'round',\n",
       " 'text.color': '.15',\n",
       " 'xtick.color': '.15',\n",
       " 'xtick.direction': 'out',\n",
       " 'xtick.major.size': 0.0,\n",
       " 'xtick.minor.size': 0.0,\n",
       " 'ytick.color': '.15',\n",
       " 'ytick.direction': 'out',\n",
       " 'ytick.major.size': 0.0,\n",
       " 'ytick.minor.size': 0.0}"
      ]
     },
     "execution_count": 15,
     "metadata": {},
     "output_type": "execute_result"
    }
   ],
   "source": [
    "sns.axes_style()"
   ]
  },
  {
   "cell_type": "code",
   "execution_count": 11,
   "metadata": {
    "collapsed": false
   },
   "outputs": [
    {
     "name": "stdout",
     "output_type": "stream",
     "text": [
      "Help on function axes_style in module seaborn.rcmod:\n",
      "\n",
      "axes_style(style=None, rc=None)\n",
      "    Return a parameter dict for the aesthetic style of the plots.\n",
      "    \n",
      "    This affects things like the color of the axes, whether a grid is\n",
      "    enabled by default, and other aesthetic elements.\n",
      "    \n",
      "    This function returns an object that can be used in a ``with`` statement\n",
      "    to temporarily change the style parameters.\n",
      "    \n",
      "    Parameters\n",
      "    ----------\n",
      "    style : dict, None, or one of {darkgrid, whitegrid, dark, white, ticks}\n",
      "        A dictionary of parameters or the name of a preconfigured set.\n",
      "    rc : dict, optional\n",
      "        Parameter mappings to override the values in the preset seaborn\n",
      "        style dictionaries. This only updates parameters that are\n",
      "        considered part of the style definition.\n",
      "    \n",
      "    Examples\n",
      "    --------\n",
      "    >>> st = axes_style(\"whitegrid\")\n",
      "    \n",
      "    >>> set_style(\"ticks\", {\"xtick.major.size\": 8, \"ytick.major.size\": 8})\n",
      "    \n",
      "    >>> import matplotlib.pyplot as plt\n",
      "    >>> with axes_style(\"white\"):\n",
      "    ...     f, ax = plt.subplots()\n",
      "    ...     ax.plot(x, y)               # doctest: +SKIP\n",
      "    \n",
      "    See Also\n",
      "    --------\n",
      "    set_style : set the matplotlib parameters for a seaborn theme\n",
      "    plotting_context : return a parameter dict to to scale plot elements\n",
      "    color_palette : define the color palette for a plot\n",
      "\n"
     ]
    }
   ],
   "source": [
    "help(sns.axes_style)"
   ]
  },
  {
   "cell_type": "code",
   "execution_count": 60,
   "metadata": {
    "collapsed": false
   },
   "outputs": [
    {
     "data": {
      "image/png": "[encoded data removed]",
      "text/plain": [
       "<matplotlib.figure.Figure at 0x110113978>"
      ]
     },
     "metadata": {},
     "output_type": "display_data"
    }
   ],
   "source": [
    "test = [int(i) for i in dens]\n",
    "g = sns.FacetGrid(test)"
   ]
  },
  {
   "cell_type": "code",
   "execution_count": 64,
   "metadata": {
    "collapsed": false
   },
   "outputs": [
    {
     "ename": "TypeError",
     "evalue": "only integer arrays with one element can be converted to an index",
     "output_type": "error",
     "traceback": [
      "\u001b[0;31m---------------------------------------------------------------------------\u001b[0m",
      "\u001b[0;31mTypeError\u001b[0m                                 Traceback (most recent call last)",
      "\u001b[0;32m<ipython-input-64-09ddb28a42b2>\u001b[0m in \u001b[0;36m<module>\u001b[0;34m()\u001b[0m\n\u001b[0;32m----> 1\u001b[0;31m \u001b[0mg\u001b[0m\u001b[0;34m.\u001b[0m\u001b[0mmap\u001b[0m\u001b[0;34m(\u001b[0m\u001b[0mplt\u001b[0m\u001b[0;34m.\u001b[0m\u001b[0mvlines\u001b[0m\u001b[0;34m,\u001b[0m \u001b[0;34m'test'\u001b[0m\u001b[0;34m)\u001b[0m\u001b[0;34m\u001b[0m\u001b[0m\n\u001b[0m",
      "\u001b[0;32m/Users/slackoverflow/anaconda3/lib/python3.5/site-packages/seaborn/axisgrid.py\u001b[0m in \u001b[0;36mmap\u001b[0;34m(self, func, *args, **kwargs)\u001b[0m\n\u001b[1;32m    693\u001b[0m \u001b[0;34m\u001b[0m\u001b[0m\n\u001b[1;32m    694\u001b[0m         \u001b[0;31m# Iterate over the data subsets\u001b[0m\u001b[0;34m\u001b[0m\u001b[0;34m\u001b[0m\u001b[0m\n\u001b[0;32m--> 695\u001b[0;31m         \u001b[0;32mfor\u001b[0m \u001b[0;34m(\u001b[0m\u001b[0mrow_i\u001b[0m\u001b[0;34m,\u001b[0m \u001b[0mcol_j\u001b[0m\u001b[0;34m,\u001b[0m \u001b[0mhue_k\u001b[0m\u001b[0;34m)\u001b[0m\u001b[0;34m,\u001b[0m \u001b[0mdata_ijk\u001b[0m \u001b[0;32min\u001b[0m \u001b[0mself\u001b[0m\u001b[0;34m.\u001b[0m\u001b[0mfacet_data\u001b[0m\u001b[0;34m(\u001b[0m\u001b[0;34m)\u001b[0m\u001b[0;34m:\u001b[0m\u001b[0;34m\u001b[0m\u001b[0m\n\u001b[0m\u001b[1;32m    696\u001b[0m \u001b[0;34m\u001b[0m\u001b[0m\n\u001b[1;32m    697\u001b[0m             \u001b[0;31m# If this subset is null, move on\u001b[0m\u001b[0;34m\u001b[0m\u001b[0;34m\u001b[0m\u001b[0m\n",
      "\u001b[0;32m/Users/slackoverflow/anaconda3/lib/python3.5/site-packages/seaborn/axisgrid.py\u001b[0m in \u001b[0;36mfacet_data\u001b[0;34m(self)\u001b[0m\n\u001b[1;32m    663\u001b[0m                                                     \u001b[0menumerate\u001b[0m\u001b[0;34m(\u001b[0m\u001b[0mcol_masks\u001b[0m\u001b[0;34m)\u001b[0m\u001b[0;34m,\u001b[0m\u001b[0;34m\u001b[0m\u001b[0m\n\u001b[1;32m    664\u001b[0m                                                     enumerate(hue_masks)):\n\u001b[0;32m--> 665\u001b[0;31m             \u001b[0mdata_ijk\u001b[0m \u001b[0;34m=\u001b[0m \u001b[0mdata\u001b[0m\u001b[0;34m[\u001b[0m\u001b[0mrow\u001b[0m \u001b[0;34m&\u001b[0m \u001b[0mcol\u001b[0m \u001b[0;34m&\u001b[0m \u001b[0mhue\u001b[0m \u001b[0;34m&\u001b[0m \u001b[0mself\u001b[0m\u001b[0;34m.\u001b[0m\u001b[0m_not_na\u001b[0m\u001b[0;34m]\u001b[0m\u001b[0;34m\u001b[0m\u001b[0m\n\u001b[0m\u001b[1;32m    666\u001b[0m             \u001b[0;32myield\u001b[0m \u001b[0;34m(\u001b[0m\u001b[0mi\u001b[0m\u001b[0;34m,\u001b[0m \u001b[0mj\u001b[0m\u001b[0;34m,\u001b[0m \u001b[0mk\u001b[0m\u001b[0;34m)\u001b[0m\u001b[0;34m,\u001b[0m \u001b[0mdata_ijk\u001b[0m\u001b[0;34m\u001b[0m\u001b[0m\n\u001b[1;32m    667\u001b[0m \u001b[0;34m\u001b[0m\u001b[0m\n",
      "\u001b[0;31mTypeError\u001b[0m: only integer arrays with one element can be converted to an index"
     ]
    }
   ],
   "source": [
    "g.map(plt.vlines, 'test')"
   ]
  },
  {
   "cell_type": "code",
   "execution_count": 66,
   "metadata": {
    "collapsed": false
   },
   "outputs": [
    {
     "name": "stdout",
     "output_type": "stream",
     "text": [
      "Help on function map in module seaborn.axisgrid:\n",
      "\n",
      "map(self, func, *args, **kwargs)\n",
      "    Apply a plotting function to each facet's subset of the data.\n",
      "    \n",
      "    Parameters\n",
      "    ----------\n",
      "    func : callable\n",
      "        A plotting function that takes data and keyword arguments. It\n",
      "        must plot to the currently active matplotlib Axes and take a\n",
      "        `color` keyword argument. If faceting on the `hue` dimension,\n",
      "        it must also take a `label` keyword argument.\n",
      "    args : strings\n",
      "        Column names in self.data that identify variables with data to\n",
      "        plot. The data for each variable is passed to `func` in the\n",
      "        order the variables are specified in the call.\n",
      "    kwargs : keyword arguments\n",
      "        All keyword arguments are passed to the plotting function.\n",
      "    \n",
      "    Returns\n",
      "    -------\n",
      "    self : object\n",
      "        Returns self.\n",
      "\n"
     ]
    }
   ],
   "source": [
    "help(sns.FacetGrid.map)"
   ]
  },
  {
   "cell_type": "code",
   "execution_count": 101,
   "metadata": {
    "collapsed": false
   },
   "outputs": [
    {
     "name": "stdout",
     "output_type": "stream",
     "text": [
      "Help on function light_palette in module seaborn.palettes:\n",
      "\n",
      "light_palette(color, n_colors=6, reverse=False, as_cmap=False, input='rgb')\n",
      "    Make a sequential palette that blends from light to ``color``.\n",
      "    \n",
      "    This kind of palette is good for data that range between relatively\n",
      "    uninteresting low values and interesting high values.\n",
      "    \n",
      "    The ``color`` parameter can be specified in a number of ways, including\n",
      "    all options for defining a color in matplotlib and several additional\n",
      "    color spaces that are handled by seaborn. You can also use the database\n",
      "    of named colors from the XKCD color survey.\n",
      "    \n",
      "    If you are using the IPython notebook, you can also choose this palette\n",
      "    interactively with the :func:`choose_light_palette` function.\n",
      "    \n",
      "    Parameters\n",
      "    ----------\n",
      "    color : base color for high values\n",
      "        hex code, html color name, or tuple in ``input`` space.\n",
      "    n_colors : int, optional\n",
      "        number of colors in the palette\n",
      "    reverse : bool, optional\n",
      "        if True, reverse the direction of the blend\n",
      "    as_cmap : bool, optional\n",
      "        if True, return as a matplotlib colormap instead of list\n",
      "    input : {'rgb', 'hls', 'husl', xkcd'}\n",
      "        Color space to interpret the input color. The first three options\n",
      "        apply to tuple inputs and the latter applies to string inputs.\n",
      "    \n",
      "    Returns\n",
      "    -------\n",
      "    palette or cmap : seaborn color palette or matplotlib colormap\n",
      "        List-like object of colors as RGB tuples, or colormap object that\n",
      "        can map continuous values to colors, depending on the value of the\n",
      "        ``as_cmap`` parameter.\n",
      "    \n",
      "    See Also\n",
      "    --------\n",
      "    dark_palette : Create a sequential palette with dark low values.\n",
      "    diverging_palette : Create a diverging palette with two colors.\n",
      "    \n",
      "    Examples\n",
      "    --------\n",
      "    \n",
      "    Generate a palette from an HTML color:\n",
      "    \n",
      "    .. plot::\n",
      "        :context: close-figs\n",
      "    \n",
      "        >>> import seaborn as sns; sns.set()\n",
      "        >>> sns.palplot(sns.light_palette(\"purple\"))\n",
      "    \n",
      "    Generate a palette that increases in lightness:\n",
      "    \n",
      "    .. plot::\n",
      "        :context: close-figs\n",
      "    \n",
      "        >>> sns.palplot(sns.light_palette(\"seagreen\", reverse=True))\n",
      "    \n",
      "    Generate a palette from an HUSL-space seed:\n",
      "    \n",
      "    .. plot::\n",
      "        :context: close-figs\n",
      "    \n",
      "        >>> sns.palplot(sns.light_palette((260, 75, 60), input=\"husl\"))\n",
      "    \n",
      "    Generate a colormap object:\n",
      "    \n",
      "    .. plot::\n",
      "        :context: close-figs\n",
      "    \n",
      "        >>> from numpy import arange\n",
      "        >>> x = arange(25).reshape(5, 5)\n",
      "        >>> cmap = sns.light_palette(\"#2ecc71\", as_cmap=True)\n",
      "        >>> ax = sns.heatmap(x, cmap=cmap)\n",
      "\n"
     ]
    }
   ],
   "source": [
    "help(sns.light_palette)"
   ]
  },
  {
   "cell_type": "code",
   "execution_count": null,
   "metadata": {
    "collapsed": true
   },
   "outputs": [],
   "source": []
  }
 ],
 "metadata": {
  "kernelspec": {
   "display_name": "Python 3",
   "language": "python",
   "name": "python3"
  },
  "language_info": {
   "codemirror_mode": {
    "name": "ipython",
    "version": 3
   },
   "file_extension": ".py",
   "mimetype": "text/x-python",
   "name": "python",
   "nbconvert_exporter": "python",
   "pygments_lexer": "ipython3",
   "version": "3.5.1"
  }
 },
 "nbformat": 4,
 "nbformat_minor": 0
}
