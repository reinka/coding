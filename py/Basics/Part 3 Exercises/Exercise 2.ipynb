{
 "cells": [
  {
   "cell_type": "markdown",
   "metadata": {},
   "source": [
    "       2. Backslash characters. What happens on your machine when you type the following code interactively?\n",
    "for i in range(50): print('hello %d\\n\\a' % i)\n",
    "Beware that if it’s run outside of the IDLE interface this example may beep at you, so you may not want to run it in a crowded room! IDLE prints odd characters instead of beeping—spoiling much of the joke (see the backslash escape characters in Table 7-2)."
   ]
  },
  {
   "cell_type": "code",
   "execution_count": 1,
   "metadata": {
    "collapsed": false
   },
   "outputs": [
    {
     "name": "stdout",
     "output_type": "stream",
     "text": [
      "hello 0\n",
      "\u0007\n",
      "hello 1\n",
      "\u0007\n",
      "hello 2\n",
      "\u0007\n",
      "hello 3\n",
      "\u0007\n",
      "hello 4\n",
      "\u0007\n",
      "hello 5\n",
      "\u0007\n",
      "hello 6\n",
      "\u0007\n",
      "hello 7\n",
      "\u0007\n",
      "hello 8\n",
      "\u0007\n",
      "hello 9\n",
      "\u0007\n",
      "hello 10\n",
      "\u0007\n",
      "hello 11\n",
      "\u0007\n",
      "hello 12\n",
      "\u0007\n",
      "hello 13\n",
      "\u0007\n",
      "hello 14\n",
      "\u0007\n",
      "hello 15\n",
      "\u0007\n",
      "hello 16\n",
      "\u0007\n",
      "hello 17\n",
      "\u0007\n",
      "hello 18\n",
      "\u0007\n",
      "hello 19\n",
      "\u0007\n",
      "hello 20\n",
      "\u0007\n",
      "hello 21\n",
      "\u0007\n",
      "hello 22\n",
      "\u0007\n",
      "hello 23\n",
      "\u0007\n",
      "hello 24\n",
      "\u0007\n",
      "hello 25\n",
      "\u0007\n",
      "hello 26\n",
      "\u0007\n",
      "hello 27\n",
      "\u0007\n",
      "hello 28\n",
      "\u0007\n",
      "hello 29\n",
      "\u0007\n",
      "hello 30\n",
      "\u0007\n",
      "hello 31\n",
      "\u0007\n",
      "hello 32\n",
      "\u0007\n",
      "hello 33\n",
      "\u0007\n",
      "hello 34\n",
      "\u0007\n",
      "hello 35\n",
      "\u0007\n",
      "hello 36\n",
      "\u0007\n",
      "hello 37\n",
      "\u0007\n",
      "hello 38\n",
      "\u0007\n",
      "hello 39\n",
      "\u0007\n",
      "hello 40\n",
      "\u0007\n",
      "hello 41\n",
      "\u0007\n",
      "hello 42\n",
      "\u0007\n",
      "hello 43\n",
      "\u0007\n",
      "hello 44\n",
      "\u0007\n",
      "hello 45\n",
      "\u0007\n",
      "hello 46\n",
      "\u0007\n",
      "hello 47\n",
      "\u0007\n",
      "hello 48\n",
      "\u0007\n",
      "hello 49\n",
      "\u0007\n"
     ]
    }
   ],
   "source": [
    "for i in range(50):\n",
    "    print('hello %d\\n\\a' % i)"
   ]
  },
  {
   "cell_type": "code",
   "execution_count": null,
   "metadata": {
    "collapsed": true
   },
   "outputs": [],
   "source": []
  }
 ],
 "metadata": {
  "kernelspec": {
   "display_name": "Python 3",
   "language": "python",
   "name": "python3"
  },
  "language_info": {
   "codemirror_mode": {
    "name": "ipython",
    "version": 3
   },
   "file_extension": ".py",
   "mimetype": "text/x-python",
   "name": "python",
   "nbconvert_exporter": "python",
   "pygments_lexer": "ipython3",
   "version": "3.5.1"
  }
 },
 "nbformat": 4,
 "nbformat_minor": 0
}
