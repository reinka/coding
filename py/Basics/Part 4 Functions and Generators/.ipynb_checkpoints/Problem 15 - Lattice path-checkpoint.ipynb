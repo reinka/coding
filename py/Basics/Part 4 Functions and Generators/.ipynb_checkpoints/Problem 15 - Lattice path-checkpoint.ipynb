{
 "cells": [
  {
   "cell_type": "markdown",
   "metadata": {},
   "source": [
    "    1 2 3 \n",
    "    2 3 4\n",
    "    3 4 5 \n",
    "    1 2 2 3 3 3 4 4 5\n",
    "    \n",
    "    1 2 3 4 \n",
    "    2 3 4 5 \n",
    "    3 4 5 6 \n",
    "    4 5 6 7\n",
    "    1 2 2 3 3 3 4 4 4 5 5 5 6 6 7\n",
    "    1 2 3 4 5 6 7\n",
    "    \n",
    "    2n + 1\n",
    "    "
   ]
  },
  {
   "cell_type": "code",
   "execution_count": 8,
   "metadata": {
    "collapsed": true
   },
   "outputs": [],
   "source": [
    "def max_elem(n):\n",
    "    return 2*n+1"
   ]
  },
  {
   "cell_type": "code",
   "execution_count": 50,
   "metadata": {
    "collapsed": true
   },
   "outputs": [],
   "source": [
    "def grid(n):\n",
    "    grid = []\n",
    "    grid_elements = list(range(1, max_elem(n)+1))\n",
    "    for i in range(n+1):\n",
    "        grid.append([])\n",
    "        for j in range(n+1):\n",
    "            grid[i].append(grid_elements[j]) #grid[i].append...\n",
    "        grid_elements.pop(0)\n",
    "    return grid"
   ]
  },
  {
   "cell_type": "code",
   "execution_count": 51,
   "metadata": {
    "collapsed": false,
    "scrolled": true
   },
   "outputs": [
    {
     "data": {
      "text/plain": [
       "[[1, 2, 3], [2, 3, 4], [3, 4, 5]]"
      ]
     },
     "execution_count": 51,
     "metadata": {},
     "output_type": "execute_result"
    }
   ],
   "source": [
    "grid(2)"
   ]
  },
  {
   "cell_type": "code",
   "execution_count": 151,
   "metadata": {
    "collapsed": false
   },
   "outputs": [],
   "source": [
    "def paths(n):\n",
    "    lattice = grid(n)\n",
    "    index = n\n",
    "    count = 0\n",
    "    #'''\n",
    "    while len(lattice[index]) > 1:\n",
    "        print(lattice, index)\n",
    "        if (len(lattice[0])>1):\n",
    "            lattice[0].pop() \n",
    "        else:\n",
    "            lattice.pop(0)\n",
    "            lattice[0].pop()\n",
    "            \n",
    "        print('after', lattice, index)\n",
    "        count += 1\n",
    "        index = len(lattice) - 1\n",
    "        \n",
    "    return count\n",
    "    \n",
    "    \n",
    "    #'''         \n",
    "            \n",
    "            \n",
    "        "
   ]
  },
  {
   "cell_type": "code",
   "execution_count": 148,
   "metadata": {
    "collapsed": false
   },
   "outputs": [
    {
     "data": {
      "text/plain": [
       "6"
      ]
     },
     "execution_count": 148,
     "metadata": {},
     "output_type": "execute_result"
    }
   ],
   "source": [
    "paths(2)"
   ]
  },
  {
   "cell_type": "code",
   "execution_count": 152,
   "metadata": {
    "collapsed": false
   },
   "outputs": [
    {
     "name": "stdout",
     "output_type": "stream",
     "text": [
      "[[1, 2, 3, 4], [2, 3, 4, 5], [3, 4, 5, 6], [4, 5, 6, 7]] 3\n",
      "after [[1, 2, 3], [2, 3, 4, 5], [3, 4, 5, 6], [4, 5, 6, 7]] 3\n",
      "[[1, 2, 3], [2, 3, 4, 5], [3, 4, 5, 6], [4, 5, 6, 7]] 3\n",
      "after [[1, 2], [2, 3, 4, 5], [3, 4, 5, 6], [4, 5, 6, 7]] 3\n",
      "[[1, 2], [2, 3, 4, 5], [3, 4, 5, 6], [4, 5, 6, 7]] 3\n",
      "after [[1], [2, 3, 4, 5], [3, 4, 5, 6], [4, 5, 6, 7]] 3\n",
      "[[1], [2, 3, 4, 5], [3, 4, 5, 6], [4, 5, 6, 7]] 3\n",
      "after [[2, 3, 4], [3, 4, 5, 6], [4, 5, 6, 7]] 3\n",
      "[[2, 3, 4], [3, 4, 5, 6], [4, 5, 6, 7]] 2\n",
      "after [[2, 3], [3, 4, 5, 6], [4, 5, 6, 7]] 2\n",
      "[[2, 3], [3, 4, 5, 6], [4, 5, 6, 7]] 2\n",
      "after [[2], [3, 4, 5, 6], [4, 5, 6, 7]] 2\n",
      "[[2], [3, 4, 5, 6], [4, 5, 6, 7]] 2\n",
      "after [[3, 4, 5], [4, 5, 6, 7]] 2\n",
      "[[3, 4, 5], [4, 5, 6, 7]] 1\n",
      "after [[3, 4], [4, 5, 6, 7]] 1\n",
      "[[3, 4], [4, 5, 6, 7]] 1\n",
      "after [[3], [4, 5, 6, 7]] 1\n",
      "[[3], [4, 5, 6, 7]] 1\n",
      "after [[4, 5, 6]] 1\n",
      "[[4, 5, 6]] 0\n",
      "after [[4, 5]] 0\n",
      "[[4, 5]] 0\n",
      "after [[4]] 0\n"
     ]
    },
    {
     "data": {
      "text/plain": [
       "12"
      ]
     },
     "execution_count": 152,
     "metadata": {},
     "output_type": "execute_result"
    }
   ],
   "source": [
    "paths(3)"
   ]
  },
  {
   "cell_type": "code",
   "execution_count": 150,
   "metadata": {
    "collapsed": false
   },
   "outputs": [
    {
     "data": {
      "text/plain": [
       "420"
      ]
     },
     "execution_count": 150,
     "metadata": {},
     "output_type": "execute_result"
    }
   ],
   "source": [
    "paths(20)"
   ]
  },
  {
   "cell_type": "code",
   "execution_count": 52,
   "metadata": {
    "collapsed": true
   },
   "outputs": [],
   "source": [
    "l = [1,2, [3, [4,5], 4],5]"
   ]
  },
  {
   "cell_type": "code",
   "execution_count": 53,
   "metadata": {
    "collapsed": false
   },
   "outputs": [
    {
     "name": "stdout",
     "output_type": "stream",
     "text": [
      "1 False\n",
      "2 False\n",
      "[3, [4, 5], 4] True\n",
      "5 False\n"
     ]
    }
   ],
   "source": [
    "for x in l:\n",
    "    print(x, isinstance(x,list))"
   ]
  },
  {
   "cell_type": "code",
   "execution_count": 55,
   "metadata": {
    "collapsed": false
   },
   "outputs": [
    {
     "name": "stdout",
     "output_type": "stream",
     "text": [
      "Help on built-in function isinstance in module builtins:\n",
      "\n",
      "isinstance(obj, class_or_tuple, /)\n",
      "    Return whether an object is an instance of a class or of a subclass thereof.\n",
      "    \n",
      "    A tuple, as in ``isinstance(x, (A, B, ...))``, may be given as the target to\n",
      "    check against. This is equivalent to ``isinstance(x, A) or isinstance(x, B)\n",
      "    or ...`` etc.\n",
      "\n"
     ]
    }
   ],
   "source": [
    "help(isinstance)"
   ]
  },
  {
   "cell_type": "code",
   "execution_count": 56,
   "metadata": {
    "collapsed": false
   },
   "outputs": [
    {
     "data": {
      "text/plain": [
       "[1, 2, 3, 2, 3, 4, 3, 4, 5]"
      ]
     },
     "execution_count": 56,
     "metadata": {},
     "output_type": "execute_result"
    }
   ],
   "source": [
    "[1, 2, 3, 2, 3, 4, 3, 4, 5]"
   ]
  },
  {
   "cell_type": "code",
   "execution_count": 63,
   "metadata": {
    "collapsed": true
   },
   "outputs": [],
   "source": [
    "test = [[1, 2, 3], [2, 3, 4], [3, 4, 5]]"
   ]
  },
  {
   "cell_type": "code",
   "execution_count": 64,
   "metadata": {
    "collapsed": false
   },
   "outputs": [
    {
     "data": {
      "text/plain": [
       "[[1, 2], [2, 3, 4], [3, 4, 5]]"
      ]
     },
     "execution_count": 64,
     "metadata": {},
     "output_type": "execute_result"
    }
   ],
   "source": [
    "\n",
    "test"
   ]
  },
  {
   "cell_type": "code",
   "execution_count": 65,
   "metadata": {
    "collapsed": false
   },
   "outputs": [
    {
     "data": {
      "text/plain": [
       "[[1], [2, 3, 4], [3, 4, 5]]"
      ]
     },
     "execution_count": 65,
     "metadata": {},
     "output_type": "execute_result"
    }
   ],
   "source": [
    "test[0].pop() if test[0] else test.pop(0)\n",
    "test"
   ]
  },
  {
   "cell_type": "code",
   "execution_count": 66,
   "metadata": {
    "collapsed": false
   },
   "outputs": [
    {
     "data": {
      "text/plain": [
       "[[], [2, 3, 4], [3, 4, 5]]"
      ]
     },
     "execution_count": 66,
     "metadata": {},
     "output_type": "execute_result"
    }
   ],
   "source": [
    "test[0].pop() if test[0] else test.pop(0)\n",
    "test"
   ]
  },
  {
   "cell_type": "code",
   "execution_count": 67,
   "metadata": {
    "collapsed": false
   },
   "outputs": [
    {
     "data": {
      "text/plain": [
       "[[2, 3, 4], [3, 4, 5]]"
      ]
     },
     "execution_count": 67,
     "metadata": {},
     "output_type": "execute_result"
    }
   ],
   "source": [
    "test[0].pop() if test[0] else test.pop(0)\n",
    "test"
   ]
  },
  {
   "cell_type": "code",
   "execution_count": 75,
   "metadata": {
    "collapsed": false
   },
   "outputs": [
    {
     "data": {
      "text/plain": [
       "5"
      ]
     },
     "execution_count": 75,
     "metadata": {},
     "output_type": "execute_result"
    }
   ],
   "source": [
    "max(test[1])"
   ]
  },
  {
   "cell_type": "code",
   "execution_count": null,
   "metadata": {
    "collapsed": true
   },
   "outputs": [],
   "source": [
    "for i in range(steps):\n",
    "            if i+1 > len(l[index]):\n",
    "                index += 1\n",
    "                #tot += l[index][nested_index]\n",
    "            else:\n",
    "                tot += l[index][nested_index]\n",
    "                nested_index += (1 if nested_index <= n else 0)"
   ]
  },
  {
   "cell_type": "code",
   "execution_count": null,
   "metadata": {
    "collapsed": true
   },
   "outputs": [],
   "source": [
    "def lattice_paths(n):\n",
    "    row = n\n",
    "    while(row)"
   ]
  }
 ],
 "metadata": {
  "kernelspec": {
   "display_name": "Python 3",
   "language": "python",
   "name": "python3"
  },
  "language_info": {
   "codemirror_mode": {
    "name": "ipython",
    "version": 3
   },
   "file_extension": ".py",
   "mimetype": "text/x-python",
   "name": "python",
   "nbconvert_exporter": "python",
   "pygments_lexer": "ipython3",
   "version": "3.5.1"
  }
 },
 "nbformat": 4,
 "nbformat_minor": 0
}
