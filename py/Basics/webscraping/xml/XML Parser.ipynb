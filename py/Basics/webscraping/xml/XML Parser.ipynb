{
 "cells": [
  {
   "cell_type": "code",
   "execution_count": 1,
   "metadata": {
    "collapsed": false
   },
   "outputs": [
    {
     "name": "stdout",
     "output_type": "stream",
     "text": [
      "Name: Chuck\n",
      "Attr: yes\n"
     ]
    }
   ],
   "source": [
    "import xml.etree.ElementTree as ET\n",
    "\n",
    "data = '''\n",
    "<person>\n",
    "    <name>Chuck</name>\n",
    "    <phone type=\"intl\">\n",
    "        +1 734 303 4456\n",
    "    </phone>\n",
    "    <email hide=\"yes\"/>\n",
    "</person>'''\n",
    "\n",
    "tree = ET.fromstring(data)\n",
    "print('Name:', tree.find('name').text)\n",
    "print('Attr:', tree.find('email').get('hide'))"
   ]
  },
  {
   "cell_type": "code",
   "execution_count": 35,
   "metadata": {
    "collapsed": false
   },
   "outputs": [
    {
     "name": "stdout",
     "output_type": "stream",
     "text": [
      "Enter URL: http://python-data.dr-chuck.net/comments_247610.xml\n",
      "{'Set-Cookie': '__cfduid=d39a4ea7bba1d129a451c14a084bc39d01474625564; expires=Sat, 23-Sep-17 10:12:44 GMT; path=/; domain=.dr-chuck.net; HttpOnly', 'Date': 'Fri, 23 Sep 2016 10:12:44 GMT', 'Cache-Control': 'public, max-age=604800', 'Expires': 'Fri, 30 Sep 2016 10:12:44 GMT', 'Content-Encoding': 'gzip', 'CF-RAY': '2e6d384f84731ab7-DUS', 'Vary': 'Accept-Encoding', 'CF-Cache-Status': 'MISS', 'Content-Length': '595', 'Content-Type': 'application/xml; charset=utf-8', 'Connection': 'keep-alive', 'Server': 'cloudflare-nginx', 'X-Powered-By': 'PHP/5.5.9-1ubuntu4.14'}\n",
      "\n",
      "<?xml version=\"1.0\" encoding=\"UTF-8\"?>\n",
      "<commentinfo>\n",
      "  <note>This file contains the actual data for your assignment - good luck!</note>\n",
      "\n",
      "  <comments>\n",
      "    <comment>\n",
      "       <name>Macey</name>\n",
      "       <count>98</count>\n",
      "    </comment>\n",
      "    <comment>\n",
      "       <name>Alishah</name>\n",
      "       <count>98</count>\n",
      "    </comment>\n",
      "    <comment>\n",
      "       <name>Trai</name>\n",
      "       <count>96</count>\n",
      "    </comment>\n",
      "    <comment>\n",
      "       <name>Conlon</name>\n",
      "       <count>96</count>\n",
      "    </comment>\n",
      "    <comment>\n",
      "       <name>Abrar</name>\n",
      "\n",
      "\n",
      "commentinfo {}\n",
      "note {}\n",
      "comments {}\n"
     ]
    }
   ],
   "source": [
    "import requests\n",
    "\n",
    "url = input(\"Enter URL: \")\n",
    "page = requests.get(url, headers={\"User-Agent\":\"Mozilla/5.0\"})\n",
    "page.raise_for_status()\n",
    "print(page.headers)\n",
    "print()\n",
    "print(page.text[:512])\n",
    "print()\n",
    "\n",
    "root = ET.fromstring(page.text)\n",
    "print(root.tag,root.attrib)\n",
    "for child in root:\n",
    "    print(child.tag, child.attrib)\n",
    "comments = tree.findall('comment')\n",
    "\n",
    "\n"
   ]
  },
  {
   "cell_type": "code",
   "execution_count": 36,
   "metadata": {
    "collapsed": false
   },
   "outputs": [
    {
     "data": {
      "text/plain": [
       "'This file contains the actual data for your assignment - good luck!'"
      ]
     },
     "execution_count": 36,
     "metadata": {},
     "output_type": "execute_result"
    }
   ],
   "source": [
    "root[0].text"
   ]
  },
  {
   "cell_type": "code",
   "execution_count": 37,
   "metadata": {
    "collapsed": false
   },
   "outputs": [
    {
     "data": {
      "text/plain": [
       "'98'"
      ]
     },
     "execution_count": 37,
     "metadata": {},
     "output_type": "execute_result"
    }
   ],
   "source": [
    "root[1][0][1].text"
   ]
  },
  {
   "cell_type": "code",
   "execution_count": 39,
   "metadata": {
    "collapsed": false
   },
   "outputs": [
    {
     "name": "stdout",
     "output_type": "stream",
     "text": [
      "Finished. Cumsum: 2319\n"
     ]
    }
   ],
   "source": [
    "child = 0\n",
    "num = 0\n",
    "while True:\n",
    "    try:\n",
    "        num += int(root[1][child][1].text)\n",
    "    except IndexError:\n",
    "        print(\"Finished. Cumsum: {}\".format(num))\n",
    "        break\n",
    "    \n",
    "    child += 1\n",
    "#    print(num)\n",
    "    "
   ]
  },
  {
   "cell_type": "markdown",
   "metadata": {},
   "source": [
    "### alternatively"
   ]
  },
  {
   "cell_type": "code",
   "execution_count": 53,
   "metadata": {
    "collapsed": false
   },
   "outputs": [
    {
     "name": "stdout",
     "output_type": "stream",
     "text": [
      "98\n",
      "98\n",
      "96\n",
      "96\n",
      "94\n",
      "91\n",
      "91\n",
      "87\n",
      "81\n",
      "79\n",
      "79\n",
      "72\n",
      "71\n",
      "69\n",
      "63\n",
      "63\n",
      "62\n",
      "62\n",
      "61\n",
      "59\n",
      "54\n",
      "49\n",
      "47\n",
      "47\n",
      "37\n",
      "37\n",
      "36\n",
      "36\n",
      "36\n",
      "33\n",
      "31\n",
      "30\n",
      "27\n",
      "26\n",
      "25\n",
      "24\n",
      "23\n",
      "22\n",
      "19\n",
      "19\n",
      "12\n",
      "11\n",
      "11\n",
      "10\n",
      "10\n",
      "9\n",
      "7\n",
      "7\n",
      "6\n",
      "6\n"
     ]
    }
   ],
   "source": [
    "for num in root.findall('comments/comment'):\n",
    "    print(num.find('count').text)"
   ]
  },
  {
   "cell_type": "code",
   "execution_count": null,
   "metadata": {
    "collapsed": true
   },
   "outputs": [],
   "source": []
  }
 ],
 "metadata": {
  "kernelspec": {
   "display_name": "Python 3",
   "language": "python",
   "name": "python3"
  },
  "language_info": {
   "codemirror_mode": {
    "name": "ipython",
    "version": 3
   },
   "file_extension": ".py",
   "mimetype": "text/x-python",
   "name": "python",
   "nbconvert_exporter": "python",
   "pygments_lexer": "ipython3",
   "version": "3.5.2"
  }
 },
 "nbformat": 4,
 "nbformat_minor": 0
}
