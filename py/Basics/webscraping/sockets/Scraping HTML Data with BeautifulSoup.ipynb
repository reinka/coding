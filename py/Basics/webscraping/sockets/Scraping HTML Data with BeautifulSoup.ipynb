{
 "cells": [
  {
   "cell_type": "markdown",
   "metadata": {},
   "source": [
    "## Task 1"
   ]
  },
  {
   "cell_type": "code",
   "execution_count": 3,
   "metadata": {
    "collapsed": false,
    "scrolled": true
   },
   "outputs": [
    {
     "name": "stdout",
     "output_type": "stream",
     "text": [
      "Enter URL: http://python-data.dr-chuck.net/comments_247613.html\n"
     ]
    },
    {
     "data": {
      "text/plain": [
       "2335"
      ]
     },
     "execution_count": 3,
     "metadata": {},
     "output_type": "execute_result"
    }
   ],
   "source": [
    "import requests, bs4\n",
    "\n",
    "page = requests.get(input(\"Enter URL: \"), headers={\"User-Agent\":\"Mozilla/5.0\"})\n",
    "page.raise_for_status()\n",
    "soup = bs4.BeautifulSoup(page.text, \"lxml\")\n",
    "\n",
    "sum([int(span.contents[0]) for span in soup(\"span\")])"
   ]
  },
  {
   "cell_type": "markdown",
   "metadata": {},
   "source": [
    "## Task 2"
   ]
  },
  {
   "cell_type": "code",
   "execution_count": 70,
   "metadata": {
    "collapsed": false
   },
   "outputs": [
    {
     "name": "stdout",
     "output_type": "stream",
     "text": [
      "Enter URL: http://python-data.dr-chuck.net/known_by_Lyndsey.html\n",
      "['Leetisha']\n"
     ]
    }
   ],
   "source": [
    "page = requests.get(input(\"Enter URL: \"), headers={\"User-Agent\":\"Mozilla/5.0\"})\n",
    "page.raise_for_status()\n",
    "soup = bs4.BeautifulSoup(page.text, \"lxml\")\n",
    "next_url = soup('a')[17]\n",
    "#print(next_url.contents)\n",
    "for i in range(6):\n",
    "    page = requests.get(next_url.get('href',None), headers={\"User-Agent\":\"Mozilla/5.0\"})\n",
    "    page.raise_for_status()\n",
    "    soup = bs4.BeautifulSoup(page.text, \"lxml\")\n",
    "    next_url = soup('a')[17]\n",
    "#    print(next_url.contents)\n",
    "print(next_url.contents)"
   ]
  }
 ],
 "metadata": {
  "kernelspec": {
   "display_name": "Python 3",
   "language": "python",
   "name": "python3"
  },
  "language_info": {
   "codemirror_mode": {
    "name": "ipython",
    "version": 3
   },
   "file_extension": ".py",
   "mimetype": "text/x-python",
   "name": "python",
   "nbconvert_exporter": "python",
   "pygments_lexer": "ipython3",
   "version": "3.5.2"
  }
 },
 "nbformat": 4,
 "nbformat_minor": 0
}
