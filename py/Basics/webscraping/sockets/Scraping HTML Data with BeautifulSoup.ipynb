{
 "cells": [
  {
   "cell_type": "markdown",
   "metadata": {},
   "source": [
    "## Task 1"
   ]
  },
  {
   "cell_type": "code",
   "execution_count": 3,
   "metadata": {
    "collapsed": false,
    "scrolled": true
   },
   "outputs": [
    {
     "name": "stdout",
     "output_type": "stream",
     "text": [
      "Enter URL: http://python-data.dr-chuck.net/comments_247613.html\n"
     ]
    },
    {
     "data": {
      "text/plain": [
       "2335"
      ]
     },
     "execution_count": 3,
     "metadata": {},
     "output_type": "execute_result"
    }
   ],
   "source": [
    "import requests, bs4\n",
    "\n",
    "page = requests.get(input(\"Enter URL: \"), headers={\"User-Agent\":\"Mozilla/5.0\"})\n",
    "page.raise_for_status()\n",
    "soup = bs4.BeautifulSoup(page.text, \"lxml\")\n",
    "\n",
    "sum([int(span.contents[0]) for span in soup(\"span\")])"
   ]
  },
  {
   "cell_type": "markdown",
   "metadata": {},
   "source": [
    "## Task 2"
   ]
  },
  {
   "cell_type": "code",
   "execution_count": 70,
   "metadata": {
    "collapsed": false
   },
   "outputs": [
    {
     "name": "stdout",
     "output_type": "stream",
     "text": [
      "Enter URL: http://python-data.dr-chuck.net/known_by_Lyndsey.html\n",
      "['Leetisha']\n"
     ]
    }
   ],
   "source": [
    "page = requests.get(input(\"Enter URL: \"), headers={\"User-Agent\":\"Mozilla/5.0\"})\n",
    "page.raise_for_status()\n",
    "soup = bs4.BeautifulSoup(page.text, \"lxml\")\n",
    "next_url = soup('a')[17]\n",
    "#print(next_url.contents)\n",
    "for i in range(6):\n",
    "    page = requests.get(next_url.get('href',None), headers={\"User-Agent\":\"Mozilla/5.0\"})\n",
    "    page.raise_for_status()\n",
    "    soup = bs4.BeautifulSoup(page.text, \"lxml\")\n",
    "    next_url = soup('a')[17]\n",
    "#    print(next_url.contents)\n",
    "print(next_url.contents)"
   ]
  },
  {
   "cell_type": "markdown",
   "metadata": {},
   "source": [
    "### Retrieve Unique URLS from website"
   ]
  },
  {
   "cell_type": "code",
   "execution_count": 87,
   "metadata": {
    "collapsed": false
   },
   "outputs": [
    {
     "name": "stdout",
     "output_type": "stream",
     "text": [
      "Enter - http://news.berkeley.edu/2016/09/13/a-statement-on-online-course-content-and-accessibility/\n",
      "http://news.berkeley.edu/2016/09/13/a-statement-on-online-course-content-and-accessibility/?share=google-plus-1\n",
      "http://berkeley.edu\n",
      "https://news.berkeley.edu/wp-content/uploads/2016/09/2016-08-30-UC-Berkeley-LOF.pdf\n",
      "http://news.berkeley.edu/category/research/politics_society/\n",
      "http://e-news.berkeley.edu/\n",
      "http://news.berkeley.edu/2016/09/13/a-statement-on-online-course-content-and-accessibility/?share=facebook\n",
      "http://news.berkeley.edu/berkeley_blog/kaepernicking/\n",
      "http://news.berkeley.edu/2016/09/21/biohub/\n",
      "http://news.berkeley.edu/category/arts_culture/performing_arts/\n",
      "http://news.berkeley.edu/2016/09/09/berkeley60s-exhibit/\n",
      "http://news.berkeley.edu/\n",
      "http://news.berkeley.edu/all-news/\n",
      "https://www.youtube.com/channel/UCZAXKyvvIV4uU4YvP5dmrmA/\n",
      "http://news.berkeley.edu/about/news-team/\n",
      "http://newsroom.haas.berkeley.edu/research-news/changing-world-one-student-time-0\n",
      "http://news.berkeley.edu/category/campuscommunity/work_life/\n",
      "http://news.berkeley.edu/category/campuscommunity/\n",
      "http://news.berkeley.edu/category/opinion/\n",
      "http://news.berkeley.edu/category/arts_culture/film/\n",
      "http://news.berkeley.edu/category/research/mind_body/\n",
      "http://news.berkeley.edu/2016/08/16/chancellor-dirks-announces-he-will-step-down/\n",
      "http://news.berkeley.edu/category/people/profiles/\n",
      "http://events.berkeley.edu\n",
      "http://news.berkeley.edu/2016/09/13/a-statement-on-online-course-content-and-accessibility/\n",
      "http://news.berkeley.edu/2016/09/13/a-statement-on-online-course-content-and-accessibility/?share=email\n",
      "http://news.berkeley.edu/category/research/business_economics/\n",
      "http://news.berkeley.edu/category/people/\n",
      "http://news.berkeley.edu/2016/09/20/national-humanities-medal-for-prison-university-project/\n",
      "http://news.berkeley.edu/2016/09/13/a-statement-on-online-course-content-and-accessibility/?share=twitter\n",
      "http://news.berkeley.edu/about/\n",
      "http://news.berkeley.edu/2016/08/31/berkeley-events-this-fall-arts-authors-and-visual-expression/\n",
      "http://news.berkeley.edu/2016/09/20/new-book-links-flow-of-time-with-big-bang/\n",
      "http://news.berkeley.edu/category/people/awards/\n",
      "https://www.facebook.com/UCBerkeley/\n",
      "http://news.berkeley.edu/2016/09/13/campus-takes-a-moment-to-honor-the-78-lost-over-the-last-year/\n",
      "http://news.berkeley.edu/sign-up-for-email-news-alerts/\n",
      "http://news.berkeley.edu/category/opinion/voices/\n",
      "http://news.berkeley.edu/category/research/humanities/\n",
      "http://news.berkeley.edu/category/arts_culture/visual_arts/\n",
      "http://blogs.berkeley.edu\n",
      "http://news.berkeley.edu/2016/09/12/usnewsranking2016/\n",
      "http://news.berkeley.edu/category/research/technology_engineering/\n",
      "http://news.berkeley.edu/story_jump/a-resurgence-of-redneck-pride-marked-by-race-class-and-trump/\n",
      "http://news.berkeley.edu/2016/09/13/a-statement-on-online-course-content-and-accessibility/?share=reddit\n",
      "http://news.berkeley.edu/category/arts_culture/literature/\n",
      "http://news.berkeley.edu/2016/09/16/adding-music-to-politics-can-make-for-even-stranger-bedfellows/\n",
      "http://news.berkeley.edu/2016/09/06/campus-names-vice-provost-for-academic-and-space-planning-tsu-jae-king-liu/\n",
      "http://news.berkeley.edu/category/campuscommunity/events_at_berkeley/\n",
      "http://news.berkeley.edu/2016/09/20/brita-and-uc-berkeley-announce-a-10-year-partnership/\n",
      "http://news.berkeley.edu/2016/09/20/voting-rights-jefferson-topics-for-constitution-day-talks-on-campus/\n",
      "http://news.berkeley.edu/category/people/milestones/\n",
      "http://news.berkeley.edu/topics-a-z/\n",
      "https://twitter.com/UCBerkeleyNews/\n",
      "http://news.berkeley.edu/2016/09/07/an-update-on-sexual-harassment-and-violence-prevention/\n",
      "http://news.berkeley.edu/category/research/science_environment/\n",
      "http://news.berkeley.edu/category/campuscommunity/campus_news/\n",
      "http://news.berkeley.edu/2016/09/13/a-statement-on-online-course-content-and-accessibility/#print\n",
      "https://instagram.com/UCBerkeleyOfficial/\n",
      "http://news.berkeley.edu/berkeley_blog/embrace-equity-to-win-on-climate-goals/\n",
      "http://news.berkeley.edu/category/research/\n",
      "http://news.berkeley.edu/author/pa/\n",
      "http://news.berkeley.edu/category/arts_culture/\n"
     ]
    }
   ],
   "source": [
    "page = requests.get(input(\"Enter - \"), headers = {\"User-Agent\":\"Mozilla/5.0\"})\n",
    "page.raise_for_status()\n",
    "soup = bs4.BeautifulSoup(page.text, \"lxml\")\n",
    "\n",
    "links = [link.get(\"href\", None) for link in soup('a')]\n",
    "urls = [url for url in links if url.startswith('http')]\n",
    "# unique urls\n",
    "_ = [print(url) for url in set(urls)]"
   ]
  },
  {
   "cell_type": "code",
   "execution_count": null,
   "metadata": {
    "collapsed": true
   },
   "outputs": [],
   "source": []
  }
 ],
 "metadata": {
  "kernelspec": {
   "display_name": "Python 3",
   "language": "python",
   "name": "python3"
  },
  "language_info": {
   "codemirror_mode": {
    "name": "ipython",
    "version": 3
   },
   "file_extension": ".py",
   "mimetype": "text/x-python",
   "name": "python",
   "nbconvert_exporter": "python",
   "pygments_lexer": "ipython3",
   "version": "3.5.2"
  }
 },
 "nbformat": 4,
 "nbformat_minor": 0
}
