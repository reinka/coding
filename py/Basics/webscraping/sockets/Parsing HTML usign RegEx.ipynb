{
 "cells": [
  {
   "cell_type": "code",
   "execution_count": 2,
   "metadata": {
    "collapsed": true
   },
   "outputs": [],
   "source": [
    "from urllib.request import Request, urlopen\n",
    "import re"
   ]
  },
  {
   "cell_type": "markdown",
   "metadata": {},
   "source": [
    "#### Extract links"
   ]
  },
  {
   "cell_type": "code",
   "execution_count": 17,
   "metadata": {
    "collapsed": false
   },
   "outputs": [
    {
     "name": "stdout",
     "output_type": "stream",
     "text": [
      "Enter  - http://chimera.labs.oreilly.com/books/1230000000393/index.html\n",
      "http://dwn0odqttrkhc.cloudfront.net/assets/book-f1caceafd9c9f3a6ff72d40c54d173ab.css\n",
      "http://dwn0odqttrkhc.cloudfront.net/assets/default-24583441b4f47382b8932338cd56ed23.css\n",
      "http://dwn0odqttrkhc.cloudfront.net/assets/janrain-53eb5abed55992e21943b9d3373923e8.css\n",
      "http://my.safaribooksonline.com/?portal=oreilly\n",
      "http://oreilly.com/terms/\n",
      "http://oreilly.com/oreilly/privacy.csp\n"
     ]
    }
   ],
   "source": [
    "url = input(\"Enter  - \")\n",
    "html = urlopen(url).read().decode('utf-8')\n",
    "links = re.findall(r'href=\"(http://.*?)\"', html)\n",
    "for link in links:\n",
    "    print(link)"
   ]
  },
  {
   "cell_type": "markdown",
   "metadata": {},
   "source": [
    "### Parsing HTML using BeautifulSoup"
   ]
  },
  {
   "cell_type": "code",
   "execution_count": 62,
   "metadata": {
    "collapsed": false
   },
   "outputs": [
    {
     "name": "stdout",
     "output_type": "stream",
     "text": [
      "Enter - https://foundational-research.org/measuring-happiness-and-suffering/\n"
     ]
    }
   ],
   "source": [
    "import requests\n",
    "url = input('Enter - ')\n",
    "headers = {'User-Agent': 'Mozilla/5.0'}\n",
    "html = requests.get(url, headers=headers)\n",
    "html.raise_for_status()"
   ]
  },
  {
   "cell_type": "code",
   "execution_count": 64,
   "metadata": {
    "collapsed": false
   },
   "outputs": [],
   "source": [
    "from bs4 import BeautifulSoup\n",
    "soup = BeautifulSoup(html.text, 'lxml')"
   ]
  },
  {
   "cell_type": "code",
   "execution_count": 69,
   "metadata": {
    "collapsed": false
   },
   "outputs": [
    {
     "name": "stdout",
     "output_type": "stream",
     "text": [
      "Help on method get in module bs4.element:\n",
      "\n",
      "get(key, default=None) method of bs4.element.Tag instance\n",
      "    Returns the value of the 'key' attribute for the tag, or\n",
      "    the value given for 'default' if it doesn't have that\n",
      "    attribute.\n",
      "\n"
     ]
    }
   ],
   "source": [
    "help(tag.get)"
   ]
  },
  {
   "cell_type": "markdown",
   "metadata": {},
   "source": [
    "#### Retrieve all of the anchor tags"
   ]
  },
  {
   "cell_type": "code",
   "execution_count": 113,
   "metadata": {
    "collapsed": false
   },
   "outputs": [
    {
     "name": "stdout",
     "output_type": "stream",
     "text": [
      "https://foundational-research.org\n",
      "#\n",
      "https://foundational-research.org/our-mission/\n",
      "https://foundational-research.org/the-case-for-suffering-focused-ethics/\n",
      "#\n",
      "/research\n",
      "/research#future-suffering\n",
      "/research#cooperation\n",
      "/research#ethics\n",
      "/research#consciousness\n",
      "#\n",
      "https://foundational-research.org/work-with-us/\n",
      "https://foundational-research.org/volunteer/\n",
      "https://foundational-research.org/open-research-questions/\n",
      "https://foundational-research.org/team/\n",
      "https://foundational-research.org/donate/\n",
      "https://www.facebook.com/FoundationalResearch\n",
      "https://foundational-research.org/author/simon-knutsson/\n",
      "#link_ajs-fn-id_1-1264\n",
      "#link_ajs-fn-id_2-1264\n",
      "#link_ajs-fn-id_3-1264\n",
      "#link_ajs-fn-id_4-1264\n",
      "#link_ajs-fn-id_5-1264\n",
      "#link_ajs-fn-id_6-1264\n",
      "#Terminology\n",
      "#Measurement_on_one_interpersonally_additive_ratio_scale_is_required\n",
      "#The_required_degree_of_measurability_is_widely_rejected\n",
      "#Why_doubt_such_a_high_degree_of_measurability\n",
      "#How_a_solution_to_the_measurement_challenge_could_look\n",
      "#Even_if_happiness_and_suffering_are_sufficiently_measurable_in_principle_the_practical_application_is_still_a_challenge\n",
      "#If_happiness_and_suffering_are_not_sufficiently_measurable_in_principle\n",
      "#A_call_for_clarity\n",
      "#Appendix_Objective_non-evaluative_measurement_of_happiness_and_suffering\n",
      "#References\n",
      "#Further_reading\n",
      "#Notes\n",
      "https://commons.wikimedia.org/wiki/File%3ATape_measure_colored.jpeg\n",
      "#link_ajs-fn-id_7-1264\n",
      "http://plato.stanford.edu/entries/value-intrinsic-extrinsic/\n",
      "http://plato.stanford.edu/entries/well-being/\n",
      "#link_ajs-fn-id_8-1264\n",
      "#link_ajs-fn-id_9-1264\n",
      "#link_ajs-fn-id_10-1264\n",
      "#link_ajs-fn-id_11-1264\n",
      "https://commons.wikimedia.org/wiki/File%3AScale_(PSF).png\n",
      "#link_ajs-fn-id_12-1264\n",
      "#link_ajs-fn-id_13-1264\n",
      "#link_ajs-fn-id_14-1264\n",
      "#link_ajs-fn-id_15-1264\n",
      "#Appendix_Objective_non-evaluative_measurement_of_happiness_and_suffering\n",
      "#link_ajs-fn-id_16-1264\n",
      "#link_ajs-fn-id_17-1264\n",
      "#link_ajs-fn-id_18-1264\n",
      "#link_ajs-fn-id_19-1264\n",
      "#link_ajs-fn-id_20-1264\n",
      "#link_ajs-fn-id_21-1264\n",
      "#link_ajs-fn-id_22-1264\n",
      "#link_ajs-fn-id_23-1264\n",
      "#link_ajs-fn-id_24-1264\n",
      "#link_ajs-fn-id_25-1264\n",
      "#link_ajs-fn-id_26-1264\n",
      "#link_ajs-fn-id_27-1264\n",
      "#link_ajs-fn-id_28-1264\n",
      "https://en.wikipedia.org/wiki/Torbj%C3%B6rn_T%C3%A4nnsj%C3%B6\n",
      "#link_ajs-fn-id_29-1264\n",
      "#link_ajs-fn-id_30-1264\n",
      "#link_ajs-fn-id_31-1264\n",
      "#link_ajs-fn-id_32-1264\n",
      "#link_ajs-fn-id_33-1264\n",
      "#link_ajs-fn-id_34-1264\n",
      "#link_ajs-fn-id_35-1264\n",
      "#link_ajs-fn-id_36-1264\n",
      "#link_ajs-fn-id_37-1264\n",
      "#link_ajs-fn-id_38-1264\n",
      "#link_ajs-fn-id_39-1264\n",
      "#link_ajs-fn-id_40-1264\n",
      "#link_ajs-fn-id_41-1264\n",
      "#link_ajs-fn-id_42-1264\n",
      "#link_ajs-fn-id_43-1264\n",
      "#link_ajs-fn-id_44-1264\n",
      "#link_ajs-fn-id_45-1264\n",
      "#link_ajs-fn-id_46-1264\n",
      "#link_ajs-fn-id_47-1264\n",
      "#link_ajs-fn-id_48-1264\n",
      "#link_ajs-fn-id_49-1264\n",
      "#link_ajs-fn-id_50-1264\n",
      "#link_ajs-fn-id_51-1264\n",
      "http://felicifia.org/viewtopic.php?t=852#p7796\n",
      "#link_ajs-fn-id_52-1264\n",
      "#link_ajs-fn-id_53-1264\n",
      "#link_ajs-fn-id_54-1264\n",
      "#link_ajs-fn-id_55-1264\n",
      "#link_ajs-fn-id_56-1264\n",
      "#link_ajs-fn-id_57-1264\n",
      "#link_ajs-fn-id_58-1264\n",
      "#link_ajs-fn-id_59-1264\n",
      "http://plato.stanford.edu/entries/egalitarianism/#Pri\n",
      "https://en.wikipedia.org/wiki/Negative_Utilitarianism\n",
      "#link_ajs-fn-id_60-1264\n",
      "#link_ajs-fn-id_61-1264\n",
      "#link_ajs-fn-id_62-1264\n",
      "#link_ajs-fn-id_63-1264\n",
      "http://else.econ.ucl.ac.uk/papers/uploaded/264.pdf\n",
      "http://sandcat.middlebury.edu/econ/repec/mdl/ancoec/0723.pdf\n",
      "http://scholarworks.umass.edu/open_access_dissertations/37/\n",
      "https://foundational-research.org/wp-content/uploads/2016/02/Formalizing-utilitarianism-in-physical-world-models_Oesterheld.pdf\n",
      "http://etheses.lse.ac.uk/2740/\n",
      "http://else.econ.ucl.ac.uk/papers/uploaded/264.pdf\n",
      "None\n",
      "#back_ajs-fn-id_1-1264\n",
      "None\n",
      "#Measurement_on_one_interpersonally_additive_ratio_scale_is_required\n",
      "#back_ajs-fn-id_2-1264\n",
      "None\n",
      "#back_ajs-fn-id_3-1264\n",
      "None\n",
      "#back_ajs-fn-id_4-1264\n",
      "None\n",
      "#back_ajs-fn-id_5-1264\n",
      "None\n",
      "#back_ajs-fn-id_6-1264\n",
      "None\n",
      "#back_ajs-fn-id_7-1264\n",
      "None\n",
      "#back_ajs-fn-id_8-1264\n",
      "None\n",
      "#back_ajs-fn-id_9-1264\n",
      "None\n",
      "#back_ajs-fn-id_10-1264\n",
      "None\n",
      "#The_required_degree_of_measurability_is_widely_rejected\n",
      "#back_ajs-fn-id_11-1264\n",
      "None\n",
      "#back_ajs-fn-id_12-1264\n",
      "None\n",
      "#back_ajs-fn-id_13-1264\n",
      "None\n",
      "#back_ajs-fn-id_14-1264\n",
      "None\n",
      "#back_ajs-fn-id_15-1264\n",
      "None\n",
      "#back_ajs-fn-id_16-1264\n",
      "None\n",
      "#back_ajs-fn-id_17-1264\n",
      "None\n",
      "#back_ajs-fn-id_18-1264\n",
      "None\n",
      "#back_ajs-fn-id_19-1264\n",
      "None\n",
      "#back_ajs-fn-id_20-1264\n",
      "None\n",
      "#back_ajs-fn-id_21-1264\n",
      "None\n",
      "#back_ajs-fn-id_22-1264\n",
      "None\n",
      "#back_ajs-fn-id_23-1264\n",
      "None\n",
      "#back_ajs-fn-id_24-1264\n",
      "None\n",
      "#back_ajs-fn-id_25-1264\n",
      "None\n",
      "#back_ajs-fn-id_26-1264\n",
      "None\n",
      "#back_ajs-fn-id_27-1264\n",
      "None\n",
      "#back_ajs-fn-id_28-1264\n",
      "None\n",
      "#back_ajs-fn-id_29-1264\n",
      "None\n",
      "#back_ajs-fn-id_30-1264\n",
      "None\n",
      "#back_ajs-fn-id_31-1264\n",
      "None\n",
      "#back_ajs-fn-id_32-1264\n",
      "None\n",
      "#back_ajs-fn-id_33-1264\n",
      "None\n",
      "#back_ajs-fn-id_34-1264\n",
      "None\n",
      "#back_ajs-fn-id_35-1264\n",
      "None\n",
      "http://plato.stanford.edu/entries/supervenience/\n",
      "#back_ajs-fn-id_36-1264\n",
      "None\n",
      "#back_ajs-fn-id_37-1264\n",
      "None\n",
      "#back_ajs-fn-id_38-1264\n",
      "None\n",
      "#back_ajs-fn-id_39-1264\n",
      "None\n",
      "#back_ajs-fn-id_40-1264\n",
      "None\n",
      "#back_ajs-fn-id_41-1264\n",
      "None\n",
      "#back_ajs-fn-id_42-1264\n",
      "None\n",
      "#back_ajs-fn-id_43-1264\n",
      "None\n",
      "#back_ajs-fn-id_44-1264\n",
      "None\n",
      "#back_ajs-fn-id_45-1264\n",
      "None\n",
      "#back_ajs-fn-id_46-1264\n",
      "None\n",
      "#back_ajs-fn-id_47-1264\n",
      "None\n",
      "#back_ajs-fn-id_48-1264\n",
      "None\n",
      "#back_ajs-fn-id_49-1264\n",
      "None\n",
      "#back_ajs-fn-id_50-1264\n",
      "None\n",
      "#Appendix_Objective_non-evaluative_measurement_of_happiness_and_suffering\n",
      "#back_ajs-fn-id_51-1264\n",
      "None\n",
      "#back_ajs-fn-id_52-1264\n",
      "None\n",
      "#back_ajs-fn-id_53-1264\n",
      "None\n",
      "#back_ajs-fn-id_54-1264\n",
      "None\n",
      "#back_ajs-fn-id_55-1264\n",
      "None\n",
      "#back_ajs-fn-id_56-1264\n",
      "None\n",
      "#back_ajs-fn-id_57-1264\n",
      "None\n",
      "#back_ajs-fn-id_58-1264\n",
      "None\n",
      "#back_ajs-fn-id_59-1264\n",
      "None\n",
      "#back_ajs-fn-id_60-1264\n",
      "None\n",
      "#back_ajs-fn-id_61-1264\n",
      "None\n",
      "#back_ajs-fn-id_62-1264\n",
      "None\n",
      "#back_ajs-fn-id_63-1264\n",
      "#Measurement_on_one_interpersonally_additive_ratio_scale_is_required\n",
      "#The_required_degree_of_measurability_is_widely_rejected\n",
      "http://plato.stanford.edu/entries/supervenience/\n",
      "#Appendix_Objective_non-evaluative_measurement_of_happiness_and_suffering\n",
      "https://foundational-research.org/measuring-happiness-and-suffering/?share=facebook\n",
      "https://foundational-research.org/measuring-happiness-and-suffering/?share=twitter\n",
      "https://foundational-research.org/measuring-happiness-and-suffering/?share=reddit\n",
      "https://foundational-research.org/author/simon-knutsson/\n",
      "https://foundational-research.org/topic/ethics/\n",
      "/research\n",
      "/our-mission\n",
      "/volunteer\n",
      "/donate\n",
      "/work-with-us\n",
      "https://www.facebook.com/FoundationalResearch\n",
      "https://foundational-research.org/feed/\n",
      "https://foundational-research.org/our-mission/\n",
      "https://foundational-research.org/research/\n",
      "https://foundational-research.org/work-with-us/\n",
      "https://foundational-research.org/team/\n",
      "https://foundational-research.org/donate/\n",
      "mailto:contact@foundational-research.org\n",
      "/work-with-us/\n",
      "/?feed=rss2\n",
      "https://www.facebook.com/FoundationalResearch\n",
      "https://www.youtube.com/channel/UCNPqscTt41xxJ-8RCN_3vFA\n",
      "http://ea-stiftung.org\n",
      "http://sentience-politics.org\n"
     ]
    }
   ],
   "source": [
    "tags = soup('a')\n",
    "for tag in tags:\n",
    "    print(tag.get('href', None))"
   ]
  },
  {
   "cell_type": "markdown",
   "metadata": {},
   "source": [
    "### Reading binary file such as `.jpg`"
   ]
  },
  {
   "cell_type": "code",
   "execution_count": 99,
   "metadata": {
    "collapsed": false
   },
   "outputs": [],
   "source": [
    "url = 'http://www.py4inf.com/cover.jpg'\n",
    "img = requests.get(url, headers = {'User-Agent' : 'Mozilla/5.0'}, stream = True)"
   ]
  },
  {
   "cell_type": "markdown",
   "metadata": {},
   "source": [
    "#### see http://stackoverflow.com/questions/13137817/how-to-download-image-using-requests"
   ]
  },
  {
   "cell_type": "code",
   "execution_count": 100,
   "metadata": {
    "collapsed": false
   },
   "outputs": [],
   "source": [
    "with open('cover2.jpg', 'wb') as f:\n",
    "    f.write(img.raw.read())"
   ]
  },
  {
   "cell_type": "markdown",
   "metadata": {},
   "source": [
    "#### alternatively"
   ]
  },
  {
   "cell_type": "code",
   "execution_count": 90,
   "metadata": {
    "collapsed": false
   },
   "outputs": [],
   "source": [
    "fhand = open('cover.jpg', 'wb')\n",
    "[fhand.write(chunk) for chunk in img]\n",
    "fhand.close()"
   ]
  },
  {
   "cell_type": "code",
   "execution_count": null,
   "metadata": {
    "collapsed": true
   },
   "outputs": [],
   "source": []
  }
 ],
 "metadata": {
  "kernelspec": {
   "display_name": "Python 3",
   "language": "python",
   "name": "python3"
  },
  "language_info": {
   "codemirror_mode": {
    "name": "ipython",
    "version": 3
   },
   "file_extension": ".py",
   "mimetype": "text/x-python",
   "name": "python",
   "nbconvert_exporter": "python",
   "pygments_lexer": "ipython3",
   "version": "3.5.2"
  }
 },
 "nbformat": 4,
 "nbformat_minor": 0
}
