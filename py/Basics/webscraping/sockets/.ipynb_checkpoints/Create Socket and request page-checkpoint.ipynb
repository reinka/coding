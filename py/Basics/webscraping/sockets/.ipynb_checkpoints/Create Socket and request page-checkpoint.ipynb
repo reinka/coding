{
 "cells": [
  {
   "cell_type": "code",
   "execution_count": 1,
   "metadata": {
    "collapsed": true
   },
   "outputs": [],
   "source": [
    "import socket"
   ]
  },
  {
   "cell_type": "code",
   "execution_count": 17,
   "metadata": {
    "collapsed": false
   },
   "outputs": [
    {
     "name": "stdout",
     "output_type": "stream",
     "text": [
      "HTTP/1.1 200 OK\r\n",
      "Date: Mon, 19 Sep 2016 14:46:10 GMT\r\n",
      "Content-Type: text/plain\r\n",
      "Content-Length: 467\r\n",
      "Connection: keep-alive\r\n",
      "Set-Cookie: __cfduid=de90a532657578be1c9e2a2a484cbc4611474296370; expires=Tue, 19-Sep-17 14:46:10 GMT; path=/; domain=.pythonlearn.com; HttpOnly\r\n",
      "Last-Modified: Mon, 12 Oct 2015 14:55:29 GMT\r\n",
      "ETag: \"1d3-521e9853a392b\"\r\n",
      "Accept-Ranges: bytes\r\n",
      "Cache-Control: max-age=604800, public\r\n",
      "Access-Control-Allow-Origin: *\r\n",
      "Access-Control-Allow-Headers: origin, x-requested-with, content-type\r\n",
      "Acces\n",
      "s-Control-Allow-Methods: GET\r\n",
      "Server: cloudflare-nginx\r\n",
      "CF-RAY: 2e4dd35c16041ae1-DUS\r\n",
      "\r\n",
      "Why should you learn to write programs?\n",
      "\n",
      "Writing programs (or programming) is a very creative \n",
      "and rewarding activity.  You can write programs for \n",
      "many reasons, ranging from making your living to solving\n",
      "a difficult data analysis problem to having fun to helping\n",
      "someone else solve a problem.  This book assumes that \n",
      "everyone needs to know how to program, and that once \n",
      "you know how to program you will figure out what yo\n",
      "u want \n",
      "to do with your newfound skills.  \n",
      "\n"
     ]
    }
   ],
   "source": [
    "# Hostname\n",
    "host = b'www.pythonlearn.com'\n",
    "# create socket\n",
    "mysocket = socket.socket(socket.AF_INET, socket.SOCK_STREAM)\n",
    "\n",
    "# connetion request\n",
    "mysocket.connect(('www.pythonlearn.com', 80))\n",
    "# GET command\n",
    "mysocket.send(b'GET /code/intro-short.txt HTTP/1.1\\n')\n",
    "mysocket.send(b'Host: ' + host + b'\\n\\n')\n",
    "\n",
    "while True:\n",
    "    data = mysocket.recv(512).decode('utf-8')\n",
    "    if(len(data) < 1):\n",
    "        break\n",
    "    print(data)\n",
    "mysocket.close()"
   ]
  },
  {
   "cell_type": "code",
   "execution_count": 20,
   "metadata": {
    "collapsed": true
   },
   "outputs": [],
   "source": [
    "?urlopen"
   ]
  },
  {
   "cell_type": "markdown",
   "metadata": {},
   "source": [
    "### Count number of occurences of each word within webpage"
   ]
  },
  {
   "cell_type": "code",
   "execution_count": 31,
   "metadata": {
    "collapsed": false
   },
   "outputs": [
    {
     "name": "stdout",
     "output_type": "stream",
     "text": [
      "{'Writing': 1, 'living': 1, 'you': 4, 'how': 2, 'programs': 2, 'from': 1, 'and': 2, 'You': 1, 'once': 1, 'write': 2, 'want': 1, 'solving': 1, 'do': 1, 'for': 1, 'else': 1, 'needs': 1, 'programming)': 1, 'someone': 1, 'Why': 1, '(or': 1, 'many': 1, 'figure': 1, 'very': 1, 'reasons,': 1, 'creative': 1, 'This': 1, 'solve': 1, 'assumes': 1, 'a': 3, 'out': 1, 'know': 2, 'everyone': 1, 'book': 1, 'helping': 1, 'should': 1, 'to': 8, 'can': 1, 'programs?': 1, 'program': 1, 'with': 1, 'activity.': 1, 'problem.': 1, 'ranging': 1, 'skills.': 1, 'learn': 1, 'is': 1, 'problem': 1, 'program,': 1, 'rewarding': 1, 'having': 1, 'what': 1, 'that': 2, 'difficult': 1, 'newfound': 1, 'making': 1, 'will': 1, 'analysis': 1, 'data': 1, 'fun': 1, 'your': 2}\n"
     ]
    }
   ],
   "source": [
    "from urllib.request import urlopen, Request\n",
    "\n",
    "url = 'http://www.pythonlearn.com/code/intro-short.txt'\n",
    "sock = Request(url, headers={'User-Agent': 'Mozilla/5.0'})\n",
    "sock = urlopen(sock)\n",
    "counts = dict()\n",
    "for line in sock:\n",
    "    words = line.decode('utf-8').split()\n",
    "    for word in words:\n",
    "        counts[word] = counts.get(word,0) + 1\n",
    "print(counts)"
   ]
  },
  {
   "cell_type": "code",
   "execution_count": null,
   "metadata": {
    "collapsed": true
   },
   "outputs": [],
   "source": []
  }
 ],
 "metadata": {
  "kernelspec": {
   "display_name": "Python 3",
   "language": "python",
   "name": "python3"
  },
  "language_info": {
   "codemirror_mode": {
    "name": "ipython",
    "version": 3
   },
   "file_extension": ".py",
   "mimetype": "text/x-python",
   "name": "python",
   "nbconvert_exporter": "python",
   "pygments_lexer": "ipython3",
   "version": "3.5.2"
  }
 },
 "nbformat": 4,
 "nbformat_minor": 0
}
