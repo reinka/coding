{
 "cells": [
  {
   "cell_type": "code",
   "execution_count": 101,
   "metadata": {
    "collapsed": false
   },
   "outputs": [],
   "source": [
    "from lxml import html\n",
    "#from urllib.request import Request, urlopen\n",
    "import requests\n",
    "import bs4"
   ]
  },
  {
   "cell_type": "code",
   "execution_count": 162,
   "metadata": {
    "collapsed": false
   },
   "outputs": [],
   "source": [
    "url = \"https://foundational-research.org/measuring-happiness-and-suffering/\"\n",
    "headers = {'User-Agent': 'Mozilla/5.0 (Macintosh; Intel Mac OS X 10_11_1) AppleWebKit/537.36 (KHTML, like Gecko) Chrome/52.0.2743.116 Safari/537.36'}\n",
    "page = requests.get(url, headers=headers)\n",
    "page.raise_for_status()"
   ]
  },
  {
   "cell_type": "code",
   "execution_count": 163,
   "metadata": {
    "collapsed": false
   },
   "outputs": [],
   "source": [
    "content = page.content.decode()"
   ]
  },
  {
   "cell_type": "code",
   "execution_count": 164,
   "metadata": {
    "collapsed": false
   },
   "outputs": [],
   "source": [
    "soup = bs4.BeautifulSoup(page.text, 'lxml')"
   ]
  },
  {
   "cell_type": "code",
   "execution_count": 165,
   "metadata": {
    "collapsed": false
   },
   "outputs": [],
   "source": [
    "references = soup.select('#post-1264 > div > div > article > ul')[1:]"
   ]
  },
  {
   "cell_type": "code",
   "execution_count": 167,
   "metadata": {
    "collapsed": false
   },
   "outputs": [],
   "source": [
    "html = [i.prettify('utf-8') for i in references]\n",
    "with open('test.txt', 'wb') as f:\n",
    "    for i in html:\n",
    "        f.write(i)"
   ]
  },
  {
   "cell_type": "markdown",
   "metadata": {},
   "source": [
    "## RegEx"
   ]
  },
  {
   "cell_type": "code",
   "execution_count": 168,
   "metadata": {
    "collapsed": false
   },
   "outputs": [],
   "source": [
    "import re\n",
    "\n",
    "box = []\n",
    "with open('test.txt', 'r', encoding='utf-8') as f:\n",
    "    box.append(f.read())"
   ]
  },
  {
   "cell_type": "code",
   "execution_count": 169,
   "metadata": {
    "collapsed": false
   },
   "outputs": [
    {
     "data": {
      "text/plain": [
       "'<ul> <li>  Arrow, Kenneth J. (1963).  <i>   Social Choice and Individual Values  </i>  . 2  <sup>   nd  </sup>  ed. New York: Wiley. </li> <li>  Bergström, Lars. (1982a). “Interpersonal Utility Comparisons.”  <em>   Grazer Philosophische Studien  </em>  16/17, 282–312. </li> <li>  ———. (1982b). “Om Välfärdspolitikens Målsättning.”  <em>   Filosofisk Tidskrift  </em>  3, 16–34. </li> <li>  Binmore, Ken. (2009). “Interpersonal Comparison of Utility.” In  <i>   The Oxford Handbook of Philosophy of Economics  </i>  , edited by Don Ross and Harold Kincaid, 540–59. Oxford/New York: Oxford University Press.  <a href=\"http://else.econ.ucl.ac.uk/papers/uploaded/264.pdf\">   Ungated  </a>  . </li> <li>  Brülde, Bengt. (1998). “The Human Good.” PhD diss., University of Gothenburg. </li> <li>  ———. (2003).  <em>   Teorier om Livskvalitet  </em>  . Lund: Studentlitteratur. </li> <li>  Carlson, Erik. (forthcoming). “Value Theory (Axiology).” In  <i>   Handbook of Formal Philosophy  </i>  , edited by Sven Ove Hansson and Vincent Hendricks. Springer. Especially sec. 1 on measuring goodness and badness. </li> <li>  Colander, David. (2007). \"Retrospectives: Edgeworth\\'s Hedonimeter and the Quest to Measure Utility.\"  <i>   The Journal of Economic Perspectives  </i>  21 (2), 215–26.  <a href=\"http://sandcat.middlebury.edu/econ/repec/mdl/ancoec/0723.pdf\">   Ungated  </a>  . </li> <li>  Edgeworth, Francis Ysidro. (1881).  <em>   Mathematical Psychics  </em>  . Kegan Paul, London. </li> <li>  Feldman, Fred. (2010).  <em>   What is This Thing Called Happiness?  </em>  Oxford: Oxford University Press. </li> <li>  Griffin, James. (1979). “Is Unhappiness Morally More Important Than Happiness?”  <em>   The Philosophical Quarterly  </em>  29 (114), 47–55. </li> <li>  Hardin, Russell. (2009). “Utilitarian Aggregation.”  <em>   Social Philosophy and Policy  </em>  26 (1), 30–47. </li> <li>  Hurka, Thomas. (2010). “Asymmetries in Value.”  <em>   Noûs  </em>  44 (2), 199–223. </li> <li>  Kahneman, Daniel, Peter P. Wakker, and Rakesh Sarin. (1997). “Back to Bentham? Explorations of Experienced Utility.”  <em>   The Quarterly Journal of Economics  </em>  112 (2), 375–405. </li> <li>  Klocksiem, Justin Allen. (2009). “On the Measurability of Pleasure and Pain.” PhD diss., University of Massachusetts Amherst.  <a href=\"http://scholarworks.umass.edu/open_access_dissertations/37/\">   Ungated  </a>  . </li> <li>  Krantz, David, Duncan Luce, Patrick Suppes, and Amos Tversky. (1971).  <i>   Foundations of Measurement, Vol. I: Additive and Polynomial Representations  </i>  . New York : Academic Press, Cop. Especially chapters 1–3. Reprinted 2006. </li> <li>  Mendola, Joseph. (1990). “An Ordinal Modification of Classical Utilitarianism.”  <em>   Erkenntnis  </em>  33 (1), 73–88. </li> <li>  Miller, Roger Leroy. (2011).  <em>   Economics Today  </em>  . 16  <sup>   th  </sup>  ed. New York: Pearson. </li> <li>  Ng, Yew-Kwang. (2015) “Some Conceptual and Methodological Issues on Happiness: Lessons from Evolutionary Biology.”  <em>   The Singapore Economic Review  </em>  60 (4). </li> <li>  Oesterheld, Caspar. (2015). “Formalizing Preference Utilitarianism in Physical World Models.”  <i>   Synthese  </i>  , 1–13.  <a href=\"https://foundational-research.org/wp-content/uploads/2016/02/Formalizing-utilitarianism-in-physical-world-models_Oesterheld.pdf\">   Ungated  </a>  . </li> <li>  Ofstad, Harald. (1982).  <i>   Ansvar och Handling: Inledning till Moralfilosofiska Problem  </i>  . Translated to Swedish by Marlene Öhberg. Stockholm: Prisma. </li> <li>  Parfit, Derek.  <i>   On What Matters  </i>  , vol. 2. Edited and introduced by Samuel Scheffler. Oxford: Oxford University Press. </li> <li>  Portmore, Douglas. W. (2005). “Combining Teleological Ethics with Evaluator Relativism: A Promising Result.”  <i>   Pacific Philosophical Quarterly  </i>  86 (1), 95–113. </li> <li>  Roberts, Fred S. (1985).  <i>   Measurement Theory: With Applications to Decisionmaking, Utility, and the Social Sciences  </i>  . Cambridge: Cambridge University Press. Reprinted 2009. </li> <li>  Rossi, Mauro. (2009). “Interpersonal Comparisons of Utility: The Epistemological Problem.” PhD diss., London School of Economics and Political Science.  <a href=\"http://etheses.lse.ac.uk/2740/\">   Ungated  </a>  . </li> <li>  Samuelson, Paul A., and William D. Nordhaus. (2010).  <em>   Economics  </em>  , 19  <sup>   th  </sup>  ed. New York: McGraw-Hill/Irvin. </li> <li>  Smart, J. J. C. (1973). In J. J. C. Smart and Bernard Williams,  <em>   Utilitarianism: For and Against  </em>  . Cambridge University Press. </li> <li>  Tännsjö, Torbjörn. (1998).  <em>   Hedonistic Utilitarianism  </em>  . Edinburgh: Edinburgh University Press. </li> <li>  ———. (2000). “The Least Sub-Noticeable Difference.” In  <em>   Imperceptible Harms and Benefits  </em>  , edited by Michael J. Almeida, 75–93. Springer Netherlands. </li> <li>  ———. (2015). “Utilitarianism or Prioritarianism?”  <i>   Utilitas  </i>  27 (2), 240–50. </li></ul><ul> <li>  Bergström, Lars. (1982a). “Interpersonal Utility Comparisons.”  <em>   Grazer Philosophische Studien  </em>  16/17, 282–312. </li> <li>  Binmore, Ken. (2009). “Interpersonal Comparison of Utility.” In  <i>   The Oxford Handbook of Philosophy of Economics  </i>  , edited by Don Ross and Harold Kincaid, 540–59. Oxford/New York: Oxford University Press.  <a href=\"http://else.econ.ucl.ac.uk/papers/uploaded/264.pdf\">   Ungated  </a>  . </li> <li>  Brülde, Bengt. (2003).  <em>   Teorier om Livskvalitet  </em>  . Lund: Studentlitteratur. Especially ch. 6 on measuring well-being. </li> <li>  Carlson, Erik. (forthcoming). “Value Theory (Axiology).” In  <i>   Handbook of Formal Philosophy  </i>  , edited by Sven Ove Hansson and Vincent Hendricks. Springer. Especially sec. 1 on measuring goodness and badness. </li> <li>  Krantz, David, Duncan Luce, Patrick Suppes, and Amos Tversky. (1971).  <i>   Foundations of Measurement, Vol. I: Additive and Polynomial Representations  </i>  . New York : Academic Press, Cop. Especially chapters 1–3. Reprinted 2006, seemingly without major revisions. </li> <li>  Roberts, Fred S. (1985).  <i>   Measurement Theory: With Applications to Decisionmaking, Utility, and the Social Sciences  </i>  . Cambridge: Cambridge University Press. Reprinted 2009, seemingly without major revisions. </li></ul>'"
      ]
     },
     "execution_count": 169,
     "metadata": {},
     "output_type": "execute_result"
    }
   ],
   "source": [
    "box = box[0].replace('\\n', '')\n",
    "box"
   ]
  },
  {
   "cell_type": "code",
   "execution_count": 170,
   "metadata": {
    "collapsed": false
   },
   "outputs": [
    {
     "name": "stdout",
     "output_type": "stream",
     "text": [
      "\\renewcommand{\\refname}{References}\n",
      "\\addcontentsline{toc}{section}{References}\n",
      "\\begin{thebibliography}{99}\n",
      "\\raggedright % Fixes whitespace within reference \n",
      " \\bibitem{}\n",
      "  Arrow, Kenneth J. (1963).  \\textit{Social Choice and Individual Values}. 2     nd    ed. New York: Wiley. \n",
      "\n",
      " \\bibitem{}\n",
      "  Bergström, Lars. (1982a). “Interpersonal Utility Comparisons.”  \\textit{Grazer Philosophische Studien}  16/17, 282–312. \n",
      "\n",
      " \\bibitem{}\n",
      "  ———. (1982b). “Om Välfärdspolitikens Målsättning.”  \\textit{Filosofisk Tidskrift}  3, 16–34. \n",
      "\n",
      " \\bibitem{}\n",
      "  Binmore, Ken. (2009). “Interpersonal Comparison of Utility.” In  \\textit{The Oxford Handbook of Philosophy of Economics}, edited by Don Ross and Harold Kincaid, 540–59. Oxford/New York: Oxford University Press.  <a href=\"http://else.econ.ucl.ac.uk/papers/uploaded/264.pdf\">   Ungated  </a>. \n",
      "\n",
      " \\bibitem{}\n",
      "  Brülde, Bengt. (1998). “The Human Good.” PhD diss., University of Gothenburg. \n",
      "\n",
      " \\bibitem{}\n",
      "  ———. (2003).  \\textit{Teorier om Livskvalitet}. Lund: Studentlitteratur. \n",
      "\n",
      " \\bibitem{}\n",
      "  Carlson, Erik. (forthcoming). “Value Theory (Axiology).” In  \\textit{Handbook of Formal Philosophy}, edited by Sven Ove Hansson and Vincent Hendricks. Springer. Especially sec. 1 on measuring goodness and badness. \n",
      "\n",
      " \\bibitem{}\n",
      "  Colander, David. (2007). \"Retrospectives: Edgeworth's Hedonimeter and the Quest to Measure Utility.\"  \\textit{The Journal of Economic Perspectives}  21 (2), 215–26.  <a href=\"http://sandcat.middlebury.edu/econ/repec/mdl/ancoec/0723.pdf\">   Ungated  </a>. \n",
      "\n",
      " \\bibitem{}\n",
      "  Edgeworth, Francis Ysidro. (1881).  \\textit{Mathematical Psychics}. Kegan Paul, London. \n",
      "\n",
      " \\bibitem{}\n",
      "  Feldman, Fred. (2010).  \\textit{What is This Thing Called Happiness?}  Oxford: Oxford University Press. \n",
      "\n",
      " \\bibitem{}\n",
      "  Griffin, James. (1979). “Is Unhappiness Morally More Important Than Happiness?”  \\textit{The Philosophical Quarterly}  29 (114), 47–55. \n",
      "\n",
      " \\bibitem{}\n",
      "  Hardin, Russell. (2009). “Utilitarian Aggregation.”  \\textit{Social Philosophy and Policy}  26 (1), 30–47. \n",
      "\n",
      " \\bibitem{}\n",
      "  Hurka, Thomas. (2010). “Asymmetries in Value.”  \\textit{Noûs}  44 (2), 199–223. \n",
      "\n",
      " \\bibitem{}\n",
      "  Kahneman, Daniel, Peter P. Wakker, and Rakesh Sarin. (1997). “Back to Bentham? Explorations of Experienced Utility.”  \\textit{The Quarterly Journal of Economics}  112 (2), 375–405. \n",
      "\n",
      " \\bibitem{}\n",
      "  Klocksiem, Justin Allen. (2009). “On the Measurability of Pleasure and Pain.” PhD diss., University of Massachusetts Amherst.  <a href=\"http://scholarworks.umass.edu/open_access_dissertations/37/\">   Ungated  </a>. \n",
      "\n",
      " \\bibitem{}\n",
      "  Krantz, David, Duncan Luce, Patrick Suppes, and Amos Tversky. (1971).  \\textit{Foundations of Measurement, Vol. I: Additive and Polynomial Representations}. New York : Academic Press, Cop. Especially chapters 1–3. Reprinted 2006. \n",
      "\n",
      " \\bibitem{}\n",
      "  Mendola, Joseph. (1990). “An Ordinal Modification of Classical Utilitarianism.”  \\textit{Erkenntnis}  33 (1), 73–88. \n",
      "\n",
      " \\bibitem{}\n",
      "  Miller, Roger Leroy. (2011).  \\textit{Economics Today}. 16     th    ed. New York: Pearson. \n",
      "\n",
      " \\bibitem{}\n",
      "  Ng, Yew-Kwang. (2015) “Some Conceptual and Methodological Issues on Happiness: Lessons from Evolutionary Biology.”  \\textit{The Singapore Economic Review}  60 (4). \n",
      "\n",
      " \\bibitem{}\n",
      "  Oesterheld, Caspar. (2015). “Formalizing Preference Utilitarianism in Physical World Models.”  \\textit{Synthese}, 1–13.  <a href=\"https://foundational-research.org/wp-content/uploads/2016/02/Formalizing-utilitarianism-in-physical-world-models_Oesterheld.pdf\">   Ungated  </a>. \n",
      "\n",
      " \\bibitem{}\n",
      "  Ofstad, Harald. (1982).  \\textit{Ansvar och Handling: Inledning till Moralfilosofiska Problem}. Translated to Swedish by Marlene Öhberg. Stockholm: Prisma. \n",
      "\n",
      " \\bibitem{}\n",
      "  Parfit, Derek.  \\textit{On What Matters}, vol. 2. Edited and introduced by Samuel Scheffler. Oxford: Oxford University Press. \n",
      "\n",
      " \\bibitem{}\n",
      "  Portmore, Douglas. W. (2005). “Combining Teleological Ethics with Evaluator Relativism: A Promising Result.”  \\textit{Pacific Philosophical Quarterly}  86 (1), 95–113. \n",
      "\n",
      " \\bibitem{}\n",
      "  Roberts, Fred S. (1985).  \\textit{Measurement Theory: With Applications to Decisionmaking, Utility, and the Social Sciences}. Cambridge: Cambridge University Press. Reprinted 2009. \n",
      "\n",
      " \\bibitem{}\n",
      "  Rossi, Mauro. (2009). “Interpersonal Comparisons of Utility: The Epistemological Problem.” PhD diss., London School of Economics and Political Science.  <a href=\"http://etheses.lse.ac.uk/2740/\">   Ungated  </a>. \n",
      "\n",
      " \\bibitem{}\n",
      "  Samuelson, Paul A., and William D. Nordhaus. (2010).  \\textit{Economics}, 19     th    ed. New York: McGraw-Hill/Irvin. \n",
      "\n",
      " \\bibitem{}\n",
      "  Smart, J. J. C. (1973). In J. J. C. Smart and Bernard Williams,  \\textit{Utilitarianism: For and Against}. Cambridge University Press. \n",
      "\n",
      " \\bibitem{}\n",
      "  Tännsjö, Torbjörn. (1998).  \\textit{Hedonistic Utilitarianism}. Edinburgh: Edinburgh University Press. \n",
      "\n",
      " \\bibitem{}\n",
      "  ———. (2000). “The Least Sub-Noticeable Difference.” In  \\textit{Imperceptible Harms and Benefits}, edited by Michael J. Almeida, 75–93. Springer Netherlands. \n",
      "\n",
      " \\bibitem{}\n",
      "  ———. (2015). “Utilitarianism or Prioritarianism?”  \\textit{Utilitas}  27 (2), 240–50. \n",
      "\n",
      "\\end{thebibliography}\\renewcommand{\\refname}{References}\n",
      "\\addcontentsline{toc}{section}{References}\n",
      "\\begin{thebibliography}{99}\n",
      "\\raggedright % Fixes whitespace within reference \n",
      " \\bibitem{}\n",
      "  Bergström, Lars. (1982a). “Interpersonal Utility Comparisons.”  \\textit{Grazer Philosophische Studien}  16/17, 282–312. \n",
      "\n",
      " \\bibitem{}\n",
      "  Binmore, Ken. (2009). “Interpersonal Comparison of Utility.” In  \\textit{The Oxford Handbook of Philosophy of Economics}, edited by Don Ross and Harold Kincaid, 540–59. Oxford/New York: Oxford University Press.  <a href=\"http://else.econ.ucl.ac.uk/papers/uploaded/264.pdf\">   Ungated  </a>. \n",
      "\n",
      " \\bibitem{}\n",
      "  Brülde, Bengt. (2003).  \\textit{Teorier om Livskvalitet}. Lund: Studentlitteratur. Especially ch. 6 on measuring well-being. \n",
      "\n",
      " \\bibitem{}\n",
      "  Carlson, Erik. (forthcoming). “Value Theory (Axiology).” In  \\textit{Handbook of Formal Philosophy}, edited by Sven Ove Hansson and Vincent Hendricks. Springer. Especially sec. 1 on measuring goodness and badness. \n",
      "\n",
      " \\bibitem{}\n",
      "  Krantz, David, Duncan Luce, Patrick Suppes, and Amos Tversky. (1971).  \\textit{Foundations of Measurement, Vol. I: Additive and Polynomial Representations}. New York : Academic Press, Cop. Especially chapters 1–3. Reprinted 2006, seemingly without major revisions. \n",
      "\n",
      " \\bibitem{}\n",
      "  Roberts, Fred S. (1985).  \\textit{Measurement Theory: With Applications to Decisionmaking, Utility, and the Social Sciences}. Cambridge: Cambridge University Press. Reprinted 2009, seemingly without major revisions. \n",
      "\n",
      "\\end{thebibliography}\n"
     ]
    },
    {
     "data": {
      "text/plain": [
       "[None,\n",
       " None,\n",
       " None,\n",
       " None,\n",
       " None,\n",
       " None,\n",
       " None,\n",
       " None,\n",
       " None,\n",
       " None,\n",
       " None,\n",
       " None,\n",
       " None,\n",
       " None,\n",
       " None,\n",
       " None,\n",
       " None,\n",
       " None,\n",
       " None,\n",
       " None,\n",
       " None,\n",
       " None,\n",
       " None,\n",
       " None,\n",
       " None,\n",
       " None,\n",
       " None,\n",
       " None,\n",
       " None,\n",
       " None,\n",
       " None,\n",
       " None,\n",
       " None,\n",
       " None,\n",
       " None,\n",
       " None,\n",
       " None,\n",
       " None,\n",
       " None,\n",
       " None,\n",
       " None,\n",
       " None,\n",
       " None,\n",
       " None,\n",
       " None,\n",
       " None,\n",
       " None,\n",
       " None,\n",
       " None,\n",
       " None,\n",
       " None,\n",
       " None,\n",
       " None,\n",
       " None,\n",
       " None,\n",
       " None,\n",
       " None,\n",
       " None,\n",
       " None,\n",
       " None,\n",
       " None,\n",
       " None,\n",
       " None,\n",
       " None,\n",
       " None,\n",
       " None,\n",
       " None,\n",
       " None,\n",
       " None,\n",
       " None,\n",
       " None,\n",
       " None,\n",
       " None,\n",
       " None,\n",
       " None,\n",
       " None,\n",
       " None,\n",
       " None,\n",
       " None,\n",
       " None,\n",
       " None,\n",
       " None,\n",
       " None,\n",
       " None,\n",
       " None,\n",
       " None,\n",
       " None,\n",
       " None,\n",
       " None,\n",
       " None,\n",
       " None,\n",
       " None,\n",
       " None,\n",
       " None,\n",
       " None,\n",
       " None,\n",
       " None,\n",
       " None,\n",
       " None,\n",
       " None,\n",
       " None,\n",
       " None,\n",
       " None,\n",
       " None,\n",
       " None,\n",
       " None,\n",
       " None,\n",
       " None,\n",
       " None,\n",
       " None,\n",
       " None,\n",
       " None,\n",
       " None,\n",
       " None,\n",
       " None,\n",
       " None,\n",
       " None]"
      ]
     },
     "execution_count": 170,
     "metadata": {},
     "output_type": "execute_result"
    }
   ],
   "source": [
    "form = {'<ul>': '\\\\renewcommand{\\\\refname}{References}\\\\n\\\\addcontentsline{toc}{section}{References}\\\\n\\\\begin{thebibliography}{99}\\\\n\\\\raggedright % Fixes whitespace within reference \\\\n',\n",
    "        '</ul>': '\\\\end{thebibliography}',\n",
    "        '<sup>': '',\n",
    "        '</sup>': '',\n",
    "        '<li>': '\\\\bibitem{}\\\\n',\n",
    "        '</li>': '\\\\n\\\\n',\n",
    "        '<i>':'\\\\textit{',\n",
    "        '</i>': '}',\n",
    "        '<em>':'\\\\textit{',\n",
    "        '</em>': '}'}\n",
    "\n",
    "def latex(ref,sub):\n",
    "    '''\n",
    "    Function that takes a list of the HTML content which is supposed to be formatted and a dict\n",
    "    that contains the tags and their replacement as a key,value pair.\n",
    "    \n",
    "    @Param: ref: List of strings, containing the HTML content that is supposed to be formatted\n",
    "            sub: dict, containing tags as keys and replacement as value\n",
    "    \n",
    "    @return: returns the formatted list as pure string\n",
    "    '''\n",
    "    for key,val in sub.items():\n",
    "        ref = ref.replace(key,val)\n",
    "    ref = re.sub(r'\\\\textit{\\s+', r'\\\\textit{', ref) #remove additional whitespace after an opening brace\n",
    "    ref = re.sub(r'\\s+}',r'}', ref) #remove additional whitespace before a closing brace\n",
    "    ref = re.sub(r'\\s+,', r',',ref)  #Fix whitespace issue before comma\n",
    "    ref = re.sub(r'\\s+\\.', r'.',ref)  #Fix whitespace issue before comma    \n",
    "    #ref = re.sub(r'[<a.+]+', r'',ref) #remove hyperlinks text at the end of the bibitem\n",
    "    ref = ref.split('\\\\n')\n",
    "    \n",
    "    return [print(i) for i in ref]\n",
    "\n",
    "latex(box,form)"
   ]
  }
 ],
 "metadata": {
  "kernelspec": {
   "display_name": "Python 3",
   "language": "python",
   "name": "python3"
  },
  "language_info": {
   "codemirror_mode": {
    "name": "ipython",
    "version": 3
   },
   "file_extension": ".py",
   "mimetype": "text/x-python",
   "name": "python",
   "nbconvert_exporter": "python",
   "pygments_lexer": "ipython3",
   "version": "3.5.2"
  }
 },
 "nbformat": 4,
 "nbformat_minor": 0
}
