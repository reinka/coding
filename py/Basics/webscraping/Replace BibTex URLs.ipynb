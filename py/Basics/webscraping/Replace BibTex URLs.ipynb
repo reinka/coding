{
 "cells": [
  {
   "cell_type": "markdown",
   "metadata": {},
   "source": [
    "## Using Regulare Expressions to replace `url = ` commands with `howpublished=\"\\url{}`"
   ]
  },
  {
   "cell_type": "code",
   "execution_count": 1,
   "metadata": {
    "collapsed": true
   },
   "outputs": [],
   "source": [
    "path = '/Users/slackoverflow/Downloads/obsoleteBib.txt'"
   ]
  },
  {
   "cell_type": "markdown",
   "metadata": {},
   "source": [
    "#### Display first 50 lines"
   ]
  },
  {
   "cell_type": "code",
   "execution_count": 3,
   "metadata": {
    "collapsed": false
   },
   "outputs": [
    {
     "name": "stdout",
     "output_type": "stream",
     "text": [
      "Displaying first 20 lines:\n",
      "\n",
      "title    = \"{Reply to R. Leverant's review of Intoxication: Life in pursuit of\n",
      "artificial paradise}\",\n",
      "author   = \"Siegel, R K\",\n",
      "journal  = \"Journal of psychoactive drugs\",\n",
      "volume   =  22,\n",
      "number   =  2,\n",
      "pages    = \"259--260\",\n",
      "month    =  aug,\n",
      "year     =  1990,\n",
      "url      = \"http://www.tandfonline.com/doi/full/10.1080/02791072.1990.10472548\",\n",
      "keywords = \"Drug Policy/Scientific and medical reports\",\n",
      "issn     = \"0279-1072\",\n",
      "pmid     = \"2374072\",\n",
      "doi      = \"10.1080/02791072.1990.10472548\"\n",
      "}\n",
      "\n",
      "@BOOK{Siegel2005,\n",
      "title     = \"{Intoxication: The Universal Drive for Mind-Altering Substances}\",\n",
      "author    = \"Siegel, R K\",\n"
     ]
    }
   ],
   "source": [
    "print(\"Displaying first 20 lines:\\n\")\n",
    "for line in open(path, encoding='utf-8').readlines()[1:20]:\n",
    "  print(line.strip())"
   ]
  },
  {
   "cell_type": "markdown",
   "metadata": {},
   "source": [
    "**replace some tags like** `url` **with** `howpublished=\"\\url{...}\"` **via Regex**"
   ]
  },
  {
   "cell_type": "code",
   "execution_count": 4,
   "metadata": {
    "collapsed": false
   },
   "outputs": [
    {
     "name": "stdout",
     "output_type": "stream",
     "text": [
      "Enter path and name of the new file which will contain the new .bib content: TEST.bib\n"
     ]
    }
   ],
   "source": [
    "import re\n",
    "\n",
    "new_file = input('Enter path and name of the new file which will contain the new .bib content: ')\n",
    "\n",
    "with open(path, 'r', encoding='utf-8') as fin, open(new_file, 'wb') as fout:\n",
    "  for line in fin.readlines():\n",
    "    line = re.sub(r'url\\s*=\\s*\"(.*)\"', r'howpublished = \"\\url{\\1}\"', line)\n",
    "    line = re.sub(r'@TECHREPORT', r'@JOURNAL', line)\n",
    "    line = re.sub(r'@WEBSITE', r'@JOURNAL', line)\n",
    "    line = re.sub(r'@REPORT', r'@ARTICLE', line)\n",
    "    fout.write(line.encode('utf-8'))"
   ]
  },
  {
   "cell_type": "code",
   "execution_count": null,
   "metadata": {
    "collapsed": true
   },
   "outputs": [],
   "source": []
  }
 ],
 "metadata": {
  "anaconda-cloud": {},
  "kernelspec": {
   "display_name": "Python [default]",
   "language": "python",
   "name": "python3"
  },
  "language_info": {
   "codemirror_mode": {
    "name": "ipython",
    "version": 3
   },
   "file_extension": ".py",
   "mimetype": "text/x-python",
   "name": "python",
   "nbconvert_exporter": "python",
   "pygments_lexer": "ipython3",
   "version": "3.5.2"
  }
 },
 "nbformat": 4,
 "nbformat_minor": 1
}
