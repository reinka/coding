{
 "metadata": {
  "name": ""
 },
 "nbformat": 3,
 "nbformat_minor": 0,
 "worksheets": [
  {
   "cells": [
    {
     "cell_type": "code",
     "collapsed": false,
     "input": [
      "import numpy as np\n",
      "import pandas as pd\n",
      "from pandas import Series, DataFrame"
     ],
     "language": "python",
     "metadata": {},
     "outputs": [],
     "prompt_number": 4
    },
    {
     "cell_type": "code",
     "collapsed": false,
     "input": [
      "num_frame = pd.read_clipboard()\n",
      "num_frame"
     ],
     "language": "python",
     "metadata": {},
     "outputs": [
      {
       "html": [
        "<div style=\"max-width:1500px;overflow:auto;\">\n",
        "<table border=\"1\" class=\"dataframe\">\n",
        "  <thead>\n",
        "    <tr style=\"text-align: right;\">\n",
        "      <th></th>\n",
        "      <th>,</th>\n",
        "      <th>index=['A','B','C','D']</th>\n",
        "    </tr>\n",
        "  </thead>\n",
        "  <tbody>\n",
        "  </tbody>\n",
        "</table>\n",
        "</div>"
       ],
       "metadata": {},
       "output_type": "pyout",
       "prompt_number": 17,
       "text": [
        "Empty DataFrame\n",
        "Columns: [,, index=['A','B','C','D']]\n",
        "Index: []"
       ]
      }
     ],
     "prompt_number": 17
    },
    {
     "cell_type": "code",
     "collapsed": false,
     "input": [],
     "language": "python",
     "metadata": {},
     "outputs": []
    },
    {
     "cell_type": "code",
     "collapsed": false,
     "input": [
      "num_frame_twenty = pd.read_clipboard()\n",
      "num_frame_twenty"
     ],
     "language": "python",
     "metadata": {},
     "outputs": [
      {
       "html": [
        "<div style=\"max-width:1500px;overflow:auto;\">\n",
        "<table border=\"1\" class=\"dataframe\">\n",
        "  <thead>\n",
        "    <tr style=\"text-align: right;\">\n",
        "      <th></th>\n",
        "      <th>21</th>\n",
        "      <th>twenty-one</th>\n",
        "    </tr>\n",
        "  </thead>\n",
        "  <tbody>\n",
        "    <tr>\n",
        "      <th>0</th>\n",
        "      <td>25</td>\n",
        "      <td>twenty-five</td>\n",
        "    </tr>\n",
        "    <tr>\n",
        "      <th>1</th>\n",
        "      <td>32</td>\n",
        "      <td>thirty-two</td>\n",
        "    </tr>\n",
        "    <tr>\n",
        "      <th>2</th>\n",
        "      <td>58</td>\n",
        "      <td>fifty-eight</td>\n",
        "    </tr>\n",
        "    <tr>\n",
        "      <th>3</th>\n",
        "      <td>64</td>\n",
        "      <td>sixty-four</td>\n",
        "    </tr>\n",
        "    <tr>\n",
        "      <th>4</th>\n",
        "      <td>79</td>\n",
        "      <td>seventy-nine</td>\n",
        "    </tr>\n",
        "    <tr>\n",
        "      <th>5</th>\n",
        "      <td>83</td>\n",
        "      <td>eighty-three</td>\n",
        "    </tr>\n",
        "    <tr>\n",
        "      <th>6</th>\n",
        "      <td>99</td>\n",
        "      <td>ninety-nine</td>\n",
        "    </tr>\n",
        "  </tbody>\n",
        "</table>\n",
        "</div>"
       ],
       "metadata": {},
       "output_type": "pyout",
       "prompt_number": 13,
       "text": [
        "   21    twenty-one\n",
        "0  25   twenty-five\n",
        "1  32    thirty-two\n",
        "2  58   fifty-eight\n",
        "3  64    sixty-four\n",
        "4  79  seventy-nine\n",
        "5  83  eighty-three\n",
        "6  99   ninety-nine"
       ]
      }
     ],
     "prompt_number": 13
    },
    {
     "cell_type": "code",
     "collapsed": false,
     "input": [
      "ser = Series(index=[range(1,1001)])"
     ],
     "language": "python",
     "metadata": {},
     "outputs": [],
     "prompt_number": 24
    },
    {
     "cell_type": "code",
     "collapsed": false,
     "input": [
      "ser"
     ],
     "language": "python",
     "metadata": {},
     "outputs": [
      {
       "metadata": {},
       "output_type": "pyout",
       "prompt_number": 25,
       "text": [
        "1      NaN\n",
        "2      NaN\n",
        "3      NaN\n",
        "4      NaN\n",
        "5      NaN\n",
        "6      NaN\n",
        "7      NaN\n",
        "8      NaN\n",
        "9      NaN\n",
        "10     NaN\n",
        "11     NaN\n",
        "12     NaN\n",
        "13     NaN\n",
        "14     NaN\n",
        "15     NaN\n",
        "16     NaN\n",
        "17     NaN\n",
        "18     NaN\n",
        "19     NaN\n",
        "20     NaN\n",
        "21     NaN\n",
        "22     NaN\n",
        "23     NaN\n",
        "24     NaN\n",
        "25     NaN\n",
        "26     NaN\n",
        "27     NaN\n",
        "28     NaN\n",
        "29     NaN\n",
        "30     NaN\n",
        "        ..\n",
        "971    NaN\n",
        "972    NaN\n",
        "973    NaN\n",
        "974    NaN\n",
        "975    NaN\n",
        "976    NaN\n",
        "977    NaN\n",
        "978    NaN\n",
        "979    NaN\n",
        "980    NaN\n",
        "981    NaN\n",
        "982    NaN\n",
        "983    NaN\n",
        "984    NaN\n",
        "985    NaN\n",
        "986    NaN\n",
        "987    NaN\n",
        "988    NaN\n",
        "989    NaN\n",
        "990    NaN\n",
        "991    NaN\n",
        "992    NaN\n",
        "993    NaN\n",
        "994    NaN\n",
        "995    NaN\n",
        "996    NaN\n",
        "997    NaN\n",
        "998    NaN\n",
        "999    NaN\n",
        "1000   NaN\n",
        "dtype: float64"
       ]
      }
     ],
     "prompt_number": 25
    },
    {
     "cell_type": "code",
     "collapsed": false,
     "input": [
      "for i in range(1,1001):\n",
      "    if i%10 == 1:\n",
      "        ser[i] = 'one'\n",
      "        \n",
      "ser"
     ],
     "language": "python",
     "metadata": {},
     "outputs": [
      {
       "metadata": {},
       "output_type": "pyout",
       "prompt_number": 26,
       "text": [
        "1       one\n",
        "2       NaN\n",
        "3       NaN\n",
        "4       NaN\n",
        "5       NaN\n",
        "6       NaN\n",
        "7       NaN\n",
        "8       NaN\n",
        "9       NaN\n",
        "10      NaN\n",
        "11      one\n",
        "12      NaN\n",
        "13      NaN\n",
        "14      NaN\n",
        "15      NaN\n",
        "16      NaN\n",
        "17      NaN\n",
        "18      NaN\n",
        "19      NaN\n",
        "20      NaN\n",
        "21      one\n",
        "22      NaN\n",
        "23      NaN\n",
        "24      NaN\n",
        "25      NaN\n",
        "26      NaN\n",
        "27      NaN\n",
        "28      NaN\n",
        "29      NaN\n",
        "30      NaN\n",
        "       ... \n",
        "971     one\n",
        "972     NaN\n",
        "973     NaN\n",
        "974     NaN\n",
        "975     NaN\n",
        "976     NaN\n",
        "977     NaN\n",
        "978     NaN\n",
        "979     NaN\n",
        "980     NaN\n",
        "981     one\n",
        "982     NaN\n",
        "983     NaN\n",
        "984     NaN\n",
        "985     NaN\n",
        "986     NaN\n",
        "987     NaN\n",
        "988     NaN\n",
        "989     NaN\n",
        "990     NaN\n",
        "991     one\n",
        "992     NaN\n",
        "993     NaN\n",
        "994     NaN\n",
        "995     NaN\n",
        "996     NaN\n",
        "997     NaN\n",
        "998     NaN\n",
        "999     NaN\n",
        "1000    NaN\n",
        "dtype: object"
       ]
      }
     ],
     "prompt_number": 26
    },
    {
     "cell_type": "code",
     "collapsed": false,
     "input": [],
     "language": "python",
     "metadata": {},
     "outputs": []
    }
   ],
   "metadata": {}
  }
 ]
}