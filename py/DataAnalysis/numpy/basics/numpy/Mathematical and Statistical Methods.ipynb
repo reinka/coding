{
 "cells": [
  {
   "cell_type": "code",
   "execution_count": 1,
   "metadata": {
    "collapsed": true
   },
   "outputs": [],
   "source": [
    "import numpy as np\n",
    "from numpy.random import randn"
   ]
  },
  {
   "cell_type": "code",
   "execution_count": 10,
   "metadata": {
    "collapsed": false
   },
   "outputs": [
    {
     "data": {
      "text/plain": [
       "array([[-0.4449094 , -0.27454144, -1.41374458, -0.36221596],\n",
       "       [ 0.62550649, -0.00301547, -0.92143234, -0.70474878],\n",
       "       [-0.15533934,  1.13548111,  0.9088844 ,  1.11962181],\n",
       "       [ 0.55402499, -0.14266786, -1.29246793,  0.02752355],\n",
       "       [ 0.80935286,  1.0366692 ,  1.18354798, -0.99913814]])"
      ]
     },
     "execution_count": 10,
     "metadata": {},
     "output_type": "execute_result"
    }
   ],
   "source": [
    "arr = randn(5,4)\n",
    "arr"
   ]
  },
  {
   "cell_type": "code",
   "execution_count": 4,
   "metadata": {
    "collapsed": false
   },
   "outputs": [
    {
     "data": {
      "text/plain": [
       "-0.09320110929581131"
      ]
     },
     "execution_count": 4,
     "metadata": {},
     "output_type": "execute_result"
    }
   ],
   "source": [
    "arr.mean()"
   ]
  },
  {
   "cell_type": "code",
   "execution_count": 5,
   "metadata": {
    "collapsed": false
   },
   "outputs": [
    {
     "data": {
      "text/plain": [
       "-1.8640221859162263"
      ]
     },
     "execution_count": 5,
     "metadata": {},
     "output_type": "execute_result"
    }
   ],
   "source": [
    "arr.sum()"
   ]
  },
  {
   "cell_type": "code",
   "execution_count": 13,
   "metadata": {
    "collapsed": false
   },
   "outputs": [
    {
     "data": {
      "text/plain": [
       "array([-0.62385285, -0.25092252,  0.752162  , -0.21339681,  0.50760798])"
      ]
     },
     "execution_count": 13,
     "metadata": {},
     "output_type": "execute_result"
    }
   ],
   "source": [
    "arr.mean(1) #equal to arr.mean(axis=1)"
   ]
  },
  {
   "cell_type": "code",
   "execution_count": 14,
   "metadata": {
    "collapsed": false
   },
   "outputs": [
    {
     "data": {
      "text/plain": [
       "array([ 1.38863559,  1.75192554, -1.53521246, -0.91895751])"
      ]
     },
     "execution_count": 14,
     "metadata": {},
     "output_type": "execute_result"
    }
   ],
   "source": [
    "arr.sum(0)"
   ]
  },
  {
   "cell_type": "code",
   "execution_count": 27,
   "metadata": {
    "collapsed": false
   },
   "outputs": [
    {
     "data": {
      "text/plain": [
       "0.18059708628473831"
      ]
     },
     "execution_count": 27,
     "metadata": {},
     "output_type": "execute_result"
    }
   ],
   "source": [
    "arr[:2,:1].sum()"
   ]
  },
  {
   "cell_type": "code",
   "execution_count": 25,
   "metadata": {
    "collapsed": false
   },
   "outputs": [
    {
     "data": {
      "text/plain": [
       "array([[-0.4449094 , -0.27454144, -1.41374458, -0.36221596],\n",
       "       [ 0.18059709, -0.27755691, -2.33517692, -1.06696474],\n",
       "       [ 0.02525775,  0.85792421, -1.42629252,  0.05265707],\n",
       "       [ 0.57928273,  0.71525634, -2.71876045,  0.08018062],\n",
       "       [ 1.38863559,  1.75192554, -1.53521246, -0.91895751]])"
      ]
     },
     "execution_count": 25,
     "metadata": {},
     "output_type": "execute_result"
    }
   ],
   "source": [
    "arr.cumsum(0)"
   ]
  },
  {
   "cell_type": "code",
   "execution_count": 26,
   "metadata": {
    "collapsed": false
   },
   "outputs": [
    {
     "data": {
      "text/plain": [
       "array([[-0.4449094 , -0.71945084, -2.13319542, -2.49541138],\n",
       "       [ 0.62550649,  0.62249101, -0.29894132, -1.0036901 ],\n",
       "       [-0.15533934,  0.98014177,  1.88902617,  3.00864798],\n",
       "       [ 0.55402499,  0.41135713, -0.8811108 , -0.85358725],\n",
       "       [ 0.80935286,  1.84602206,  3.02957004,  2.0304319 ]])"
      ]
     },
     "execution_count": 26,
     "metadata": {},
     "output_type": "execute_result"
    }
   ],
   "source": [
    "arr.cumsum(1)"
   ]
  },
  {
   "cell_type": "code",
   "execution_count": 28,
   "metadata": {
    "collapsed": false
   },
   "outputs": [
    {
     "data": {
      "text/plain": [
       "array([-0.4449094 , -0.71945084, -2.13319542, -2.49541138, -1.8699049 ,\n",
       "       -1.87292037, -2.7943527 , -3.49910148, -3.65444082, -2.51895971,\n",
       "       -1.61007531, -0.4904535 ,  0.06357149, -0.07909637, -1.3715643 ,\n",
       "       -1.34404074, -0.53468788,  0.50198131,  1.6855293 ,  0.68639116])"
      ]
     },
     "execution_count": 28,
     "metadata": {},
     "output_type": "execute_result"
    }
   ],
   "source": [
    "arr.cumsum()"
   ]
  },
  {
   "cell_type": "code",
   "execution_count": null,
   "metadata": {
    "collapsed": true
   },
   "outputs": [],
   "source": []
  }
 ],
 "metadata": {
  "kernelspec": {
   "display_name": "Python 2",
   "language": "python",
   "name": "python2"
  },
  "language_info": {
   "codemirror_mode": {
    "name": "ipython",
    "version": 2
   },
   "file_extension": ".py",
   "mimetype": "text/x-python",
   "name": "python",
   "nbconvert_exporter": "python",
   "pygments_lexer": "ipython2",
   "version": "2.7.10"
  }
 },
 "nbformat": 4,
 "nbformat_minor": 0
}
