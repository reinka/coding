{
 "cells": [
  {
   "cell_type": "code",
   "execution_count": 1,
   "metadata": {
    "collapsed": true
   },
   "outputs": [],
   "source": [
    "import numpy as np\n",
    "from numpy.random import randn"
   ]
  },
  {
   "cell_type": "code",
   "execution_count": 3,
   "metadata": {
    "collapsed": false
   },
   "outputs": [
    {
     "data": {
      "text/plain": [
       "array([ 0.94462999, -0.51610481, -1.19878754,  0.98303354, -1.30771471,\n",
       "        1.04535115,  0.33353521, -0.57585198])"
      ]
     },
     "execution_count": 3,
     "metadata": {},
     "output_type": "execute_result"
    }
   ],
   "source": [
    "arr = randn(8)\n",
    "arr"
   ]
  },
  {
   "cell_type": "code",
   "execution_count": 5,
   "metadata": {
    "collapsed": false
   },
   "outputs": [
    {
     "data": {
      "text/plain": [
       "array([-1.30771471, -1.19878754, -0.57585198, -0.51610481,  0.33353521,\n",
       "        0.94462999,  0.98303354,  1.04535115])"
      ]
     },
     "execution_count": 5,
     "metadata": {},
     "output_type": "execute_result"
    }
   ],
   "source": [
    "arr.sort()\n",
    "arr"
   ]
  },
  {
   "cell_type": "code",
   "execution_count": 8,
   "metadata": {
    "collapsed": false
   },
   "outputs": [
    {
     "data": {
      "text/plain": [
       "array([[-0.26285551,  0.32788738,  1.20666862,  0.39473381,  0.38575451],\n",
       "       [-0.68686896,  0.06374782,  0.19799065,  1.14768934, -1.72527726],\n",
       "       [ 0.19034064,  0.15666296,  0.84946818,  0.62525914,  0.39007472],\n",
       "       [ 0.44412147, -1.23399787,  0.53493187, -1.26954935,  0.89788862],\n",
       "       [ 1.36273811,  0.96482786, -1.09313442,  0.40226502,  0.17069883],\n",
       "       [ 0.71730652,  0.91871887,  1.85197411, -0.13265132,  0.64801251],\n",
       "       [-0.49392932,  0.40280284,  0.49645598, -1.29478491,  1.0978576 ],\n",
       "       [-0.16019191, -0.58470235,  0.4038061 ,  0.51960363,  0.6560959 ]])"
      ]
     },
     "execution_count": 8,
     "metadata": {},
     "output_type": "execute_result"
    }
   ],
   "source": [
    "#multidim sorting\n",
    "\n",
    "arr = randn(8,5)\n",
    "arr"
   ]
  },
  {
   "cell_type": "code",
   "execution_count": 7,
   "metadata": {
    "collapsed": false
   },
   "outputs": [
    {
     "data": {
      "text/plain": [
       "array([[-0.85933775, -0.79285241, -0.38018733,  0.48238348,  0.9597971 ],\n",
       "       [-1.1212501 , -1.00130204, -0.66263212,  0.17441706,  1.50970031],\n",
       "       [-1.16626863, -1.15928607, -0.94085917,  1.04499363,  2.57129954],\n",
       "       [-2.29819756, -1.86340848, -0.03575005,  0.38130802,  0.4933896 ],\n",
       "       [-1.55363471, -1.08171968, -0.34297596,  0.71701742,  0.79445051],\n",
       "       [-0.81049747, -0.30039284,  0.00267925,  0.02919668,  1.71374468],\n",
       "       [-1.12029087, -0.47117391,  0.31340286,  0.7093667 ,  1.78991189],\n",
       "       [-1.53238139, -1.27593869,  0.45229649,  0.83371424,  0.86505159]])"
      ]
     },
     "execution_count": 7,
     "metadata": {},
     "output_type": "execute_result"
    }
   ],
   "source": [
    "arr.sort(1)\n",
    "arr"
   ]
  },
  {
   "cell_type": "code",
   "execution_count": 9,
   "metadata": {
    "collapsed": true
   },
   "outputs": [],
   "source": [
    "large_arr = randn(1000)"
   ]
  },
  {
   "cell_type": "code",
   "execution_count": 10,
   "metadata": {
    "collapsed": true
   },
   "outputs": [],
   "source": [
    "large_arr.sort()"
   ]
  },
  {
   "cell_type": "code",
   "execution_count": 11,
   "metadata": {
    "collapsed": false
   },
   "outputs": [
    {
     "data": {
      "text/plain": [
       "-1.5694611027002827"
      ]
     },
     "execution_count": 11,
     "metadata": {},
     "output_type": "execute_result"
    }
   ],
   "source": [
    "large_arr[int(0.05*len(large_arr))] #5% quantile"
   ]
  },
  {
   "cell_type": "code",
   "execution_count": null,
   "metadata": {
    "collapsed": true
   },
   "outputs": [],
   "source": []
  }
 ],
 "metadata": {
  "kernelspec": {
   "display_name": "Python 2",
   "language": "python",
   "name": "python2"
  },
  "language_info": {
   "codemirror_mode": {
    "name": "ipython",
    "version": 2
   },
   "file_extension": ".py",
   "mimetype": "text/x-python",
   "name": "python",
   "nbconvert_exporter": "python",
   "pygments_lexer": "ipython2",
   "version": "2.7.10"
  }
 },
 "nbformat": 4,
 "nbformat_minor": 0
}
